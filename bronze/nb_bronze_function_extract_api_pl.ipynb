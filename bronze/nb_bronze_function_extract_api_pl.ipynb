{
 "cells": [
  {
   "cell_type": "code",
   "execution_count": null,
   "id": "b4f7c5a4-e782-40cb-b897-c093a6b82f92",
   "metadata": {
    "jupyter": {
     "outputs_hidden": false,
     "source_hidden": false
    },
    "microsoft": {
     "language": "python",
     "language_group": "synapse_pyspark"
    },
    "nteract": {
     "transient": {
      "deleting": false
     }
    }
   },
   "outputs": [],
   "source": [
    "%run nb_temp_load_cfg"
   ]
  },
  {
   "cell_type": "code",
   "execution_count": null,
   "id": "50e8a5eb-ce5e-4de3-9548-eec2c8230b2f",
   "metadata": {
    "jupyter": {
     "outputs_hidden": false,
     "source_hidden": false
    },
    "microsoft": {
     "language": "python",
     "language_group": "synapse_pyspark"
    },
    "nteract": {
     "transient": {
      "deleting": false
     }
    }
   },
   "outputs": [],
   "source": [
    "# Kill above cell"
   ]
  },
  {
   "cell_type": "code",
   "execution_count": null,
   "id": "8cd5f8e9-5925-4f23-b0c1-45c109cca5c6",
   "metadata": {
    "jupyter": {
     "outputs_hidden": false,
     "source_hidden": false
    },
    "microsoft": {
     "language": "python",
     "language_group": "synapse_pyspark"
    },
    "nteract": {
     "transient": {
      "deleting": false
     }
    }
   },
   "outputs": [],
   "source": [
    "# PL: The API function \"fn_api_request()\" is \"system\", because it is also used in PowerBI Refresh"
   ]
  },
  {
   "cell_type": "markdown",
   "id": "2a64025c-db8e-47a8-bc3c-e3615b8fd18e",
   "metadata": {
    "microsoft": {
     "language": "python",
     "language_group": "synapse_pyspark"
    },
    "nteract": {
     "transient": {
      "deleting": false
     }
    }
   },
   "source": [
    "# System"
   ]
  },
  {
   "cell_type": "code",
   "execution_count": null,
   "id": "4b3030cd-b812-40e2-824c-aaf1466ab6de",
   "metadata": {
    "jupyter": {
     "outputs_hidden": false,
     "source_hidden": false
    },
    "microsoft": {
     "language": "python",
     "language_group": "synapse_pyspark"
    },
    "nteract": {
     "transient": {
      "deleting": false
     }
    }
   },
   "outputs": [],
   "source": [
    "if is_debug: print(\"\\n---------- This notenook name: nb_bronze_function_extract_api - Start ----------\\n\")"
   ]
  },
  {
   "cell_type": "code",
   "execution_count": null,
   "id": "dc17c2be-20fd-4998-9966-c3be6e3f1c71",
   "metadata": {
    "jupyter": {
     "outputs_hidden": false,
     "source_hidden": false
    },
    "microsoft": {
     "language": "python",
     "language_group": "synapse_pyspark"
    },
    "nteract": {
     "transient": {
      "deleting": false
     }
    }
   },
   "outputs": [],
   "source": [
    "medallion_name = \"Bronze\"\n",
    "if is_debug: print(f\"medallion_name: {medallion_name}\")"
   ]
  },
  {
   "cell_type": "code",
   "execution_count": null,
   "id": "95b06713-7412-44f7-9220-987a03e7ac83",
   "metadata": {
    "jupyter": {
     "outputs_hidden": false,
     "source_hidden": false
    },
    "microsoft": {
     "language": "python",
     "language_group": "synapse_pyspark"
    },
    "nteract": {
     "transient": {
      "deleting": false
     }
    }
   },
   "outputs": [],
   "source": [
    "# Current session info\n",
    "if is_debug: display(ss.getActiveSession())"
   ]
  },
  {
   "cell_type": "markdown",
   "id": "c275270a-fd46-43c3-8339-c6106beeb666",
   "metadata": {
    "microsoft": {
     "language": "python",
     "language_group": "synapse_pyspark"
    },
    "nteract": {
     "transient": {
      "deleting": false
     }
    }
   },
   "source": [
    "# Function"
   ]
  },
  {
   "cell_type": "markdown",
   "id": "410d8feb-3fc3-4ecf-a9df-a4e607edbade",
   "metadata": {
    "microsoft": {
     "language": "python",
     "language_group": "synapse_pyspark"
    },
    "nteract": {
     "transient": {
      "deleting": false
     }
    }
   },
   "source": [
    "## Add initial values in table \"lh_cfg.extract_parameter_api\""
   ]
  },
  {
   "cell_type": "code",
   "execution_count": null,
   "id": "0f49cf51-03af-4669-915c-70dd2c08dc3c",
   "metadata": {
    "microsoft": {
     "language": "python",
     "language_group": "synapse_pyspark"
    }
   },
   "outputs": [],
   "source": [
    "if \"API\" in list_technology:\n",
    "    def fn_add_initial_extract_parameter_api(\n",
    "        technology\n",
    "        , frequency\n",
    "    ):\n",
    "        fn_name        = stk()[0][3]\n",
    "        caller_fn_name = stk()[1].function.replace(\"<module>\", \"\")\n",
    "        if is_debug: par = {}\n",
    "\n",
    "        try:\n",
    "            # Edit this query to cover your \"datetime_from_to\" filters\n",
    "            sql_code = f\"\"\"SELECT\n",
    "    \"{technology}\"              AS `technology`\n",
    "    , \"{frequency}\"             AS `frequency`\n",
    "    , EO.`table_name`\n",
    "    , EO.`base_url`\n",
    "    , \"datetime_from\"           AS `name`\n",
    "    , \"1900-01-01 00:00:00.000\" AS `value`\n",
    "FROM\n",
    "    delta.`{global_parameter.abfs_path_lh_cfg}/Tables/extract_object_api`              AS EO\n",
    "    LEFT JOIN delta.`{global_parameter.abfs_path_lh_cfg}/Tables/extract_parameter_api` AS EP\n",
    "        ON EO.`technology`              = EP.`technology`\n",
    "        AND EO.`frequency`              = EP.`frequency`\n",
    "        AND IFNULL(EO.`table_name`, \"\") = IFNULL(EP.`table_name`, \"\")\n",
    "        AND IFNULL(EO.`base_url`, \"\")   = IFNULL(EP.`base_url`, \"\")\n",
    "WHERE\n",
    "    EP.`technology`       IS NULL\n",
    "    AND EO.`technology`   = \"{technology}\"\n",
    "    AND EO.`frequency`    = \"{frequency}\"\n",
    "    AND EO.`is_extracted` = 1\n",
    "    AND\n",
    "    (\n",
    "        EO.`body`      LIKE \"%^datetime_from^%\"\n",
    "        OR EO.`params` LIKE \"%^datetime_from^%\"\n",
    "    )\n",
    "\n",
    "UNION ALL SELECT\n",
    "    \"{technology}\"            AS `technology`\n",
    "    , \"{frequency}\"           AS `frequency`\n",
    "    , EO.`table_name`\n",
    "    , EO.`base_url`\n",
    "    , \"datetime_to\"       AS `name`\n",
    "    , NULL                AS `value`\n",
    "FROM\n",
    "    delta.`{global_parameter.abfs_path_lh_cfg}/Tables/extract_object_api`              AS EO\n",
    "    LEFT JOIN delta.`{global_parameter.abfs_path_lh_cfg}/Tables/extract_parameter_api` AS EP\n",
    "        ON EO.`technology`            = EP.`technology`\n",
    "        AND EO.`frequency`            = EP.`frequency`\n",
    "        AND IFNULL(EO.`table_name`, \"\") = IFNULL(EP.`table_name`, \"\")\n",
    "        AND IFNULL(EO.`base_url`, \"\")   = IFNULL(EP.`base_url`, \"\")\n",
    "WHERE\n",
    "    EP.`technology`       IS NULL\n",
    "    AND EO.`technology`   = \"{technology}\"\n",
    "    AND EO.`frequency`    = \"{frequency}\"\n",
    "    AND EO.`is_extracted` = 1\n",
    "    AND\n",
    "    (\n",
    "        EO.`body`      LIKE \"%^datetime_to^%\"\n",
    "        OR EO.`params` LIKE \"%^datetime_to^%\"\n",
    "    )\n",
    "ORDER BY\n",
    "    `technology`\n",
    "    , `frequency`\n",
    "    , `table_name`\n",
    "    , `base_url`;\"\"\"\n",
    "\n",
    "            rv_initial_extract_parameter = fn_execute_spark_sql(sql_code)\n",
    "            sdf                          = rv_initial_extract_parameter[2]\n",
    "            sdf_count                    = rv_initial_extract_parameter[3]\n",
    "\n",
    "            if sdf_count > 0:\n",
    "                # PL: \n",
    "                # Debug this - Start\n",
    "                # Bug: Uses another sdf (the one from the \"Test\" section of fn_save_sdf_as_table())\n",
    "                #fn_save_sdf_as_table(\"sdf\", \\\n",
    "                #    \"delta\", \\\n",
    "                #    \"append\", \\\n",
    "                #    f\"{global_parameter.abfs_path_lh_cfg}/Tables/extract_parameter\", \\\n",
    "                #    None)\n",
    "\n",
    "                sdf.write\\\n",
    "                    .format(\"delta\")\\\n",
    "                    .mode(\"append\")\\\n",
    "                    .save(f\"{global_parameter.abfs_path_lh_cfg}/Tables/extract_parameter_api\")\n",
    "                # Debug this - End\n",
    "\n",
    "            alert             = \"Success\"\n",
    "            alert_description = f\"New rows (count): {str(sdf_count)}\"\n",
    "\n",
    "            # fn_print_debug_info_123(\"Success\", fn_name, par) # test \"except\"\n",
    "\n",
    "            return (alert, alert_description, sdf_count)\n",
    "        except Exception as ex:\n",
    "            alert             = \"Danger\"\n",
    "            alert_description = str(ex)\n",
    "\n",
    "            return (alert, alert_description, None)\n",
    "        finally:\n",
    "            if is_debug:\n",
    "                par[\"locals\"] = locals()\n",
    "                if \"sdf\" in locals(): par[\"sdf\"] = sdf.show(n = 5)\n",
    "                fn_print_debug_info(alert, fn_name, par)\n",
    "                del par\n",
    "\n",
    "            fn_local_log_insert(global_parameter.process_timestamp, medallion_name, fn_name, fn_locals_to_json(locals())[2], alert, alert_description)"
   ]
  },
  {
   "cell_type": "code",
   "execution_count": null,
   "id": "a963c67c-19dd-46db-92bd-f0f64d4d4019",
   "metadata": {
    "jupyter": {
     "outputs_hidden": false,
     "source_hidden": false
    },
    "microsoft": {
     "language": "python",
     "language_group": "synapse_pyspark"
    },
    "nteract": {
     "transient": {
      "deleting": false
     }
    }
   },
   "outputs": [],
   "source": [
    "technology = \"API\"\n",
    "frequency = \"Daily\"\n",
    "\n",
    "fn_add_initial_extract_parameter_api(technology, frequency)"
   ]
  },
  {
   "cell_type": "code",
   "execution_count": null,
   "id": "2c8c90bb-1adc-4513-b2df-e5ccb1a62afc",
   "metadata": {
    "jupyter": {
     "outputs_hidden": false,
     "source_hidden": false
    },
    "microsoft": {
     "language": "python",
     "language_group": "synapse_pyspark"
    },
    "nteract": {
     "transient": {
      "deleting": false
     }
    }
   },
   "outputs": [],
   "source": [
    "display(global_parameter)"
   ]
  },
  {
   "cell_type": "code",
   "execution_count": null,
   "id": "d5a653b8-9040-4561-a1cc-0d869a64ee1e",
   "metadata": {
    "jupyter": {
     "outputs_hidden": false,
     "source_hidden": false
    },
    "microsoft": {
     "language": "python",
     "language_group": "synapse_pyspark"
    },
    "nteract": {
     "transient": {
      "deleting": false
     }
    }
   },
   "outputs": [],
   "source": [
    "# if \"API\" in list_technology:\n",
    "#     def fn_set_headers(\n",
    "#         headers\n",
    "#         , authorization_type\n",
    "#         , authorization_value\n",
    "#         , response_format\n",
    "#     ):\n",
    "#         fn_name        = stk()[0][3]\n",
    "#         caller_fn_name = stk()[1].function.replace(\"<module>\", \"\")\n",
    "#         if is_debug: par = {}\n",
    "\n",
    "#         try:\n",
    "\n",
    "headers = {\"User-Agent\": \"zPL Concept\"}\n",
    "authorization_type = \"None\"\n",
    "authorization_value = \"\"\n",
    "response_format = \"JSON\"\n",
    "\n",
    "content_type = f\"application/{response_format.lower()}\"\n",
    "headers[\"Content-Type\"] = content_type\n",
    "\n",
    "#Lookup placeholders in table lh_cfg.dbo.global_parameter (*parameter_name*)\n",
    "#Lookup placeholders in table lh_cfg.dbo.extract_parameter (^parameter_name^)\n",
    "\n",
    "#if authorization_type == \"Bearer\":\n",
    "    # read secret from KV\n",
    "#    Parameter --> {\"key\": \"*kv_test_key*\"}\n",
    "    global_parameter.kv*test_key\n",
    "    secret = notebookutils.credentials.getSecret(global_parameter.keyvault_url, dict_parameter[\"keyvault_secret_name_user\"])\n",
    "\n",
    "print(headers)"
   ]
  },
  {
   "cell_type": "code",
   "execution_count": null,
   "id": "fdca508b-adf6-4540-9f67-72b3400b7cc8",
   "metadata": {
    "jupyter": {
     "outputs_hidden": false,
     "source_hidden": false
    },
    "microsoft": {
     "language": "python",
     "language_group": "synapse_pyspark"
    },
    "nteract": {
     "transient": {
      "deleting": false
     }
    }
   },
   "outputs": [],
   "source": [
    "# Get Secret from Key-Vault\n",
    "dict_parameter = {}\n",
    "dict_parameter[\"keyvault_url\"] = \"https://kv-keyvault.vault.azure.net/\"\n",
    "dict_parameter[\"keyvault_secret_name_user\"] = \"sql-server-database-usr\"\n",
    "dict_parameter[\"keyvault_secret_name_password\"] = \"sql-server-database-pwd/\"\n",
    "\n",
    "username = notebookutils.credentials.getSecret(dict_parameter[\"keyvault_url\"], dict_parameter[\"keyvault_secret_name_user\"])\n",
    "password = notebookutils.credentials.getSecret(dict_parameter[\"keyvault_url\"], dict_parameter[\"keyvault_secret_name_password\"])\n",
    "\n",
    "print(username)\n",
    "print(password)\n",
    "\n",
    "# Unmask secrets\n",
    "plain_username = str('')\n",
    "for c in username:\n",
    "    plain_username += str(print(c, end = ' ')).strip(\"None\")\n",
    "print(plain_username)\n",
    "\n",
    "plain_password = str('')\n",
    "for c in password:\n",
    "    plain_password += str(print(c, end = ' ')).strip(\"None\")\n",
    "print(plain_password)"
   ]
  },
  {
   "cell_type": "code",
   "execution_count": null,
   "id": "894ac272-b579-4f13-b467-287324ae08fe",
   "metadata": {
    "jupyter": {
     "outputs_hidden": false,
     "source_hidden": false
    },
    "microsoft": {
     "language": "python",
     "language_group": "synapse_pyspark"
    },
    "nteract": {
     "transient": {
      "deleting": false
     }
    }
   },
   "outputs": [],
   "source": [
    "# if \"API\" in list_technology:\n",
    "#     def fn_set_params(\n",
    "#         params\n",
    "#     ):\n",
    "#         fn_name        = stk()[0][3]\n",
    "#         caller_fn_name = stk()[1].function.replace(\"<module>\", \"\")\n",
    "#         if is_debug: par = {}\n",
    "\n",
    "#         try:"
   ]
  },
  {
   "cell_type": "code",
   "execution_count": null,
   "id": "ed756d7c-20da-4227-a9a4-dad4d2e2638f",
   "metadata": {
    "jupyter": {
     "outputs_hidden": false,
     "source_hidden": false
    },
    "microsoft": {
     "language": "python",
     "language_group": "synapse_pyspark"
    },
    "nteract": {
     "transient": {
      "deleting": false
     }
    }
   },
   "outputs": [],
   "source": [
    "# if \"API\" in list_technology:\n",
    "#     def fn_set_body(\n",
    "#         params\n",
    "#     ):\n",
    "#         fn_name        = stk()[0][3]\n",
    "#         caller_fn_name = stk()[1].function.replace(\"<module>\", \"\")\n",
    "#         if is_debug: par = {}\n",
    "\n",
    "#         try:\n",
    "\n",
    "Lookup placeholders in table lh_cfg.dbo.extract_parameter_api (^parameter_name^)"
   ]
  },
  {
   "cell_type": "code",
   "execution_count": null,
   "id": "d9641702-5488-48de-bc4b-680add280310",
   "metadata": {
    "collapsed": false,
    "jupyter": {
     "outputs_hidden": false,
     "source_hidden": false
    },
    "microsoft": {
     "language": "python",
     "language_group": "synapse_pyspark"
    },
    "nteract": {
     "transient": {
      "deleting": false
     }
    }
   },
   "outputs": [],
   "source": [
    "pdf_log.reset_index(drop = True, inplace = True)\n",
    "display(pdf_log.sort_values(by = \"logged_datetime\", ascending = False))"
   ]
  }
 ],
 "metadata": {
  "dependencies": {},
  "kernel_info": {
   "name": "synapse_pyspark"
  },
  "kernelspec": {
   "display_name": "Synapse PySpark",
   "language": "Python",
   "name": "synapse_pyspark"
  },
  "language_info": {
   "name": "python"
  },
  "microsoft": {
   "language": "python",
   "language_group": "synapse_pyspark",
   "ms_spell_check": {
    "ms_spell_check_language": "en"
   }
  },
  "nteract": {
   "version": "nteract-front-end@1.0.0"
  },
  "spark_compute": {
   "compute_id": "/trident/default",
   "session_options": {
    "conf": {
     "spark.synapse.nbs.session.timeout": "1200000"
    }
   }
  },
  "synapse_widget": {
   "state": {},
   "version": "0.1"
  },
  "widgets": {}
 },
 "nbformat": 4,
 "nbformat_minor": 5
}
