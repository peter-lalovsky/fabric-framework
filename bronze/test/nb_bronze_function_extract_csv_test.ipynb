{
 "cells": [
  {
   "cell_type": "code",
   "execution_count": null,
   "id": "ead3b471-2cd5-4be5-901c-a465a2ed865a",
   "metadata": {
    "jupyter": {
     "outputs_hidden": false,
     "source_hidden": false
    },
    "microsoft": {
     "language": "python",
     "language_group": "synapse_pyspark"
    },
    "nteract": {
     "transient": {
      "deleting": false
     }
    }
   },
   "outputs": [],
   "source": [
    "# This notebook is to test (Quality Assurance) notebook \"nb_bronze_function_extract_csv\"\n",
    "# Needed only in DEV environment"
   ]
  },
  {
   "cell_type": "code",
   "execution_count": null,
   "id": "0ccc7663-cfda-4e71-b51b-bef04728c918",
   "metadata": {
    "collapsed": false,
    "editable": true,
    "jupyter": {
     "outputs_hidden": false,
     "source_hidden": false
    },
    "microsoft": {
     "language": "python",
     "language_group": "synapse_pyspark"
    },
    "nteract": {
     "transient": {
      "deleting": false
     }
    },
    "run_control": {
     "frozen": false
    }
   },
   "outputs": [],
   "source": [
    "%run nb_temp_load_cfg"
   ]
  },
  {
   "cell_type": "code",
   "execution_count": null,
   "id": "11b7f666-bf68-4cff-b42c-1f801e82807b",
   "metadata": {
    "jupyter": {
     "outputs_hidden": false,
     "source_hidden": false
    },
    "microsoft": {
     "language": "python",
     "language_group": "synapse_pyspark"
    },
    "nteract": {
     "transient": {
      "deleting": false
     }
    }
   },
   "outputs": [],
   "source": [
    "%run nb_bronze_function_extract_csv"
   ]
  },
  {
   "cell_type": "code",
   "execution_count": null,
   "id": "0cfb5295-aa3b-458f-b95e-23cbc7c71ae1",
   "metadata": {
    "editable": false,
    "jupyter": {
     "outputs_hidden": false,
     "source_hidden": false
    },
    "microsoft": {
     "language": "python",
     "language_group": "synapse_pyspark"
    },
    "nteract": {
     "transient": {
      "deleting": false
     }
    },
    "run_control": {
     "frozen": true
    }
   },
   "outputs": [],
   "source": [
    "# Freeze above cells"
   ]
  },
  {
   "cell_type": "markdown",
   "id": "255698af-f9ac-4962-8c61-3b8028999855",
   "metadata": {
    "nteract": {
     "transient": {
      "deleting": false
     }
    }
   },
   "source": [
    "# System"
   ]
  },
  {
   "cell_type": "code",
   "execution_count": null,
   "id": "0d934976-0931-4515-9d4f-7d016a323682",
   "metadata": {
    "jupyter": {
     "outputs_hidden": false,
     "source_hidden": false
    },
    "microsoft": {
     "language": "python",
     "language_group": "synapse_pyspark"
    },
    "nteract": {
     "transient": {
      "deleting": false
     }
    }
   },
   "outputs": [],
   "source": [
    "if is_debug: print(\"\\n---------- This notenook name: nb_bronze_function_extract_csv_test - Start ----------\\n\")"
   ]
  },
  {
   "cell_type": "code",
   "execution_count": null,
   "id": "2cc6e7d6-ee9e-4b6c-91be-dd318761e624",
   "metadata": {
    "jupyter": {
     "outputs_hidden": false,
     "source_hidden": false
    },
    "microsoft": {
     "language": "python",
     "language_group": "synapse_pyspark"
    },
    "nteract": {
     "transient": {
      "deleting": false
     }
    }
   },
   "outputs": [],
   "source": [
    "medallion_name = \"Bronze\"\n",
    "if is_debug: print(f\"medallion_name: {medallion_name}\")"
   ]
  },
  {
   "cell_type": "code",
   "execution_count": null,
   "id": "b3ffb93d-6cc7-40de-a7f6-5e955c9ef2f0",
   "metadata": {
    "jupyter": {
     "outputs_hidden": false,
     "source_hidden": false
    },
    "microsoft": {
     "language": "python",
     "language_group": "synapse_pyspark"
    },
    "nteract": {
     "transient": {
      "deleting": false
     }
    }
   },
   "outputs": [],
   "source": [
    "# Current session info\n",
    "if is_debug: display(ss.getActiveSession())"
   ]
  },
  {
   "cell_type": "markdown",
   "id": "282ae9a7-89c9-4c59-bbd1-b56d1825890f",
   "metadata": {
    "microsoft": {
     "language": "python",
     "language_group": "synapse_pyspark"
    },
    "nteract": {
     "transient": {
      "deleting": false
     }
    }
   },
   "source": [
    "# Function"
   ]
  },
  {
   "cell_type": "markdown",
   "id": "6f38ef76-af49-4c2b-8a4a-a37d89cd4226",
   "metadata": {
    "microsoft": {
     "language": "python",
     "language_group": "synapse_pyspark"
    },
    "nteract": {
     "transient": {
      "deleting": false
     }
    }
   },
   "source": [
    "## Read CSV file"
   ]
  },
  {
   "cell_type": "code",
   "execution_count": null,
   "id": "44928246-93f5-40c3-92e1-34c9541a0df8",
   "metadata": {
    "collapsed": false,
    "jupyter": {
     "outputs_hidden": false,
     "source_hidden": false
    },
    "microsoft": {
     "language": "python",
     "language_group": "synapse_pyspark"
    },
    "nteract": {
     "transient": {
      "deleting": false
     }
    }
   },
   "outputs": [],
   "source": [
    "dict_parameter = {'process_timestamp': '20240813_144852237'\n",
    "    , 'technology': 'CSV'\n",
    "    , 'frequency': 'Daily'\n",
    "    , 'folder_name': ''\n",
    "    , 'file_name': 'clients'\n",
    "    , 'has_header': 'true'\n",
    "    , 'delimiter': ','\n",
    "    , 'row_separator': 'n'\n",
    "    , 'quote': '\"'\n",
    "    , 'csv_file_path_clean': 'abfss://abc@onelake.dfs.fabric.microsoft.com/abc/Files/incoming/CSV/clients.csv'\n",
    "    , 'does_csv_file_exist': True\n",
    "}\n",
    "print(f\"Input value (dict_parameter): {type(dict_parameter)} | {dict_parameter}\")\n",
    "\n",
    "print(f\"\\n# Execution (try) - Start #\")\n",
    "time_start = dt.datetime.now()\n",
    "rv_try = fn_read_csv_file(dict_parameter)\n",
    "print(f\"# Execution (try) - End (duration: {(dt.datetime.now() - time_start)}) #\\n\")\n",
    "\n",
    "print(f\"Return value: {rv_try}\")\n",
    "print(f\"Return value [0]: {type(rv_try[0])} | {rv_try[0]}\")\n",
    "print(f\"Return value [1]: {type(rv_try[1])} | {rv_try[1]}\")\n",
    "print(f\"Return value (sdf) type: {type(rv_try[2])}\")\n",
    "print(f\"Return value (sdf) schema:\")\n",
    "rv_try[2].printSchema()\n",
    "print(f\"Return value (sdf):\")\n",
    "rv_try[2].show(truncate = False, n = 5)\n",
    "print(f\"Return value [3]: {type(rv_try[3])} | {rv_try[3]}\")\n",
    "\n",
    "print(\"\\n--------------------\\n\")\n",
    "\n",
    "dict_parameter[\"file_name\"] = \"fake\"\n",
    "dict_parameter[\"csv_file_path_clean\"] = \"abfss://abc@onelake.dfs.fabric.microsoft.com/abc/Files/incoming/CSV/fake.csv\"\n",
    "print(f\"Input value (dict_parameter): {type(dict_parameter)} | {dict_parameter}\")\n",
    "\n",
    "print(f\"\\n# Execution (except) - Start #\")        \n",
    "time_start = dt.datetime.now()\n",
    "rv_except = fn_read_csv_file(dict_parameter)\n",
    "print(f\"# Execution (except) - End (duration: {(dt.datetime.now() - time_start)}) #\\n\")\n",
    "\n",
    "print(f\"Return value: {rv_except}\")\n",
    "print(f\"Return value [0]: {type(rv_except[0])} | {rv_except[0]}\")\n",
    "print(f\"Return value [1]: {type(rv_except[1])} | {rv_except[1]}\")\n",
    "print(f\"Return value [2]: {type(rv_except[2])} | {rv_except[2]}\")\n",
    "print(f\"Return value [3]: {type(rv_except[3])} | {rv_except[3]}\")\n",
    "\n",
    "pdf_log.reset_index(drop = True, inplace = True)\n",
    "display(pdf_log.sort_values(by = \"logged_datetime\", ascending = False))"
   ]
  },
  {
   "cell_type": "code",
   "execution_count": null,
   "id": "25fb92bb-4c00-44ce-a6b4-2bc8ae8dfc0b",
   "metadata": {
    "jupyter": {
     "outputs_hidden": false,
     "source_hidden": false
    },
    "microsoft": {
     "language": "python",
     "language_group": "synapse_pyspark"
    },
    "nteract": {
     "transient": {
      "deleting": false
     }
    }
   },
   "outputs": [],
   "source": [
    "if is_debug:\n",
    "    print(\"\\n---------- This notenook name: nb_bronze_function_extract_csv_test - End ----------\\n\")"
   ]
  },
  {
   "cell_type": "markdown",
   "id": "f0993e95-83ea-4e54-8a1e-8190b8d5e512",
   "metadata": {
    "microsoft": {
     "language": "python",
     "language_group": "synapse_pyspark"
    },
    "nteract": {
     "transient": {
      "deleting": false
     }
    }
   },
   "source": [
    "# Test"
   ]
  },
  {
   "cell_type": "code",
   "execution_count": null,
   "id": "823f66b1-262a-4260-a5a0-a489338fe97b",
   "metadata": {
    "editable": true,
    "jupyter": {
     "outputs_hidden": false,
     "source_hidden": false
    },
    "microsoft": {
     "language": "python",
     "language_group": "synapse_pyspark"
    },
    "nteract": {
     "transient": {
      "deleting": false
     }
    },
    "run_control": {
     "frozen": false
    }
   },
   "outputs": [],
   "source": [
    "is_debug = False"
   ]
  },
  {
   "cell_type": "code",
   "execution_count": null,
   "id": "712b7285-5e61-4576-9f26-bf0cf24883d1",
   "metadata": {
    "editable": true,
    "jupyter": {
     "outputs_hidden": false,
     "source_hidden": false
    },
    "microsoft": {
     "language": "python",
     "language_group": "synapse_pyspark"
    },
    "nteract": {
     "transient": {
      "deleting": false
     }
    },
    "run_control": {
     "frozen": false
    }
   },
   "outputs": [],
   "source": [
    "# Delete the tables in \"lh_bronze\"\n",
    "fn_delete_all_in_folder(f\"{global_parameter.abfs_path_lh_bronze}/Tables\")"
   ]
  },
  {
   "cell_type": "code",
   "execution_count": null,
   "id": "839e889e-034a-418d-b7f5-d5063c4cb6a0",
   "metadata": {
    "collapsed": false,
    "editable": true,
    "jupyter": {
     "outputs_hidden": false,
     "source_hidden": false
    },
    "microsoft": {
     "language": "python",
     "language_group": "synapse_pyspark"
    },
    "nteract": {
     "transient": {
      "deleting": false
     }
    },
    "run_control": {
     "frozen": false
    }
   },
   "outputs": [],
   "source": [
    "rv = fn_extract_csv(\"CSV\", \"Daily\")\n",
    "print(f\"Return value: {rv}\")"
   ]
  },
  {
   "cell_type": "code",
   "execution_count": null,
   "id": "961fea00-adfb-4259-9da2-549199627c49",
   "metadata": {
    "collapsed": false,
    "jupyter": {
     "outputs_hidden": false,
     "source_hidden": false
    },
    "microsoft": {
     "language": "python",
     "language_group": "synapse_pyspark"
    },
    "nteract": {
     "transient": {
      "deleting": false
     }
    }
   },
   "outputs": [],
   "source": [
    "pdf_log.reset_index(drop = True, inplace = True)\n",
    "display(pdf_log.sort_values(by = \"logged_datetime\", ascending = False))"
   ]
  },
  {
   "cell_type": "code",
   "execution_count": null,
   "id": "ae4cc559-a063-465d-8540-5b50dbb3a153",
   "metadata": {
    "editable": true,
    "jupyter": {
     "outputs_hidden": false,
     "source_hidden": false
    },
    "microsoft": {
     "language": "python",
     "language_group": "synapse_pyspark"
    },
    "nteract": {
     "transient": {
      "deleting": false
     }
    },
    "run_control": {
     "frozen": false
    }
   },
   "outputs": [],
   "source": [
    "# Append local log to lh_log.log\n",
    "fn_lh_log_log_insert()"
   ]
  }
 ],
 "metadata": {
  "dependencies": {},
  "kernel_info": {
   "name": "synapse_pyspark"
  },
  "kernelspec": {
   "display_name": "Synapse PySpark",
   "language": "Python",
   "name": "synapse_pyspark"
  },
  "language_info": {
   "name": "python"
  },
  "microsoft": {
   "language": "python",
   "language_group": "synapse_pyspark",
   "ms_spell_check": {
    "ms_spell_check_language": "en"
   }
  },
  "nteract": {
   "version": "nteract-front-end@1.0.0"
  },
  "spark_compute": {
   "compute_id": "/trident/default",
   "session_options": {
    "conf": {
     "spark.synapse.nbs.session.timeout": "1200000"
    }
   }
  },
  "synapse_widget": {
   "state": {},
   "version": "0.1"
  },
  "widgets": {}
 },
 "nbformat": 4,
 "nbformat_minor": 5
}
