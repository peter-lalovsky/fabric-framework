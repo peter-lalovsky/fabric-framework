{
 "cells": [
  {
   "cell_type": "code",
   "execution_count": null,
   "id": "6eb5206f-3697-4e89-96f1-10e0fea92a98",
   "metadata": {
    "jupyter": {
     "outputs_hidden": false,
     "source_hidden": false
    },
    "microsoft": {
     "language": "python",
     "language_group": "synapse_pyspark"
    },
    "nteract": {
     "transient": {
      "deleting": false
     }
    }
   },
   "outputs": [],
   "source": [
    "# This notebook is to test (Quality Assurance) notebook \"nb_bronze_function\"\n",
    "# Needed only in DEV environment"
   ]
  },
  {
   "cell_type": "code",
   "execution_count": null,
   "id": "346f5cd3-03bb-4540-b88e-1a65158e2d29",
   "metadata": {
    "collapsed": false,
    "jupyter": {
     "outputs_hidden": false,
     "source_hidden": false
    },
    "microsoft": {
     "language": "python",
     "language_group": "synapse_pyspark"
    },
    "nteract": {
     "transient": {
      "deleting": false
     }
    }
   },
   "outputs": [],
   "source": [
    "%run nb_temp_load_cfg"
   ]
  },
  {
   "cell_type": "code",
   "execution_count": null,
   "id": "37d280f7-950d-4b2d-aea0-43fc9eccaecf",
   "metadata": {
    "editable": false,
    "jupyter": {
     "outputs_hidden": false,
     "source_hidden": false
    },
    "microsoft": {
     "language": "python",
     "language_group": "synapse_pyspark"
    },
    "nteract": {
     "transient": {
      "deleting": false
     }
    },
    "run_control": {
     "frozen": true
    }
   },
   "outputs": [],
   "source": [
    "%run nb_bronze_function"
   ]
  },
  {
   "cell_type": "code",
   "execution_count": null,
   "id": "db6d50b5-de04-4b0c-b178-52007d15d734",
   "metadata": {
    "jupyter": {
     "outputs_hidden": false,
     "source_hidden": false
    },
    "microsoft": {
     "language": "python",
     "language_group": "synapse_pyspark"
    },
    "nteract": {
     "transient": {
      "deleting": false
     }
    }
   },
   "outputs": [],
   "source": [
    "# Freeze/kill above cells"
   ]
  },
  {
   "cell_type": "markdown",
   "id": "c1661a5f-740c-45c1-b1a4-3362e39918aa",
   "metadata": {
    "microsoft": {
     "language": "python",
     "language_group": "synapse_pyspark"
    },
    "nteract": {
     "transient": {
      "deleting": false
     }
    }
   },
   "source": [
    "# System"
   ]
  },
  {
   "cell_type": "code",
   "execution_count": null,
   "id": "b13cef20-aea8-4dd5-8008-24bda597dca3",
   "metadata": {
    "jupyter": {
     "outputs_hidden": false,
     "source_hidden": false
    },
    "microsoft": {
     "language": "python",
     "language_group": "synapse_pyspark"
    },
    "nteract": {
     "transient": {
      "deleting": false
     }
    }
   },
   "outputs": [],
   "source": [
    "if is_debug: print(\"\\n---------- This notenook name: nb_bronze_function_test - Start ----------\\n\")"
   ]
  },
  {
   "cell_type": "code",
   "execution_count": null,
   "id": "2234db21-912d-40e2-a018-f82c6d161621",
   "metadata": {
    "jupyter": {
     "outputs_hidden": false,
     "source_hidden": false
    },
    "microsoft": {
     "language": "python",
     "language_group": "synapse_pyspark"
    },
    "nteract": {
     "transient": {
      "deleting": false
     }
    }
   },
   "outputs": [],
   "source": [
    "medallion_name = \"Bronze\"\n",
    "if is_debug: print(f\"medallion_name: {medallion_name}\")"
   ]
  },
  {
   "cell_type": "code",
   "execution_count": null,
   "id": "40ce5bb0-b681-4a0f-b7aa-3a0af5cfda5c",
   "metadata": {
    "jupyter": {
     "outputs_hidden": false,
     "source_hidden": false
    },
    "microsoft": {
     "language": "python",
     "language_group": "synapse_pyspark"
    },
    "nteract": {
     "transient": {
      "deleting": false
     }
    }
   },
   "outputs": [],
   "source": [
    "# Current session info\n",
    "if is_debug: display(ss.getActiveSession())"
   ]
  },
  {
   "cell_type": "markdown",
   "id": "1ceb4022-a2f7-4249-84c1-e042819f56ba",
   "metadata": {
    "microsoft": {
     "language": "python",
     "language_group": "synapse_pyspark"
    },
    "nteract": {
     "transient": {
      "deleting": false
     }
    }
   },
   "source": [
    "# Function"
   ]
  },
  {
   "cell_type": "markdown",
   "id": "6b655df7-5615-4673-976d-84986ce36176",
   "metadata": {
    "nteract": {
     "transient": {
      "deleting": false
     }
    }
   },
   "source": [
    "# Query table \"lh_cfg.extract_object\""
   ]
  },
  {
   "cell_type": "markdown",
   "id": "19a20624-e2be-4078-ad33-7c62f171c58a",
   "metadata": {
    "microsoft": {
     "language": "python",
     "language_group": "synapse_pyspark"
    },
    "nteract": {
     "transient": {
      "deleting": false
     }
    }
   },
   "source": [
    "## Get existing technology list"
   ]
  },
  {
   "cell_type": "code",
   "execution_count": null,
   "id": "467f28aa-c0fb-4233-8366-7cab9e8c3311",
   "metadata": {
    "collapsed": false,
    "editable": false,
    "jupyter": {
     "outputs_hidden": false,
     "source_hidden": false
    },
    "microsoft": {
     "language": "python",
     "language_group": "synapse_pyspark"
    },
    "nteract": {
     "transient": {
      "deleting": false
     }
    },
    "run_control": {
     "frozen": true
    }
   },
   "outputs": [],
   "source": [
    "list_frequency = ['Daily', 'Hourly', 'Weekly']\n",
    "print(f\"Input value (list_frequency): {type(list_frequency)} | {list_frequency}\")\n",
    "\n",
    "time_start = dt.datetime.now()    \n",
    "rv_try = fn_get_existing_technology_list(list_frequency)\n",
    "print(f\"# Duration: {(dt.datetime.now() - time_start)} #\\n\")\n",
    "\n",
    "print(f\"Return value: {rv_try}\")\n",
    "print(f\"Return value [0]: {type(rv_try[0])} | {rv_try[0]}\")\n",
    "print(f\"Return value [1]: {type(rv_try[1])} | {rv_try[1]}\")\n",
    "print(f\"Return value [2]: {type(rv_try[2])} | {rv_try[2]}\")\n",
    "print(f\"Return value [3]: {type(rv_try[3])} | {rv_try[3]}\")\n",
    "\n",
    "# Uncomment # test \"except\" to test exception\n",
    "\n",
    "pdf_log.reset_index(drop = True, inplace = True)\n",
    "display(pdf_log.sort_values(by = \"logged_datetime\", ascending = False))"
   ]
  },
  {
   "cell_type": "code",
   "execution_count": null,
   "id": "2987c00a-16b8-4c26-8ecc-a033c2d61b01",
   "metadata": {
    "editable": false,
    "jupyter": {
     "outputs_hidden": false,
     "source_hidden": false
    },
    "microsoft": {
     "language": "python",
     "language_group": "synapse_pyspark"
    },
    "nteract": {
     "transient": {
      "deleting": false
     }
    },
    "run_control": {
     "frozen": true
    }
   },
   "outputs": [],
   "source": [
    "# Get Existing Technology List\n",
    "list_technology = fn_get_existing_technology_list(list_frequency)[2]\n",
    "if is_debug: print(f\"list_technology: {list_technology}\")"
   ]
  },
  {
   "cell_type": "markdown",
   "id": "864e596d-b449-414d-a9fb-c94800f3b00f",
   "metadata": {
    "microsoft": {
     "language": "python",
     "language_group": "synapse_pyspark"
    },
    "nteract": {
     "transient": {
      "deleting": false
     }
    }
   },
   "source": [
    "## Get a list of the extracted tables"
   ]
  },
  {
   "cell_type": "code",
   "execution_count": null,
   "id": "d3cba043-a928-4eea-96a9-4f850bb7213d",
   "metadata": {
    "collapsed": false,
    "jupyter": {
     "outputs_hidden": false,
     "source_hidden": false
    },
    "microsoft": {
     "language": "python",
     "language_group": "synapse_pyspark"
    },
    "nteract": {
     "transient": {
      "deleting": false
     }
    }
   },
   "outputs": [],
   "source": [
    "dict_parameter = {\"technology\": \"Excel\"     , \"frequency\": \"Daily\", \"action\": \"Extract\"}\n",
    "# dict_parameter = {\"technology\": \"Excel\"     , \"frequency\": \"Daily\", \"action\": \"Archive\"}\n",
    "# dict_parameter = {\"technology\": \"SQL Server\", \"frequency\": \"Daily\", \"action\": \"Extract\"}\n",
    "# dict_parameter = {\"technology\": \"Lakehouse\" , \"frequency\": \"Daily\", \"action\": \"Extract\"}\n",
    "# dict_parameter = {\"technology\": \"CSV\"       , \"frequency\": \"Daily\", \"action\": \"Extract\"}\n",
    "# dict_parameter = {\"technology\": \"JSON\"      , \"frequency\": \"Daily\", \"action\": \"Extract\"}\n",
    "print(f\"Input value (dict_parameter): {type(dict_parameter)} | {dict_parameter}\")\n",
    "\n",
    "print(f\"\\n# Execution (try) - Start #\")\n",
    "time_start = dt.datetime.now()\n",
    "rv_try = fn_get_extract_table_list(dict_parameter)\n",
    "print(f\"# Execution (try) - End (duration: {(dt.datetime.now() - time_start)}) #\\n\")\n",
    "\n",
    "print(f\"Return value: {rv_try}\")\n",
    "print(f\"Return value [0]: {type(rv_try[0])} | {rv_try[0]}\")\n",
    "print(f\"Return value [1]: {type(rv_try[1])} | {rv_try[1]}\")\n",
    "print(f\"Return value [2] type: {type(rv_try[2])}\")\n",
    "print(f\"Return value [2] schema:\")\n",
    "rv_try[2].printSchema()\n",
    "print(f\"Return value [2]:\")\n",
    "display(rv_try[2])\n",
    "print(f\"Return value [3]: {type(rv_try[3])}  | {rv_try[3]}\")\n",
    "\n",
    "print(\"\\n--------------------\\n\")\n",
    "\n",
    "dict_parameter = {\"technolog\": \"SQL Server\", \"frequenc\": \"Daily\", \"actio\": \"Extract\"}\n",
    "\n",
    "print(f\"# Execution (except) - Start #\")\n",
    "time_start = dt.datetime.now()\n",
    "rv_except = fn_get_extract_table_list(dict_parameter)\n",
    "print(f\"# Execution (except) - End (duration: {(dt.datetime.now() - time_start)}) #\\n\")\n",
    "\n",
    "print(f\"Return value: {rv_except}\")\n",
    "print(f\"Return value [0]: {type(rv_except[0])} | {rv_except[0]}\")\n",
    "print(f\"Return value [1]: {type(rv_except[1])} | {rv_except[1]}\")\n",
    "print(f\"Return value [2]: {type(rv_except[2])} | {rv_except[2]}\")\n",
    "print(f\"Return value [3]: {type(rv_except[3])} | {rv_except[3]}\")\n",
    "\n",
    "pdf_log.reset_index(drop = True, inplace = True)\n",
    "display(pdf_log.sort_values(by = \"logged_datetime\", ascending = False))"
   ]
  },
  {
   "cell_type": "markdown",
   "id": "6f23f3e6-6f9b-478a-9f58-7b8439af78be",
   "metadata": {
    "microsoft": {
     "language": "python",
     "language_group": "synapse_pyspark"
    },
    "nteract": {
     "transient": {
      "deleting": false
     }
    }
   },
   "source": [
    "## Get a list of the columns of the extracted tables"
   ]
  },
  {
   "cell_type": "code",
   "execution_count": null,
   "id": "b0452664-9273-4502-b49f-76c2688d4b9d",
   "metadata": {
    "collapsed": false,
    "jupyter": {
     "outputs_hidden": false,
     "source_hidden": false
    },
    "microsoft": {
     "language": "python",
     "language_group": "synapse_pyspark"
    },
    "nteract": {
     "transient": {
      "deleting": false
     }
    }
   },
   "outputs": [],
   "source": [
    "dict_parameter = {\"technology\": \"SQL Server\", \"frequency\": \"Daily\", \"server_alias\": \"sql_server\", \"database_name\": \"AdventureWorks\", \"schema_name\": \"SalesLT\", \"table_name\": \"Address\"}\n",
    "# dict_parameter = {\"technology\": \"Lakehouse\", \"frequency\": \"Daily\", \"lakehouse_name\": \"lh_AdventureWorks\", \"table_name\": \"SalesLT_Product\"}\n",
    "# dict_parameter = {\"technology\": \"Excel\", \"frequency\": \"Daily\", \"folder_name\": \"Reference Data\", \"file_name\": \"Text\", \"worksheet_name\": \"Orders\"}\n",
    "# dict_parameter = {\"technology\": \"CSV\", \"frequency\": \"Daily\", \"folder_name\": \"\", \"file_name\": \"organizations\"}\n",
    "#dict_parameter = {\"technology\": \"JSON\", \"frequency\": \"Daily\", \"folder_name\": \"\", \"file_name\": \"Municipalities\"}\n",
    "print(f\"Input value (dict_parameter): {type(dict_parameter)} | {dict_parameter}\")\n",
    "\n",
    "print(f\"\\n# Execution (try) - Start #\")\n",
    "time_start = dt.datetime.now()\n",
    "rv_try = fn_get_extract_column(dict_parameter)\n",
    "print(f\"# Execution (try) - End (duration: {(dt.datetime.now() - time_start)}) #\\n\")\n",
    "\n",
    "print(f\"Return value: {rv_try}\")\n",
    "print(f\"Return value [0]: {type(rv_try[0])} | {rv_try[0]}\")\n",
    "print(f\"Return value [1]: {type(rv_try[1])} | {rv_try[1]}\")\n",
    "print(f\"Return value [2] type: {type(rv_try[2])}\")\n",
    "print(f\"Return value [2] schema:\")\n",
    "rv_try[2].printSchema()\n",
    "print(f\"Return value [2]:\")\n",
    "display(rv_try[2])\n",
    "print(f\"Return value [3]: {type(rv_try[3])}  | {rv_try[3]}\")\n",
    "\n",
    "print(\"\\n--------------------\\n\")\n",
    "\n",
    "dict_parameter = {\"technolog\": \"SQL Server\",\"frequenc\": \"Daily\",\"server_alia\": \"sql_server\",\"database_nam\": \"AdventureWorks\",\"schema_nam\": \"SalesLT\",\"table_nam\": \"SalesOrderDetail\"}\n",
    "\n",
    "print(f\"# Execution (except) - Start #\")\n",
    "time_start = dt.datetime.now()\n",
    "rv_except = fn_get_extract_column(dict_parameter)\n",
    "print(f\"# Execution (except) - End (duration: {(dt.datetime.now() - time_start)}) #\\n\")\n",
    "\n",
    "print(f\"Return value: {rv_except}\")\n",
    "print(f\"Return value [0]: {type(rv_except[0])} | {rv_except[0]}\")\n",
    "print(f\"Return value [1]: {type(rv_except[1])} | {rv_except[1]}\")\n",
    "print(f\"Return value [2]: {type(rv_except[2])} | {rv_except[2]}\")\n",
    "print(f\"Return value [3]: {type(rv_except[3])} | {rv_except[3]}\")\n",
    "\n",
    "print(f\"\\n----- Test fn_get_extract_column() - End -----\")\n",
    "\n",
    "pdf_log.reset_index(drop = True, inplace = True)\n",
    "display(pdf_log.sort_values(by = \"logged_datetime\", ascending = False))"
   ]
  },
  {
   "cell_type": "markdown",
   "id": "bb007502-dbc1-4e18-8a4c-b3041bf280a7",
   "metadata": {
    "nteract": {
     "transient": {
      "deleting": false
     }
    }
   },
   "source": [
    "# Dataframe"
   ]
  },
  {
   "cell_type": "markdown",
   "id": "a5c9c1c5-492b-4909-8e92-e42fddf75e31",
   "metadata": {
    "microsoft": {
     "language": "python",
     "language_group": "synapse_pyspark"
    },
    "nteract": {
     "transient": {
      "deleting": false
     }
    }
   },
   "source": [
    "## Save in single .parquet file"
   ]
  },
  {
   "cell_type": "code",
   "execution_count": null,
   "id": "334c999c-6225-42a6-aa14-a34d2991cb2a",
   "metadata": {
    "collapsed": false,
    "jupyter": {
     "outputs_hidden": false,
     "source_hidden": false
    },
    "microsoft": {
     "language": "python",
     "language_group": "synapse_pyspark"
    },
    "nteract": {
     "transient": {
      "deleting": false
     }
    }
   },
   "outputs": [],
   "source": [
    "sch = st.StructType(\n",
    "    [\n",
    "        st.StructField(\"sequence\", st.IntegerType())\n",
    "        , st.StructField(\"column_name\", st.StringType())\n",
    "        , st.StructField(\"data_type\", st.StringType())\n",
    "        , st.StructField(\"alias_name\", st.StringType())\n",
    "        , st.StructField(\"date_created\", st.TimestampType())\n",
    "    ]\n",
    ")\n",
    "sdf = spark.createDataFrame(\n",
    "    [\n",
    "        (1, \"column_1\", \"String\", \"alias_col_1\", fn_get_now(\"default\")[1])\n",
    "        , (2, \"column_2\", \"Integer\", \"alias_col_2\", fn_get_now(\"default\")[1])\n",
    "    ]\n",
    "    , sch\n",
    ")\n",
    "file_name = f\"{global_parameter.abfs_path_lh_bronze}/Files/processed/YYYY/MM/DD/file_name_123.parquet\"\n",
    "print(f\"Input value (sdf) type: {type(sdf)}\")\n",
    "print(f\"Input value (sdf):\")\n",
    "display(sdf)\n",
    "print(f\"Input value (file_name): {type(file_name)} | {file_name}\")\n",
    "\n",
    "print(f\"\\n# Execution (try) - Start #\")\n",
    "time_start = dt.datetime.now()\n",
    "rv_try = fn_save_in_single_file(sdf, file_name)\n",
    "print(f\"# Execution (try) - End (duration: {(dt.datetime.now() - time_start)}) #\\n\")\n",
    "\n",
    "print(f\"Return value: {rv_try}\")\n",
    "print(f\"Return value [0]: {type(rv_try[0])} | {rv_try[0]}\")\n",
    "print(f\"Return value [1]: {type(rv_try[1])} | {rv_try[1]}\")\n",
    "\n",
    "sdf = spark.read.parquet(file_name)\n",
    "print(f\"Read written file:\")\n",
    "display(sdf)\n",
    "\n",
    "# print(\"\\n--------------------\\n\")\n",
    "\n",
    "# file_name = f\"{global_parameter.abfs_path_lh_bronze}/Fake/processed/YYYY/MM/DD/file_name_123*.txt\"\n",
    "\n",
    "# print(f\"# Execution (except) - Start #\")\n",
    "# time_start = dt.datetime.now()\n",
    "# rv_except = fn_save_in_single_file(sdf, file_name)\n",
    "# print(f\"# Execution (except) - End (duration: {(dt.datetime.now() - time_start)}) #\\n\")\n",
    "\n",
    "# print(f\"Return value: {rv_except}\")\n",
    "# if len(rv_except) == 2:\n",
    "#     print(f\"Return value [0]: {type(rv_except[0])} | {rv_except[0]}\")\n",
    "#     print(f\"Return value [1]: {type(rv_except[1])} | {rv_except[1]}\")\n",
    "\n",
    "pdf_log.reset_index(drop = True, inplace = True)\n",
    "display(pdf_log.sort_values(by = \"logged_datetime\", ascending = False))"
   ]
  },
  {
   "cell_type": "markdown",
   "id": "805e1562-8980-42dc-88e7-b189e3e6c242",
   "metadata": {
    "microsoft": {
     "language": "python",
     "language_group": "synapse_pyspark"
    },
    "nteract": {
     "transient": {
      "deleting": false
     }
    }
   },
   "source": [
    "# Operation"
   ]
  },
  {
   "cell_type": "markdown",
   "id": "7d60f5c9-b147-4b21-99fd-9e370dfbb6f2",
   "metadata": {
    "microsoft": {
     "language": "python",
     "language_group": "synapse_pyspark"
    },
    "nteract": {
     "transient": {
      "deleting": false
     }
    }
   },
   "source": [
    "## Rename existing files in \"lh_bronze\""
   ]
  },
  {
   "cell_type": "code",
   "execution_count": null,
   "id": "44324db9-d8bd-40f3-bfd5-53fee7fbc032",
   "metadata": {
    "collapsed": false,
    "jupyter": {
     "outputs_hidden": false,
     "source_hidden": false
    },
    "microsoft": {
     "language": "python",
     "language_group": "synapse_pyspark"
    },
    "nteract": {
     "transient": {
      "deleting": false
     }
    }
   },
   "outputs": [],
   "source": [
    "technology = \"Excel\"\n",
    "frequency  = \"Daily\"\n",
    "action     = \"Archive\"\n",
    "\n",
    "time_start = dt.datetime.now()\n",
    "rv = fn_rename_files_in_lh_bronze(technology, frequency, action)\n",
    "print(f\"Duration: {(dt.datetime.now() - time_start)}\\n\")\n",
    "\n",
    "print(f\"Return value: {rv}\")\n",
    "print(f\"Return value [0]: {type(rv[0])} | {rv[0]}\")\n",
    "print(f\"Return value [1]: {type(rv[1])} | {rv[1]}\")\n",
    "print(f\"Return value [2] type: {type(rv[2])}\")\n",
    "print(f\"Return value [2] schema:\")\n",
    "rv[2].printSchema()\n",
    "print(f\"Return value [2]:\")\n",
    "display(rv[2])\n",
    "\n",
    "pdf_log.reset_index(drop = True, inplace = True)\n",
    "display(pdf_log.sort_values(by = \"logged_datetime\", ascending = False))"
   ]
  },
  {
   "cell_type": "markdown",
   "id": "8fcd64ee-26c2-40d0-8872-2f5406cb581b",
   "metadata": {
    "microsoft": {
     "language": "python",
     "language_group": "synapse_pyspark"
    },
    "nteract": {
     "transient": {
      "deleting": false
     }
    }
   },
   "source": [
    "## Create lookup SDF \"server_alias - server_name\""
   ]
  },
  {
   "cell_type": "code",
   "execution_count": null,
   "id": "927cc3f1-3cf7-4ad2-b3cf-e600b51faf14",
   "metadata": {
    "collapsed": false,
    "jupyter": {
     "outputs_hidden": false,
     "source_hidden": false
    },
    "microsoft": {
     "language": "python",
     "language_group": "synapse_pyspark"
    },
    "nteract": {
     "transient": {
      "deleting": false
     }
    }
   },
   "outputs": [],
   "source": [
    "time_start = dt.datetime.now()    \n",
    "rv = fn_create_lookup_server_alias_server_name()\n",
    "print(f\"Duration: {(dt.datetime.now() - time_start)}\\n\")\n",
    "\n",
    "print(f\"Return value: {rv}\")        \n",
    "print(f\"Return value [0]: {type(rv[0])} | {rv[0]}\")\n",
    "print(f\"Return value [1]: {type(rv[1])} | {rv[1]}\")\n",
    "print(f\"Return value [2]: {type(rv[2])} | {rv[2]}\")\n",
    "print(f\"Return value [3]: {type(rv[3])} | {rv[3]}\")\n",
    "\n",
    "# Uncomment # test \"except\" to test exception\n",
    "\n",
    "pdf_log.reset_index(drop = True, inplace = True)\n",
    "display(pdf_log.sort_values(by = \"logged_datetime\", ascending = False))"
   ]
  },
  {
   "cell_type": "markdown",
   "id": "3645d112-57a7-4676-a1a5-53530c1f49a3",
   "metadata": {
    "microsoft": {
     "language": "python",
     "language_group": "synapse_pyspark"
    },
    "nteract": {
     "transient": {
      "deleting": false
     }
    }
   },
   "source": [
    "## Extract Preparation"
   ]
  },
  {
   "cell_type": "code",
   "execution_count": null,
   "id": "1c5a8d65-4d5d-41c9-af02-9ed863acc47b",
   "metadata": {
    "collapsed": false,
    "jupyter": {
     "outputs_hidden": false,
     "source_hidden": false
    },
    "microsoft": {
     "language": "python",
     "language_group": "synapse_pyspark"
    },
    "nteract": {
     "transient": {
      "deleting": false
     }
    }
   },
   "outputs": [],
   "source": [
    "list_technology = [\"SQL Server\", \"Lakehouse\", \"CSV\", \"JSON\"]\n",
    "\n",
    "time_start = dt.datetime.now()    \n",
    "rv = fn_extract_preparation(list_technology)\n",
    "print(f\"Duration: {(dt.datetime.now() - time_start)}\\n\")\n",
    "\n",
    "print(f\"Return value: {rv}\")\n",
    "print(f\"Return value [0]: {type(rv[0])} | {rv[0]}\")\n",
    "print(f\"Return value [1]: {type(rv[1])} | {rv[1]}\")\n",
    "print(f\"Return value [2]: {type(rv[2])} | {rv[2]}\")\n",
    "\n",
    "# Uncomment # test \"except\" to test exception\n",
    "\n",
    "pdf_log.reset_index(drop = True, inplace = True)\n",
    "display(pdf_log.sort_values(by = \"logged_datetime\", ascending = False))"
   ]
  },
  {
   "cell_type": "markdown",
   "id": "2e751156-d4e6-41c9-b30c-aef2d2889bd4",
   "metadata": {
    "nteract": {
     "transient": {
      "deleting": false
     }
    }
   },
   "source": [
    "## Extract"
   ]
  },
  {
   "cell_type": "code",
   "execution_count": null,
   "id": "1e3e9a16-f152-46db-b48f-402a32dcb9f9",
   "metadata": {
    "editable": false,
    "jupyter": {
     "outputs_hidden": false,
     "source_hidden": false
    },
    "microsoft": {
     "language": "python",
     "language_group": "synapse_pyspark"
    },
    "nteract": {
     "transient": {
      "deleting": false
     }
    },
    "run_control": {
     "frozen": true
    }
   },
   "outputs": [],
   "source": [
    "time_start = dt.datetime.now()    \n",
    "rv = fn_bronze_extract()\n",
    "print(f\"Duration: {(dt.datetime.now() - time_start)}\\n\")\n",
    "\n",
    "print(f\"Return value: {rv}\")\n",
    "print(f\"Return value [0]: {type(rv[0])} | {rv[0]}\")\n",
    "print(f\"Return value [1]: {type(rv[1])} | {rv[1]}\")\n",
    "print(f\"Return value [2]: {type(rv[2])} | {rv[2]}\")\n",
    "\n",
    "# Uncomment # test \"except\" to test exception\n",
    "\n",
    "pdf_log.reset_index(drop = True, inplace = True)\n",
    "display(pdf_log.sort_values(by = \"logged_datetime\", ascending = False))"
   ]
  },
  {
   "cell_type": "code",
   "execution_count": null,
   "id": "718f555f-b5dc-4854-9445-12a3db9c5827",
   "metadata": {
    "jupyter": {
     "outputs_hidden": false,
     "source_hidden": false
    },
    "microsoft": {
     "language": "python",
     "language_group": "synapse_pyspark"
    },
    "nteract": {
     "transient": {
      "deleting": false
     }
    }
   },
   "outputs": [],
   "source": [
    "fn_lh_log_log_insert()"
   ]
  },
  {
   "cell_type": "code",
   "execution_count": null,
   "id": "c5b84d55-55c6-4c21-8038-dd6a0e3d41d9",
   "metadata": {
    "jupyter": {
     "outputs_hidden": false,
     "source_hidden": false
    },
    "microsoft": {
     "language": "python",
     "language_group": "synapse_pyspark"
    },
    "nteract": {
     "transient": {
      "deleting": false
     }
    }
   },
   "outputs": [],
   "source": [
    "if is_debug: print(\"\\n---------- This notenook name: nb_bronze_function_test - End ----------\\n\")"
   ]
  }
 ],
 "metadata": {
  "kernel_info": {
   "name": "synapse_pyspark"
  },
  "kernelspec": {
   "display_name": "Synapse PySpark",
   "language": "Python",
   "name": "synapse_pyspark"
  },
  "language_info": {
   "name": "python"
  },
  "microsoft": {
   "language": "python",
   "language_group": "synapse_pyspark",
   "ms_spell_check": {
    "ms_spell_check_language": "en"
   }
  },
  "nteract": {
   "version": "nteract-front-end@1.0.0"
  },
  "spark_compute": {
   "compute_id": "/trident/default",
   "session_options": {
    "conf": {
     "spark.synapse.nbs.session.timeout": "1200000"
    }
   }
  },
  "synapse_widget": {
   "state": {
    "00bace43-d162-4132-b45a-999c865f78fd": {
     "persist_state": {
      "view": {
       "chartOptions": {
        "aggregationType": "count",
        "binsNumber": 10,
        "categoryFieldKeys": [
         "2"
        ],
        "chartType": "bar",
        "evaluatesOverAllRecords": false,
        "isStacked": false,
        "seriesFieldKeys": [
         "2"
        ],
        "wordFrequency": "-1"
       },
       "tableOptions": {},
       "type": "details"
      }
     },
     "sync_state": {
      "isSummary": false,
      "language": "scala",
      "table": {
       "rows": [
        {
         "0": "Excel",
         "1": "Daily",
         "2": "",
         "3": "Rapport_sur les coûts de dist. des addendas"
        },
        {
         "0": "Excel",
         "1": "Daily",
         "2": "Other/Thing",
         "3": "SEAO - Contrat $ 25 000 et plus"
        },
        {
         "0": "Excel",
         "1": "Daily",
         "2": "Réference Data",
         "3": "Rapport_de suivi sur la conclusion de contrats"
        }
       ],
       "schema": [
        {
         "key": "0",
         "name": "technology",
         "type": "string"
        },
        {
         "key": "1",
         "name": "frequency",
         "type": "string"
        },
        {
         "key": "2",
         "name": "folder_name",
         "type": "string"
        },
        {
         "key": "3",
         "name": "file_name",
         "type": "string"
        }
       ],
       "truncated": false
      }
     },
     "type": "Synapse.DataFrame"
    },
    "087b05b7-4d2c-4045-81fe-ee2f68a336e5": {
     "persist_state": {
      "view": {
       "chartOptions": {
        "aggregationType": "sum",
        "binsNumber": 10,
        "categoryFieldKeys": [
         "1"
        ],
        "chartType": "bar",
        "evaluatesOverAllRecords": false,
        "isStacked": false,
        "seriesFieldKeys": [
         "0"
        ],
        "wordFrequency": "-1"
       },
       "tableOptions": {},
       "type": "details"
      }
     },
     "sync_state": {
      "isSummary": false,
      "language": "scala",
      "table": {
       "rows": [
        {
         "0": "1",
         "1": "column_1",
         "2": "String",
         "3": "alias_col_1",
         "4": "2024-09-06 15:49:51.435483"
        },
        {
         "0": "2",
         "1": "column_2",
         "2": "Integer",
         "3": "alias_col_2",
         "4": "2024-09-06 15:49:51.453402"
        }
       ],
       "schema": [
        {
         "key": "0",
         "name": "sequence",
         "type": "int"
        },
        {
         "key": "1",
         "name": "column_name",
         "type": "string"
        },
        {
         "key": "2",
         "name": "data_type",
         "type": "string"
        },
        {
         "key": "3",
         "name": "alias_name",
         "type": "string"
        },
        {
         "key": "4",
         "name": "date_created",
         "type": "timestamp"
        }
       ],
       "truncated": false
      }
     },
     "type": "Synapse.DataFrame"
    },
    "139fa350-f8c5-4bb5-9c6f-3d151c5466cc": {
     "persist_state": {
      "view": {
       "chartOptions": {
        "aggregationType": "count",
        "binsNumber": 10,
        "categoryFieldKeys": [
         "2"
        ],
        "chartType": "bar",
        "evaluatesOverAllRecords": false,
        "isStacked": false,
        "seriesFieldKeys": [
         "2"
        ],
        "wordFrequency": "-1"
       },
       "tableOptions": {},
       "type": "details"
      }
     },
     "sync_state": {
      "isSummary": false,
      "language": "python",
      "table": {
       "rows": [
        {
         "0": "20240906_114842858",
         "1": "Bronze",
         "2": "fn_get_extract_column",
         "3": "{\"dict_parameter\": {\"technolog\": \"SQL Server\", \"frequenc\": \"Journali\\u00e8re\", \"server_alia\": \"sql_server_1\", \"database_nam\": \"AdventureWorks\", \"schema_nam\": \"SalesLT\", \"table_nam\": \"SalesOrderDetail\"}, \"fn_name\": \"fn_get_extract_column\", \"caller_fn_name\": \"\", \"alert\": \"Danger\", \"alert_description\": \"'technology'\"}",
         "4": "Danger",
         "5": "'technology'",
         "6": "2024-09-06T11:49:48.867",
         "index": 0,
         "key": 0
        },
        {
         "0": "20240906_114842858",
         "1": "Bronze",
         "2": "fn_get_extract_column",
         "3": "{\"dict_parameter\": {\"technology\": \"SQL Server\", \"frequency\": \"Journali\\u00e8re\", \"server_alias\": \"sql_server_1\", \"database_name\": \"AdventureWorks\", \"schema_name\": \"SalesLT\", \"table_name\": \"Address\"}, \"fn_name\": \"fn_get_extract_column\", \"caller_fn_name\": \"\", \"lakehouse_name\": \"\", \"server_alias\": \"sql_server_1\", \"database_name\": \"AdventureWorks\", \"schema_name\": \"SalesLT\", \"table_name\": \"Address\", \"sql_query\": \"SELECT DISTINCT\\n    `sequence`\\n    , IFNULL(A.`prefix_select`, \\\"\\\")  AS `prefix_select`\\n    , IFNULL(A.`column_name`  , \\\"\\\")  AS `column_name`\\n    , TRIM(IFNULL(CONCAT(\\n        CASE WHEN A.`sequence` = 1 THEN '' ELSE ', ' END,\\n        CONCAT(IF(A.`prefix_select` IS NOT NULL, CONCAT(A.`prefix_select`, '.'), ''), '[', A.`column_name`, '] AS [', A.`column_name`, ']')\\n    )                         , \\\"\\\")) AS `alias`\\n    , IFNULL(A.`from`         , \\\"\\\")  AS `from`\\n    , IFNULL(A.`where`        , \\\"\\\")  AS `where`\\n    , A.`is_pk`                        AS `is_pk`\\n    , IFNULL(A.`data_type`    , \\\"\\\")  AS `data_type`\\nFROM\\n  (\\n          SELECT `technology`, `frequency`, `server_name`, `database_name`, `schema_name`, `table_name`, \\\"\\\" AS `lakehouse_name`, `sequence`, `prefix_select`, `column_name`, `from`, `where`, `is_pk`, `data_type`, `is_extracted` FROM delta.`abfss://6a9d410f-c3c8-485a-bda1-6f87c0d2cd21@onelake.dfs.fabric.microsoft.com/c0fb8c3e-073a-4a7d-81ba-68157b830b4d/Tables/extract_object_sql_server`\\n    UNION SELECT `technology`, `frequency`, \\\"\\\" AS `server_name`, \\\"\\\" AS `database_name`, \\\"\\\" AS `schema_name`, `table_name`, `lakehouse_name`, `sequence`, `prefix_select`, `column_name`, `from`, `where`, `is_pk`, `data_type`, `is_extracted` FROM delta.`abfss://6a9d410f-c3c8-485a-bda1-6f87c0d2cd21@onelake.dfs.fabric.microsoft.com/c0fb8c3e-073a-4a7d-81ba-68157b830b4d/Tables/extract_object_lakehouse`\\n  ) AS A\\nWHERE\\n    A.`technology`                       = \\\"SQL Server\\\"\\n    AND A.`frequency`                    = \\\"Journali\\u00e8re\\\"\\n    AND IFNULL(A.`lakehouse_name`, \\\"\\\") = \\\"\\\"\\n    AND IFNULL(A.`server_name`   , \\\"\\\") = \\\"sql_server_1\\\"\\n    AND IFNULL(A.`database_name` , \\\"\\\") = \\\"AdventureWorks\\\"\\n    AND IFNULL(A.`schema_name`   , \\\"\\\") = \\\"SalesLT\\\"\\n    AND IFNULL(A.`table_name`    , \\\"\\\") = \\\"Address\\\"\\n    AND A.`is_extracted`                 = 1\\nORDER BY CAST(`sequence` AS BIGINT);\", \"sdf\": \"DataFrame[sequence: bigint, prefix_select: string, column_name: string, alias: string, from: string, where: string, is_pk: boolean, data_type: string]\", \"sdf_count\": 9, \"alert\": \"Success\", \"alert_description\": \"Column list (count): 9\"}",
         "4": "Success",
         "5": "Column list (count): 9",
         "6": "2024-09-06T11:49:48.248",
         "index": 1,
         "key": 1
        },
        {
         "0": "20240906_114842858",
         "1": "Bronze",
         "2": "fn_execute_spark_sql",
         "3": "{\"sql_code\": \"SELECT DISTINCT\\n    `sequence`\\n    , IFNULL(A.`prefix_select`, \\\"\\\")  AS `prefix_select`\\n    , IFNULL(A.`column_name`  , \\\"\\\")  AS `column_name`\\n    , TRIM(IFNULL(CONCAT(\\n        CASE WHEN A.`sequence` = 1 THEN '' ELSE ', ' END,\\n        CONCAT(IF(A.`prefix_select` IS NOT NULL, CONCAT(A.`prefix_select`, '.'), ''), '[', A.`column_name`, '] AS [', A.`column_name`, ']')\\n    )                         , \\\"\\\")) AS `alias`\\n    , IFNULL(A.`from`         , \\\"\\\")  AS `from`\\n    , IFNULL(A.`where`        , \\\"\\\")  AS `where`\\n    , A.`is_pk`                        AS `is_pk`\\n    , IFNULL(A.`data_type`    , \\\"\\\")  AS `data_type`\\nFROM\\n  (\\n          SELECT `technology`, `frequency`, `server_name`, `database_name`, `schema_name`, `table_name`, \\\"\\\" AS `lakehouse_name`, `sequence`, `prefix_select`, `column_name`, `from`, `where`, `is_pk`, `data_type`, `is_extracted` FROM delta.`abfss://6a9d410f-c3c8-485a-bda1-6f87c0d2cd21@onelake.dfs.fabric.microsoft.com/c0fb8c3e-073a-4a7d-81ba-68157b830b4d/Tables/extract_object_sql_server`\\n    UNION SELECT `technology`, `frequency`, \\\"\\\" AS `server_name`, \\\"\\\" AS `database_name`, \\\"\\\" AS `schema_name`, `table_name`, `lakehouse_name`, `sequence`, `prefix_select`, `column_name`, `from`, `where`, `is_pk`, `data_type`, `is_extracted` FROM delta.`abfss://6a9d410f-c3c8-485a-bda1-6f87c0d2cd21@onelake.dfs.fabric.microsoft.com/c0fb8c3e-073a-4a7d-81ba-68157b830b4d/Tables/extract_object_lakehouse`\\n  ) AS A\\nWHERE\\n    A.`technology`                       = \\\"SQL Server\\\"\\n    AND A.`frequency`                    = \\\"Journali\\u00e8re\\\"\\n    AND IFNULL(A.`lakehouse_name`, \\\"\\\") = \\\"\\\"\\n    AND IFNULL(A.`server_name`   , \\\"\\\") = \\\"sql_server_1\\\"\\n    AND IFNULL(A.`database_name` , \\\"\\\") = \\\"AdventureWorks\\\"\\n    AND IFNULL(A.`schema_name`   , \\\"\\\") = \\\"SalesLT\\\"\\n    AND IFNULL(A.`table_name`    , \\\"\\\") = \\\"Address\\\"\\n    AND A.`is_extracted`                 = 1\\nORDER BY CAST(`sequence` AS BIGINT);\", \"fn_name\": \"fn_execute_spark_sql\", \"caller_fn_name\": \"fn_get_extract_column\", \"sdf\": \"DataFrame[sequence: bigint, prefix_select: string, column_name: string, alias: string, from: string, where: string, is_pk: boolean, data_type: string]\", \"sdf_count\": 9, \"alert\": \"Success\", \"alert_description\": \"Rows (count): 9\"}",
         "4": "Success",
         "5": "Rows (count): 9",
         "6": "2024-09-06T11:49:47.590",
         "index": 2,
         "key": 2
        },
        {
         "0": "20240906_114842858",
         "1": "Bronze",
         "2": "fn_get_extract_table_list",
         "3": "{\"dict_parameter\": {\"technolog\": \"SQL Server\", \"frequenc\": \"Journali\\u00e8re\", \"actio\": \"Extract\"}, \"fn_name\": \"fn_get_extract_table_list\", \"caller_fn_name\": \"\", \"alert\": \"Danger\", \"alert_description\": \"'technology'\"}",
         "4": "Danger",
         "5": "'technology'",
         "6": "2024-09-06T11:49:41.409",
         "index": 3,
         "key": 3
        },
        {
         "0": "20240906_114842858",
         "1": "Bronze",
         "2": "fn_get_extract_table_list",
         "3": "{\"dict_parameter\": {\"technology\": \"Excel\", \"frequency\": \"Journali\\u00e8re\", \"action\": \"Extract\"}, \"fn_name\": \"fn_get_extract_table_list\", \"caller_fn_name\": \"\", \"sql_query\": \"SELECT DISTINCT\\n    `technology`\\n    , `frequency`\\n    , IFNULL(`folder_name`   , \\\"\\\") AS `folder_name`\\n    , IFNULL(`file_name`     , \\\"\\\") AS `file_name`\\n    , IFNULL(`worksheet_name`, \\\"\\\") AS `worksheet_name`\\n    , `first_row`\\nFROM delta.`abfss://6a9d410f-c3c8-485a-bda1-6f87c0d2cd21@onelake.dfs.fabric.microsoft.com/c0fb8c3e-073a-4a7d-81ba-68157b830b4d/Tables/extract_object_excel`\\nWHERE\\n    `frequency`        = \\\"Journali\\u00e8re\\\"\\n    AND `is_extracted` = 1\\nORDER BY\\n    `technology`\\n    , `frequency`\\n    , IFNULL(`folder_name`   , \\\"\\\")\\n    , IFNULL(`file_name`     , \\\"\\\")\\n    , IFNULL(`worksheet_name`, \\\"\\\");\", \"sdf\": \"DataFrame[technology: string, frequency: string, folder_name: string, file_name: string, worksheet_name: string, first_row: string]\", \"sdf_count\": 5, \"alert\": \"Success\", \"alert_description\": \"Table/file list (count): 5\"}",
         "4": "Success",
         "5": "Table/file list (count): 5",
         "6": "2024-09-06T11:49:40.614",
         "index": 4,
         "key": 4
        },
        {
         "0": "20240906_114842858",
         "1": "Bronze",
         "2": "fn_execute_spark_sql",
         "3": "{\"sql_code\": \"SELECT DISTINCT\\n    `technology`\\n    , `frequency`\\n    , IFNULL(`folder_name`   , \\\"\\\") AS `folder_name`\\n    , IFNULL(`file_name`     , \\\"\\\") AS `file_name`\\n    , IFNULL(`worksheet_name`, \\\"\\\") AS `worksheet_name`\\n    , `first_row`\\nFROM delta.`abfss://6a9d410f-c3c8-485a-bda1-6f87c0d2cd21@onelake.dfs.fabric.microsoft.com/c0fb8c3e-073a-4a7d-81ba-68157b830b4d/Tables/extract_object_excel`\\nWHERE\\n    `frequency`        = \\\"Journali\\u00e8re\\\"\\n    AND `is_extracted` = 1\\nORDER BY\\n    `technology`\\n    , `frequency`\\n    , IFNULL(`folder_name`   , \\\"\\\")\\n    , IFNULL(`file_name`     , \\\"\\\")\\n    , IFNULL(`worksheet_name`, \\\"\\\");\", \"fn_name\": \"fn_execute_spark_sql\", \"caller_fn_name\": \"fn_get_extract_table_list\", \"sdf\": \"DataFrame[technology: string, frequency: string, folder_name: string, file_name: string, worksheet_name: string, first_row: string]\", \"sdf_count\": 5, \"alert\": \"Success\", \"alert_description\": \"Rows (count): 5\"}",
         "4": "Success",
         "5": "Rows (count): 5",
         "6": "2024-09-06T11:49:40.141",
         "index": 5,
         "key": 5
        }
       ],
       "schema": [
        {
         "key": "0",
         "name": "process_timestamp",
         "type": "string"
        },
        {
         "key": "1",
         "name": "medallion_name",
         "type": "string"
        },
        {
         "key": "2",
         "name": "source_name",
         "type": "string"
        },
        {
         "key": "3",
         "name": "locals",
         "type": "string"
        },
        {
         "key": "4",
         "name": "alert",
         "type": "string"
        },
        {
         "key": "5",
         "name": "alert_description",
         "type": "string"
        },
        {
         "key": "6",
         "name": "logged_datetime",
         "type": "timestamp"
        }
       ],
       "truncated": false
      }
     },
     "type": "Synapse.DataFrame"
    },
    "1c4c29b9-866c-417c-b0ef-ebdf2f9feaff": {
     "persist_state": {
      "view": {
       "chartOptions": {
        "aggregationType": "sum",
        "binsNumber": 10,
        "categoryFieldKeys": [
         "0"
        ],
        "chartType": "bar",
        "evaluatesOverAllRecords": false,
        "isStacked": false,
        "seriesFieldKeys": [
         "0"
        ],
        "wordFrequency": "-1"
       },
       "tableOptions": {},
       "type": "details"
      }
     },
     "sync_state": {
      "isSummary": false,
      "language": "scala",
      "table": {
       "rows": [
        {
         "0": "0"
        }
       ],
       "schema": [
        {
         "key": "0",
         "name": "num_affected_rows",
         "type": "bigint"
        }
       ],
       "truncated": false
      }
     },
     "type": "Synapse.DataFrame"
    },
    "3928a9e3-ad8c-4d44-a29e-887ca0cef0bd": {
     "persist_state": {
      "view": {
       "chartOptions": {
        "aggregationType": "count",
        "binsNumber": 10,
        "categoryFieldKeys": [
         "2"
        ],
        "chartType": "bar",
        "evaluatesOverAllRecords": false,
        "isStacked": false,
        "seriesFieldKeys": [
         "2"
        ],
        "wordFrequency": "-1"
       },
       "tableOptions": {},
       "type": "details"
      }
     },
     "sync_state": {
      "isSummary": false,
      "language": "scala",
      "table": {
       "rows": [
        {
         "0": "1",
         "1": "",
         "2": "AddressID",
         "3": "[AddressID] AS [AddressID]",
         "4": "",
         "5": "[ModifiedDate] >= ^datetime_from^\nAND [ModifiedDate] < ^datetime_to^",
         "6": "true",
         "7": "Integer"
        },
        {
         "0": "2",
         "1": "",
         "2": "AddressLine1",
         "3": ", [AddressLine1] AS [AddressLine1]",
         "4": "",
         "5": "",
         "6": "false",
         "7": "String"
        },
        {
         "0": "3",
         "1": "",
         "2": "AddressLine2",
         "3": ", [AddressLine2] AS [AddressLine2]",
         "4": "",
         "5": "",
         "6": "false",
         "7": "String"
        },
        {
         "0": "4",
         "1": "",
         "2": "City",
         "3": ", [City] AS [City]",
         "4": "",
         "5": "",
         "6": "false",
         "7": "String"
        },
        {
         "0": "5",
         "1": "",
         "2": "StateProvince",
         "3": ", [StateProvince] AS [StateProvince]",
         "4": "",
         "5": "",
         "6": "false",
         "7": "String"
        },
        {
         "0": "6",
         "1": "",
         "2": "CountryRegion",
         "3": ", [CountryRegion] AS [CountryRegion]",
         "4": "",
         "5": "",
         "6": "false",
         "7": "String"
        },
        {
         "0": "7",
         "1": "",
         "2": "PostalCode",
         "3": ", [PostalCode] AS [PostalCode]",
         "4": "",
         "5": "",
         "6": "false",
         "7": "String"
        },
        {
         "0": "8",
         "1": "",
         "2": "rowguid",
         "3": ", [rowguid] AS [rowguid]",
         "4": "",
         "5": "",
         "6": "false",
         "7": "String"
        },
        {
         "0": "9",
         "1": "",
         "2": "ModifiedDate",
         "3": ", [ModifiedDate] AS [ModifiedDate]",
         "4": "",
         "5": "",
         "6": "false",
         "7": "Timestamp"
        }
       ],
       "schema": [
        {
         "key": "0",
         "name": "sequence",
         "type": "bigint"
        },
        {
         "key": "1",
         "name": "prefix_select",
         "type": "string"
        },
        {
         "key": "2",
         "name": "column_name",
         "type": "string"
        },
        {
         "key": "3",
         "name": "alias",
         "type": "string"
        },
        {
         "key": "4",
         "name": "from",
         "type": "string"
        },
        {
         "key": "5",
         "name": "where",
         "type": "string"
        },
        {
         "key": "6",
         "name": "is_pk",
         "type": "boolean"
        },
        {
         "key": "7",
         "name": "data_type",
         "type": "string"
        }
       ],
       "truncated": false
      }
     },
     "type": "Synapse.DataFrame"
    },
    "393c706d-b3f9-42bb-b162-df42e5cb6abd": {
     "persist_state": {
      "view": {
       "chartOptions": {
        "aggregationType": "count",
        "binsNumber": 10,
        "categoryFieldKeys": [
         "2"
        ],
        "chartType": "bar",
        "evaluatesOverAllRecords": false,
        "isStacked": false,
        "seriesFieldKeys": [
         "2"
        ],
        "wordFrequency": "-1"
       },
       "tableOptions": {},
       "type": "details"
      }
     },
     "sync_state": {
      "isSummary": false,
      "language": "python",
      "table": {
       "rows": [
        {
         "0": "20240906_114842858",
         "1": "Bronze",
         "2": "fn_move_file",
         "3": "{\"src\": \"abfss://6a9d410f-c3c8-485a-bda1-6f87c0d2cd21@onelake.dfs.fabric.microsoft.com/822e1c96-2d32-4aeb-8277-bc03dca03177/Files/incoming/Excel/R\\u00e9ference Data/Rapport_de suivi sur la conclusion de contrats.xlsx\", \"dstn\": \"abfss://6a9d410f-c3c8-485a-bda1-6f87c0d2cd21@onelake.dfs.fabric.microsoft.com/822e1c96-2d32-4aeb-8277-bc03dca03177/Files/incoming/Excel/Reference_Data/Rapport_de_suivi_sur_la_conclusion_de_contrats.xlsx\", \"dict_parameter\": {\"technology\": \"Excel\", \"frequency\": \"Journali\\u00e8re\", \"folder_name\": \"Reference_Data\", \"file_name\": \"Rapport_de_suivi_sur_la_conclusion_de_contrats\"}, \"fn_name\": \"fn_move_file\", \"caller_fn_name\": \"fn_rename_files_in_lh_bronze\", \"alert\": \"Warning\", \"alert_description\": \"File \\\"abfss://6a9d410f-c3c8-485a-bda1-6f87c0d2cd21@onelake.dfs.fabric.microsoft.com/822e1c96-2d32-4aeb-8277-bc03dca03177/Files/incoming/Excel/R\\u00e9ference Data/Rapport_de suivi sur la conclusion de contrats.xlsx\\\" does not exist.\"}",
         "4": "Warning",
         "5": "File \"abfss://6a9d410f-c3c8-485a-bda1-6f87c0d2cd21@onelake.dfs.fabric.microsoft.com/822e1c96-2d32-4aeb-8277-bc03dca03177/Files/incoming/Excel/Réference Data/Rapport_de suivi sur la conclusion de contrats.xlsx\" does not exist.",
         "6": "2024-09-06T11:50:05.316",
         "index": 0,
         "key": 0
        },
        {
         "0": "20240906_114842858",
         "1": "Bronze",
         "2": "fn_clean_not_alphanumeric_in_string",
         "3": "{\"string\": \"Rapport_de suivi sur la conclusion de contrats\", \"replace_with\": \"_\", \"fn_name\": \"fn_clean_not_alphanumeric_in_string\", \"caller_fn_name\": \"fn_rename_files_in_lh_bronze\", \"reg_ex\": \"re.compile('\\\\\\\\W+')\", \"output\": \"Rapport_de_suivi_sur_la_conclusion_de_contrats\", \"alert\": \"Success\", \"alert_description\": \"Not alphanumericals in string \\\"Rapport_de suivi sur la conclusion de contrats\\\" successfully replaced with \\\"_\\\"\"}",
         "4": "Success",
         "5": "Not alphanumericals in string \"Rapport_de suivi sur la conclusion de contrats\" successfully replaced with \"_\"",
         "6": "2024-09-06T11:50:05.146",
         "index": 1,
         "key": 1
        },
        {
         "0": "20240906_114842858",
         "1": "Bronze",
         "2": "fn_clean_accent_in_string",
         "3": "{\"string\": \"Rapport_de suivi sur la conclusion de contrats\", \"fn_name\": \"fn_clean_accent_in_string\", \"caller_fn_name\": \"fn_rename_files_in_lh_bronze\", \"output\": \"Rapport_de suivi sur la conclusion de contrats\", \"alert\": \"Success\", \"alert_description\": \"Accents in string \\\"Rapport_de suivi sur la conclusion de contrats\\\" are cleaned successfully.\"}",
         "4": "Success",
         "5": "Accents in string \"Rapport_de suivi sur la conclusion de contrats\" are cleaned successfully.",
         "6": "2024-09-06T11:50:05.003",
         "index": 2,
         "key": 2
        },
        {
         "0": "20240906_114842858",
         "1": "Bronze",
         "2": "fn_clean_not_alphanumeric_in_string",
         "3": "{\"string\": \"Reference Data\", \"replace_with\": \"_\", \"fn_name\": \"fn_clean_not_alphanumeric_in_string\", \"caller_fn_name\": \"fn_rename_files_in_lh_bronze\", \"reg_ex\": \"re.compile('\\\\\\\\W+')\", \"output\": \"Reference_Data\", \"alert\": \"Success\", \"alert_description\": \"Not alphanumericals in string \\\"Reference Data\\\" successfully replaced with \\\"_\\\"\"}",
         "4": "Success",
         "5": "Not alphanumericals in string \"Reference Data\" successfully replaced with \"_\"",
         "6": "2024-09-06T11:50:04.869",
         "index": 3,
         "key": 3
        },
        {
         "0": "20240906_114842858",
         "1": "Bronze",
         "2": "fn_clean_accent_in_string",
         "3": "{\"string\": \"R\\u00e9ference Data\", \"fn_name\": \"fn_clean_accent_in_string\", \"caller_fn_name\": \"fn_rename_files_in_lh_bronze\", \"output\": \"Reference Data\", \"alert\": \"Success\", \"alert_description\": \"Accents in string \\\"R\\u00e9ference Data\\\" are cleaned successfully.\"}",
         "4": "Success",
         "5": "Accents in string \"Réference Data\" are cleaned successfully.",
         "6": "2024-09-06T11:50:04.735",
         "index": 4,
         "key": 4
        },
        {
         "0": "20240906_114842858",
         "1": "Bronze",
         "2": "fn_move_file",
         "3": "{\"src\": \"abfss://6a9d410f-c3c8-485a-bda1-6f87c0d2cd21@onelake.dfs.fabric.microsoft.com/822e1c96-2d32-4aeb-8277-bc03dca03177/Files/incoming/Excel/Other/Thing/SEAO - Contrat $ 25 000 et plus.xlsx\", \"dstn\": \"abfss://6a9d410f-c3c8-485a-bda1-6f87c0d2cd21@onelake.dfs.fabric.microsoft.com/822e1c96-2d32-4aeb-8277-bc03dca03177/Files/incoming/Excel/Other/Thing/SEAO_Contrat_25_000_et_plus.xlsx\", \"dict_parameter\": {\"technology\": \"Excel\", \"frequency\": \"Journali\\u00e8re\", \"folder_name\": \"Other/Thing\", \"file_name\": \"SEAO_Contrat_25_000_et_plus\"}, \"fn_name\": \"fn_move_file\", \"caller_fn_name\": \"fn_rename_files_in_lh_bronze\", \"alert\": \"Warning\", \"alert_description\": \"File \\\"abfss://6a9d410f-c3c8-485a-bda1-6f87c0d2cd21@onelake.dfs.fabric.microsoft.com/822e1c96-2d32-4aeb-8277-bc03dca03177/Files/incoming/Excel/Other/Thing/SEAO - Contrat $ 25 000 et plus.xlsx\\\" does not exist.\"}",
         "4": "Warning",
         "5": "File \"abfss://6a9d410f-c3c8-485a-bda1-6f87c0d2cd21@onelake.dfs.fabric.microsoft.com/822e1c96-2d32-4aeb-8277-bc03dca03177/Files/incoming/Excel/Other/Thing/SEAO - Contrat $ 25 000 et plus.xlsx\" does not exist.",
         "6": "2024-09-06T11:50:04.593",
         "index": 5,
         "key": 5
        },
        {
         "0": "20240906_114842858",
         "1": "Bronze",
         "2": "fn_clean_not_alphanumeric_in_string",
         "3": "{\"string\": \"SEAO - Contrat $ 25 000 et plus\", \"replace_with\": \"_\", \"fn_name\": \"fn_clean_not_alphanumeric_in_string\", \"caller_fn_name\": \"fn_rename_files_in_lh_bronze\", \"reg_ex\": \"re.compile('\\\\\\\\W+')\", \"output\": \"SEAO_Contrat_25_000_et_plus\", \"alert\": \"Success\", \"alert_description\": \"Not alphanumericals in string \\\"SEAO - Contrat $ 25 000 et plus\\\" successfully replaced with \\\"_\\\"\"}",
         "4": "Success",
         "5": "Not alphanumericals in string \"SEAO - Contrat $ 25 000 et plus\" successfully replaced with \"_\"",
         "6": "2024-09-06T11:50:04.416",
         "index": 6,
         "key": 6
        },
        {
         "0": "20240906_114842858",
         "1": "Bronze",
         "2": "fn_clean_accent_in_string",
         "3": "{\"string\": \"SEAO - Contrat $ 25 000 et plus\", \"fn_name\": \"fn_clean_accent_in_string\", \"caller_fn_name\": \"fn_rename_files_in_lh_bronze\", \"output\": \"SEAO - Contrat $ 25 000 et plus\", \"alert\": \"Success\", \"alert_description\": \"Accents in string \\\"SEAO - Contrat $ 25 000 et plus\\\" are cleaned successfully.\"}",
         "4": "Success",
         "5": "Accents in string \"SEAO - Contrat $ 25 000 et plus\" are cleaned successfully.",
         "6": "2024-09-06T11:50:04.269",
         "index": 7,
         "key": 7
        },
        {
         "0": "20240906_114842858",
         "1": "Bronze",
         "2": "fn_clean_not_alphanumeric_in_string",
         "3": "{\"string\": \"OtherABCDEFGHIJKLMNOPQRSTUVWXYZ0123456789Thing\", \"replace_with\": \"_\", \"fn_name\": \"fn_clean_not_alphanumeric_in_string\", \"caller_fn_name\": \"fn_rename_files_in_lh_bronze\", \"reg_ex\": \"re.compile('\\\\\\\\W+')\", \"output\": \"OtherABCDEFGHIJKLMNOPQRSTUVWXYZ0123456789Thing\", \"alert\": \"Success\", \"alert_description\": \"Not alphanumericals in string \\\"OtherABCDEFGHIJKLMNOPQRSTUVWXYZ0123456789Thing\\\" successfully replaced with \\\"_\\\"\"}",
         "4": "Success",
         "5": "Not alphanumericals in string \"OtherABCDEFGHIJKLMNOPQRSTUVWXYZ0123456789Thing\" successfully replaced with \"_\"",
         "6": "2024-09-06T11:50:04.132",
         "index": 8,
         "key": 8
        },
        {
         "0": "20240906_114842858",
         "1": "Bronze",
         "2": "fn_clean_accent_in_string",
         "3": "{\"string\": \"OtherABCDEFGHIJKLMNOPQRSTUVWXYZ0123456789Thing\", \"fn_name\": \"fn_clean_accent_in_string\", \"caller_fn_name\": \"fn_rename_files_in_lh_bronze\", \"output\": \"OtherABCDEFGHIJKLMNOPQRSTUVWXYZ0123456789Thing\", \"alert\": \"Success\", \"alert_description\": \"Accents in string \\\"OtherABCDEFGHIJKLMNOPQRSTUVWXYZ0123456789Thing\\\" are cleaned successfully.\"}",
         "4": "Success",
         "5": "Accents in string \"OtherABCDEFGHIJKLMNOPQRSTUVWXYZ0123456789Thing\" are cleaned successfully.",
         "6": "2024-09-06T11:50:03.991",
         "index": 9,
         "key": 9
        },
        {
         "0": "20240906_114842858",
         "1": "Bronze",
         "2": "fn_move_file",
         "3": "{\"src\": \"abfss://6a9d410f-c3c8-485a-bda1-6f87c0d2cd21@onelake.dfs.fabric.microsoft.com/822e1c96-2d32-4aeb-8277-bc03dca03177/Files/incoming/Excel/Rapport_sur les co\\u00fbts de dist. des addendas.xlsx\", \"dstn\": \"abfss://6a9d410f-c3c8-485a-bda1-6f87c0d2cd21@onelake.dfs.fabric.microsoft.com/822e1c96-2d32-4aeb-8277-bc03dca03177/Files/incoming/Excel/Rapport_sur_les_couts_de_dist_des_addendas.xlsx\", \"dict_parameter\": {\"technology\": \"Excel\", \"frequency\": \"Journali\\u00e8re\", \"folder_name\": \"\", \"file_name\": \"Rapport_sur_les_couts_de_dist_des_addendas\"}, \"fn_name\": \"fn_move_file\", \"caller_fn_name\": \"fn_rename_files_in_lh_bronze\", \"alert\": \"Warning\", \"alert_description\": \"File \\\"abfss://6a9d410f-c3c8-485a-bda1-6f87c0d2cd21@onelake.dfs.fabric.microsoft.com/822e1c96-2d32-4aeb-8277-bc03dca03177/Files/incoming/Excel/Rapport_sur les co\\u00fbts de dist. des addendas.xlsx\\\" does not exist.\"}",
         "4": "Warning",
         "5": "File \"abfss://6a9d410f-c3c8-485a-bda1-6f87c0d2cd21@onelake.dfs.fabric.microsoft.com/822e1c96-2d32-4aeb-8277-bc03dca03177/Files/incoming/Excel/Rapport_sur les coûts de dist. des addendas.xlsx\" does not exist.",
         "6": "2024-09-06T11:50:03.852",
         "index": 10,
         "key": 10
        },
        {
         "0": "20240906_114842858",
         "1": "Bronze",
         "2": "fn_clean_not_alphanumeric_in_string",
         "3": "{\"string\": \"Rapport_sur les couts de dist. des addendas\", \"replace_with\": \"_\", \"fn_name\": \"fn_clean_not_alphanumeric_in_string\", \"caller_fn_name\": \"fn_rename_files_in_lh_bronze\", \"reg_ex\": \"re.compile('\\\\\\\\W+')\", \"output\": \"Rapport_sur_les_couts_de_dist_des_addendas\", \"alert\": \"Success\", \"alert_description\": \"Not alphanumericals in string \\\"Rapport_sur les couts de dist. des addendas\\\" successfully replaced with \\\"_\\\"\"}",
         "4": "Success",
         "5": "Not alphanumericals in string \"Rapport_sur les couts de dist. des addendas\" successfully replaced with \"_\"",
         "6": "2024-09-06T11:50:03.678",
         "index": 11,
         "key": 11
        },
        {
         "0": "20240906_114842858",
         "1": "Bronze",
         "2": "fn_clean_accent_in_string",
         "3": "{\"string\": \"Rapport_sur les co\\u00fbts de dist. des addendas\", \"fn_name\": \"fn_clean_accent_in_string\", \"caller_fn_name\": \"fn_rename_files_in_lh_bronze\", \"output\": \"Rapport_sur les couts de dist. des addendas\", \"alert\": \"Success\", \"alert_description\": \"Accents in string \\\"Rapport_sur les co\\u00fbts de dist. des addendas\\\" are cleaned successfully.\"}",
         "4": "Success",
         "5": "Accents in string \"Rapport_sur les coûts de dist. des addendas\" are cleaned successfully.",
         "6": "2024-09-06T11:50:03.525",
         "index": 12,
         "key": 12
        },
        {
         "0": "20240906_114842858",
         "1": "Bronze",
         "2": "fn_clean_not_alphanumeric_in_string",
         "3": "{\"string\": \"\", \"replace_with\": \"_\", \"fn_name\": \"fn_clean_not_alphanumeric_in_string\", \"caller_fn_name\": \"fn_rename_files_in_lh_bronze\", \"reg_ex\": \"re.compile('\\\\\\\\W+')\", \"output\": \"\", \"alert\": \"Success\", \"alert_description\": \"Not alphanumericals in string \\\"\\\" successfully replaced with \\\"_\\\"\"}",
         "4": "Success",
         "5": "Not alphanumericals in string \"\" successfully replaced with \"_\"",
         "6": "2024-09-06T11:50:03.381",
         "index": 13,
         "key": 13
        },
        {
         "0": "20240906_114842858",
         "1": "Bronze",
         "2": "fn_clean_accent_in_string",
         "3": "{\"string\": \"\", \"fn_name\": \"fn_clean_accent_in_string\", \"caller_fn_name\": \"fn_rename_files_in_lh_bronze\", \"output\": \"\", \"alert\": \"Success\", \"alert_description\": \"Accents in string \\\"\\\" are cleaned successfully.\"}",
         "4": "Success",
         "5": "Accents in string \"\" are cleaned successfully.",
         "6": "2024-09-06T11:50:03.238",
         "index": 14,
         "key": 14
        },
        {
         "0": "20240906_114842858",
         "1": "Bronze",
         "2": "fn_get_extract_table_list",
         "3": "{\"dict_parameter\": {\"technology\": \"Excel\", \"frequency\": \"Journali\\u00e8re\", \"action\": \"Archive\"}, \"fn_name\": \"fn_get_extract_table_list\", \"caller_fn_name\": \"fn_rename_files_in_lh_bronze\", \"sql_query\": \"SELECT DISTINCT\\n    `technology`\\n    , `frequency`\\n    , IFNULL(`folder_name`, \\\"\\\") AS `folder_name`\\n    , IFNULL(`file_name`  , \\\"\\\") AS `file_name`\\nFROM delta.`abfss://6a9d410f-c3c8-485a-bda1-6f87c0d2cd21@onelake.dfs.fabric.microsoft.com/c0fb8c3e-073a-4a7d-81ba-68157b830b4d/Tables/extract_object_excel`\\nWHERE\\n    `frequency`        = \\\"Journali\\u00e8re\\\"\\n    AND `is_extracted` = 1\\nORDER BY\\n    `frequency`\\n    , IFNULL(`folder_name`, \\\"\\\")\\n    , IFNULL(`file_name`  , \\\"\\\");\", \"sdf\": \"DataFrame[technology: string, frequency: string, folder_name: string, file_name: string]\", \"sdf_count\": 3, \"alert\": \"Success\", \"alert_description\": \"Table/file list (count): 3\"}",
         "4": "Success",
         "5": "Table/file list (count): 3",
         "6": "2024-09-06T11:50:02.137",
         "index": 15,
         "key": 15
        },
        {
         "0": "20240906_114842858",
         "1": "Bronze",
         "2": "fn_execute_spark_sql",
         "3": "{\"sql_code\": \"SELECT DISTINCT\\n    `technology`\\n    , `frequency`\\n    , IFNULL(`folder_name`, \\\"\\\") AS `folder_name`\\n    , IFNULL(`file_name`  , \\\"\\\") AS `file_name`\\nFROM delta.`abfss://6a9d410f-c3c8-485a-bda1-6f87c0d2cd21@onelake.dfs.fabric.microsoft.com/c0fb8c3e-073a-4a7d-81ba-68157b830b4d/Tables/extract_object_excel`\\nWHERE\\n    `frequency`        = \\\"Journali\\u00e8re\\\"\\n    AND `is_extracted` = 1\\nORDER BY\\n    `frequency`\\n    , IFNULL(`folder_name`, \\\"\\\")\\n    , IFNULL(`file_name`  , \\\"\\\");\", \"fn_name\": \"fn_execute_spark_sql\", \"caller_fn_name\": \"fn_get_extract_table_list\", \"sdf\": \"DataFrame[technology: string, frequency: string, folder_name: string, file_name: string]\", \"sdf_count\": 3, \"alert\": \"Success\", \"alert_description\": \"Rows (count): 3\"}",
         "4": "Success",
         "5": "Rows (count): 3",
         "6": "2024-09-06T11:50:01.817",
         "index": 16,
         "key": 16
        },
        {
         "0": "20240906_114842858",
         "1": "Bronze",
         "2": "fn_save_in_single_file",
         "3": "{\"sdf\": \"DataFrame[sequence: int, column_name: string, data_type: string, alias_name: string, date_created: string, process_timestamp: string]\", \"file_name\": \"abfss://6a9d410f-c3c8-485a-bda1-6f87c0d2cd21@onelake.dfs.fabric.microsoft.com/822e1c96-2d32-4aeb-8277-bc03dca03177/Files/processed/YYYY/MM/DD/file_name_123.parquet\", \"fn_name\": \"fn_save_in_single_file\", \"caller_fn_name\": \"\", \"sdf_count\": 2, \"columns\": [\"date_created\"], \"col\": \"date_created\", \"pdf\": \"   sequence column_name data_type   alias_name               date_created  \\\\\\n0         1    column_1    String  alias_col_1 2024-09-06 15:49:51.435483   \\n1         2    column_2   Integer  alias_col_2 2024-09-06 15:49:51.453402   \\n\\n    process_timestamp  \\n0  20240906_114842858  \\n1  20240906_114842858  \", \"alert\": \"Success\", \"alert_description\": \"Saved in single file (name): abfss://6a9d410f-c3c8-485a-bda1-6f87c0d2cd21@onelake.dfs.fabric.microsoft.com/822e1c96-2d32-4aeb-8277-bc03dca03177/Files/processed/YYYY/MM/DD/file_name_123.parquet\"}",
         "4": "Success",
         "5": "Saved in single file (name): abfss://6a9d410f-c3c8-485a-bda1-6f87c0d2cd21@onelake.dfs.fabric.microsoft.com/822e1c96-2d32-4aeb-8277-bc03dca03177/Files/processed/YYYY/MM/DD/file_name_123.parquet",
         "6": "2024-09-06T11:49:57.890",
         "index": 17,
         "key": 17
        },
        {
         "0": "20240906_114842858",
         "1": "Bronze",
         "2": "fn_get_extract_column",
         "3": "{\"dict_parameter\": {\"technolog\": \"SQL Server\", \"frequenc\": \"Journali\\u00e8re\", \"server_alia\": \"sql_server_1\", \"database_nam\": \"AdventureWorks\", \"schema_nam\": \"SalesLT\", \"table_nam\": \"SalesOrderDetail\"}, \"fn_name\": \"fn_get_extract_column\", \"caller_fn_name\": \"\", \"alert\": \"Danger\", \"alert_description\": \"'technology'\"}",
         "4": "Danger",
         "5": "'technology'",
         "6": "2024-09-06T11:49:48.867",
         "index": 18,
         "key": 18
        },
        {
         "0": "20240906_114842858",
         "1": "Bronze",
         "2": "fn_get_extract_column",
         "3": "{\"dict_parameter\": {\"technology\": \"SQL Server\", \"frequency\": \"Journali\\u00e8re\", \"server_alias\": \"sql_server_1\", \"database_name\": \"AdventureWorks\", \"schema_name\": \"SalesLT\", \"table_name\": \"Address\"}, \"fn_name\": \"fn_get_extract_column\", \"caller_fn_name\": \"\", \"lakehouse_name\": \"\", \"server_alias\": \"sql_server_1\", \"database_name\": \"AdventureWorks\", \"schema_name\": \"SalesLT\", \"table_name\": \"Address\", \"sql_query\": \"SELECT DISTINCT\\n    `sequence`\\n    , IFNULL(A.`prefix_select`, \\\"\\\")  AS `prefix_select`\\n    , IFNULL(A.`column_name`  , \\\"\\\")  AS `column_name`\\n    , TRIM(IFNULL(CONCAT(\\n        CASE WHEN A.`sequence` = 1 THEN '' ELSE ', ' END,\\n        CONCAT(IF(A.`prefix_select` IS NOT NULL, CONCAT(A.`prefix_select`, '.'), ''), '[', A.`column_name`, '] AS [', A.`column_name`, ']')\\n    )                         , \\\"\\\")) AS `alias`\\n    , IFNULL(A.`from`         , \\\"\\\")  AS `from`\\n    , IFNULL(A.`where`        , \\\"\\\")  AS `where`\\n    , A.`is_pk`                        AS `is_pk`\\n    , IFNULL(A.`data_type`    , \\\"\\\")  AS `data_type`\\nFROM\\n  (\\n          SELECT `technology`, `frequency`, `server_name`, `database_name`, `schema_name`, `table_name`, \\\"\\\" AS `lakehouse_name`, `sequence`, `prefix_select`, `column_name`, `from`, `where`, `is_pk`, `data_type`, `is_extracted` FROM delta.`abfss://6a9d410f-c3c8-485a-bda1-6f87c0d2cd21@onelake.dfs.fabric.microsoft.com/c0fb8c3e-073a-4a7d-81ba-68157b830b4d/Tables/extract_object_sql_server`\\n    UNION SELECT `technology`, `frequency`, \\\"\\\" AS `server_name`, \\\"\\\" AS `database_name`, \\\"\\\" AS `schema_name`, `table_name`, `lakehouse_name`, `sequence`, `prefix_select`, `column_name`, `from`, `where`, `is_pk`, `data_type`, `is_extracted` FROM delta.`abfss://6a9d410f-c3c8-485a-bda1-6f87c0d2cd21@onelake.dfs.fabric.microsoft.com/c0fb8c3e-073a-4a7d-81ba-68157b830b4d/Tables/extract_object_lakehouse`\\n  ) AS A\\nWHERE\\n    A.`technology`                       = \\\"SQL Server\\\"\\n    AND A.`frequency`                    = \\\"Journali\\u00e8re\\\"\\n    AND IFNULL(A.`lakehouse_name`, \\\"\\\") = \\\"\\\"\\n    AND IFNULL(A.`server_name`   , \\\"\\\") = \\\"sql_server_1\\\"\\n    AND IFNULL(A.`database_name` , \\\"\\\") = \\\"AdventureWorks\\\"\\n    AND IFNULL(A.`schema_name`   , \\\"\\\") = \\\"SalesLT\\\"\\n    AND IFNULL(A.`table_name`    , \\\"\\\") = \\\"Address\\\"\\n    AND A.`is_extracted`                 = 1\\nORDER BY CAST(`sequence` AS BIGINT);\", \"sdf\": \"DataFrame[sequence: bigint, prefix_select: string, column_name: string, alias: string, from: string, where: string, is_pk: boolean, data_type: string]\", \"sdf_count\": 9, \"alert\": \"Success\", \"alert_description\": \"Column list (count): 9\"}",
         "4": "Success",
         "5": "Column list (count): 9",
         "6": "2024-09-06T11:49:48.248",
         "index": 19,
         "key": 19
        },
        {
         "0": "20240906_114842858",
         "1": "Bronze",
         "2": "fn_execute_spark_sql",
         "3": "{\"sql_code\": \"SELECT DISTINCT\\n    `sequence`\\n    , IFNULL(A.`prefix_select`, \\\"\\\")  AS `prefix_select`\\n    , IFNULL(A.`column_name`  , \\\"\\\")  AS `column_name`\\n    , TRIM(IFNULL(CONCAT(\\n        CASE WHEN A.`sequence` = 1 THEN '' ELSE ', ' END,\\n        CONCAT(IF(A.`prefix_select` IS NOT NULL, CONCAT(A.`prefix_select`, '.'), ''), '[', A.`column_name`, '] AS [', A.`column_name`, ']')\\n    )                         , \\\"\\\")) AS `alias`\\n    , IFNULL(A.`from`         , \\\"\\\")  AS `from`\\n    , IFNULL(A.`where`        , \\\"\\\")  AS `where`\\n    , A.`is_pk`                        AS `is_pk`\\n    , IFNULL(A.`data_type`    , \\\"\\\")  AS `data_type`\\nFROM\\n  (\\n          SELECT `technology`, `frequency`, `server_name`, `database_name`, `schema_name`, `table_name`, \\\"\\\" AS `lakehouse_name`, `sequence`, `prefix_select`, `column_name`, `from`, `where`, `is_pk`, `data_type`, `is_extracted` FROM delta.`abfss://6a9d410f-c3c8-485a-bda1-6f87c0d2cd21@onelake.dfs.fabric.microsoft.com/c0fb8c3e-073a-4a7d-81ba-68157b830b4d/Tables/extract_object_sql_server`\\n    UNION SELECT `technology`, `frequency`, \\\"\\\" AS `server_name`, \\\"\\\" AS `database_name`, \\\"\\\" AS `schema_name`, `table_name`, `lakehouse_name`, `sequence`, `prefix_select`, `column_name`, `from`, `where`, `is_pk`, `data_type`, `is_extracted` FROM delta.`abfss://6a9d410f-c3c8-485a-bda1-6f87c0d2cd21@onelake.dfs.fabric.microsoft.com/c0fb8c3e-073a-4a7d-81ba-68157b830b4d/Tables/extract_object_lakehouse`\\n  ) AS A\\nWHERE\\n    A.`technology`                       = \\\"SQL Server\\\"\\n    AND A.`frequency`                    = \\\"Journali\\u00e8re\\\"\\n    AND IFNULL(A.`lakehouse_name`, \\\"\\\") = \\\"\\\"\\n    AND IFNULL(A.`server_name`   , \\\"\\\") = \\\"sql_server_1\\\"\\n    AND IFNULL(A.`database_name` , \\\"\\\") = \\\"AdventureWorks\\\"\\n    AND IFNULL(A.`schema_name`   , \\\"\\\") = \\\"SalesLT\\\"\\n    AND IFNULL(A.`table_name`    , \\\"\\\") = \\\"Address\\\"\\n    AND A.`is_extracted`                 = 1\\nORDER BY CAST(`sequence` AS BIGINT);\", \"fn_name\": \"fn_execute_spark_sql\", \"caller_fn_name\": \"fn_get_extract_column\", \"sdf\": \"DataFrame[sequence: bigint, prefix_select: string, column_name: string, alias: string, from: string, where: string, is_pk: boolean, data_type: string]\", \"sdf_count\": 9, \"alert\": \"Success\", \"alert_description\": \"Rows (count): 9\"}",
         "4": "Success",
         "5": "Rows (count): 9",
         "6": "2024-09-06T11:49:47.590",
         "index": 20,
         "key": 20
        },
        {
         "0": "20240906_114842858",
         "1": "Bronze",
         "2": "fn_get_extract_table_list",
         "3": "{\"dict_parameter\": {\"technolog\": \"SQL Server\", \"frequenc\": \"Journali\\u00e8re\", \"actio\": \"Extract\"}, \"fn_name\": \"fn_get_extract_table_list\", \"caller_fn_name\": \"\", \"alert\": \"Danger\", \"alert_description\": \"'technology'\"}",
         "4": "Danger",
         "5": "'technology'",
         "6": "2024-09-06T11:49:41.409",
         "index": 21,
         "key": 21
        },
        {
         "0": "20240906_114842858",
         "1": "Bronze",
         "2": "fn_get_extract_table_list",
         "3": "{\"dict_parameter\": {\"technology\": \"Excel\", \"frequency\": \"Journali\\u00e8re\", \"action\": \"Extract\"}, \"fn_name\": \"fn_get_extract_table_list\", \"caller_fn_name\": \"\", \"sql_query\": \"SELECT DISTINCT\\n    `technology`\\n    , `frequency`\\n    , IFNULL(`folder_name`   , \\\"\\\") AS `folder_name`\\n    , IFNULL(`file_name`     , \\\"\\\") AS `file_name`\\n    , IFNULL(`worksheet_name`, \\\"\\\") AS `worksheet_name`\\n    , `first_row`\\nFROM delta.`abfss://6a9d410f-c3c8-485a-bda1-6f87c0d2cd21@onelake.dfs.fabric.microsoft.com/c0fb8c3e-073a-4a7d-81ba-68157b830b4d/Tables/extract_object_excel`\\nWHERE\\n    `frequency`        = \\\"Journali\\u00e8re\\\"\\n    AND `is_extracted` = 1\\nORDER BY\\n    `technology`\\n    , `frequency`\\n    , IFNULL(`folder_name`   , \\\"\\\")\\n    , IFNULL(`file_name`     , \\\"\\\")\\n    , IFNULL(`worksheet_name`, \\\"\\\");\", \"sdf\": \"DataFrame[technology: string, frequency: string, folder_name: string, file_name: string, worksheet_name: string, first_row: string]\", \"sdf_count\": 5, \"alert\": \"Success\", \"alert_description\": \"Table/file list (count): 5\"}",
         "4": "Success",
         "5": "Table/file list (count): 5",
         "6": "2024-09-06T11:49:40.614",
         "index": 22,
         "key": 22
        },
        {
         "0": "20240906_114842858",
         "1": "Bronze",
         "2": "fn_execute_spark_sql",
         "3": "{\"sql_code\": \"SELECT DISTINCT\\n    `technology`\\n    , `frequency`\\n    , IFNULL(`folder_name`   , \\\"\\\") AS `folder_name`\\n    , IFNULL(`file_name`     , \\\"\\\") AS `file_name`\\n    , IFNULL(`worksheet_name`, \\\"\\\") AS `worksheet_name`\\n    , `first_row`\\nFROM delta.`abfss://6a9d410f-c3c8-485a-bda1-6f87c0d2cd21@onelake.dfs.fabric.microsoft.com/c0fb8c3e-073a-4a7d-81ba-68157b830b4d/Tables/extract_object_excel`\\nWHERE\\n    `frequency`        = \\\"Journali\\u00e8re\\\"\\n    AND `is_extracted` = 1\\nORDER BY\\n    `technology`\\n    , `frequency`\\n    , IFNULL(`folder_name`   , \\\"\\\")\\n    , IFNULL(`file_name`     , \\\"\\\")\\n    , IFNULL(`worksheet_name`, \\\"\\\");\", \"fn_name\": \"fn_execute_spark_sql\", \"caller_fn_name\": \"fn_get_extract_table_list\", \"sdf\": \"DataFrame[technology: string, frequency: string, folder_name: string, file_name: string, worksheet_name: string, first_row: string]\", \"sdf_count\": 5, \"alert\": \"Success\", \"alert_description\": \"Rows (count): 5\"}",
         "4": "Success",
         "5": "Rows (count): 5",
         "6": "2024-09-06T11:49:40.141",
         "index": 23,
         "key": 23
        }
       ],
       "schema": [
        {
         "key": "0",
         "name": "process_timestamp",
         "type": "string"
        },
        {
         "key": "1",
         "name": "medallion_name",
         "type": "string"
        },
        {
         "key": "2",
         "name": "source_name",
         "type": "string"
        },
        {
         "key": "3",
         "name": "locals",
         "type": "string"
        },
        {
         "key": "4",
         "name": "alert",
         "type": "string"
        },
        {
         "key": "5",
         "name": "alert_description",
         "type": "string"
        },
        {
         "key": "6",
         "name": "logged_datetime",
         "type": "timestamp"
        }
       ],
       "truncated": false
      }
     },
     "type": "Synapse.DataFrame"
    },
    "5bb49377-e700-4a32-bd08-fb63c4be2a84": {
     "persist_state": {
      "view": {
       "chartOptions": {
        "aggregationType": "sum",
        "binsNumber": 10,
        "categoryFieldKeys": [
         "1"
        ],
        "chartType": "bar",
        "evaluatesOverAllRecords": false,
        "isStacked": false,
        "seriesFieldKeys": [
         "0"
        ],
        "wordFrequency": "-1"
       },
       "tableOptions": {},
       "type": "details"
      }
     },
     "sync_state": {
      "isSummary": false,
      "language": "scala",
      "table": {
       "rows": [
        {
         "0": "1",
         "1": "column_1",
         "2": "String",
         "3": "alias_col_1",
         "4": "2024-09-06 15:49:51.435483",
         "5": "20240906_114842858"
        },
        {
         "0": "2",
         "1": "column_2",
         "2": "Integer",
         "3": "alias_col_2",
         "4": "2024-09-06 15:49:51.453402",
         "5": "20240906_114842858"
        }
       ],
       "schema": [
        {
         "key": "0",
         "name": "sequence",
         "type": "int"
        },
        {
         "key": "1",
         "name": "column_name",
         "type": "string"
        },
        {
         "key": "2",
         "name": "data_type",
         "type": "string"
        },
        {
         "key": "3",
         "name": "alias_name",
         "type": "string"
        },
        {
         "key": "4",
         "name": "date_created",
         "type": "timestamp_ntz"
        },
        {
         "key": "5",
         "name": "process_timestamp",
         "type": "string"
        }
       ],
       "truncated": false
      }
     },
     "type": "Synapse.DataFrame"
    },
    "65bd498a-cacd-497e-9963-241a12b99920": {
     "persist_state": {
      "view": {
       "chartOptions": {
        "aggregationType": "count",
        "binsNumber": 10,
        "categoryFieldKeys": [
         "2"
        ],
        "chartType": "bar",
        "evaluatesOverAllRecords": false,
        "isStacked": false,
        "seriesFieldKeys": [
         "2"
        ],
        "wordFrequency": "-1"
       },
       "tableOptions": {},
       "type": "details"
      }
     },
     "sync_state": {
      "isSummary": false,
      "language": "scala",
      "table": {
       "rows": [
        {
         "0": "Excel",
         "1": "Daily",
         "2": "",
         "3": "Rapport_sur les coûts de dist. des addendas",
         "4": "Rapport",
         "5": "0"
        },
        {
         "0": "Excel",
         "1": "Daily",
         "2": "Other/Thing",
         "3": "SEAO - Contrat $ 25 000 et plus",
         "4": "Feuil1",
         "5": "6"
        },
        {
         "0": "Excel",
         "1": "Daily",
         "2": "Réference Data",
         "3": "Rapport_de suivi sur la conclusion de contrats",
         "4": "Avis d'appel d'offres",
         "5": "0"
        },
        {
         "0": "Excel",
         "1": "Daily",
         "2": "Réference Data",
         "3": "Rapport_de suivi sur la conclusion de contrats",
         "4": "Contrats de gré à gré",
         "5": "0"
        },
        {
         "0": "Excel",
         "1": "Daily",
         "2": "Réference Data",
         "3": "Rapport_de suivi sur la conclusion de contrats",
         "4": "Contrats sur invitation",
         "5": "0"
        }
       ],
       "schema": [
        {
         "key": "0",
         "name": "technology",
         "type": "string"
        },
        {
         "key": "1",
         "name": "frequency",
         "type": "string"
        },
        {
         "key": "2",
         "name": "folder_name",
         "type": "string"
        },
        {
         "key": "3",
         "name": "file_name",
         "type": "string"
        },
        {
         "key": "4",
         "name": "worksheet_name",
         "type": "string"
        },
        {
         "key": "5",
         "name": "first_row",
         "type": "string"
        }
       ],
       "truncated": false
      }
     },
     "type": "Synapse.DataFrame"
    },
    "b59ef061-e136-4721-910f-f7c9c0f5a718": {
     "persist_state": {
      "view": {
       "chartOptions": {
        "aggregationType": "count",
        "binsNumber": 10,
        "categoryFieldKeys": [
         "2"
        ],
        "chartType": "bar",
        "evaluatesOverAllRecords": false,
        "isStacked": false,
        "seriesFieldKeys": [
         "3"
        ],
        "wordFrequency": "-1"
       },
       "tableOptions": {},
       "type": "details"
      }
     },
     "sync_state": {
      "isSummary": false,
      "language": "python",
      "table": {
       "rows": [
        {
         "0": "20240906_114842858",
         "1": "Bronze",
         "2": "fn_get_extract_table_list",
         "3": "{\"dict_parameter\": {\"technolog\": \"SQL Server\", \"frequenc\": \"Journali\\u00e8re\", \"actio\": \"Extract\"}, \"fn_name\": \"fn_get_extract_table_list\", \"caller_fn_name\": \"\", \"alert\": \"Danger\", \"alert_description\": \"'technology'\"}",
         "4": "Danger",
         "5": "'technology'",
         "6": "2024-09-06T11:49:41.409",
         "index": 0,
         "key": 0
        },
        {
         "0": "20240906_114842858",
         "1": "Bronze",
         "2": "fn_get_extract_table_list",
         "3": "{\"dict_parameter\": {\"technology\": \"Excel\", \"frequency\": \"Journali\\u00e8re\", \"action\": \"Extract\"}, \"fn_name\": \"fn_get_extract_table_list\", \"caller_fn_name\": \"\", \"sql_query\": \"SELECT DISTINCT\\n    `technology`\\n    , `frequency`\\n    , IFNULL(`folder_name`   , \\\"\\\") AS `folder_name`\\n    , IFNULL(`file_name`     , \\\"\\\") AS `file_name`\\n    , IFNULL(`worksheet_name`, \\\"\\\") AS `worksheet_name`\\n    , `first_row`\\nFROM delta.`abfss://6a9d410f-c3c8-485a-bda1-6f87c0d2cd21@onelake.dfs.fabric.microsoft.com/c0fb8c3e-073a-4a7d-81ba-68157b830b4d/Tables/extract_object_excel`\\nWHERE\\n    `frequency`        = \\\"Journali\\u00e8re\\\"\\n    AND `is_extracted` = 1\\nORDER BY\\n    `technology`\\n    , `frequency`\\n    , IFNULL(`folder_name`   , \\\"\\\")\\n    , IFNULL(`file_name`     , \\\"\\\")\\n    , IFNULL(`worksheet_name`, \\\"\\\");\", \"sdf\": \"DataFrame[technology: string, frequency: string, folder_name: string, file_name: string, worksheet_name: string, first_row: string]\", \"sdf_count\": 5, \"alert\": \"Success\", \"alert_description\": \"Table/file list (count): 5\"}",
         "4": "Success",
         "5": "Table/file list (count): 5",
         "6": "2024-09-06T11:49:40.614",
         "index": 1,
         "key": 1
        },
        {
         "0": "20240906_114842858",
         "1": "Bronze",
         "2": "fn_execute_spark_sql",
         "3": "{\"sql_code\": \"SELECT DISTINCT\\n    `technology`\\n    , `frequency`\\n    , IFNULL(`folder_name`   , \\\"\\\") AS `folder_name`\\n    , IFNULL(`file_name`     , \\\"\\\") AS `file_name`\\n    , IFNULL(`worksheet_name`, \\\"\\\") AS `worksheet_name`\\n    , `first_row`\\nFROM delta.`abfss://6a9d410f-c3c8-485a-bda1-6f87c0d2cd21@onelake.dfs.fabric.microsoft.com/c0fb8c3e-073a-4a7d-81ba-68157b830b4d/Tables/extract_object_excel`\\nWHERE\\n    `frequency`        = \\\"Journali\\u00e8re\\\"\\n    AND `is_extracted` = 1\\nORDER BY\\n    `technology`\\n    , `frequency`\\n    , IFNULL(`folder_name`   , \\\"\\\")\\n    , IFNULL(`file_name`     , \\\"\\\")\\n    , IFNULL(`worksheet_name`, \\\"\\\");\", \"fn_name\": \"fn_execute_spark_sql\", \"caller_fn_name\": \"fn_get_extract_table_list\", \"sdf\": \"DataFrame[technology: string, frequency: string, folder_name: string, file_name: string, worksheet_name: string, first_row: string]\", \"sdf_count\": 5, \"alert\": \"Success\", \"alert_description\": \"Rows (count): 5\"}",
         "4": "Success",
         "5": "Rows (count): 5",
         "6": "2024-09-06T11:49:40.141",
         "index": 2,
         "key": 2
        }
       ],
       "schema": [
        {
         "key": "0",
         "name": "process_timestamp",
         "type": "string"
        },
        {
         "key": "1",
         "name": "medallion_name",
         "type": "string"
        },
        {
         "key": "2",
         "name": "source_name",
         "type": "string"
        },
        {
         "key": "3",
         "name": "locals",
         "type": "string"
        },
        {
         "key": "4",
         "name": "alert",
         "type": "string"
        },
        {
         "key": "5",
         "name": "alert_description",
         "type": "string"
        },
        {
         "key": "6",
         "name": "logged_datetime",
         "type": "timestamp"
        }
       ],
       "truncated": false
      }
     },
     "type": "Synapse.DataFrame"
    },
    "d5005a40-28a7-4555-ae2e-57437f6859cc": {
     "persist_state": {
      "view": {
       "chartOptions": {
        "aggregationType": "count",
        "binsNumber": 10,
        "categoryFieldKeys": [
         "2"
        ],
        "chartType": "bar",
        "evaluatesOverAllRecords": false,
        "isStacked": false,
        "seriesFieldKeys": [
         "2"
        ],
        "wordFrequency": "-1"
       },
       "tableOptions": {},
       "type": "details"
      }
     },
     "sync_state": {
      "isSummary": false,
      "language": "python",
      "table": {
       "rows": [
        {
         "0": "20240906_114842858",
         "1": "Bronze",
         "2": "fn_execute_spark_sql",
         "3": "{\"sql_code\": \"SELECT DISTINCT\\n    EO.`server_name` AS `server_alias`\\n    , GP.`value`     AS `server_name`\\nFROM\\n    delta.`abfss://6a9d410f-c3c8-485a-bda1-6f87c0d2cd21@onelake.dfs.fabric.microsoft.com/c0fb8c3e-073a-4a7d-81ba-68157b830b4d/Tables/extract_object_sql_server` AS EO\\n    JOIN delta.`abfss://6a9d410f-c3c8-485a-bda1-6f87c0d2cd21@onelake.dfs.fabric.microsoft.com/c0fb8c3e-073a-4a7d-81ba-68157b830b4d/Tables/global_parameter`     AS GP ON EO.`server_name` = GP.`name`\\nWHERE EO.`is_extracted` = 1;\", \"fn_name\": \"fn_execute_spark_sql\", \"caller_fn_name\": \"fn_create_lookup_server_alias_server_name\", \"sdf\": \"DataFrame[server_alias: string, server_name: string]\", \"sdf_count\": 1, \"alert\": \"Success\", \"alert_description\": \"Rows (count): 1\"}",
         "4": "Success",
         "5": "Rows (count): 1",
         "6": "2024-09-06T11:50:10.914"
        },
        {
         "0": "20240906_114842858",
         "1": "Bronze",
         "2": "fn_move_file",
         "3": "{\"src\": \"abfss://6a9d410f-c3c8-485a-bda1-6f87c0d2cd21@onelake.dfs.fabric.microsoft.com/822e1c96-2d32-4aeb-8277-bc03dca03177/Files/incoming/Excel/R\\u00e9ference Data/Rapport_de suivi sur la conclusion de contrats.xlsx\", \"dstn\": \"abfss://6a9d410f-c3c8-485a-bda1-6f87c0d2cd21@onelake.dfs.fabric.microsoft.com/822e1c96-2d32-4aeb-8277-bc03dca03177/Files/incoming/Excel/Reference_Data/Rapport_de_suivi_sur_la_conclusion_de_contrats.xlsx\", \"dict_parameter\": {\"technology\": \"Excel\", \"frequency\": \"Journali\\u00e8re\", \"folder_name\": \"Reference_Data\", \"file_name\": \"Rapport_de_suivi_sur_la_conclusion_de_contrats\"}, \"fn_name\": \"fn_move_file\", \"caller_fn_name\": \"fn_rename_files_in_lh_bronze\", \"alert\": \"Warning\", \"alert_description\": \"File \\\"abfss://6a9d410f-c3c8-485a-bda1-6f87c0d2cd21@onelake.dfs.fabric.microsoft.com/822e1c96-2d32-4aeb-8277-bc03dca03177/Files/incoming/Excel/R\\u00e9ference Data/Rapport_de suivi sur la conclusion de contrats.xlsx\\\" does not exist.\"}",
         "4": "Warning",
         "5": "File \"abfss://6a9d410f-c3c8-485a-bda1-6f87c0d2cd21@onelake.dfs.fabric.microsoft.com/822e1c96-2d32-4aeb-8277-bc03dca03177/Files/incoming/Excel/Réference Data/Rapport_de suivi sur la conclusion de contrats.xlsx\" does not exist.",
         "6": "2024-09-06T11:50:05.316"
        },
        {
         "0": "20240906_114842858",
         "1": "Bronze",
         "2": "fn_clean_not_alphanumeric_in_string",
         "3": "{\"string\": \"Rapport_de suivi sur la conclusion de contrats\", \"replace_with\": \"_\", \"fn_name\": \"fn_clean_not_alphanumeric_in_string\", \"caller_fn_name\": \"fn_rename_files_in_lh_bronze\", \"reg_ex\": \"re.compile('\\\\\\\\W+')\", \"output\": \"Rapport_de_suivi_sur_la_conclusion_de_contrats\", \"alert\": \"Success\", \"alert_description\": \"Not alphanumericals in string \\\"Rapport_de suivi sur la conclusion de contrats\\\" successfully replaced with \\\"_\\\"\"}",
         "4": "Success",
         "5": "Not alphanumericals in string \"Rapport_de suivi sur la conclusion de contrats\" successfully replaced with \"_\"",
         "6": "2024-09-06T11:50:05.146"
        },
        {
         "0": "20240906_114842858",
         "1": "Bronze",
         "2": "fn_clean_accent_in_string",
         "3": "{\"string\": \"Rapport_de suivi sur la conclusion de contrats\", \"fn_name\": \"fn_clean_accent_in_string\", \"caller_fn_name\": \"fn_rename_files_in_lh_bronze\", \"output\": \"Rapport_de suivi sur la conclusion de contrats\", \"alert\": \"Success\", \"alert_description\": \"Accents in string \\\"Rapport_de suivi sur la conclusion de contrats\\\" are cleaned successfully.\"}",
         "4": "Success",
         "5": "Accents in string \"Rapport_de suivi sur la conclusion de contrats\" are cleaned successfully.",
         "6": "2024-09-06T11:50:05.003"
        },
        {
         "0": "20240906_114842858",
         "1": "Bronze",
         "2": "fn_clean_not_alphanumeric_in_string",
         "3": "{\"string\": \"Reference Data\", \"replace_with\": \"_\", \"fn_name\": \"fn_clean_not_alphanumeric_in_string\", \"caller_fn_name\": \"fn_rename_files_in_lh_bronze\", \"reg_ex\": \"re.compile('\\\\\\\\W+')\", \"output\": \"Reference_Data\", \"alert\": \"Success\", \"alert_description\": \"Not alphanumericals in string \\\"Reference Data\\\" successfully replaced with \\\"_\\\"\"}",
         "4": "Success",
         "5": "Not alphanumericals in string \"Reference Data\" successfully replaced with \"_\"",
         "6": "2024-09-06T11:50:04.869"
        },
        {
         "0": "20240906_114842858",
         "1": "Bronze",
         "2": "fn_clean_accent_in_string",
         "3": "{\"string\": \"R\\u00e9ference Data\", \"fn_name\": \"fn_clean_accent_in_string\", \"caller_fn_name\": \"fn_rename_files_in_lh_bronze\", \"output\": \"Reference Data\", \"alert\": \"Success\", \"alert_description\": \"Accents in string \\\"R\\u00e9ference Data\\\" are cleaned successfully.\"}",
         "4": "Success",
         "5": "Accents in string \"Réference Data\" are cleaned successfully.",
         "6": "2024-09-06T11:50:04.735"
        },
        {
         "0": "20240906_114842858",
         "1": "Bronze",
         "2": "fn_move_file",
         "3": "{\"src\": \"abfss://6a9d410f-c3c8-485a-bda1-6f87c0d2cd21@onelake.dfs.fabric.microsoft.com/822e1c96-2d32-4aeb-8277-bc03dca03177/Files/incoming/Excel/Other/Thing/SEAO - Contrat $ 25 000 et plus.xlsx\", \"dstn\": \"abfss://6a9d410f-c3c8-485a-bda1-6f87c0d2cd21@onelake.dfs.fabric.microsoft.com/822e1c96-2d32-4aeb-8277-bc03dca03177/Files/incoming/Excel/Other/Thing/SEAO_Contrat_25_000_et_plus.xlsx\", \"dict_parameter\": {\"technology\": \"Excel\", \"frequency\": \"Journali\\u00e8re\", \"folder_name\": \"Other/Thing\", \"file_name\": \"SEAO_Contrat_25_000_et_plus\"}, \"fn_name\": \"fn_move_file\", \"caller_fn_name\": \"fn_rename_files_in_lh_bronze\", \"alert\": \"Warning\", \"alert_description\": \"File \\\"abfss://6a9d410f-c3c8-485a-bda1-6f87c0d2cd21@onelake.dfs.fabric.microsoft.com/822e1c96-2d32-4aeb-8277-bc03dca03177/Files/incoming/Excel/Other/Thing/SEAO - Contrat $ 25 000 et plus.xlsx\\\" does not exist.\"}",
         "4": "Warning",
         "5": "File \"abfss://6a9d410f-c3c8-485a-bda1-6f87c0d2cd21@onelake.dfs.fabric.microsoft.com/822e1c96-2d32-4aeb-8277-bc03dca03177/Files/incoming/Excel/Other/Thing/SEAO - Contrat $ 25 000 et plus.xlsx\" does not exist.",
         "6": "2024-09-06T11:50:04.593"
        },
        {
         "0": "20240906_114842858",
         "1": "Bronze",
         "2": "fn_clean_not_alphanumeric_in_string",
         "3": "{\"string\": \"SEAO - Contrat $ 25 000 et plus\", \"replace_with\": \"_\", \"fn_name\": \"fn_clean_not_alphanumeric_in_string\", \"caller_fn_name\": \"fn_rename_files_in_lh_bronze\", \"reg_ex\": \"re.compile('\\\\\\\\W+')\", \"output\": \"SEAO_Contrat_25_000_et_plus\", \"alert\": \"Success\", \"alert_description\": \"Not alphanumericals in string \\\"SEAO - Contrat $ 25 000 et plus\\\" successfully replaced with \\\"_\\\"\"}",
         "4": "Success",
         "5": "Not alphanumericals in string \"SEAO - Contrat $ 25 000 et plus\" successfully replaced with \"_\"",
         "6": "2024-09-06T11:50:04.416"
        },
        {
         "0": "20240906_114842858",
         "1": "Bronze",
         "2": "fn_clean_accent_in_string",
         "3": "{\"string\": \"SEAO - Contrat $ 25 000 et plus\", \"fn_name\": \"fn_clean_accent_in_string\", \"caller_fn_name\": \"fn_rename_files_in_lh_bronze\", \"output\": \"SEAO - Contrat $ 25 000 et plus\", \"alert\": \"Success\", \"alert_description\": \"Accents in string \\\"SEAO - Contrat $ 25 000 et plus\\\" are cleaned successfully.\"}",
         "4": "Success",
         "5": "Accents in string \"SEAO - Contrat $ 25 000 et plus\" are cleaned successfully.",
         "6": "2024-09-06T11:50:04.269"
        },
        {
         "0": "20240906_114842858",
         "1": "Bronze",
         "2": "fn_clean_not_alphanumeric_in_string",
         "3": "{\"string\": \"OtherABCDEFGHIJKLMNOPQRSTUVWXYZ0123456789Thing\", \"replace_with\": \"_\", \"fn_name\": \"fn_clean_not_alphanumeric_in_string\", \"caller_fn_name\": \"fn_rename_files_in_lh_bronze\", \"reg_ex\": \"re.compile('\\\\\\\\W+')\", \"output\": \"OtherABCDEFGHIJKLMNOPQRSTUVWXYZ0123456789Thing\", \"alert\": \"Success\", \"alert_description\": \"Not alphanumericals in string \\\"OtherABCDEFGHIJKLMNOPQRSTUVWXYZ0123456789Thing\\\" successfully replaced with \\\"_\\\"\"}",
         "4": "Success",
         "5": "Not alphanumericals in string \"OtherABCDEFGHIJKLMNOPQRSTUVWXYZ0123456789Thing\" successfully replaced with \"_\"",
         "6": "2024-09-06T11:50:04.132"
        },
        {
         "0": "20240906_114842858",
         "1": "Bronze",
         "2": "fn_clean_accent_in_string",
         "3": "{\"string\": \"OtherABCDEFGHIJKLMNOPQRSTUVWXYZ0123456789Thing\", \"fn_name\": \"fn_clean_accent_in_string\", \"caller_fn_name\": \"fn_rename_files_in_lh_bronze\", \"output\": \"OtherABCDEFGHIJKLMNOPQRSTUVWXYZ0123456789Thing\", \"alert\": \"Success\", \"alert_description\": \"Accents in string \\\"OtherABCDEFGHIJKLMNOPQRSTUVWXYZ0123456789Thing\\\" are cleaned successfully.\"}",
         "4": "Success",
         "5": "Accents in string \"OtherABCDEFGHIJKLMNOPQRSTUVWXYZ0123456789Thing\" are cleaned successfully.",
         "6": "2024-09-06T11:50:03.991"
        },
        {
         "0": "20240906_114842858",
         "1": "Bronze",
         "2": "fn_move_file",
         "3": "{\"src\": \"abfss://6a9d410f-c3c8-485a-bda1-6f87c0d2cd21@onelake.dfs.fabric.microsoft.com/822e1c96-2d32-4aeb-8277-bc03dca03177/Files/incoming/Excel/Rapport_sur les co\\u00fbts de dist. des addendas.xlsx\", \"dstn\": \"abfss://6a9d410f-c3c8-485a-bda1-6f87c0d2cd21@onelake.dfs.fabric.microsoft.com/822e1c96-2d32-4aeb-8277-bc03dca03177/Files/incoming/Excel/Rapport_sur_les_couts_de_dist_des_addendas.xlsx\", \"dict_parameter\": {\"technology\": \"Excel\", \"frequency\": \"Journali\\u00e8re\", \"folder_name\": \"\", \"file_name\": \"Rapport_sur_les_couts_de_dist_des_addendas\"}, \"fn_name\": \"fn_move_file\", \"caller_fn_name\": \"fn_rename_files_in_lh_bronze\", \"alert\": \"Warning\", \"alert_description\": \"File \\\"abfss://6a9d410f-c3c8-485a-bda1-6f87c0d2cd21@onelake.dfs.fabric.microsoft.com/822e1c96-2d32-4aeb-8277-bc03dca03177/Files/incoming/Excel/Rapport_sur les co\\u00fbts de dist. des addendas.xlsx\\\" does not exist.\"}",
         "4": "Warning",
         "5": "File \"abfss://6a9d410f-c3c8-485a-bda1-6f87c0d2cd21@onelake.dfs.fabric.microsoft.com/822e1c96-2d32-4aeb-8277-bc03dca03177/Files/incoming/Excel/Rapport_sur les coûts de dist. des addendas.xlsx\" does not exist.",
         "6": "2024-09-06T11:50:03.852"
        },
        {
         "0": "20240906_114842858",
         "1": "Bronze",
         "2": "fn_clean_not_alphanumeric_in_string",
         "3": "{\"string\": \"Rapport_sur les couts de dist. des addendas\", \"replace_with\": \"_\", \"fn_name\": \"fn_clean_not_alphanumeric_in_string\", \"caller_fn_name\": \"fn_rename_files_in_lh_bronze\", \"reg_ex\": \"re.compile('\\\\\\\\W+')\", \"output\": \"Rapport_sur_les_couts_de_dist_des_addendas\", \"alert\": \"Success\", \"alert_description\": \"Not alphanumericals in string \\\"Rapport_sur les couts de dist. des addendas\\\" successfully replaced with \\\"_\\\"\"}",
         "4": "Success",
         "5": "Not alphanumericals in string \"Rapport_sur les couts de dist. des addendas\" successfully replaced with \"_\"",
         "6": "2024-09-06T11:50:03.678"
        },
        {
         "0": "20240906_114842858",
         "1": "Bronze",
         "2": "fn_clean_accent_in_string",
         "3": "{\"string\": \"Rapport_sur les co\\u00fbts de dist. des addendas\", \"fn_name\": \"fn_clean_accent_in_string\", \"caller_fn_name\": \"fn_rename_files_in_lh_bronze\", \"output\": \"Rapport_sur les couts de dist. des addendas\", \"alert\": \"Success\", \"alert_description\": \"Accents in string \\\"Rapport_sur les co\\u00fbts de dist. des addendas\\\" are cleaned successfully.\"}",
         "4": "Success",
         "5": "Accents in string \"Rapport_sur les coûts de dist. des addendas\" are cleaned successfully.",
         "6": "2024-09-06T11:50:03.525"
        },
        {
         "0": "20240906_114842858",
         "1": "Bronze",
         "2": "fn_clean_not_alphanumeric_in_string",
         "3": "{\"string\": \"\", \"replace_with\": \"_\", \"fn_name\": \"fn_clean_not_alphanumeric_in_string\", \"caller_fn_name\": \"fn_rename_files_in_lh_bronze\", \"reg_ex\": \"re.compile('\\\\\\\\W+')\", \"output\": \"\", \"alert\": \"Success\", \"alert_description\": \"Not alphanumericals in string \\\"\\\" successfully replaced with \\\"_\\\"\"}",
         "4": "Success",
         "5": "Not alphanumericals in string \"\" successfully replaced with \"_\"",
         "6": "2024-09-06T11:50:03.381"
        },
        {
         "0": "20240906_114842858",
         "1": "Bronze",
         "2": "fn_clean_accent_in_string",
         "3": "{\"string\": \"\", \"fn_name\": \"fn_clean_accent_in_string\", \"caller_fn_name\": \"fn_rename_files_in_lh_bronze\", \"output\": \"\", \"alert\": \"Success\", \"alert_description\": \"Accents in string \\\"\\\" are cleaned successfully.\"}",
         "4": "Success",
         "5": "Accents in string \"\" are cleaned successfully.",
         "6": "2024-09-06T11:50:03.238"
        },
        {
         "0": "20240906_114842858",
         "1": "Bronze",
         "2": "fn_get_extract_table_list",
         "3": "{\"dict_parameter\": {\"technology\": \"Excel\", \"frequency\": \"Journali\\u00e8re\", \"action\": \"Archive\"}, \"fn_name\": \"fn_get_extract_table_list\", \"caller_fn_name\": \"fn_rename_files_in_lh_bronze\", \"sql_query\": \"SELECT DISTINCT\\n    `technology`\\n    , `frequency`\\n    , IFNULL(`folder_name`, \\\"\\\") AS `folder_name`\\n    , IFNULL(`file_name`  , \\\"\\\") AS `file_name`\\nFROM delta.`abfss://6a9d410f-c3c8-485a-bda1-6f87c0d2cd21@onelake.dfs.fabric.microsoft.com/c0fb8c3e-073a-4a7d-81ba-68157b830b4d/Tables/extract_object_excel`\\nWHERE\\n    `frequency`        = \\\"Journali\\u00e8re\\\"\\n    AND `is_extracted` = 1\\nORDER BY\\n    `frequency`\\n    , IFNULL(`folder_name`, \\\"\\\")\\n    , IFNULL(`file_name`  , \\\"\\\");\", \"sdf\": \"DataFrame[technology: string, frequency: string, folder_name: string, file_name: string]\", \"sdf_count\": 3, \"alert\": \"Success\", \"alert_description\": \"Table/file list (count): 3\"}",
         "4": "Success",
         "5": "Table/file list (count): 3",
         "6": "2024-09-06T11:50:02.137"
        },
        {
         "0": "20240906_114842858",
         "1": "Bronze",
         "2": "fn_execute_spark_sql",
         "3": "{\"sql_code\": \"SELECT DISTINCT\\n    `technology`\\n    , `frequency`\\n    , IFNULL(`folder_name`, \\\"\\\") AS `folder_name`\\n    , IFNULL(`file_name`  , \\\"\\\") AS `file_name`\\nFROM delta.`abfss://6a9d410f-c3c8-485a-bda1-6f87c0d2cd21@onelake.dfs.fabric.microsoft.com/c0fb8c3e-073a-4a7d-81ba-68157b830b4d/Tables/extract_object_excel`\\nWHERE\\n    `frequency`        = \\\"Journali\\u00e8re\\\"\\n    AND `is_extracted` = 1\\nORDER BY\\n    `frequency`\\n    , IFNULL(`folder_name`, \\\"\\\")\\n    , IFNULL(`file_name`  , \\\"\\\");\", \"fn_name\": \"fn_execute_spark_sql\", \"caller_fn_name\": \"fn_get_extract_table_list\", \"sdf\": \"DataFrame[technology: string, frequency: string, folder_name: string, file_name: string]\", \"sdf_count\": 3, \"alert\": \"Success\", \"alert_description\": \"Rows (count): 3\"}",
         "4": "Success",
         "5": "Rows (count): 3",
         "6": "2024-09-06T11:50:01.817"
        },
        {
         "0": "20240906_114842858",
         "1": "Bronze",
         "2": "fn_save_in_single_file",
         "3": "{\"sdf\": \"DataFrame[sequence: int, column_name: string, data_type: string, alias_name: string, date_created: string, process_timestamp: string]\", \"file_name\": \"abfss://6a9d410f-c3c8-485a-bda1-6f87c0d2cd21@onelake.dfs.fabric.microsoft.com/822e1c96-2d32-4aeb-8277-bc03dca03177/Files/processed/YYYY/MM/DD/file_name_123.parquet\", \"fn_name\": \"fn_save_in_single_file\", \"caller_fn_name\": \"\", \"sdf_count\": 2, \"columns\": [\"date_created\"], \"col\": \"date_created\", \"pdf\": \"   sequence column_name data_type   alias_name               date_created  \\\\\\n0         1    column_1    String  alias_col_1 2024-09-06 15:49:51.435483   \\n1         2    column_2   Integer  alias_col_2 2024-09-06 15:49:51.453402   \\n\\n    process_timestamp  \\n0  20240906_114842858  \\n1  20240906_114842858  \", \"alert\": \"Success\", \"alert_description\": \"Saved in single file (name): abfss://6a9d410f-c3c8-485a-bda1-6f87c0d2cd21@onelake.dfs.fabric.microsoft.com/822e1c96-2d32-4aeb-8277-bc03dca03177/Files/processed/YYYY/MM/DD/file_name_123.parquet\"}",
         "4": "Success",
         "5": "Saved in single file (name): abfss://6a9d410f-c3c8-485a-bda1-6f87c0d2cd21@onelake.dfs.fabric.microsoft.com/822e1c96-2d32-4aeb-8277-bc03dca03177/Files/processed/YYYY/MM/DD/file_name_123.parquet",
         "6": "2024-09-06T11:49:57.890"
        },
        {
         "0": "20240906_114842858",
         "1": "Bronze",
         "2": "fn_get_extract_column",
         "3": "{\"dict_parameter\": {\"technolog\": \"SQL Server\", \"frequenc\": \"Journali\\u00e8re\", \"server_alia\": \"sql_server_1\", \"database_nam\": \"AdventureWorks\", \"schema_nam\": \"SalesLT\", \"table_nam\": \"SalesOrderDetail\"}, \"fn_name\": \"fn_get_extract_column\", \"caller_fn_name\": \"\", \"alert\": \"Danger\", \"alert_description\": \"'technology'\"}",
         "4": "Danger",
         "5": "'technology'",
         "6": "2024-09-06T11:49:48.867"
        },
        {
         "0": "20240906_114842858",
         "1": "Bronze",
         "2": "fn_get_extract_column",
         "3": "{\"dict_parameter\": {\"technology\": \"SQL Server\", \"frequency\": \"Journali\\u00e8re\", \"server_alias\": \"sql_server_1\", \"database_name\": \"AdventureWorks\", \"schema_name\": \"SalesLT\", \"table_name\": \"Address\"}, \"fn_name\": \"fn_get_extract_column\", \"caller_fn_name\": \"\", \"lakehouse_name\": \"\", \"server_alias\": \"sql_server_1\", \"database_name\": \"AdventureWorks\", \"schema_name\": \"SalesLT\", \"table_name\": \"Address\", \"sql_query\": \"SELECT DISTINCT\\n    `sequence`\\n    , IFNULL(A.`prefix_select`, \\\"\\\")  AS `prefix_select`\\n    , IFNULL(A.`column_name`  , \\\"\\\")  AS `column_name`\\n    , TRIM(IFNULL(CONCAT(\\n        CASE WHEN A.`sequence` = 1 THEN '' ELSE ', ' END,\\n        CONCAT(IF(A.`prefix_select` IS NOT NULL, CONCAT(A.`prefix_select`, '.'), ''), '[', A.`column_name`, '] AS [', A.`column_name`, ']')\\n    )                         , \\\"\\\")) AS `alias`\\n    , IFNULL(A.`from`         , \\\"\\\")  AS `from`\\n    , IFNULL(A.`where`        , \\\"\\\")  AS `where`\\n    , A.`is_pk`                        AS `is_pk`\\n    , IFNULL(A.`data_type`    , \\\"\\\")  AS `data_type`\\nFROM\\n  (\\n          SELECT `technology`, `frequency`, `server_name`, `database_name`, `schema_name`, `table_name`, \\\"\\\" AS `lakehouse_name`, `sequence`, `prefix_select`, `column_name`, `from`, `where`, `is_pk`, `data_type`, `is_extracted` FROM delta.`abfss://6a9d410f-c3c8-485a-bda1-6f87c0d2cd21@onelake.dfs.fabric.microsoft.com/c0fb8c3e-073a-4a7d-81ba-68157b830b4d/Tables/extract_object_sql_server`\\n    UNION SELECT `technology`, `frequency`, \\\"\\\" AS `server_name`, \\\"\\\" AS `database_name`, \\\"\\\" AS `schema_name`, `table_name`, `lakehouse_name`, `sequence`, `prefix_select`, `column_name`, `from`, `where`, `is_pk`, `data_type`, `is_extracted` FROM delta.`abfss://6a9d410f-c3c8-485a-bda1-6f87c0d2cd21@onelake.dfs.fabric.microsoft.com/c0fb8c3e-073a-4a7d-81ba-68157b830b4d/Tables/extract_object_lakehouse`\\n  ) AS A\\nWHERE\\n    A.`technology`                       = \\\"SQL Server\\\"\\n    AND A.`frequency`                    = \\\"Journali\\u00e8re\\\"\\n    AND IFNULL(A.`lakehouse_name`, \\\"\\\") = \\\"\\\"\\n    AND IFNULL(A.`server_name`   , \\\"\\\") = \\\"sql_server_1\\\"\\n    AND IFNULL(A.`database_name` , \\\"\\\") = \\\"AdventureWorks\\\"\\n    AND IFNULL(A.`schema_name`   , \\\"\\\") = \\\"SalesLT\\\"\\n    AND IFNULL(A.`table_name`    , \\\"\\\") = \\\"Address\\\"\\n    AND A.`is_extracted`                 = 1\\nORDER BY CAST(`sequence` AS BIGINT);\", \"sdf\": \"DataFrame[sequence: bigint, prefix_select: string, column_name: string, alias: string, from: string, where: string, is_pk: boolean, data_type: string]\", \"sdf_count\": 9, \"alert\": \"Success\", \"alert_description\": \"Column list (count): 9\"}",
         "4": "Success",
         "5": "Column list (count): 9",
         "6": "2024-09-06T11:49:48.248"
        },
        {
         "0": "20240906_114842858",
         "1": "Bronze",
         "2": "fn_execute_spark_sql",
         "3": "{\"sql_code\": \"SELECT DISTINCT\\n    `sequence`\\n    , IFNULL(A.`prefix_select`, \\\"\\\")  AS `prefix_select`\\n    , IFNULL(A.`column_name`  , \\\"\\\")  AS `column_name`\\n    , TRIM(IFNULL(CONCAT(\\n        CASE WHEN A.`sequence` = 1 THEN '' ELSE ', ' END,\\n        CONCAT(IF(A.`prefix_select` IS NOT NULL, CONCAT(A.`prefix_select`, '.'), ''), '[', A.`column_name`, '] AS [', A.`column_name`, ']')\\n    )                         , \\\"\\\")) AS `alias`\\n    , IFNULL(A.`from`         , \\\"\\\")  AS `from`\\n    , IFNULL(A.`where`        , \\\"\\\")  AS `where`\\n    , A.`is_pk`                        AS `is_pk`\\n    , IFNULL(A.`data_type`    , \\\"\\\")  AS `data_type`\\nFROM\\n  (\\n          SELECT `technology`, `frequency`, `server_name`, `database_name`, `schema_name`, `table_name`, \\\"\\\" AS `lakehouse_name`, `sequence`, `prefix_select`, `column_name`, `from`, `where`, `is_pk`, `data_type`, `is_extracted` FROM delta.`abfss://6a9d410f-c3c8-485a-bda1-6f87c0d2cd21@onelake.dfs.fabric.microsoft.com/c0fb8c3e-073a-4a7d-81ba-68157b830b4d/Tables/extract_object_sql_server`\\n    UNION SELECT `technology`, `frequency`, \\\"\\\" AS `server_name`, \\\"\\\" AS `database_name`, \\\"\\\" AS `schema_name`, `table_name`, `lakehouse_name`, `sequence`, `prefix_select`, `column_name`, `from`, `where`, `is_pk`, `data_type`, `is_extracted` FROM delta.`abfss://6a9d410f-c3c8-485a-bda1-6f87c0d2cd21@onelake.dfs.fabric.microsoft.com/c0fb8c3e-073a-4a7d-81ba-68157b830b4d/Tables/extract_object_lakehouse`\\n  ) AS A\\nWHERE\\n    A.`technology`                       = \\\"SQL Server\\\"\\n    AND A.`frequency`                    = \\\"Journali\\u00e8re\\\"\\n    AND IFNULL(A.`lakehouse_name`, \\\"\\\") = \\\"\\\"\\n    AND IFNULL(A.`server_name`   , \\\"\\\") = \\\"sql_server_1\\\"\\n    AND IFNULL(A.`database_name` , \\\"\\\") = \\\"AdventureWorks\\\"\\n    AND IFNULL(A.`schema_name`   , \\\"\\\") = \\\"SalesLT\\\"\\n    AND IFNULL(A.`table_name`    , \\\"\\\") = \\\"Address\\\"\\n    AND A.`is_extracted`                 = 1\\nORDER BY CAST(`sequence` AS BIGINT);\", \"fn_name\": \"fn_execute_spark_sql\", \"caller_fn_name\": \"fn_get_extract_column\", \"sdf\": \"DataFrame[sequence: bigint, prefix_select: string, column_name: string, alias: string, from: string, where: string, is_pk: boolean, data_type: string]\", \"sdf_count\": 9, \"alert\": \"Success\", \"alert_description\": \"Rows (count): 9\"}",
         "4": "Success",
         "5": "Rows (count): 9",
         "6": "2024-09-06T11:49:47.590"
        },
        {
         "0": "20240906_114842858",
         "1": "Bronze",
         "2": "fn_get_extract_table_list",
         "3": "{\"dict_parameter\": {\"technolog\": \"SQL Server\", \"frequenc\": \"Journali\\u00e8re\", \"actio\": \"Extract\"}, \"fn_name\": \"fn_get_extract_table_list\", \"caller_fn_name\": \"\", \"alert\": \"Danger\", \"alert_description\": \"'technology'\"}",
         "4": "Danger",
         "5": "'technology'",
         "6": "2024-09-06T11:49:41.409"
        },
        {
         "0": "20240906_114842858",
         "1": "Bronze",
         "2": "fn_get_extract_table_list",
         "3": "{\"dict_parameter\": {\"technology\": \"Excel\", \"frequency\": \"Journali\\u00e8re\", \"action\": \"Extract\"}, \"fn_name\": \"fn_get_extract_table_list\", \"caller_fn_name\": \"\", \"sql_query\": \"SELECT DISTINCT\\n    `technology`\\n    , `frequency`\\n    , IFNULL(`folder_name`   , \\\"\\\") AS `folder_name`\\n    , IFNULL(`file_name`     , \\\"\\\") AS `file_name`\\n    , IFNULL(`worksheet_name`, \\\"\\\") AS `worksheet_name`\\n    , `first_row`\\nFROM delta.`abfss://6a9d410f-c3c8-485a-bda1-6f87c0d2cd21@onelake.dfs.fabric.microsoft.com/c0fb8c3e-073a-4a7d-81ba-68157b830b4d/Tables/extract_object_excel`\\nWHERE\\n    `frequency`        = \\\"Journali\\u00e8re\\\"\\n    AND `is_extracted` = 1\\nORDER BY\\n    `technology`\\n    , `frequency`\\n    , IFNULL(`folder_name`   , \\\"\\\")\\n    , IFNULL(`file_name`     , \\\"\\\")\\n    , IFNULL(`worksheet_name`, \\\"\\\");\", \"sdf\": \"DataFrame[technology: string, frequency: string, folder_name: string, file_name: string, worksheet_name: string, first_row: string]\", \"sdf_count\": 5, \"alert\": \"Success\", \"alert_description\": \"Table/file list (count): 5\"}",
         "4": "Success",
         "5": "Table/file list (count): 5",
         "6": "2024-09-06T11:49:40.614"
        },
        {
         "0": "20240906_114842858",
         "1": "Bronze",
         "2": "fn_execute_spark_sql",
         "3": "{\"sql_code\": \"SELECT DISTINCT\\n    `technology`\\n    , `frequency`\\n    , IFNULL(`folder_name`   , \\\"\\\") AS `folder_name`\\n    , IFNULL(`file_name`     , \\\"\\\") AS `file_name`\\n    , IFNULL(`worksheet_name`, \\\"\\\") AS `worksheet_name`\\n    , `first_row`\\nFROM delta.`abfss://6a9d410f-c3c8-485a-bda1-6f87c0d2cd21@onelake.dfs.fabric.microsoft.com/c0fb8c3e-073a-4a7d-81ba-68157b830b4d/Tables/extract_object_excel`\\nWHERE\\n    `frequency`        = \\\"Journali\\u00e8re\\\"\\n    AND `is_extracted` = 1\\nORDER BY\\n    `technology`\\n    , `frequency`\\n    , IFNULL(`folder_name`   , \\\"\\\")\\n    , IFNULL(`file_name`     , \\\"\\\")\\n    , IFNULL(`worksheet_name`, \\\"\\\");\", \"fn_name\": \"fn_execute_spark_sql\", \"caller_fn_name\": \"fn_get_extract_table_list\", \"sdf\": \"DataFrame[technology: string, frequency: string, folder_name: string, file_name: string, worksheet_name: string, first_row: string]\", \"sdf_count\": 5, \"alert\": \"Success\", \"alert_description\": \"Rows (count): 5\"}",
         "4": "Success",
         "5": "Rows (count): 5",
         "6": "2024-09-06T11:49:40.141"
        }
       ],
       "schema": [
        {
         "key": "0",
         "name": "process_timestamp",
         "type": "string"
        },
        {
         "key": "1",
         "name": "medallion_name",
         "type": "string"
        },
        {
         "key": "2",
         "name": "source_name",
         "type": "string"
        },
        {
         "key": "3",
         "name": "locals",
         "type": "string"
        },
        {
         "key": "4",
         "name": "alert",
         "type": "string"
        },
        {
         "key": "5",
         "name": "alert_description",
         "type": "string"
        },
        {
         "key": "6",
         "name": "logged_datetime",
         "type": "timestamp"
        }
       ],
       "truncated": false
      }
     },
     "type": "Synapse.DataFrame"
    },
    "dd618b22-aab1-487e-94ac-b2ef68641fbe": {
     "persist_state": {
      "view": {
       "chartOptions": {
        "aggregationType": "count",
        "binsNumber": 10,
        "categoryFieldKeys": [
         "2"
        ],
        "chartType": "bar",
        "evaluatesOverAllRecords": false,
        "isStacked": false,
        "seriesFieldKeys": [
         "2"
        ],
        "wordFrequency": "-1"
       },
       "tableOptions": {},
       "type": "details"
      }
     },
     "sync_state": {
      "isSummary": false,
      "language": "python",
      "table": {
       "rows": [
        {
         "0": "20240906_114842858",
         "1": "Bronze",
         "2": "fn_extract_preparation",
         "3": "{\"list_technology\": [\"SQL Server\", \"Lakehouse\", \"CSV\", \"JSON\"], \"fn_name\": \"fn_extract_preparation\", \"caller_fn_name\": \"\", \"dict_server_alias_server_name\": {\"sql_server_1\": \"sql-server.database.windows.net\"}, \"alert\": \"Success\", \"alert_description\": \"\"}",
         "4": "Success",
         "5": "",
         "6": "2024-09-06T11:50:49.100"
        },
        {
         "0": "20240906_114842858",
         "1": "Bronze",
         "2": "fn_execute_spark_sql",
         "3": "{\"sql_code\": \"SELECT DISTINCT\\n    EO.`server_name` AS `server_alias`\\n    , GP.`value`     AS `server_name`\\nFROM\\n    delta.`abfss://6a9d410f-c3c8-485a-bda1-6f87c0d2cd21@onelake.dfs.fabric.microsoft.com/c0fb8c3e-073a-4a7d-81ba-68157b830b4d/Tables/extract_object_sql_server` AS EO\\n    JOIN delta.`abfss://6a9d410f-c3c8-485a-bda1-6f87c0d2cd21@onelake.dfs.fabric.microsoft.com/c0fb8c3e-073a-4a7d-81ba-68157b830b4d/Tables/global_parameter`     AS GP ON EO.`server_name` = GP.`name`\\nWHERE EO.`is_extracted` = 1;\", \"fn_name\": \"fn_execute_spark_sql\", \"caller_fn_name\": \"fn_create_lookup_server_alias_server_name\", \"sdf\": \"DataFrame[server_alias: string, server_name: string]\", \"sdf_count\": 1, \"alert\": \"Success\", \"alert_description\": \"Rows (count): 1\"}",
         "4": "Success",
         "5": "Rows (count): 1",
         "6": "2024-09-06T11:50:48.378"
        },
        {
         "0": "20240906_114842858",
         "1": "Bronze",
         "2": "fn_delete_all_in_folder",
         "3": "{\"folder_name\": \"abfss://6a9d410f-c3c8-485a-bda1-6f87c0d2cd21@onelake.dfs.fabric.microsoft.com/822e1c96-2d32-4aeb-8277-bc03dca03177/Tables\", \"fn_name\": \"fn_delete_all_in_folder\", \"caller_fn_name\": \"fn_extract_preparation\", \"files\": \"[]\", \"file_\": \"<Deleted>\", \"alert\": \"Success\", \"alert_description\": \"[]\"}",
         "4": "Success",
         "5": "[]",
         "6": "2024-09-06T11:50:45.034"
        },
        {
         "0": "20240906_114842858",
         "1": "Bronze",
         "2": "fn_local_log_insert_global_parameter",
         "3": "{\"fn_name\": \"fn_local_log_insert_global_parameter\", \"caller_fn_name\": \"fn_extract_preparation\", \"dict_global_parameter\": {\"days_to_keep_log\": 1, \"send_success_email\": \"True\", \"send_error_email\": \"True\", \"email_on_success\": \"example@example.com\", \"email_on_error\": \"example@example.com\", \"time_zone_nb\": \"Canada/Eastern\", \"time_zone_pl\": \"Eastern Standard Time\", \"mssql_isolation_level\": \"READ_UNCOMMITTED\", \"projet_documentation_data_file_name\": \"configuration\", \"sql_server_1\": \"sql-server.database.windows.net\", \"abfs_path_lh_log\": \"abfss://6a9d410f-c3c8-485a-bda1-6f87c0d2cd21@onelake.dfs.fabric.microsoft.com/cd170feb-0ae8-49fb-99c1-ff9a91a7cc6a\", \"abfs_path_lh_bronze\": \"abfss://6a9d410f-c3c8-485a-bda1-6f87c0d2cd21@onelake.dfs.fabric.microsoft.com/822e1c96-2d32-4aeb-8277-bc03dca03177\", \"abfs_path_lh_silver\": \"abfss://6a9d410f-c3c8-485a-bda1-6f87c0d2cd21@onelake.dfs.fabric.microsoft.com/1152d4ea-e179-4ee5-96e7-d1bb6df8e70c\", \"abfs_path_lh_cfg\": \"abfss://6a9d410f-c3c8-485a-bda1-6f87c0d2cd21@onelake.dfs.fabric.microsoft.com/c0fb8c3e-073a-4a7d-81ba-68157b830b4d\", \"abfs_path_lh_AdventureWorks\": \"abfss://6a9d410f-c3c8-485a-bda1-6f87c0d2cd21@onelake.dfs.fabric.microsoft.com/ca78ed95-8b58-408c-b93a-91087cd10956\", \"my_dataverse\": \"abfss://6a9d410f-c3c8-485a-bda1-6f87c0d2cd21@onelake.dfs.fabric.microsoft.com/ea777e67-b937-4e2f-896b-dbdd2c008121\", \"now_datetime\": \"2024-09-06 11:48:42.838\", \"process_timestamp\": \"20240906_114842858\"}, \"dict_global_parameter_count\": 18, \"alert\": \"Success\", \"alert_description\": \"Global parameter (count): 18\"}",
         "4": "Success",
         "5": "Global parameter (count): 18",
         "6": "2024-09-06T11:50:44.685"
        },
        {
         "0": "20240906_114842858",
         "1": "Bronze",
         "2": "fn_lh_log_log_cleanup",
         "3": "{\"days_to_keep_log\": 1, \"fn_name\": \"fn_lh_log_log_cleanup\", \"caller_fn_name\": \"fn_extract_preparation\", \"now\": \"2024-09-06\", \"now_str\": \"2024-09-06 00:00:00\", \"logged_datetime\": \"2024-09-05 00:00:00\", \"sql_query\": \"DELETE FROM delta.`abfss://6a9d410f-c3c8-485a-bda1-6f87c0d2cd21@onelake.dfs.fabric.microsoft.com/cd170feb-0ae8-49fb-99c1-ff9a91a7cc6a/Tables/log`\\nWHERE logged_datetime < '2024-09-05 00:00:00';\", \"rv_execute_spark_sql\": \"('Success', 'Rows (count): 1', DataFrame[num_affected_rows: bigint], 1)\", \"alert\": \"Success\", \"sdf\": \"DataFrame[num_affected_rows: bigint]\", \"sdf_count\": 0, \"alert_description\": \"Log deleted before (date): 2024-09-05 00:00:00; Rows (count): 0\"}",
         "4": "Success",
         "5": "Log deleted before (date): 2024-09-05 00:00:00; Rows (count): 0",
         "6": "2024-09-06T11:50:44.513"
        },
        {
         "0": "20240906_114842858",
         "1": "Bronze",
         "2": "fn_execute_spark_sql",
         "3": "{\"sql_code\": \"DELETE FROM delta.`abfss://6a9d410f-c3c8-485a-bda1-6f87c0d2cd21@onelake.dfs.fabric.microsoft.com/cd170feb-0ae8-49fb-99c1-ff9a91a7cc6a/Tables/log`\\nWHERE logged_datetime < '2024-09-05 00:00:00';\", \"fn_name\": \"fn_execute_spark_sql\", \"caller_fn_name\": \"fn_lh_log_log_cleanup\", \"sdf\": \"DataFrame[num_affected_rows: bigint]\", \"sdf_count\": 1, \"alert\": \"Success\", \"alert_description\": \"Rows (count): 1\"}",
         "4": "Success",
         "5": "Rows (count): 1",
         "6": "2024-09-06T11:50:44.353"
        },
        {
         "0": "20240906_114842858",
         "1": "Bronze",
         "2": "fn_execute_spark_sql",
         "3": "{\"sql_code\": \"SELECT DISTINCT\\n    EO.`server_name` AS `server_alias`\\n    , GP.`value`     AS `server_name`\\nFROM\\n    delta.`abfss://6a9d410f-c3c8-485a-bda1-6f87c0d2cd21@onelake.dfs.fabric.microsoft.com/c0fb8c3e-073a-4a7d-81ba-68157b830b4d/Tables/extract_object_sql_server` AS EO\\n    JOIN delta.`abfss://6a9d410f-c3c8-485a-bda1-6f87c0d2cd21@onelake.dfs.fabric.microsoft.com/c0fb8c3e-073a-4a7d-81ba-68157b830b4d/Tables/global_parameter`     AS GP ON EO.`server_name` = GP.`name`\\nWHERE EO.`is_extracted` = 1;\", \"fn_name\": \"fn_execute_spark_sql\", \"caller_fn_name\": \"fn_create_lookup_server_alias_server_name\", \"sdf\": \"DataFrame[server_alias: string, server_name: string]\", \"sdf_count\": 1, \"alert\": \"Success\", \"alert_description\": \"Rows (count): 1\"}",
         "4": "Success",
         "5": "Rows (count): 1",
         "6": "2024-09-06T11:50:10.914"
        },
        {
         "0": "20240906_114842858",
         "1": "Bronze",
         "2": "fn_move_file",
         "3": "{\"src\": \"abfss://6a9d410f-c3c8-485a-bda1-6f87c0d2cd21@onelake.dfs.fabric.microsoft.com/822e1c96-2d32-4aeb-8277-bc03dca03177/Files/incoming/Excel/R\\u00e9ference Data/Rapport_de suivi sur la conclusion de contrats.xlsx\", \"dstn\": \"abfss://6a9d410f-c3c8-485a-bda1-6f87c0d2cd21@onelake.dfs.fabric.microsoft.com/822e1c96-2d32-4aeb-8277-bc03dca03177/Files/incoming/Excel/Reference_Data/Rapport_de_suivi_sur_la_conclusion_de_contrats.xlsx\", \"dict_parameter\": {\"technology\": \"Excel\", \"frequency\": \"Journali\\u00e8re\", \"folder_name\": \"Reference_Data\", \"file_name\": \"Rapport_de_suivi_sur_la_conclusion_de_contrats\"}, \"fn_name\": \"fn_move_file\", \"caller_fn_name\": \"fn_rename_files_in_lh_bronze\", \"alert\": \"Warning\", \"alert_description\": \"File \\\"abfss://6a9d410f-c3c8-485a-bda1-6f87c0d2cd21@onelake.dfs.fabric.microsoft.com/822e1c96-2d32-4aeb-8277-bc03dca03177/Files/incoming/Excel/R\\u00e9ference Data/Rapport_de suivi sur la conclusion de contrats.xlsx\\\" does not exist.\"}",
         "4": "Warning",
         "5": "File \"abfss://6a9d410f-c3c8-485a-bda1-6f87c0d2cd21@onelake.dfs.fabric.microsoft.com/822e1c96-2d32-4aeb-8277-bc03dca03177/Files/incoming/Excel/Réference Data/Rapport_de suivi sur la conclusion de contrats.xlsx\" does not exist.",
         "6": "2024-09-06T11:50:05.316"
        },
        {
         "0": "20240906_114842858",
         "1": "Bronze",
         "2": "fn_clean_not_alphanumeric_in_string",
         "3": "{\"string\": \"Rapport_de suivi sur la conclusion de contrats\", \"replace_with\": \"_\", \"fn_name\": \"fn_clean_not_alphanumeric_in_string\", \"caller_fn_name\": \"fn_rename_files_in_lh_bronze\", \"reg_ex\": \"re.compile('\\\\\\\\W+')\", \"output\": \"Rapport_de_suivi_sur_la_conclusion_de_contrats\", \"alert\": \"Success\", \"alert_description\": \"Not alphanumericals in string \\\"Rapport_de suivi sur la conclusion de contrats\\\" successfully replaced with \\\"_\\\"\"}",
         "4": "Success",
         "5": "Not alphanumericals in string \"Rapport_de suivi sur la conclusion de contrats\" successfully replaced with \"_\"",
         "6": "2024-09-06T11:50:05.146"
        },
        {
         "0": "20240906_114842858",
         "1": "Bronze",
         "2": "fn_clean_accent_in_string",
         "3": "{\"string\": \"Rapport_de suivi sur la conclusion de contrats\", \"fn_name\": \"fn_clean_accent_in_string\", \"caller_fn_name\": \"fn_rename_files_in_lh_bronze\", \"output\": \"Rapport_de suivi sur la conclusion de contrats\", \"alert\": \"Success\", \"alert_description\": \"Accents in string \\\"Rapport_de suivi sur la conclusion de contrats\\\" are cleaned successfully.\"}",
         "4": "Success",
         "5": "Accents in string \"Rapport_de suivi sur la conclusion de contrats\" are cleaned successfully.",
         "6": "2024-09-06T11:50:05.003"
        },
        {
         "0": "20240906_114842858",
         "1": "Bronze",
         "2": "fn_clean_not_alphanumeric_in_string",
         "3": "{\"string\": \"Reference Data\", \"replace_with\": \"_\", \"fn_name\": \"fn_clean_not_alphanumeric_in_string\", \"caller_fn_name\": \"fn_rename_files_in_lh_bronze\", \"reg_ex\": \"re.compile('\\\\\\\\W+')\", \"output\": \"Reference_Data\", \"alert\": \"Success\", \"alert_description\": \"Not alphanumericals in string \\\"Reference Data\\\" successfully replaced with \\\"_\\\"\"}",
         "4": "Success",
         "5": "Not alphanumericals in string \"Reference Data\" successfully replaced with \"_\"",
         "6": "2024-09-06T11:50:04.869"
        },
        {
         "0": "20240906_114842858",
         "1": "Bronze",
         "2": "fn_clean_accent_in_string",
         "3": "{\"string\": \"R\\u00e9ference Data\", \"fn_name\": \"fn_clean_accent_in_string\", \"caller_fn_name\": \"fn_rename_files_in_lh_bronze\", \"output\": \"Reference Data\", \"alert\": \"Success\", \"alert_description\": \"Accents in string \\\"R\\u00e9ference Data\\\" are cleaned successfully.\"}",
         "4": "Success",
         "5": "Accents in string \"Réference Data\" are cleaned successfully.",
         "6": "2024-09-06T11:50:04.735"
        },
        {
         "0": "20240906_114842858",
         "1": "Bronze",
         "2": "fn_move_file",
         "3": "{\"src\": \"abfss://6a9d410f-c3c8-485a-bda1-6f87c0d2cd21@onelake.dfs.fabric.microsoft.com/822e1c96-2d32-4aeb-8277-bc03dca03177/Files/incoming/Excel/Other/Thing/SEAO - Contrat $ 25 000 et plus.xlsx\", \"dstn\": \"abfss://6a9d410f-c3c8-485a-bda1-6f87c0d2cd21@onelake.dfs.fabric.microsoft.com/822e1c96-2d32-4aeb-8277-bc03dca03177/Files/incoming/Excel/Other/Thing/SEAO_Contrat_25_000_et_plus.xlsx\", \"dict_parameter\": {\"technology\": \"Excel\", \"frequency\": \"Journali\\u00e8re\", \"folder_name\": \"Other/Thing\", \"file_name\": \"SEAO_Contrat_25_000_et_plus\"}, \"fn_name\": \"fn_move_file\", \"caller_fn_name\": \"fn_rename_files_in_lh_bronze\", \"alert\": \"Warning\", \"alert_description\": \"File \\\"abfss://6a9d410f-c3c8-485a-bda1-6f87c0d2cd21@onelake.dfs.fabric.microsoft.com/822e1c96-2d32-4aeb-8277-bc03dca03177/Files/incoming/Excel/Other/Thing/SEAO - Contrat $ 25 000 et plus.xlsx\\\" does not exist.\"}",
         "4": "Warning",
         "5": "File \"abfss://6a9d410f-c3c8-485a-bda1-6f87c0d2cd21@onelake.dfs.fabric.microsoft.com/822e1c96-2d32-4aeb-8277-bc03dca03177/Files/incoming/Excel/Other/Thing/SEAO - Contrat $ 25 000 et plus.xlsx\" does not exist.",
         "6": "2024-09-06T11:50:04.593"
        },
        {
         "0": "20240906_114842858",
         "1": "Bronze",
         "2": "fn_clean_not_alphanumeric_in_string",
         "3": "{\"string\": \"SEAO - Contrat $ 25 000 et plus\", \"replace_with\": \"_\", \"fn_name\": \"fn_clean_not_alphanumeric_in_string\", \"caller_fn_name\": \"fn_rename_files_in_lh_bronze\", \"reg_ex\": \"re.compile('\\\\\\\\W+')\", \"output\": \"SEAO_Contrat_25_000_et_plus\", \"alert\": \"Success\", \"alert_description\": \"Not alphanumericals in string \\\"SEAO - Contrat $ 25 000 et plus\\\" successfully replaced with \\\"_\\\"\"}",
         "4": "Success",
         "5": "Not alphanumericals in string \"SEAO - Contrat $ 25 000 et plus\" successfully replaced with \"_\"",
         "6": "2024-09-06T11:50:04.416"
        },
        {
         "0": "20240906_114842858",
         "1": "Bronze",
         "2": "fn_clean_accent_in_string",
         "3": "{\"string\": \"SEAO - Contrat $ 25 000 et plus\", \"fn_name\": \"fn_clean_accent_in_string\", \"caller_fn_name\": \"fn_rename_files_in_lh_bronze\", \"output\": \"SEAO - Contrat $ 25 000 et plus\", \"alert\": \"Success\", \"alert_description\": \"Accents in string \\\"SEAO - Contrat $ 25 000 et plus\\\" are cleaned successfully.\"}",
         "4": "Success",
         "5": "Accents in string \"SEAO - Contrat $ 25 000 et plus\" are cleaned successfully.",
         "6": "2024-09-06T11:50:04.269"
        },
        {
         "0": "20240906_114842858",
         "1": "Bronze",
         "2": "fn_clean_not_alphanumeric_in_string",
         "3": "{\"string\": \"OtherABCDEFGHIJKLMNOPQRSTUVWXYZ0123456789Thing\", \"replace_with\": \"_\", \"fn_name\": \"fn_clean_not_alphanumeric_in_string\", \"caller_fn_name\": \"fn_rename_files_in_lh_bronze\", \"reg_ex\": \"re.compile('\\\\\\\\W+')\", \"output\": \"OtherABCDEFGHIJKLMNOPQRSTUVWXYZ0123456789Thing\", \"alert\": \"Success\", \"alert_description\": \"Not alphanumericals in string \\\"OtherABCDEFGHIJKLMNOPQRSTUVWXYZ0123456789Thing\\\" successfully replaced with \\\"_\\\"\"}",
         "4": "Success",
         "5": "Not alphanumericals in string \"OtherABCDEFGHIJKLMNOPQRSTUVWXYZ0123456789Thing\" successfully replaced with \"_\"",
         "6": "2024-09-06T11:50:04.132"
        },
        {
         "0": "20240906_114842858",
         "1": "Bronze",
         "2": "fn_clean_accent_in_string",
         "3": "{\"string\": \"OtherABCDEFGHIJKLMNOPQRSTUVWXYZ0123456789Thing\", \"fn_name\": \"fn_clean_accent_in_string\", \"caller_fn_name\": \"fn_rename_files_in_lh_bronze\", \"output\": \"OtherABCDEFGHIJKLMNOPQRSTUVWXYZ0123456789Thing\", \"alert\": \"Success\", \"alert_description\": \"Accents in string \\\"OtherABCDEFGHIJKLMNOPQRSTUVWXYZ0123456789Thing\\\" are cleaned successfully.\"}",
         "4": "Success",
         "5": "Accents in string \"OtherABCDEFGHIJKLMNOPQRSTUVWXYZ0123456789Thing\" are cleaned successfully.",
         "6": "2024-09-06T11:50:03.991"
        },
        {
         "0": "20240906_114842858",
         "1": "Bronze",
         "2": "fn_move_file",
         "3": "{\"src\": \"abfss://6a9d410f-c3c8-485a-bda1-6f87c0d2cd21@onelake.dfs.fabric.microsoft.com/822e1c96-2d32-4aeb-8277-bc03dca03177/Files/incoming/Excel/Rapport_sur les co\\u00fbts de dist. des addendas.xlsx\", \"dstn\": \"abfss://6a9d410f-c3c8-485a-bda1-6f87c0d2cd21@onelake.dfs.fabric.microsoft.com/822e1c96-2d32-4aeb-8277-bc03dca03177/Files/incoming/Excel/Rapport_sur_les_couts_de_dist_des_addendas.xlsx\", \"dict_parameter\": {\"technology\": \"Excel\", \"frequency\": \"Journali\\u00e8re\", \"folder_name\": \"\", \"file_name\": \"Rapport_sur_les_couts_de_dist_des_addendas\"}, \"fn_name\": \"fn_move_file\", \"caller_fn_name\": \"fn_rename_files_in_lh_bronze\", \"alert\": \"Warning\", \"alert_description\": \"File \\\"abfss://6a9d410f-c3c8-485a-bda1-6f87c0d2cd21@onelake.dfs.fabric.microsoft.com/822e1c96-2d32-4aeb-8277-bc03dca03177/Files/incoming/Excel/Rapport_sur les co\\u00fbts de dist. des addendas.xlsx\\\" does not exist.\"}",
         "4": "Warning",
         "5": "File \"abfss://6a9d410f-c3c8-485a-bda1-6f87c0d2cd21@onelake.dfs.fabric.microsoft.com/822e1c96-2d32-4aeb-8277-bc03dca03177/Files/incoming/Excel/Rapport_sur les coûts de dist. des addendas.xlsx\" does not exist.",
         "6": "2024-09-06T11:50:03.852"
        },
        {
         "0": "20240906_114842858",
         "1": "Bronze",
         "2": "fn_clean_not_alphanumeric_in_string",
         "3": "{\"string\": \"Rapport_sur les couts de dist. des addendas\", \"replace_with\": \"_\", \"fn_name\": \"fn_clean_not_alphanumeric_in_string\", \"caller_fn_name\": \"fn_rename_files_in_lh_bronze\", \"reg_ex\": \"re.compile('\\\\\\\\W+')\", \"output\": \"Rapport_sur_les_couts_de_dist_des_addendas\", \"alert\": \"Success\", \"alert_description\": \"Not alphanumericals in string \\\"Rapport_sur les couts de dist. des addendas\\\" successfully replaced with \\\"_\\\"\"}",
         "4": "Success",
         "5": "Not alphanumericals in string \"Rapport_sur les couts de dist. des addendas\" successfully replaced with \"_\"",
         "6": "2024-09-06T11:50:03.678"
        },
        {
         "0": "20240906_114842858",
         "1": "Bronze",
         "2": "fn_clean_accent_in_string",
         "3": "{\"string\": \"Rapport_sur les co\\u00fbts de dist. des addendas\", \"fn_name\": \"fn_clean_accent_in_string\", \"caller_fn_name\": \"fn_rename_files_in_lh_bronze\", \"output\": \"Rapport_sur les couts de dist. des addendas\", \"alert\": \"Success\", \"alert_description\": \"Accents in string \\\"Rapport_sur les co\\u00fbts de dist. des addendas\\\" are cleaned successfully.\"}",
         "4": "Success",
         "5": "Accents in string \"Rapport_sur les coûts de dist. des addendas\" are cleaned successfully.",
         "6": "2024-09-06T11:50:03.525"
        },
        {
         "0": "20240906_114842858",
         "1": "Bronze",
         "2": "fn_clean_not_alphanumeric_in_string",
         "3": "{\"string\": \"\", \"replace_with\": \"_\", \"fn_name\": \"fn_clean_not_alphanumeric_in_string\", \"caller_fn_name\": \"fn_rename_files_in_lh_bronze\", \"reg_ex\": \"re.compile('\\\\\\\\W+')\", \"output\": \"\", \"alert\": \"Success\", \"alert_description\": \"Not alphanumericals in string \\\"\\\" successfully replaced with \\\"_\\\"\"}",
         "4": "Success",
         "5": "Not alphanumericals in string \"\" successfully replaced with \"_\"",
         "6": "2024-09-06T11:50:03.381"
        },
        {
         "0": "20240906_114842858",
         "1": "Bronze",
         "2": "fn_clean_accent_in_string",
         "3": "{\"string\": \"\", \"fn_name\": \"fn_clean_accent_in_string\", \"caller_fn_name\": \"fn_rename_files_in_lh_bronze\", \"output\": \"\", \"alert\": \"Success\", \"alert_description\": \"Accents in string \\\"\\\" are cleaned successfully.\"}",
         "4": "Success",
         "5": "Accents in string \"\" are cleaned successfully.",
         "6": "2024-09-06T11:50:03.238"
        },
        {
         "0": "20240906_114842858",
         "1": "Bronze",
         "2": "fn_get_extract_table_list",
         "3": "{\"dict_parameter\": {\"technology\": \"Excel\", \"frequency\": \"Journali\\u00e8re\", \"action\": \"Archive\"}, \"fn_name\": \"fn_get_extract_table_list\", \"caller_fn_name\": \"fn_rename_files_in_lh_bronze\", \"sql_query\": \"SELECT DISTINCT\\n    `technology`\\n    , `frequency`\\n    , IFNULL(`folder_name`, \\\"\\\") AS `folder_name`\\n    , IFNULL(`file_name`  , \\\"\\\") AS `file_name`\\nFROM delta.`abfss://6a9d410f-c3c8-485a-bda1-6f87c0d2cd21@onelake.dfs.fabric.microsoft.com/c0fb8c3e-073a-4a7d-81ba-68157b830b4d/Tables/extract_object_excel`\\nWHERE\\n    `frequency`        = \\\"Journali\\u00e8re\\\"\\n    AND `is_extracted` = 1\\nORDER BY\\n    `frequency`\\n    , IFNULL(`folder_name`, \\\"\\\")\\n    , IFNULL(`file_name`  , \\\"\\\");\", \"sdf\": \"DataFrame[technology: string, frequency: string, folder_name: string, file_name: string]\", \"sdf_count\": 3, \"alert\": \"Success\", \"alert_description\": \"Table/file list (count): 3\"}",
         "4": "Success",
         "5": "Table/file list (count): 3",
         "6": "2024-09-06T11:50:02.137"
        },
        {
         "0": "20240906_114842858",
         "1": "Bronze",
         "2": "fn_execute_spark_sql",
         "3": "{\"sql_code\": \"SELECT DISTINCT\\n    `technology`\\n    , `frequency`\\n    , IFNULL(`folder_name`, \\\"\\\") AS `folder_name`\\n    , IFNULL(`file_name`  , \\\"\\\") AS `file_name`\\nFROM delta.`abfss://6a9d410f-c3c8-485a-bda1-6f87c0d2cd21@onelake.dfs.fabric.microsoft.com/c0fb8c3e-073a-4a7d-81ba-68157b830b4d/Tables/extract_object_excel`\\nWHERE\\n    `frequency`        = \\\"Journali\\u00e8re\\\"\\n    AND `is_extracted` = 1\\nORDER BY\\n    `frequency`\\n    , IFNULL(`folder_name`, \\\"\\\")\\n    , IFNULL(`file_name`  , \\\"\\\");\", \"fn_name\": \"fn_execute_spark_sql\", \"caller_fn_name\": \"fn_get_extract_table_list\", \"sdf\": \"DataFrame[technology: string, frequency: string, folder_name: string, file_name: string]\", \"sdf_count\": 3, \"alert\": \"Success\", \"alert_description\": \"Rows (count): 3\"}",
         "4": "Success",
         "5": "Rows (count): 3",
         "6": "2024-09-06T11:50:01.817"
        },
        {
         "0": "20240906_114842858",
         "1": "Bronze",
         "2": "fn_save_in_single_file",
         "3": "{\"sdf\": \"DataFrame[sequence: int, column_name: string, data_type: string, alias_name: string, date_created: string, process_timestamp: string]\", \"file_name\": \"abfss://6a9d410f-c3c8-485a-bda1-6f87c0d2cd21@onelake.dfs.fabric.microsoft.com/822e1c96-2d32-4aeb-8277-bc03dca03177/Files/processed/YYYY/MM/DD/file_name_123.parquet\", \"fn_name\": \"fn_save_in_single_file\", \"caller_fn_name\": \"\", \"sdf_count\": 2, \"columns\": [\"date_created\"], \"col\": \"date_created\", \"pdf\": \"   sequence column_name data_type   alias_name               date_created  \\\\\\n0         1    column_1    String  alias_col_1 2024-09-06 15:49:51.435483   \\n1         2    column_2   Integer  alias_col_2 2024-09-06 15:49:51.453402   \\n\\n    process_timestamp  \\n0  20240906_114842858  \\n1  20240906_114842858  \", \"alert\": \"Success\", \"alert_description\": \"Saved in single file (name): abfss://6a9d410f-c3c8-485a-bda1-6f87c0d2cd21@onelake.dfs.fabric.microsoft.com/822e1c96-2d32-4aeb-8277-bc03dca03177/Files/processed/YYYY/MM/DD/file_name_123.parquet\"}",
         "4": "Success",
         "5": "Saved in single file (name): abfss://6a9d410f-c3c8-485a-bda1-6f87c0d2cd21@onelake.dfs.fabric.microsoft.com/822e1c96-2d32-4aeb-8277-bc03dca03177/Files/processed/YYYY/MM/DD/file_name_123.parquet",
         "6": "2024-09-06T11:49:57.890"
        },
        {
         "0": "20240906_114842858",
         "1": "Bronze",
         "2": "fn_get_extract_column",
         "3": "{\"dict_parameter\": {\"technolog\": \"SQL Server\", \"frequenc\": \"Journali\\u00e8re\", \"server_alia\": \"sql_server_1\", \"database_nam\": \"AdventureWorks\", \"schema_nam\": \"SalesLT\", \"table_nam\": \"SalesOrderDetail\"}, \"fn_name\": \"fn_get_extract_column\", \"caller_fn_name\": \"\", \"alert\": \"Danger\", \"alert_description\": \"'technology'\"}",
         "4": "Danger",
         "5": "'technology'",
         "6": "2024-09-06T11:49:48.867"
        },
        {
         "0": "20240906_114842858",
         "1": "Bronze",
         "2": "fn_get_extract_column",
         "3": "{\"dict_parameter\": {\"technology\": \"SQL Server\", \"frequency\": \"Journali\\u00e8re\", \"server_alias\": \"sql_server_1\", \"database_name\": \"AdventureWorks\", \"schema_name\": \"SalesLT\", \"table_name\": \"Address\"}, \"fn_name\": \"fn_get_extract_column\", \"caller_fn_name\": \"\", \"lakehouse_name\": \"\", \"server_alias\": \"sql_server_1\", \"database_name\": \"AdventureWorks\", \"schema_name\": \"SalesLT\", \"table_name\": \"Address\", \"sql_query\": \"SELECT DISTINCT\\n    `sequence`\\n    , IFNULL(A.`prefix_select`, \\\"\\\")  AS `prefix_select`\\n    , IFNULL(A.`column_name`  , \\\"\\\")  AS `column_name`\\n    , TRIM(IFNULL(CONCAT(\\n        CASE WHEN A.`sequence` = 1 THEN '' ELSE ', ' END,\\n        CONCAT(IF(A.`prefix_select` IS NOT NULL, CONCAT(A.`prefix_select`, '.'), ''), '[', A.`column_name`, '] AS [', A.`column_name`, ']')\\n    )                         , \\\"\\\")) AS `alias`\\n    , IFNULL(A.`from`         , \\\"\\\")  AS `from`\\n    , IFNULL(A.`where`        , \\\"\\\")  AS `where`\\n    , A.`is_pk`                        AS `is_pk`\\n    , IFNULL(A.`data_type`    , \\\"\\\")  AS `data_type`\\nFROM\\n  (\\n          SELECT `technology`, `frequency`, `server_name`, `database_name`, `schema_name`, `table_name`, \\\"\\\" AS `lakehouse_name`, `sequence`, `prefix_select`, `column_name`, `from`, `where`, `is_pk`, `data_type`, `is_extracted` FROM delta.`abfss://6a9d410f-c3c8-485a-bda1-6f87c0d2cd21@onelake.dfs.fabric.microsoft.com/c0fb8c3e-073a-4a7d-81ba-68157b830b4d/Tables/extract_object_sql_server`\\n    UNION SELECT `technology`, `frequency`, \\\"\\\" AS `server_name`, \\\"\\\" AS `database_name`, \\\"\\\" AS `schema_name`, `table_name`, `lakehouse_name`, `sequence`, `prefix_select`, `column_name`, `from`, `where`, `is_pk`, `data_type`, `is_extracted` FROM delta.`abfss://6a9d410f-c3c8-485a-bda1-6f87c0d2cd21@onelake.dfs.fabric.microsoft.com/c0fb8c3e-073a-4a7d-81ba-68157b830b4d/Tables/extract_object_lakehouse`\\n  ) AS A\\nWHERE\\n    A.`technology`                       = \\\"SQL Server\\\"\\n    AND A.`frequency`                    = \\\"Journali\\u00e8re\\\"\\n    AND IFNULL(A.`lakehouse_name`, \\\"\\\") = \\\"\\\"\\n    AND IFNULL(A.`server_name`   , \\\"\\\") = \\\"sql_server_1\\\"\\n    AND IFNULL(A.`database_name` , \\\"\\\") = \\\"AdventureWorks\\\"\\n    AND IFNULL(A.`schema_name`   , \\\"\\\") = \\\"SalesLT\\\"\\n    AND IFNULL(A.`table_name`    , \\\"\\\") = \\\"Address\\\"\\n    AND A.`is_extracted`                 = 1\\nORDER BY CAST(`sequence` AS BIGINT);\", \"sdf\": \"DataFrame[sequence: bigint, prefix_select: string, column_name: string, alias: string, from: string, where: string, is_pk: boolean, data_type: string]\", \"sdf_count\": 9, \"alert\": \"Success\", \"alert_description\": \"Column list (count): 9\"}",
         "4": "Success",
         "5": "Column list (count): 9",
         "6": "2024-09-06T11:49:48.248"
        },
        {
         "0": "20240906_114842858",
         "1": "Bronze",
         "2": "fn_execute_spark_sql",
         "3": "{\"sql_code\": \"SELECT DISTINCT\\n    `sequence`\\n    , IFNULL(A.`prefix_select`, \\\"\\\")  AS `prefix_select`\\n    , IFNULL(A.`column_name`  , \\\"\\\")  AS `column_name`\\n    , TRIM(IFNULL(CONCAT(\\n        CASE WHEN A.`sequence` = 1 THEN '' ELSE ', ' END,\\n        CONCAT(IF(A.`prefix_select` IS NOT NULL, CONCAT(A.`prefix_select`, '.'), ''), '[', A.`column_name`, '] AS [', A.`column_name`, ']')\\n    )                         , \\\"\\\")) AS `alias`\\n    , IFNULL(A.`from`         , \\\"\\\")  AS `from`\\n    , IFNULL(A.`where`        , \\\"\\\")  AS `where`\\n    , A.`is_pk`                        AS `is_pk`\\n    , IFNULL(A.`data_type`    , \\\"\\\")  AS `data_type`\\nFROM\\n  (\\n          SELECT `technology`, `frequency`, `server_name`, `database_name`, `schema_name`, `table_name`, \\\"\\\" AS `lakehouse_name`, `sequence`, `prefix_select`, `column_name`, `from`, `where`, `is_pk`, `data_type`, `is_extracted` FROM delta.`abfss://6a9d410f-c3c8-485a-bda1-6f87c0d2cd21@onelake.dfs.fabric.microsoft.com/c0fb8c3e-073a-4a7d-81ba-68157b830b4d/Tables/extract_object_sql_server`\\n    UNION SELECT `technology`, `frequency`, \\\"\\\" AS `server_name`, \\\"\\\" AS `database_name`, \\\"\\\" AS `schema_name`, `table_name`, `lakehouse_name`, `sequence`, `prefix_select`, `column_name`, `from`, `where`, `is_pk`, `data_type`, `is_extracted` FROM delta.`abfss://6a9d410f-c3c8-485a-bda1-6f87c0d2cd21@onelake.dfs.fabric.microsoft.com/c0fb8c3e-073a-4a7d-81ba-68157b830b4d/Tables/extract_object_lakehouse`\\n  ) AS A\\nWHERE\\n    A.`technology`                       = \\\"SQL Server\\\"\\n    AND A.`frequency`                    = \\\"Journali\\u00e8re\\\"\\n    AND IFNULL(A.`lakehouse_name`, \\\"\\\") = \\\"\\\"\\n    AND IFNULL(A.`server_name`   , \\\"\\\") = \\\"sql_server_1\\\"\\n    AND IFNULL(A.`database_name` , \\\"\\\") = \\\"AdventureWorks\\\"\\n    AND IFNULL(A.`schema_name`   , \\\"\\\") = \\\"SalesLT\\\"\\n    AND IFNULL(A.`table_name`    , \\\"\\\") = \\\"Address\\\"\\n    AND A.`is_extracted`                 = 1\\nORDER BY CAST(`sequence` AS BIGINT);\", \"fn_name\": \"fn_execute_spark_sql\", \"caller_fn_name\": \"fn_get_extract_column\", \"sdf\": \"DataFrame[sequence: bigint, prefix_select: string, column_name: string, alias: string, from: string, where: string, is_pk: boolean, data_type: string]\", \"sdf_count\": 9, \"alert\": \"Success\", \"alert_description\": \"Rows (count): 9\"}",
         "4": "Success",
         "5": "Rows (count): 9",
         "6": "2024-09-06T11:49:47.590"
        },
        {
         "0": "20240906_114842858",
         "1": "Bronze",
         "2": "fn_get_extract_table_list",
         "3": "{\"dict_parameter\": {\"technolog\": \"SQL Server\", \"frequenc\": \"Journali\\u00e8re\", \"actio\": \"Extract\"}, \"fn_name\": \"fn_get_extract_table_list\", \"caller_fn_name\": \"\", \"alert\": \"Danger\", \"alert_description\": \"'technology'\"}",
         "4": "Danger",
         "5": "'technology'",
         "6": "2024-09-06T11:49:41.409"
        },
        {
         "0": "20240906_114842858",
         "1": "Bronze",
         "2": "fn_get_extract_table_list",
         "3": "{\"dict_parameter\": {\"technology\": \"Excel\", \"frequency\": \"Journali\\u00e8re\", \"action\": \"Extract\"}, \"fn_name\": \"fn_get_extract_table_list\", \"caller_fn_name\": \"\", \"sql_query\": \"SELECT DISTINCT\\n    `technology`\\n    , `frequency`\\n    , IFNULL(`folder_name`   , \\\"\\\") AS `folder_name`\\n    , IFNULL(`file_name`     , \\\"\\\") AS `file_name`\\n    , IFNULL(`worksheet_name`, \\\"\\\") AS `worksheet_name`\\n    , `first_row`\\nFROM delta.`abfss://6a9d410f-c3c8-485a-bda1-6f87c0d2cd21@onelake.dfs.fabric.microsoft.com/c0fb8c3e-073a-4a7d-81ba-68157b830b4d/Tables/extract_object_excel`\\nWHERE\\n    `frequency`        = \\\"Journali\\u00e8re\\\"\\n    AND `is_extracted` = 1\\nORDER BY\\n    `technology`\\n    , `frequency`\\n    , IFNULL(`folder_name`   , \\\"\\\")\\n    , IFNULL(`file_name`     , \\\"\\\")\\n    , IFNULL(`worksheet_name`, \\\"\\\");\", \"sdf\": \"DataFrame[technology: string, frequency: string, folder_name: string, file_name: string, worksheet_name: string, first_row: string]\", \"sdf_count\": 5, \"alert\": \"Success\", \"alert_description\": \"Table/file list (count): 5\"}",
         "4": "Success",
         "5": "Table/file list (count): 5",
         "6": "2024-09-06T11:49:40.614"
        },
        {
         "0": "20240906_114842858",
         "1": "Bronze",
         "2": "fn_execute_spark_sql",
         "3": "{\"sql_code\": \"SELECT DISTINCT\\n    `technology`\\n    , `frequency`\\n    , IFNULL(`folder_name`   , \\\"\\\") AS `folder_name`\\n    , IFNULL(`file_name`     , \\\"\\\") AS `file_name`\\n    , IFNULL(`worksheet_name`, \\\"\\\") AS `worksheet_name`\\n    , `first_row`\\nFROM delta.`abfss://6a9d410f-c3c8-485a-bda1-6f87c0d2cd21@onelake.dfs.fabric.microsoft.com/c0fb8c3e-073a-4a7d-81ba-68157b830b4d/Tables/extract_object_excel`\\nWHERE\\n    `frequency`        = \\\"Journali\\u00e8re\\\"\\n    AND `is_extracted` = 1\\nORDER BY\\n    `technology`\\n    , `frequency`\\n    , IFNULL(`folder_name`   , \\\"\\\")\\n    , IFNULL(`file_name`     , \\\"\\\")\\n    , IFNULL(`worksheet_name`, \\\"\\\");\", \"fn_name\": \"fn_execute_spark_sql\", \"caller_fn_name\": \"fn_get_extract_table_list\", \"sdf\": \"DataFrame[technology: string, frequency: string, folder_name: string, file_name: string, worksheet_name: string, first_row: string]\", \"sdf_count\": 5, \"alert\": \"Success\", \"alert_description\": \"Rows (count): 5\"}",
         "4": "Success",
         "5": "Rows (count): 5",
         "6": "2024-09-06T11:49:40.141"
        }
       ],
       "schema": [
        {
         "key": "0",
         "name": "process_timestamp",
         "type": "string"
        },
        {
         "key": "1",
         "name": "medallion_name",
         "type": "string"
        },
        {
         "key": "2",
         "name": "source_name",
         "type": "string"
        },
        {
         "key": "3",
         "name": "locals",
         "type": "string"
        },
        {
         "key": "4",
         "name": "alert",
         "type": "string"
        },
        {
         "key": "5",
         "name": "alert_description",
         "type": "string"
        },
        {
         "key": "6",
         "name": "logged_datetime",
         "type": "timestamp"
        }
       ],
       "truncated": false
      }
     },
     "type": "Synapse.DataFrame"
    },
    "e6d8b67b-02ae-4947-ba5c-08708cda58fa": {
     "persist_state": {
      "view": {
       "chartOptions": {
        "aggregationType": "sum",
        "binsNumber": 10,
        "categoryFieldKeys": [
         "0"
        ],
        "chartType": "bar",
        "evaluatesOverAllRecords": false,
        "isStacked": false,
        "seriesFieldKeys": [
         "0"
        ],
        "wordFrequency": "-1"
       },
       "tableOptions": {},
       "type": "details"
      }
     },
     "sync_state": {
      "isSummary": false,
      "language": "scala",
      "table": {
       "rows": [
        {
         "0": "0"
        }
       ],
       "schema": [
        {
         "key": "0",
         "name": "num_affected_rows",
         "type": "bigint"
        }
       ],
       "truncated": false
      }
     },
     "type": "Synapse.DataFrame"
    },
    "ef97f034-56fb-4667-8eba-ae6e67236001": {
     "persist_state": {
      "view": {
       "chartOptions": {
        "aggregationType": "count",
        "binsNumber": 10,
        "categoryFieldKeys": [
         "2"
        ],
        "chartType": "bar",
        "evaluatesOverAllRecords": false,
        "isStacked": false,
        "seriesFieldKeys": [
         "2"
        ],
        "wordFrequency": "-1"
       },
       "tableOptions": {},
       "type": "details"
      }
     },
     "sync_state": {
      "isSummary": false,
      "language": "python",
      "table": {
       "rows": [
        {
         "0": "20240906_114842858",
         "1": "Bronze",
         "2": "fn_save_in_single_file",
         "3": "{\"sdf\": \"DataFrame[sequence: int, column_name: string, data_type: string, alias_name: string, date_created: string, process_timestamp: string]\", \"file_name\": \"abfss://6a9d410f-c3c8-485a-bda1-6f87c0d2cd21@onelake.dfs.fabric.microsoft.com/822e1c96-2d32-4aeb-8277-bc03dca03177/Files/processed/YYYY/MM/DD/file_name_123.parquet\", \"fn_name\": \"fn_save_in_single_file\", \"caller_fn_name\": \"\", \"sdf_count\": 2, \"columns\": [\"date_created\"], \"col\": \"date_created\", \"pdf\": \"   sequence column_name data_type   alias_name               date_created  \\\\\\n0         1    column_1    String  alias_col_1 2024-09-06 15:49:51.435483   \\n1         2    column_2   Integer  alias_col_2 2024-09-06 15:49:51.453402   \\n\\n    process_timestamp  \\n0  20240906_114842858  \\n1  20240906_114842858  \", \"alert\": \"Success\", \"alert_description\": \"Saved in single file (name): abfss://6a9d410f-c3c8-485a-bda1-6f87c0d2cd21@onelake.dfs.fabric.microsoft.com/822e1c96-2d32-4aeb-8277-bc03dca03177/Files/processed/YYYY/MM/DD/file_name_123.parquet\"}",
         "4": "Success",
         "5": "Saved in single file (name): abfss://6a9d410f-c3c8-485a-bda1-6f87c0d2cd21@onelake.dfs.fabric.microsoft.com/822e1c96-2d32-4aeb-8277-bc03dca03177/Files/processed/YYYY/MM/DD/file_name_123.parquet",
         "6": "2024-09-06T11:49:57.890",
         "index": 0,
         "key": 0
        },
        {
         "0": "20240906_114842858",
         "1": "Bronze",
         "2": "fn_get_extract_column",
         "3": "{\"dict_parameter\": {\"technolog\": \"SQL Server\", \"frequenc\": \"Journali\\u00e8re\", \"server_alia\": \"sql_server_1\", \"database_nam\": \"AdventureWorks\", \"schema_nam\": \"SalesLT\", \"table_nam\": \"SalesOrderDetail\"}, \"fn_name\": \"fn_get_extract_column\", \"caller_fn_name\": \"\", \"alert\": \"Danger\", \"alert_description\": \"'technology'\"}",
         "4": "Danger",
         "5": "'technology'",
         "6": "2024-09-06T11:49:48.867",
         "index": 1,
         "key": 1
        },
        {
         "0": "20240906_114842858",
         "1": "Bronze",
         "2": "fn_get_extract_column",
         "3": "{\"dict_parameter\": {\"technology\": \"SQL Server\", \"frequency\": \"Journali\\u00e8re\", \"server_alias\": \"sql_server_1\", \"database_name\": \"AdventureWorks\", \"schema_name\": \"SalesLT\", \"table_name\": \"Address\"}, \"fn_name\": \"fn_get_extract_column\", \"caller_fn_name\": \"\", \"lakehouse_name\": \"\", \"server_alias\": \"sql_server_1\", \"database_name\": \"AdventureWorks\", \"schema_name\": \"SalesLT\", \"table_name\": \"Address\", \"sql_query\": \"SELECT DISTINCT\\n    `sequence`\\n    , IFNULL(A.`prefix_select`, \\\"\\\")  AS `prefix_select`\\n    , IFNULL(A.`column_name`  , \\\"\\\")  AS `column_name`\\n    , TRIM(IFNULL(CONCAT(\\n        CASE WHEN A.`sequence` = 1 THEN '' ELSE ', ' END,\\n        CONCAT(IF(A.`prefix_select` IS NOT NULL, CONCAT(A.`prefix_select`, '.'), ''), '[', A.`column_name`, '] AS [', A.`column_name`, ']')\\n    )                         , \\\"\\\")) AS `alias`\\n    , IFNULL(A.`from`         , \\\"\\\")  AS `from`\\n    , IFNULL(A.`where`        , \\\"\\\")  AS `where`\\n    , A.`is_pk`                        AS `is_pk`\\n    , IFNULL(A.`data_type`    , \\\"\\\")  AS `data_type`\\nFROM\\n  (\\n          SELECT `technology`, `frequency`, `server_name`, `database_name`, `schema_name`, `table_name`, \\\"\\\" AS `lakehouse_name`, `sequence`, `prefix_select`, `column_name`, `from`, `where`, `is_pk`, `data_type`, `is_extracted` FROM delta.`abfss://6a9d410f-c3c8-485a-bda1-6f87c0d2cd21@onelake.dfs.fabric.microsoft.com/c0fb8c3e-073a-4a7d-81ba-68157b830b4d/Tables/extract_object_sql_server`\\n    UNION SELECT `technology`, `frequency`, \\\"\\\" AS `server_name`, \\\"\\\" AS `database_name`, \\\"\\\" AS `schema_name`, `table_name`, `lakehouse_name`, `sequence`, `prefix_select`, `column_name`, `from`, `where`, `is_pk`, `data_type`, `is_extracted` FROM delta.`abfss://6a9d410f-c3c8-485a-bda1-6f87c0d2cd21@onelake.dfs.fabric.microsoft.com/c0fb8c3e-073a-4a7d-81ba-68157b830b4d/Tables/extract_object_lakehouse`\\n  ) AS A\\nWHERE\\n    A.`technology`                       = \\\"SQL Server\\\"\\n    AND A.`frequency`                    = \\\"Journali\\u00e8re\\\"\\n    AND IFNULL(A.`lakehouse_name`, \\\"\\\") = \\\"\\\"\\n    AND IFNULL(A.`server_name`   , \\\"\\\") = \\\"sql_server_1\\\"\\n    AND IFNULL(A.`database_name` , \\\"\\\") = \\\"AdventureWorks\\\"\\n    AND IFNULL(A.`schema_name`   , \\\"\\\") = \\\"SalesLT\\\"\\n    AND IFNULL(A.`table_name`    , \\\"\\\") = \\\"Address\\\"\\n    AND A.`is_extracted`                 = 1\\nORDER BY CAST(`sequence` AS BIGINT);\", \"sdf\": \"DataFrame[sequence: bigint, prefix_select: string, column_name: string, alias: string, from: string, where: string, is_pk: boolean, data_type: string]\", \"sdf_count\": 9, \"alert\": \"Success\", \"alert_description\": \"Column list (count): 9\"}",
         "4": "Success",
         "5": "Column list (count): 9",
         "6": "2024-09-06T11:49:48.248",
         "index": 2,
         "key": 2
        },
        {
         "0": "20240906_114842858",
         "1": "Bronze",
         "2": "fn_execute_spark_sql",
         "3": "{\"sql_code\": \"SELECT DISTINCT\\n    `sequence`\\n    , IFNULL(A.`prefix_select`, \\\"\\\")  AS `prefix_select`\\n    , IFNULL(A.`column_name`  , \\\"\\\")  AS `column_name`\\n    , TRIM(IFNULL(CONCAT(\\n        CASE WHEN A.`sequence` = 1 THEN '' ELSE ', ' END,\\n        CONCAT(IF(A.`prefix_select` IS NOT NULL, CONCAT(A.`prefix_select`, '.'), ''), '[', A.`column_name`, '] AS [', A.`column_name`, ']')\\n    )                         , \\\"\\\")) AS `alias`\\n    , IFNULL(A.`from`         , \\\"\\\")  AS `from`\\n    , IFNULL(A.`where`        , \\\"\\\")  AS `where`\\n    , A.`is_pk`                        AS `is_pk`\\n    , IFNULL(A.`data_type`    , \\\"\\\")  AS `data_type`\\nFROM\\n  (\\n          SELECT `technology`, `frequency`, `server_name`, `database_name`, `schema_name`, `table_name`, \\\"\\\" AS `lakehouse_name`, `sequence`, `prefix_select`, `column_name`, `from`, `where`, `is_pk`, `data_type`, `is_extracted` FROM delta.`abfss://6a9d410f-c3c8-485a-bda1-6f87c0d2cd21@onelake.dfs.fabric.microsoft.com/c0fb8c3e-073a-4a7d-81ba-68157b830b4d/Tables/extract_object_sql_server`\\n    UNION SELECT `technology`, `frequency`, \\\"\\\" AS `server_name`, \\\"\\\" AS `database_name`, \\\"\\\" AS `schema_name`, `table_name`, `lakehouse_name`, `sequence`, `prefix_select`, `column_name`, `from`, `where`, `is_pk`, `data_type`, `is_extracted` FROM delta.`abfss://6a9d410f-c3c8-485a-bda1-6f87c0d2cd21@onelake.dfs.fabric.microsoft.com/c0fb8c3e-073a-4a7d-81ba-68157b830b4d/Tables/extract_object_lakehouse`\\n  ) AS A\\nWHERE\\n    A.`technology`                       = \\\"SQL Server\\\"\\n    AND A.`frequency`                    = \\\"Journali\\u00e8re\\\"\\n    AND IFNULL(A.`lakehouse_name`, \\\"\\\") = \\\"\\\"\\n    AND IFNULL(A.`server_name`   , \\\"\\\") = \\\"sql_server_1\\\"\\n    AND IFNULL(A.`database_name` , \\\"\\\") = \\\"AdventureWorks\\\"\\n    AND IFNULL(A.`schema_name`   , \\\"\\\") = \\\"SalesLT\\\"\\n    AND IFNULL(A.`table_name`    , \\\"\\\") = \\\"Address\\\"\\n    AND A.`is_extracted`                 = 1\\nORDER BY CAST(`sequence` AS BIGINT);\", \"fn_name\": \"fn_execute_spark_sql\", \"caller_fn_name\": \"fn_get_extract_column\", \"sdf\": \"DataFrame[sequence: bigint, prefix_select: string, column_name: string, alias: string, from: string, where: string, is_pk: boolean, data_type: string]\", \"sdf_count\": 9, \"alert\": \"Success\", \"alert_description\": \"Rows (count): 9\"}",
         "4": "Success",
         "5": "Rows (count): 9",
         "6": "2024-09-06T11:49:47.590",
         "index": 3,
         "key": 3
        },
        {
         "0": "20240906_114842858",
         "1": "Bronze",
         "2": "fn_get_extract_table_list",
         "3": "{\"dict_parameter\": {\"technolog\": \"SQL Server\", \"frequenc\": \"Journali\\u00e8re\", \"actio\": \"Extract\"}, \"fn_name\": \"fn_get_extract_table_list\", \"caller_fn_name\": \"\", \"alert\": \"Danger\", \"alert_description\": \"'technology'\"}",
         "4": "Danger",
         "5": "'technology'",
         "6": "2024-09-06T11:49:41.409",
         "index": 4,
         "key": 4
        },
        {
         "0": "20240906_114842858",
         "1": "Bronze",
         "2": "fn_get_extract_table_list",
         "3": "{\"dict_parameter\": {\"technology\": \"Excel\", \"frequency\": \"Journali\\u00e8re\", \"action\": \"Extract\"}, \"fn_name\": \"fn_get_extract_table_list\", \"caller_fn_name\": \"\", \"sql_query\": \"SELECT DISTINCT\\n    `technology`\\n    , `frequency`\\n    , IFNULL(`folder_name`   , \\\"\\\") AS `folder_name`\\n    , IFNULL(`file_name`     , \\\"\\\") AS `file_name`\\n    , IFNULL(`worksheet_name`, \\\"\\\") AS `worksheet_name`\\n    , `first_row`\\nFROM delta.`abfss://6a9d410f-c3c8-485a-bda1-6f87c0d2cd21@onelake.dfs.fabric.microsoft.com/c0fb8c3e-073a-4a7d-81ba-68157b830b4d/Tables/extract_object_excel`\\nWHERE\\n    `frequency`        = \\\"Journali\\u00e8re\\\"\\n    AND `is_extracted` = 1\\nORDER BY\\n    `technology`\\n    , `frequency`\\n    , IFNULL(`folder_name`   , \\\"\\\")\\n    , IFNULL(`file_name`     , \\\"\\\")\\n    , IFNULL(`worksheet_name`, \\\"\\\");\", \"sdf\": \"DataFrame[technology: string, frequency: string, folder_name: string, file_name: string, worksheet_name: string, first_row: string]\", \"sdf_count\": 5, \"alert\": \"Success\", \"alert_description\": \"Table/file list (count): 5\"}",
         "4": "Success",
         "5": "Table/file list (count): 5",
         "6": "2024-09-06T11:49:40.614",
         "index": 5,
         "key": 5
        },
        {
         "0": "20240906_114842858",
         "1": "Bronze",
         "2": "fn_execute_spark_sql",
         "3": "{\"sql_code\": \"SELECT DISTINCT\\n    `technology`\\n    , `frequency`\\n    , IFNULL(`folder_name`   , \\\"\\\") AS `folder_name`\\n    , IFNULL(`file_name`     , \\\"\\\") AS `file_name`\\n    , IFNULL(`worksheet_name`, \\\"\\\") AS `worksheet_name`\\n    , `first_row`\\nFROM delta.`abfss://6a9d410f-c3c8-485a-bda1-6f87c0d2cd21@onelake.dfs.fabric.microsoft.com/c0fb8c3e-073a-4a7d-81ba-68157b830b4d/Tables/extract_object_excel`\\nWHERE\\n    `frequency`        = \\\"Journali\\u00e8re\\\"\\n    AND `is_extracted` = 1\\nORDER BY\\n    `technology`\\n    , `frequency`\\n    , IFNULL(`folder_name`   , \\\"\\\")\\n    , IFNULL(`file_name`     , \\\"\\\")\\n    , IFNULL(`worksheet_name`, \\\"\\\");\", \"fn_name\": \"fn_execute_spark_sql\", \"caller_fn_name\": \"fn_get_extract_table_list\", \"sdf\": \"DataFrame[technology: string, frequency: string, folder_name: string, file_name: string, worksheet_name: string, first_row: string]\", \"sdf_count\": 5, \"alert\": \"Success\", \"alert_description\": \"Rows (count): 5\"}",
         "4": "Success",
         "5": "Rows (count): 5",
         "6": "2024-09-06T11:49:40.141",
         "index": 6,
         "key": 6
        }
       ],
       "schema": [
        {
         "key": "0",
         "name": "process_timestamp",
         "type": "string"
        },
        {
         "key": "1",
         "name": "medallion_name",
         "type": "string"
        },
        {
         "key": "2",
         "name": "source_name",
         "type": "string"
        },
        {
         "key": "3",
         "name": "locals",
         "type": "string"
        },
        {
         "key": "4",
         "name": "alert",
         "type": "string"
        },
        {
         "key": "5",
         "name": "alert_description",
         "type": "string"
        },
        {
         "key": "6",
         "name": "logged_datetime",
         "type": "timestamp"
        }
       ],
       "truncated": false
      }
     },
     "type": "Synapse.DataFrame"
    },
    "fd631fde-e576-4012-a0cc-c99e6e838aa3": {
     "persist_state": {
      "view": {
       "chartOptions": {
        "aggregationType": "sum",
        "binsNumber": 10,
        "categoryFieldKeys": [
         "0"
        ],
        "chartType": "bar",
        "evaluatesOverAllRecords": false,
        "isStacked": false,
        "seriesFieldKeys": [
         "0"
        ],
        "wordFrequency": "-1"
       },
       "tableOptions": {},
       "type": "details"
      }
     },
     "sync_state": {
      "isSummary": false,
      "language": "scala",
      "table": {
       "rows": [
        {
         "0": "31"
        }
       ],
       "schema": [
        {
         "key": "0",
         "name": "num_affected_rows",
         "type": "bigint"
        }
       ],
       "truncated": false
      }
     },
     "type": "Synapse.DataFrame"
    }
   },
   "version": "0.1"
  },
  "widgets": {}
 },
 "nbformat": 4,
 "nbformat_minor": 5
}
