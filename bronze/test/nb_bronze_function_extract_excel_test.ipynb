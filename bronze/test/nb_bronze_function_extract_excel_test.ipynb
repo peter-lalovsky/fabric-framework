{
 "cells": [
  {
   "cell_type": "code",
   "execution_count": null,
   "id": "e59f69b8-a62c-4382-a9e7-18c57fac6bbe",
   "metadata": {
    "jupyter": {
     "outputs_hidden": false,
     "source_hidden": false
    },
    "microsoft": {
     "language": "python",
     "language_group": "synapse_pyspark"
    },
    "nteract": {
     "transient": {
      "deleting": false
     }
    }
   },
   "outputs": [],
   "source": [
    "# This notebook is to test (Quality Assurance) notebook \"nb_bronze_function_extract_excel\"\n",
    "# Needed only in DEV environment"
   ]
  },
  {
   "cell_type": "code",
   "execution_count": null,
   "id": "e29810b9-aeaf-45b2-bd87-53a697b31e15",
   "metadata": {
    "collapsed": false,
    "editable": true,
    "jupyter": {
     "outputs_hidden": false,
     "source_hidden": false
    },
    "microsoft": {
     "language": "python",
     "language_group": "synapse_pyspark"
    },
    "nteract": {
     "transient": {
      "deleting": false
     }
    },
    "run_control": {
     "frozen": false
    }
   },
   "outputs": [],
   "source": [
    "%run nb_temp_load_cfg"
   ]
  },
  {
   "cell_type": "code",
   "execution_count": null,
   "id": "a96b541f-dcf9-40cb-8974-9c1e8f8b5b42",
   "metadata": {
    "jupyter": {
     "outputs_hidden": false,
     "source_hidden": false
    },
    "microsoft": {
     "language": "python",
     "language_group": "synapse_pyspark"
    },
    "nteract": {
     "transient": {
      "deleting": false
     }
    }
   },
   "outputs": [],
   "source": [
    "%run nb_bronze_function_extract_excel"
   ]
  },
  {
   "cell_type": "markdown",
   "id": "e89ea6f2-786e-4abe-abad-94866f646d8c",
   "metadata": {
    "nteract": {
     "transient": {
      "deleting": false
     }
    }
   },
   "source": [
    "# System"
   ]
  },
  {
   "cell_type": "code",
   "execution_count": null,
   "id": "d87c613a-2e3c-40d2-bb83-709f33f785cf",
   "metadata": {
    "jupyter": {
     "outputs_hidden": false,
     "source_hidden": false
    },
    "microsoft": {
     "language": "python",
     "language_group": "synapse_pyspark"
    },
    "nteract": {
     "transient": {
      "deleting": false
     }
    }
   },
   "outputs": [],
   "source": [
    "if is_debug: print(\"\\n---------- This notenook name: nb_bronze_function_extract_excel_test - Start ----------\\n\")"
   ]
  },
  {
   "cell_type": "code",
   "execution_count": null,
   "id": "bbf2debe-a286-4fd7-92a0-2e322192dae4",
   "metadata": {
    "jupyter": {
     "outputs_hidden": false,
     "source_hidden": false
    },
    "microsoft": {
     "language": "python",
     "language_group": "synapse_pyspark"
    },
    "nteract": {
     "transient": {
      "deleting": false
     }
    }
   },
   "outputs": [],
   "source": [
    "# Current session info\n",
    "if is_debug: display(ss.getActiveSession())"
   ]
  },
  {
   "cell_type": "code",
   "execution_count": null,
   "id": "9cd1ac2c-ad91-4070-83d1-9a7e89a31d9c",
   "metadata": {
    "jupyter": {
     "outputs_hidden": false,
     "source_hidden": false
    },
    "microsoft": {
     "language": "python",
     "language_group": "synapse_pyspark"
    },
    "nteract": {
     "transient": {
      "deleting": false
     }
    }
   },
   "outputs": [],
   "source": [
    "medallion_name = \"Bronze\"\n",
    "if is_debug: print(f\"medallion_name: {medallion_name}\")"
   ]
  },
  {
   "cell_type": "markdown",
   "id": "60d55c01-0a5d-4af3-9642-ff7285394be2",
   "metadata": {
    "microsoft": {
     "language": "python",
     "language_group": "synapse_pyspark"
    },
    "nteract": {
     "transient": {
      "deleting": false
     }
    }
   },
   "source": [
    "# Function"
   ]
  },
  {
   "cell_type": "markdown",
   "id": "d0d9f34f-22cd-4304-867d-259e939c72e3",
   "metadata": {
    "microsoft": {
     "language": "python",
     "language_group": "synapse_pyspark"
    },
    "nteract": {
     "transient": {
      "deleting": false
     }
    }
   },
   "source": [
    "## Get the existing excel files in \"lh_bronze\""
   ]
  },
  {
   "cell_type": "code",
   "execution_count": null,
   "id": "a7f40f4d-4494-45a3-80a5-e0fc925f210f",
   "metadata": {
    "collapsed": false,
    "jupyter": {
     "outputs_hidden": false,
     "source_hidden": false
    },
    "microsoft": {
     "language": "python",
     "language_group": "synapse_pyspark"
    },
    "nteract": {
     "transient": {
      "deleting": false
     }
    }
   },
   "outputs": [],
   "source": [
    "excel_folder_name = \"Excel\"\n",
    "list_frequency    = [\"Daily\"]\n",
    "print(f\"Input value (excel_folder_name): {type(excel_folder_name)} | {excel_folder_name}\")\n",
    "print(f\"Input value (list_frequency): {type(list_frequency)} | {list_frequency}\")\n",
    "\n",
    "print(f\"\\n# Execution (try) - Start #\")\n",
    "time_start = dt.datetime.now()\n",
    "rv_try = fn_get_excel_files_in_lh_bronze(excel_folder_name, list_frequency)\n",
    "print(f\"# Execution (try) - End (duration: {(dt.datetime.now() - time_start)}) #\\n\")\n",
    "\n",
    "print(f\"Return value: {rv_try}\")\n",
    "print(f\"Return value[0]: {type(rv_try[0])} | {rv_try[0]}\")\n",
    "print(f\"Return value[1]: {type(rv_try[1])} | {rv_try[1]}\")\n",
    "print(f\"Return value (sdf_exist) type: {type(rv_try[2])}\")\n",
    "print(f\"Return value (sdf_exist):\")\n",
    "display(rv_try[2])\n",
    "print(f\"Return value [3]: {type(rv_try[3])} | {rv_try[3]}\")\n",
    "\n",
    "print(\"\\n--------------------\\n\")\n",
    "\n",
    "excel_folder_name = 123\n",
    "list_frequency    = [123]\n",
    "\n",
    "print(f\"\\n# Execution (except) - Start #\")\n",
    "time_start = dt.datetime.now()\n",
    "rv_except = fn_get_excel_files_in_lh_bronze(excel_folder_name, list_frequency)\n",
    "print(f\"# Execution (except) - End (duration: {(dt.datetime.now() - time_start)}) #\\n\")\n",
    "\n",
    "print(f\"Return value: {rv_except}\")\n",
    "print(f\"Return value [0]: {type(rv_except[0])} | {rv_except[0]}\")\n",
    "print(f\"Return value [1]: {type(rv_except[1])} | {rv_except[1]}\")\n",
    "print(f\"Return value [2]: {type(rv_except[2])} | {rv_except[2]}\")\n",
    "print(f\"Return value [3]: {type(rv_except[3])} | {rv_except[3]}\")\n",
    "\n",
    "pdf_log.reset_index(drop = True, inplace = True)\n",
    "display(pdf_log.sort_values(by = \"logged_datetime\", ascending = False))"
   ]
  },
  {
   "cell_type": "markdown",
   "id": "599523c0-206d-41dd-a609-61973a7ea911",
   "metadata": {
    "microsoft": {
     "language": "python",
     "language_group": "synapse_pyspark"
    },
    "nteract": {
     "transient": {
      "deleting": false
     }
    }
   },
   "source": [
    "## Read Excel file"
   ]
  },
  {
   "cell_type": "code",
   "execution_count": null,
   "id": "12746252-a209-48f7-978c-58b5381150af",
   "metadata": {
    "collapsed": false,
    "jupyter": {
     "outputs_hidden": false,
     "source_hidden": false
    },
    "microsoft": {
     "language": "python",
     "language_group": "synapse_pyspark"
    },
    "nteract": {
     "transient": {
      "deleting": false
     }
    }
   },
   "outputs": [],
   "source": [
    "file_name = f\"{global_parameter.abfs_path_lh_bronze}/Files/incoming/Excel/Reference_Data/Test.xlsx\"\n",
    "sheet_name = \"Orders\"\n",
    "first_row = 0\n",
    "dict_parameter = {\n",
    "    \"technology\": \"Excel\"\n",
    "    , \"frequency\": \"Dailt\"\n",
    "    , \"folder_name\": \"Reference Data\"\n",
    "    , \"file_name\": \"Test\"\n",
    "    , \"worksheet_name\": \"Orders\"\n",
    "}\n",
    "print(f\"Input value (file_name) type: {type(file_name)} | {file_name}\")\n",
    "print(f\"Input value (sheet_name): {type(sheet_name)} | {sheet_name}\")\n",
    "print(f\"Input value (dict_parameter): {type(dict_parameter)} | {dict_parameter}\")\n",
    "\n",
    "print(f\"\\n# Execution (try) - Start #\")\n",
    "time_start = dt.datetime.now()\n",
    "rv_try = fn_read_excel_file(file_name, sheet_name, first_row, dict_parameter)\n",
    "print(f\"# Execution (try) - End (duration: {(dt.datetime.now() - time_start)}) #\\n\")\n",
    "\n",
    "print(f\"Return value: {rv_try}\")\n",
    "print(f\"Return value [0]: {type(rv_try[0])} | {rv_try[0]}\")\n",
    "print(f\"Return value [1]: {type(rv_try[1])} | {rv_try[1]}\")\n",
    "print(f\"Return value [2] type: {type(rv_try[2])}\")\n",
    "print(f\"Return value [2] schema:\")\n",
    "print(rv_try[2].dtypes)\n",
    "print(f\"Return value (pdf):\")\n",
    "display(rv_try[2].head(n = 5))\n",
    "print(f\"Return value [3]: {type(rv_try[3])} | {rv_try[3]}\")\n",
    "\n",
    "print(\"\\n--------------------\\n\")\n",
    "\n",
    "file_name = f\"{global_parameter.abfs_path_lh_bronze}/Files/incoming/Excel/Reference/Data/Test.xlsx\"\n",
    "\n",
    "print(f\"\\n# Execution (except) - Start #\")        \n",
    "time_start = dt.datetime.now()\n",
    "rv_except = fn_read_excel_file(file_name, sheet_name, first_row, dict_parameter)\n",
    "print(f\"# Execution (except) - End (duration: {(dt.datetime.now() - time_start)}) #\\n\")\n",
    "\n",
    "print(f\"Return value: {rv_except}\")\n",
    "print(f\"Return value [0]: {type(rv_except[0])} | {rv_except[0]}\")\n",
    "print(f\"Return value [1]: {type(rv_except[1])} | {rv_except[1]}\")\n",
    "print(f\"Return value [2]: {type(rv_except[2])} | {rv_except[2]}\")\n",
    "print(f\"Return value [3]: {type(rv_except[3])} | {rv_except[3]}\")\n",
    "\n",
    "pdf_log.reset_index(drop = True, inplace = True)\n",
    "display(pdf_log.sort_values(by = \"logged_datetime\", ascending = False))"
   ]
  },
  {
   "cell_type": "markdown",
   "id": "5ff6a960-6df2-41ed-a229-f356866fa9ff",
   "metadata": {
    "microsoft": {
     "language": "python",
     "language_group": "synapse_pyspark"
    },
    "nteract": {
     "transient": {
      "deleting": false
     }
    }
   },
   "source": [
    "# Operation"
   ]
  },
  {
   "cell_type": "code",
   "execution_count": null,
   "id": "4ac28e41-ffa4-40f2-a97e-bad5ae5f6463",
   "metadata": {
    "jupyter": {
     "outputs_hidden": false,
     "source_hidden": false
    },
    "microsoft": {
     "language": "python",
     "language_group": "synapse_pyspark"
    },
    "nteract": {
     "transient": {
      "deleting": false
     }
    }
   },
   "outputs": [],
   "source": [
    "if is_debug: print(\"\\n---------- This notenook name: nb_bronze_function_extract_excel_test - End ----------\\n\")"
   ]
  },
  {
   "cell_type": "markdown",
   "id": "7e109105-411c-423f-a679-9863e5548523",
   "metadata": {
    "microsoft": {
     "language": "python",
     "language_group": "synapse_pyspark"
    },
    "nteract": {
     "transient": {
      "deleting": false
     }
    }
   },
   "source": [
    "# Test"
   ]
  },
  {
   "cell_type": "code",
   "execution_count": null,
   "id": "af2f65de-9920-47c2-8e67-a0c1d65a97c7",
   "metadata": {
    "jupyter": {
     "outputs_hidden": false,
     "source_hidden": false
    },
    "microsoft": {
     "language": "python",
     "language_group": "synapse_pyspark"
    },
    "nteract": {
     "transient": {
      "deleting": false
     }
    }
   },
   "outputs": [],
   "source": [
    "is_debug = False"
   ]
  },
  {
   "cell_type": "code",
   "execution_count": null,
   "id": "efe1081c-2653-4438-b0eb-a205d2c230e7",
   "metadata": {
    "editable": true,
    "jupyter": {
     "outputs_hidden": false,
     "source_hidden": false
    },
    "microsoft": {
     "language": "python",
     "language_group": "synapse_pyspark"
    },
    "nteract": {
     "transient": {
      "deleting": false
     }
    },
    "run_control": {
     "frozen": false
    }
   },
   "outputs": [],
   "source": [
    "# Delete the tables in \"lh_bronze\"\n",
    "fn_delete_all_in_folder(f\"{global_parameter.abfs_path_lh_bronze}/Tables\")"
   ]
  },
  {
   "cell_type": "code",
   "execution_count": null,
   "id": "2f83ef9d-1347-4a81-a3fc-ef520763c551",
   "metadata": {
    "collapsed": false,
    "editable": true,
    "jupyter": {
     "outputs_hidden": false,
     "source_hidden": false
    },
    "microsoft": {
     "language": "python",
     "language_group": "synapse_pyspark"
    },
    "nteract": {
     "transient": {
      "deleting": false
     }
    },
    "run_control": {
     "frozen": false
    }
   },
   "outputs": [],
   "source": [
    "fn_extract_excel(\"Excel\", \"Daily\")"
   ]
  },
  {
   "cell_type": "code",
   "execution_count": null,
   "id": "431cfb9d-88be-46ff-992c-2fb88516a0a7",
   "metadata": {
    "collapsed": false,
    "jupyter": {
     "outputs_hidden": false,
     "source_hidden": false
    },
    "microsoft": {
     "language": "python",
     "language_group": "synapse_pyspark"
    },
    "nteract": {
     "transient": {
      "deleting": false
     }
    }
   },
   "outputs": [],
   "source": [
    "pdf_log.reset_index(drop = True, inplace = True)\n",
    "display(pdf_log.sort_values(by = \"logged_datetime\", ascending = False))"
   ]
  },
  {
   "cell_type": "code",
   "execution_count": null,
   "id": "f464a787-27f1-42b0-9d94-fecf1067f6d0",
   "metadata": {
    "jupyter": {
     "outputs_hidden": false,
     "source_hidden": false
    },
    "microsoft": {
     "language": "python",
     "language_group": "synapse_pyspark"
    },
    "nteract": {
     "transient": {
      "deleting": false
     }
    }
   },
   "outputs": [],
   "source": [
    "fn_lh_log_log_insert()"
   ]
  }
 ],
 "metadata": {
  "dependencies": {},
  "kernel_info": {
   "name": "synapse_pyspark"
  },
  "kernelspec": {
   "display_name": "Synapse PySpark",
   "language": "Python",
   "name": "synapse_pyspark"
  },
  "language_info": {
   "name": "python"
  },
  "microsoft": {
   "language": "python",
   "language_group": "synapse_pyspark",
   "ms_spell_check": {
    "ms_spell_check_language": "en"
   }
  },
  "nteract": {
   "version": "nteract-front-end@1.0.0"
  },
  "spark_compute": {
   "compute_id": "/trident/default",
   "session_options": {
    "conf": {
     "spark.synapse.nbs.session.timeout": "1200000"
    }
   }
  },
  "synapse_widget": {
   "state": {},
   "version": "0.1"
  },
  "widgets": {}
 },
 "nbformat": 4,
 "nbformat_minor": 5
}
