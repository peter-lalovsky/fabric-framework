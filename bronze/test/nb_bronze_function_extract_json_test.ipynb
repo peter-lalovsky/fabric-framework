{
 "cells": [
  {
   "cell_type": "code",
   "execution_count": null,
   "id": "34b09626-ba1d-415c-b808-fe877800146e",
   "metadata": {
    "editable": false,
    "jupyter": {
     "outputs_hidden": false,
     "source_hidden": false
    },
    "microsoft": {
     "language": "python",
     "language_group": "synapse_pyspark"
    },
    "nteract": {
     "transient": {
      "deleting": false
     }
    },
    "run_control": {
     "frozen": true
    }
   },
   "outputs": [],
   "source": [
    "# This notebook is to test (Quality Assurance) notebook \"nb_bronze_function_extract_json\"\n",
    "# Needed only in DEV environment"
   ]
  },
  {
   "cell_type": "code",
   "execution_count": null,
   "id": "8cca076f-7959-4957-8f5c-e58bcf9a79ea",
   "metadata": {
    "collapsed": false,
    "editable": true,
    "jupyter": {
     "outputs_hidden": false,
     "source_hidden": false
    },
    "microsoft": {
     "language": "python",
     "language_group": "synapse_pyspark"
    },
    "nteract": {
     "transient": {
      "deleting": false
     }
    },
    "run_control": {
     "frozen": false
    }
   },
   "outputs": [],
   "source": [
    "%run nb_temp_load_cfg"
   ]
  },
  {
   "cell_type": "code",
   "execution_count": null,
   "id": "9e3a77f2-52ce-48d9-95ec-c02dc3981604",
   "metadata": {
    "jupyter": {
     "outputs_hidden": false,
     "source_hidden": false
    },
    "microsoft": {
     "language": "python",
     "language_group": "synapse_pyspark"
    },
    "nteract": {
     "transient": {
      "deleting": false
     }
    }
   },
   "outputs": [],
   "source": [
    "%run nb_bronze_function_extract_json"
   ]
  },
  {
   "cell_type": "code",
   "execution_count": null,
   "id": "db7b3f78-038d-485a-aea1-81075ab86f32",
   "metadata": {
    "editable": false,
    "jupyter": {
     "outputs_hidden": false,
     "source_hidden": false
    },
    "microsoft": {
     "language": "python",
     "language_group": "synapse_pyspark"
    },
    "nteract": {
     "transient": {
      "deleting": false
     }
    },
    "run_control": {
     "frozen": true
    }
   },
   "outputs": [],
   "source": [
    "# Freeze above cells"
   ]
  },
  {
   "cell_type": "markdown",
   "id": "d69e4618-a61e-41e4-836c-bf01224a94fb",
   "metadata": {
    "microsoft": {
     "language": "python",
     "language_group": "synapse_pyspark"
    },
    "nteract": {
     "transient": {
      "deleting": false
     }
    }
   },
   "source": [
    "# System"
   ]
  },
  {
   "cell_type": "code",
   "execution_count": null,
   "id": "d4e5c656-d839-409c-b258-7bdaa0968fc3",
   "metadata": {
    "jupyter": {
     "outputs_hidden": false,
     "source_hidden": false
    },
    "microsoft": {
     "language": "python",
     "language_group": "synapse_pyspark"
    },
    "nteract": {
     "transient": {
      "deleting": false
     }
    }
   },
   "outputs": [],
   "source": [
    "if is_debug: print(\"\\n---------- This notenook name: nb_bronze_function_extract_json_test - Start ----------\\n\")"
   ]
  },
  {
   "cell_type": "code",
   "execution_count": null,
   "id": "13c2428b-9d8c-4cb3-bd1c-129620a77276",
   "metadata": {
    "jupyter": {
     "outputs_hidden": false,
     "source_hidden": false
    },
    "microsoft": {
     "language": "python",
     "language_group": "synapse_pyspark"
    },
    "nteract": {
     "transient": {
      "deleting": false
     }
    }
   },
   "outputs": [],
   "source": [
    "medallion_name = \"Bronze\"\n",
    "if is_debug: print(f\"medallion_name: {medallion_name}\")"
   ]
  },
  {
   "cell_type": "code",
   "execution_count": null,
   "id": "30af8da7-0981-4161-b984-4bac3b3fcca2",
   "metadata": {
    "jupyter": {
     "outputs_hidden": false,
     "source_hidden": false
    },
    "microsoft": {
     "language": "python",
     "language_group": "synapse_pyspark"
    },
    "nteract": {
     "transient": {
      "deleting": false
     }
    }
   },
   "outputs": [],
   "source": [
    "# Current session info\n",
    "if is_debug: display(ss.getActiveSession())"
   ]
  },
  {
   "cell_type": "markdown",
   "id": "1446df47-3b52-4585-a4b1-7228929ad3d8",
   "metadata": {
    "microsoft": {
     "language": "python",
     "language_group": "synapse_pyspark"
    },
    "nteract": {
     "transient": {
      "deleting": false
     }
    }
   },
   "source": [
    "# Functions"
   ]
  },
  {
   "cell_type": "markdown",
   "id": "dd502214-54ed-4442-8bf7-747b56e93ab3",
   "metadata": {
    "microsoft": {
     "language": "python",
     "language_group": "synapse_pyspark"
    },
    "nteract": {
     "transient": {
      "deleting": false
     }
    }
   },
   "source": [
    "## Create temp view cfg"
   ]
  },
  {
   "cell_type": "code",
   "execution_count": null,
   "id": "026136d7-2cf0-45b3-bea8-f2115770655c",
   "metadata": {
    "collapsed": false,
    "editable": true,
    "jupyter": {
     "outputs_hidden": false,
     "source_hidden": false
    },
    "microsoft": {
     "language": "python",
     "language_group": "synapse_pyspark"
    },
    "nteract": {
     "transient": {
      "deleting": false
     }
    },
    "run_control": {
     "frozen": false
    }
   },
   "outputs": [],
   "source": [
    "dict_parameter = {\"technology\": \"JSON\", \"frequency\": \"Daily\", \"folder_name\": \"\", \"file_name\": \"pl_test_1_1\"}\n",
    "print(f\"Input value (dict_parameter): {type(dict_parameter)} | {dict_parameter}\")\n",
    "\n",
    "print(f\"\\n# Execution - Start #\")\n",
    "time_start = dt.datetime.now()\n",
    "rv_try = fn_create_tvw_cfg(dict_parameter)\n",
    "print(f\"# Execution - End (duration: {(dt.datetime.now() - time_start)}) #\\n\")\n",
    "\n",
    "print(f\"Return value: {rv_try}\")\n",
    "print(f\"Return value [0]: {type(rv_try[0])} | {rv_try[0]}\")\n",
    "print(f\"Return value [1]: {type(rv_try[1])} | {rv_try[1]}\")\n",
    "print(f\"Return value [2]: {type(rv_try[2])}\")\n",
    "print(f\"Return value (sdf) schema:\")\n",
    "rv_try[2].printSchema()\n",
    "print(f\"Return value (sdf):\")\n",
    "display(rv_try[2])\n",
    "print(f\"Return value [3]: {type(rv_try[3])} | {rv_try[3]}\")\n",
    "\n",
    "print(f\"describe tvw_cfg:\")\n",
    "display(spark.sql(\"describe tvw_cfg;\"))\n",
    "print(f\"tvw_cfg:\")\n",
    "display(spark.sql(\"select * from tvw_cfg;\"))\n",
    "\n",
    "# Uncomment # test \"except\" to test exception\n",
    "\n",
    "pdf_log.reset_index(drop = True, inplace = True)\n",
    "display(pdf_log.sort_values(by = \"logged_datetime\", ascending = False))"
   ]
  },
  {
   "cell_type": "markdown",
   "id": "1def0350-4c20-4999-b6dd-936c340294ee",
   "metadata": {
    "microsoft": {
     "language": "python",
     "language_group": "synapse_pyspark"
    },
    "nteract": {
     "transient": {
      "deleting": false
     }
    }
   },
   "source": [
    "## Get root array info"
   ]
  },
  {
   "cell_type": "code",
   "execution_count": null,
   "id": "31bfcbeb-0a3c-4fec-bc04-43c208787959",
   "metadata": {
    "collapsed": false,
    "jupyter": {
     "outputs_hidden": false,
     "source_hidden": false
    },
    "microsoft": {
     "language": "python",
     "language_group": "synapse_pyspark"
    },
    "nteract": {
     "transient": {
      "deleting": false
     }
    }
   },
   "outputs": [],
   "source": [
    "time_start = dt.datetime.now()\n",
    "rv_try = fn_get_root_array_info()\n",
    "print(f\"Duration: {(dt.datetime.now() - time_start)}\\n\")\n",
    "\n",
    "print(f\"Return value: {rv_try}\")\n",
    "print(f\"Return value [0]: {type(rv_try[0])} | {rv_try[0]}\")\n",
    "print(f\"Return value [1]: {type(rv_try[1])} | {rv_try[1]}\")    \n",
    "print(f\"Return value [2]: {type(rv_try[2])} | {rv_try[2]}\")\n",
    "print(f\"Return value [3]: {type(rv_try[3])} | >{rv_try[3]}<\")\n",
    "\n",
    "# Uncomment # test \"except\" to test exception\n",
    "\n",
    "pdf_log.reset_index(drop = True, inplace = True)\n",
    "display(pdf_log.sort_values(by = \"logged_datetime\", ascending = False))"
   ]
  },
  {
   "cell_type": "markdown",
   "id": "e398f6f6-69f2-4645-bdb7-2235f55b01d7",
   "metadata": {
    "microsoft": {
     "language": "python",
     "language_group": "synapse_pyspark"
    },
    "nteract": {
     "transient": {
      "deleting": false
     }
    }
   },
   "source": [
    "## Create temp view parent_child"
   ]
  },
  {
   "cell_type": "code",
   "execution_count": null,
   "id": "2ad49d0d-fc5c-4f9c-b2bd-fe25086428a4",
   "metadata": {
    "collapsed": false,
    "jupyter": {
     "outputs_hidden": false,
     "source_hidden": false
    },
    "microsoft": {
     "language": "python",
     "language_group": "synapse_pyspark"
    },
    "nteract": {
     "transient": {
      "deleting": false
     }
    }
   },
   "outputs": [],
   "source": [
    "does_root_array_exist = True\n",
    "root_array_column_name = \"results\"\n",
    "\n",
    "time_start = dt.datetime.now()\n",
    "rv_try = fn_create_cfg_parent_child(does_root_array_exist, root_array_column_name)\n",
    "print(f\"Duration: {(dt.datetime.now() - time_start)}\\n\")\n",
    "\n",
    "print(f\"Return value: {rv_try}\")\n",
    "print(f\"Return value[0]: {type(rv_try[0])} | {rv_try[0]}\")\n",
    "print(f\"Return value[1]: {type(rv_try[1])} | {rv_try[1]}\")\n",
    "print(f\"Return value [2] type: {type(rv_try[2])}\")\n",
    "print(f\"Return value [2]]:\")\n",
    "display(rv_try[2])\n",
    "print(f\"Return value [3]: {type(rv_try[3])} | {rv_try[3]}\")\n",
    "\n",
    "print(f\"describe tvw_cfg_parent_child:\")\n",
    "display(spark.sql(\"describe tvw_cfg_parent_child;\"))\n",
    "print(f\"tvw_cfg_parent_child:\")\n",
    "display(spark.sql(\"select * from tvw_cfg_parent_child;\"))\n",
    "\n",
    "# Uncomment # test \"except\" to test exception\n",
    "\n",
    "pdf_log.reset_index(drop = True, inplace = True)\n",
    "display(pdf_log.sort_values(by = \"logged_datetime\", ascending = False))"
   ]
  },
  {
   "cell_type": "markdown",
   "id": "8187e4f4-f122-4b41-9be8-610d4a18a835",
   "metadata": {
    "microsoft": {
     "language": "python",
     "language_group": "synapse_pyspark"
    },
    "nteract": {
     "transient": {
      "deleting": false
     }
    }
   },
   "source": [
    "## Get columns"
   ]
  },
  {
   "cell_type": "code",
   "execution_count": null,
   "id": "ca741036-e117-4815-b883-b65be72070fb",
   "metadata": {
    "collapsed": false,
    "jupyter": {
     "outputs_hidden": false,
     "source_hidden": false
    },
    "microsoft": {
     "language": "python",
     "language_group": "synapse_pyspark"
    },
    "nteract": {
     "transient": {
      "deleting": false
     }
    }
   },
   "outputs": [],
   "source": [
    "parent_column_name = \"oil_changes\"\n",
    "print(f\"Input value (parent_column_name): {type(parent_column_name)} | {parent_column_name}\")\n",
    "\n",
    "time_start = dt.datetime.now()\n",
    "rv_try = fn_get_json_column(parent_column_name)\n",
    "print(f\"Duration: {(dt.datetime.now() - time_start)}\\n\")\n",
    "\n",
    "print(f\"Return value: {rv_try}\")\n",
    "print(f\"Return value[0]: {type(rv_try[0])} | {rv_try[0]}\")\n",
    "print(f\"Return value[1]: {type(rv_try[1])} | {rv_try[1]}\")\n",
    "print(f\"Return value (sdf_exist) type: {type(rv_try[2])}\")\n",
    "print(f\"Return value (sdf_exist):\")\n",
    "display(rv_try[2])\n",
    "print(f\"Return value [3]: {type(rv_try[3])} | {rv_try[3]}\")\n",
    "\n",
    "# Uncomment # test \"except\" to test exception\n",
    "\n",
    "pdf_log.reset_index(drop = True, inplace = True)\n",
    "display(pdf_log.sort_values(by = \"logged_datetime\", ascending = False))"
   ]
  },
  {
   "cell_type": "markdown",
   "id": "95970645-70a2-433f-9374-38e1b395fac4",
   "metadata": {
    "microsoft": {
     "language": "python",
     "language_group": "synapse_pyspark"
    },
    "nteract": {
     "transient": {
      "deleting": false
     }
    }
   },
   "source": [
    "## Check if JSON file exists"
   ]
  },
  {
   "cell_type": "code",
   "execution_count": null,
   "id": "7f3b3b93-4326-4107-a3b7-f98c477e3d15",
   "metadata": {
    "collapsed": false,
    "jupyter": {
     "outputs_hidden": false,
     "source_hidden": false
    },
    "microsoft": {
     "language": "python",
     "language_group": "synapse_pyspark"
    },
    "nteract": {
     "transient": {
      "deleting": false
     }
    }
   },
   "outputs": [],
   "source": [
    "dict_parameter = {\"technology\": \"JSON\", \"frequency\": \"Daily\", \"folder_name\": \"\", \"file_name\": \"pl_test_1_1\", \"folder_name_clean\": \"\", \"file_name_clean\": \"pl_test_1_1\"}\n",
    "print(f\"Input value (dict_parameter): {type(dict_parameter)} | {dict_parameter}\")\n",
    "\n",
    "print(f\"\\n# Execution (try) - Start #\")\n",
    "time_start = dt.datetime.now()\n",
    "rv_try = fn_does_json_file_exist(dict_parameter)\n",
    "print(f\"# Execution (try) - End (duration: {(dt.datetime.now() - time_start)}) #\\n\")\n",
    "\n",
    "print(f\"Return value: {rv_try}\")\n",
    "print(f\"Return value [0]: {type(rv_try[0])} | {rv_try[0]}\")\n",
    "print(f\"Return value [1]: {type(rv_try[1])} | {rv_try[1]}\")\n",
    "print(f\"Return value [2]: {type(rv_try[2])} | {rv_try[2]}\")\n",
    "\n",
    "print(\"\\n--------------------\\n\")\n",
    "\n",
    "dict_parameter = {\"technology\": \"JSON\", \"frequency\": \"Daily\", \"folder_name_clean\": \"\", \"file_name_clean\": \"pl_test_1 123\"}\n",
    "print(f\"Input value (dict_parameter): {type(dict_parameter)} | {dict_parameter}\")\n",
    "\n",
    "print(f\"\\n# Execution (except) - Start #\")    \n",
    "time_start = dt.datetime.now()    \n",
    "rv_except = fn_does_json_file_exist(dict_parameter)\n",
    "print(f\"# Execution (except) - End (duration: {(dt.datetime.now() - time_start)}) #\\n\")\n",
    "\n",
    "print(f\"Return value: {rv_except}\")\n",
    "print(f\"Return value [0]: {type(rv_except[0])} | {rv_except[0]}\")\n",
    "print(f\"Return value [1]: {type(rv_except[1])} | {rv_except[1]}\")\n",
    "print(f\"Return value [2]: {type(rv_try[2])} | {rv_try[2]}\")\n",
    "\n",
    "pdf_log.reset_index(drop = True, inplace = True)\n",
    "display(pdf_log.sort_values(by = \"logged_datetime\", ascending = False))"
   ]
  },
  {
   "cell_type": "markdown",
   "id": "1ec9d738-5aa8-41be-8762-a9c25781f35c",
   "metadata": {
    "microsoft": {
     "language": "python",
     "language_group": "synapse_pyspark"
    },
    "nteract": {
     "transient": {
      "deleting": false
     }
    }
   },
   "source": [
    "## Read JSON file into temp view json_data"
   ]
  },
  {
   "cell_type": "code",
   "execution_count": null,
   "id": "be6bda2b-9d4f-41e2-bd81-3b59bd6f52da",
   "metadata": {
    "collapsed": false,
    "jupyter": {
     "outputs_hidden": false,
     "source_hidden": false
    },
    "microsoft": {
     "language": "python",
     "language_group": "synapse_pyspark"
    },
    "nteract": {
     "transient": {
      "deleting": false
     }
    }
   },
   "outputs": [],
   "source": [
    "dict_parameter = {\"technology\": \"JSON\", \"frequency\": \"Daily\", \"folder_name\": \"\", \"file_name\": \"pl_test_1_1\", \"folder_name_clean\": \"\", \"file_name_clean\": \"pl_test_1_1\"}\n",
    "print(f\"Input value (dict_parameter): {type(dict_parameter)} | {dict_parameter}\")\n",
    "\n",
    "time_start = dt.datetime.now()\n",
    "rv_try = fn_read_json_file(dict_parameter)\n",
    "print(f\"duration: {(dt.datetime.now() - time_start)}\\n\")\n",
    "\n",
    "print(f\"Return value: {rv_try}\")\n",
    "print(f\"Return value[0]: {type(rv_try[0])} | {rv_try[0]}\")\n",
    "print(f\"Return value[1]: {type(rv_try[1])} | {rv_try[1]}\")\n",
    "\n",
    "print(f\"describe tvw_json_data:\")\n",
    "display(spark.sql(\"describe tvw_json_data;\"))\n",
    "\n",
    "print(f\"select * from tvw_json_data:\")\n",
    "display(spark.sql(\"select * from tvw_json_data;\"))\n",
    "\n",
    "# Uncomment # test \"except\" to test exception\n",
    "\n",
    "pdf_log.reset_index(drop = True, inplace = True)\n",
    "display(pdf_log.sort_values(by = \"logged_datetime\", ascending = False))"
   ]
  },
  {
   "cell_type": "markdown",
   "id": "79bedc3d-e039-4511-934b-70ca6f313f67",
   "metadata": {
    "microsoft": {
     "language": "python",
     "language_group": "synapse_pyspark"
    },
    "nteract": {
     "transient": {
      "deleting": false
     }
    }
   },
   "source": [
    "## Create temp view for root array"
   ]
  },
  {
   "cell_type": "code",
   "execution_count": null,
   "id": "74663422-9b21-46f1-b4ef-b2323ce3dea0",
   "metadata": {
    "collapsed": false,
    "jupyter": {
     "outputs_hidden": false,
     "source_hidden": false
    },
    "microsoft": {
     "language": "python",
     "language_group": "synapse_pyspark"
    },
    "nteract": {
     "transient": {
      "deleting": false
     }
    }
   },
   "outputs": [],
   "source": [
    "column_name = \"results\"\n",
    "does_root_array_exist = True\n",
    "print(f\"Input value (column_name): {type(column_name)} | {column_name}\")\n",
    "print(f\"Input value (does_root_array_exist): {type(does_root_array_exist)} | {does_root_array_exist}\")\n",
    "\n",
    "time_start = dt.datetime.now()\n",
    "rv_try = fn_create_tvw_root_array(column_name, does_root_array_exist)\n",
    "print(f\"duration: {(dt.datetime.now() - time_start)}\\n\")\n",
    "\n",
    "print(f\"Return value: {rv_try}\")\n",
    "print(f\"Return value [0]: {type(rv_try[0])} | {rv_try[0]}\")\n",
    "print(f\"Return value [1]: {type(rv_try[1])} | {rv_try[1]}\")\n",
    "print(f\"Return value [2]: {type(rv_try[2])} | {rv_try[2]}\")\n",
    "\n",
    "sdf = spark.sql(f\"\"\"SHOW VIEWS;\"\"\")\n",
    "for row in sdf.filter(sdf.isTemporary == True).collect():\n",
    "    if row.viewName == \"tvw_results\":\n",
    "        display(spark.sql(\"DESCRIBE `tvw_results`;\"))\n",
    "        display(spark.sql(\"SELECT * FROM `tvw_results`;\"))\n",
    "    elif row.viewName == \"tvw_root\":\n",
    "        display(fn_execute_spark_sql(\"DESCRIBE `tvw_root`;\"))\n",
    "        display(fn_execute_spark_sql(\"SELECT * FROM `tvw_root`;\"))\n",
    "\n",
    "# Uncomment # test \"except\" to test exception\n",
    "\n",
    "pdf_log.reset_index(drop = True, inplace = True)\n",
    "display(pdf_log.sort_values(by = \"logged_datetime\", ascending = False))"
   ]
  },
  {
   "cell_type": "markdown",
   "id": "4bb64569-c2a4-42a1-98b2-7213eea95bec",
   "metadata": {
    "microsoft": {
     "language": "python",
     "language_group": "synapse_pyspark"
    },
    "nteract": {
     "transient": {
      "deleting": false
     }
    }
   },
   "source": [
    "## Create temp view for not root array"
   ]
  },
  {
   "cell_type": "code",
   "execution_count": null,
   "id": "06b22bdd-e6e1-4944-b27e-554a9abe9732",
   "metadata": {
    "collapsed": false,
    "jupyter": {
     "outputs_hidden": false,
     "source_hidden": false
    },
    "microsoft": {
     "language": "python",
     "language_group": "synapse_pyspark"
    },
    "nteract": {
     "transient": {
      "deleting": false
     }
    }
   },
   "outputs": [],
   "source": [
    "column_name = \"SIN\"\n",
    "parent_column_name = \"results\"\n",
    "breadcrumb_column_name = \"SIN\"\n",
    "breadcrumb_parent_column_name = \"\"\n",
    "data_type = \"Struct\"\n",
    "child_list = [\"previous_sins\"]\n",
    "\n",
    "print(f\"Input value (column_name): {type(column_name)} | {column_name}\")\n",
    "print(f\"Input value (parent_column_name): {type(parent_column_name)} | {parent_column_name}\")\n",
    "print(f\"Input value (breadcrumb_column_name): {type(breadcrumb_column_name)} | {breadcrumb_column_name}\")\n",
    "print(f\"Input value (breadcrumb_parent_column_name): {type(breadcrumb_parent_column_name)} | {breadcrumb_parent_column_name}\")\n",
    "print(f\"Input value (data_type): {type(data_type)} | {data_type}\")\n",
    "print(f\"Input value (child_list): {type(child_list)} | {child_list}\")\n",
    "\n",
    "print(f\"\\n# Execution (try) - Start #\")\n",
    "time_start = dt.datetime.now()\n",
    "rv_try = fn_create_tvw(column_name, parent_column_name, breadcrumb_column_name, breadcrumb_parent_column_name, data_type, child_list)\n",
    "print(f\"# Execution (try) - End (duration: {(dt.datetime.now() - time_start)}) #\\n\")\n",
    "\n",
    "print(f\"Return value: {rv_try}\")\n",
    "print(f\"Return value [0]: {type(rv_try[0])} | {rv_try[0]}\")\n",
    "print(f\"Return value [1]: {type(rv_try[1])} | {rv_try[1]}\")\n",
    "print(f\"Return value [2]: {type(rv_try[2])} | {rv_try[2]}\")\n",
    "sdf = spark.sql(\"SELECT * FROM tvw_SIN\")\n",
    "display(sdf)\n",
    "\n",
    "print(\"\\n--------------------\\n\")\n",
    "\n",
    "column_name = \"SIN 123\"\n",
    "print(f\"Input value (column_name): {type(column_name)} | {column_name}\")\n",
    "\n",
    "print(f\"\\n# Execution (except) - Start #\")\n",
    "time_start = dt.datetime.now()    \n",
    "rv_except = fn_create_tvw(column_name, parent_column_name, breadcrumb_column_name, breadcrumb_parent_column_name, data_type, child_list)\n",
    "print(f\"# Execution (except) - End (duration: {(dt.datetime.now() - time_start)}) #\\n\")\n",
    "\n",
    "print(f\"Return value: {rv_except}\")\n",
    "print(f\"Return value [0]: {type(rv_except[0])} | {rv_except[0]}\")\n",
    "print(f\"Return value [1]: {type(rv_except[1])} | {rv_except[1]}\")\n",
    "print(f\"Return value [2]: {type(rv_try[2])} | {rv_try[2]}\")\n",
    "\n",
    "pdf_log.reset_index(drop = True, inplace = True)\n",
    "display(pdf_log.sort_values(by = \"logged_datetime\", ascending = False))"
   ]
  },
  {
   "cell_type": "markdown",
   "id": "59bdfa6b-d105-4ee0-9907-c0b765eecdfa",
   "metadata": {
    "microsoft": {
     "language": "python",
     "language_group": "synapse_pyspark"
    },
    "nteract": {
     "transient": {
      "deleting": false
     }
    }
   },
   "source": [
    "## Get a list of the JSON files to extract"
   ]
  },
  {
   "cell_type": "code",
   "execution_count": null,
   "id": "f25de02b-86bf-409d-80b3-d44246a3bcc7",
   "metadata": {
    "collapsed": false,
    "jupyter": {
     "outputs_hidden": false,
     "source_hidden": false
    },
    "microsoft": {
     "language": "python",
     "language_group": "synapse_pyspark"
    },
    "nteract": {
     "transient": {
      "deleting": false
     }
    }
   },
   "outputs": [],
   "source": [
    "technology = \"JSON\"\n",
    "frequency = \"Daily\"\n",
    "\n",
    "print(f\"Input value (technology): {type(technology)} | {technology}\")\n",
    "print(f\"Input value (frequency): {type(frequency)} | {frequency}\")\n",
    "\n",
    "time_start = dt.datetime.now()\n",
    "rv = fn_get_extract_list(technology, frequency)\n",
    "print(f\"duration: {(dt.datetime.now() - time_start)}\\n\")\n",
    "\n",
    "print(f\"Return value: {rv}\")\n",
    "print(f\"Return value[0]: {type(rv[0])} | {rv[0]}\")\n",
    "print(f\"Return value[1]: {type(rv[1])} | {rv[1]}\")\n",
    "print(f\"Return value (sdf_exist) type: {type(rv[2])}\")\n",
    "print(f\"Return value (sdf_exist):\")\n",
    "display(rv[2])\n",
    "print(f\"Return value [3]: {type(rv[3])} | {rv[3]}\")\n",
    "\n",
    "# Uncomment # test \"except\" to test exception\n",
    "\n",
    "pdf_log.reset_index(drop = True, inplace = True)\n",
    "display(pdf_log.sort_values(by = \"logged_datetime\", ascending = False))"
   ]
  },
  {
   "cell_type": "markdown",
   "id": "b873b448-a250-4370-907a-b190a58537ea",
   "metadata": {
    "microsoft": {
     "language": "python",
     "language_group": "synapse_pyspark"
    },
    "nteract": {
     "transient": {
      "deleting": false
     }
    }
   },
   "source": [
    "## Create dynamic code to join the temp views"
   ]
  },
  {
   "cell_type": "code",
   "execution_count": null,
   "id": "8870014c-d458-4a9e-8c97-878d83ab7f65",
   "metadata": {
    "collapsed": false,
    "jupyter": {
     "outputs_hidden": false,
     "source_hidden": false
    },
    "microsoft": {
     "language": "python",
     "language_group": "synapse_pyspark"
    },
    "nteract": {
     "transient": {
      "deleting": false
     }
    }
   },
   "outputs": [],
   "source": [
    "time_start = dt.datetime.now()\n",
    "rv = fn_get_sql_code_join_tvw()\n",
    "print(f\"duration: {(dt.datetime.now() - time_start)}\\n\")\n",
    "\n",
    "print(f\"Return value: {rv}\")\n",
    "print(f\"Return value [0]: {type(rv[0])} | {rv[0]}\")\n",
    "print(f\"Return value [1]: {type(rv[1])} | {rv[1]}\")\n",
    "print(f\"Return value [2]: {type(rv[2])} | {rv[2]}\")\n",
    "\n",
    "# Uncomment # test \"except\" to test exception\n",
    "\n",
    "pdf_log.reset_index(drop = True, inplace = True)\n",
    "display(pdf_log.sort_values(by = \"logged_datetime\", ascending = False))"
   ]
  },
  {
   "cell_type": "markdown",
   "id": "44414d3b-2764-465c-a0d8-6109e485acb0",
   "metadata": {
    "microsoft": {
     "language": "python",
     "language_group": "synapse_pyspark"
    },
    "nteract": {
     "transient": {
      "deleting": false
     }
    }
   },
   "source": [
    "## Clean up column names"
   ]
  },
  {
   "cell_type": "code",
   "execution_count": null,
   "id": "edcaea7e-294f-4557-b25e-53e707890219",
   "metadata": {
    "collapsed": false,
    "jupyter": {
     "outputs_hidden": false,
     "source_hidden": false
    },
    "microsoft": {
     "language": "python",
     "language_group": "synapse_pyspark"
    },
    "nteract": {
     "transient": {
      "deleting": false
     }
    }
   },
   "outputs": [],
   "source": [
    "sdf_final = spark.sql(\"\"\"SELECT DISTINCT `results`.`person_id`,`results`.`first_name`,`results`.`last_name`,`results`.`gender`\n",
    "FROM `tvw_results` AS `results`\"\"\")\n",
    "\n",
    "time_start = dt.datetime.now()\n",
    "rv_try = fn_clean_column_name_in_sdf_final(sdf_final)\n",
    "print(f\"duration: {(dt.datetime.now() - time_start)}\\n\")\n",
    "\n",
    "print(f\"Return value: {rv_try}\")\n",
    "print(f\"Return value[0]: {type(rv_try[0])} | {rv_try[0]}\")\n",
    "print(f\"Return value[1]: {type(rv_try[1])} | {rv_try[1]}\")\n",
    "print(f\"Return value (sdf_exist) type: {type(rv_try[2])}\")\n",
    "print(f\"Return value (sdf_exist):\")\n",
    "display(rv_try[2])\n",
    "print(f\"Return value [3]: {type(rv_try[3])} | {rv_try[3]}\")\n",
    "\n",
    "# Uncomment # test \"except\" to test exception\n",
    "\n",
    "pdf_log.reset_index(drop = True, inplace = True)\n",
    "display(pdf_log.sort_values(by = \"logged_datetime\", ascending = False))"
   ]
  },
  {
   "cell_type": "markdown",
   "id": "28bc6553-ee5a-4128-a392-cc1fbc7f923f",
   "metadata": {
    "microsoft": {
     "language": "python",
     "language_group": "synapse_pyspark"
    },
    "nteract": {
     "transient": {
      "deleting": false
     }
    }
   },
   "source": [
    "## Save the result in bronze table"
   ]
  },
  {
   "cell_type": "code",
   "execution_count": null,
   "id": "a8a37679-f1fd-45e7-86bd-5c40e3a8710d",
   "metadata": {
    "collapsed": false,
    "jupyter": {
     "outputs_hidden": false,
     "source_hidden": false
    },
    "microsoft": {
     "language": "python",
     "language_group": "synapse_pyspark"
    },
    "nteract": {
     "transient": {
      "deleting": false
     }
    }
   },
   "outputs": [],
   "source": [
    "dict_parameter = {\"technology_clean\": \"JSON\", \"frequency\": \"Test_1\", \"folder_name_clean\": \"Test_2\", \"file_name_clean\": \"Test_3\"}\n",
    "sdf = sdf_final\n",
    "\n",
    "print(f\"Input value (dict_parameter): {type(dict_parameter)} | {dict_parameter}\")\n",
    "print(f\"Input value (sdf): type {type(sdf)}\")\n",
    "print(f\"sdf:\")\n",
    "display(sdf)\n",
    "\n",
    "time_start = dt.datetime.now()\n",
    "rv_try = fn_save_json_as_table(dict_parameter, sdf)\n",
    "print(f\"Duration: {(dt.datetime.now() - time_start)}\\n\")\n",
    "\n",
    "print(f\"Return value: {rv_try}\")\n",
    "print(f\"Return value [0]: {type(rv_try[0])} | {rv_try[0]}\")\n",
    "print(f\"Return value [1]: {type(rv_try[1])} | {rv_try[1]}\")\n",
    "print(f\"Return value [2]: {type(rv_try[2])} | {rv_try[2]}\")\n",
    "\n",
    "# Uncomment # test \"except\" to test exception\n",
    "\n",
    "pdf_log.reset_index(drop = True, inplace = True)\n",
    "display(pdf_log.sort_values(by = \"logged_datetime\", ascending = False))"
   ]
  },
  {
   "cell_type": "markdown",
   "id": "6fd577f9-c876-44ba-9c4d-f0cf4f7e6bdd",
   "metadata": {
    "microsoft": {
     "language": "python",
     "language_group": "synapse_pyspark"
    },
    "nteract": {
     "transient": {
      "deleting": false
     }
    }
   },
   "source": [
    "## Drop all temp views"
   ]
  },
  {
   "cell_type": "code",
   "execution_count": null,
   "id": "369af919-0127-4e0c-8ebd-4b9b9dfb0695",
   "metadata": {
    "collapsed": false,
    "jupyter": {
     "outputs_hidden": false,
     "source_hidden": false
    },
    "microsoft": {
     "language": "python",
     "language_group": "synapse_pyspark"
    },
    "nteract": {
     "transient": {
      "deleting": false
     }
    }
   },
   "outputs": [],
   "source": [
    "time_start = dt.datetime.now()\n",
    "rv = fn_drop_all_temp_views()\n",
    "print(f\"Duration: {(dt.datetime.now() - time_start)}\\n\")\n",
    "\n",
    "print(f\"Return value: {type(rv)} | {rv}\")\n",
    "print(f\"Return value [0]: {type(rv[0])} | {rv[0]}\")\n",
    "print(f\"Return value [1]: {type(rv[1])} | {rv[1]}\")\n",
    "\n",
    "# Uncomment # test \"except\" to test exception\n",
    "\n",
    "pdf_log.reset_index(drop = True, inplace = True)\n",
    "display(pdf_log.sort_values(by = \"logged_datetime\", ascending = False))"
   ]
  },
  {
   "cell_type": "code",
   "execution_count": null,
   "id": "c1103ec3-b2b2-4412-a9b0-8fa982157a2b",
   "metadata": {
    "jupyter": {
     "outputs_hidden": false,
     "source_hidden": false
    },
    "microsoft": {
     "language": "python",
     "language_group": "synapse_pyspark"
    },
    "nteract": {
     "transient": {
      "deleting": false
     }
    }
   },
   "outputs": [],
   "source": [
    "if is_debug: print(\"\\n---------- This notenook name: nb_bronze_function_extract_json_test - End ----------\\n\")"
   ]
  },
  {
   "cell_type": "markdown",
   "id": "02083d7d-80f0-469f-8c69-2647b3074301",
   "metadata": {
    "microsoft": {
     "language": "python",
     "language_group": "synapse_pyspark"
    },
    "nteract": {
     "transient": {
      "deleting": false
     }
    }
   },
   "source": [
    "# Test"
   ]
  },
  {
   "cell_type": "code",
   "execution_count": null,
   "id": "2b03f217-9fe8-4ad6-85fd-758215e1a4ec",
   "metadata": {
    "editable": true,
    "jupyter": {
     "outputs_hidden": false,
     "source_hidden": false
    },
    "microsoft": {
     "language": "python",
     "language_group": "synapse_pyspark"
    },
    "nteract": {
     "transient": {
      "deleting": false
     }
    },
    "run_control": {
     "frozen": false
    }
   },
   "outputs": [],
   "source": [
    "is_debug = False"
   ]
  },
  {
   "cell_type": "code",
   "execution_count": null,
   "id": "bcee3984-26ea-4057-8d59-90b0e3951e73",
   "metadata": {
    "editable": true,
    "jupyter": {
     "outputs_hidden": false,
     "source_hidden": false
    },
    "microsoft": {
     "language": "python",
     "language_group": "synapse_pyspark"
    },
    "nteract": {
     "transient": {
      "deleting": false
     }
    },
    "run_control": {
     "frozen": false
    }
   },
   "outputs": [],
   "source": [
    "# Delete the tables in \"lh_bronze\"\n",
    "rv = fn_delete_all_in_folder(f\"{global_parameter.abfs_path_lh_bronze}/Tables\")\n",
    "print(f\" Return value: {rv}\")"
   ]
  },
  {
   "cell_type": "code",
   "execution_count": null,
   "id": "1805faa8-f8a5-43fc-9f5b-319d6f32a094",
   "metadata": {
    "collapsed": false,
    "editable": true,
    "jupyter": {
     "outputs_hidden": false,
     "source_hidden": false
    },
    "microsoft": {
     "language": "python",
     "language_group": "synapse_pyspark"
    },
    "nteract": {
     "transient": {
      "deleting": false
     }
    },
    "run_control": {
     "frozen": false
    }
   },
   "outputs": [],
   "source": [
    "rv = fn_extract_json(\"JSON\", \"Daily\")\n",
    "print(f\"Return value: {rv}\")"
   ]
  },
  {
   "cell_type": "code",
   "execution_count": null,
   "id": "ecbb7d53-80f0-4f03-93ee-b70c36224fff",
   "metadata": {
    "jupyter": {
     "outputs_hidden": false,
     "source_hidden": false
    },
    "microsoft": {
     "language": "python",
     "language_group": "synapse_pyspark"
    },
    "nteract": {
     "transient": {
      "deleting": false
     }
    }
   },
   "outputs": [],
   "source": [
    "pdf_log = pd.DataFrame({\n",
    "    'process_timestamp': pd.Series(dtype = 'str')\n",
    "    , 'medallion_name': pd.Series(dtype = 'str')\n",
    "    , 'source_name': pd.Series(dtype = 'str')\n",
    "    , 'locals': pd.Series(dtype = 'str')\n",
    "    , 'alert': pd.Series(dtype = 'str')\n",
    "    , 'alert_description': pd.Series(dtype = 'str')\n",
    "    , 'logged_datetime': pd.Series(dtype = 'datetime64[ms]')\n",
    "})"
   ]
  },
  {
   "cell_type": "code",
   "execution_count": null,
   "id": "78dd8e7c-9af9-4622-b087-96cc461cf5c4",
   "metadata": {
    "jupyter": {
     "outputs_hidden": false,
     "source_hidden": false
    },
    "microsoft": {
     "language": "python",
     "language_group": "synapse_pyspark"
    },
    "nteract": {
     "transient": {
      "deleting": false
     }
    }
   },
   "outputs": [],
   "source": [
    "sdf_log.spark.create"
   ]
  },
  {
   "cell_type": "code",
   "execution_count": null,
   "id": "4ce52052-2afc-42e8-9a88-e58a52b4e94e",
   "metadata": {
    "collapsed": false,
    "jupyter": {
     "outputs_hidden": false,
     "source_hidden": false
    },
    "microsoft": {
     "language": "python",
     "language_group": "synapse_pyspark"
    },
    "nteract": {
     "transient": {
      "deleting": false
     }
    }
   },
   "outputs": [],
   "source": [
    "pdf_log.reset_index(drop = True, inplace = True)\n",
    "display(pdf_log.sort_values(by = \"logged_datetime\", ascending = False))"
   ]
  },
  {
   "cell_type": "code",
   "execution_count": null,
   "id": "5b18d569-0893-4c73-9fb2-d52b2f35c2df",
   "metadata": {
    "jupyter": {
     "outputs_hidden": false,
     "source_hidden": false
    },
    "microsoft": {
     "language": "python",
     "language_group": "synapse_pyspark"
    },
    "nteract": {
     "transient": {
      "deleting": false
     }
    }
   },
   "outputs": [],
   "source": [
    "# Append local log to lh_log.log\n",
    "fn_lh_log_log_insert()"
   ]
  }
 ],
 "metadata": {
  "dependencies": {},
  "kernel_info": {
   "name": "synapse_pyspark"
  },
  "kernelspec": {
   "display_name": "Synapse PySpark",
   "language": "Python",
   "name": "synapse_pyspark"
  },
  "language_info": {
   "name": "python"
  },
  "microsoft": {
   "language": "python",
   "language_group": "synapse_pyspark",
   "ms_spell_check": {
    "ms_spell_check_language": "en"
   }
  },
  "nteract": {
   "version": "nteract-front-end@1.0.0"
  },
  "spark_compute": {
   "compute_id": "/trident/default",
   "session_options": {
    "conf": {
     "spark.synapse.nbs.session.timeout": "1200000"
    }
   }
  },
  "synapse_widget": {
   "state": {},
   "version": "0.1"
  },
  "widgets": {}
 },
 "nbformat": 4,
 "nbformat_minor": 5
}
