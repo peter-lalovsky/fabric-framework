{
 "cells": [
  {
   "cell_type": "code",
   "execution_count": null,
   "id": "adf06b17-f389-457e-93fa-f9c052289103",
   "metadata": {
    "editable": false,
    "jupyter": {
     "outputs_hidden": false,
     "source_hidden": false
    },
    "microsoft": {
     "language": "python",
     "language_group": "synapse_pyspark"
    },
    "nteract": {
     "transient": {
      "deleting": false
     }
    },
    "run_control": {
     "frozen": true
    }
   },
   "outputs": [],
   "source": [
    "# This notebook is to test (Quality Assurance) notebook \"nb_bronze_function_extract_lakehouse_sql_server\"\n",
    "# Needed only in DEV environment"
   ]
  },
  {
   "cell_type": "code",
   "execution_count": null,
   "id": "e9ff7b8f-9736-418b-a27f-6c5355509da7",
   "metadata": {
    "collapsed": false,
    "editable": true,
    "jupyter": {
     "outputs_hidden": false,
     "source_hidden": false
    },
    "microsoft": {
     "language": "python",
     "language_group": "synapse_pyspark"
    },
    "nteract": {
     "transient": {
      "deleting": false
     }
    },
    "run_control": {
     "frozen": false
    }
   },
   "outputs": [],
   "source": [
    "%run nb_temp_load_cfg"
   ]
  },
  {
   "cell_type": "code",
   "execution_count": null,
   "id": "97341fe8-8832-4a4e-906c-a3d1a95b38c1",
   "metadata": {
    "jupyter": {
     "outputs_hidden": false,
     "source_hidden": false
    },
    "microsoft": {
     "language": "python",
     "language_group": "synapse_pyspark"
    },
    "nteract": {
     "transient": {
      "deleting": false
     }
    }
   },
   "outputs": [],
   "source": [
    "%run nb_bronze_function_extract_lakehouse_sql_server"
   ]
  },
  {
   "cell_type": "markdown",
   "id": "51f36ea0-03b2-49aa-bdf3-59dfbc0a2c22",
   "metadata": {
    "microsoft": {
     "language": "python",
     "language_group": "synapse_pyspark"
    },
    "nteract": {
     "transient": {
      "deleting": false
     }
    }
   },
   "source": [
    "# System"
   ]
  },
  {
   "cell_type": "code",
   "execution_count": null,
   "id": "a736f086-73d7-4dbd-b9b3-6fd062e409ad",
   "metadata": {
    "jupyter": {
     "outputs_hidden": false,
     "source_hidden": false
    },
    "microsoft": {
     "language": "python",
     "language_group": "synapse_pyspark"
    },
    "nteract": {
     "transient": {
      "deleting": false
     }
    }
   },
   "outputs": [],
   "source": [
    "if is_debug: print(\"\\n---------- This notenook name: nb_bronze_function_extract_lakehouse_sql_server_test - Start ----------\\n\")"
   ]
  },
  {
   "cell_type": "code",
   "execution_count": null,
   "id": "2234db21-912d-40e2-a018-f82c6d161621",
   "metadata": {
    "jupyter": {
     "outputs_hidden": false,
     "source_hidden": false
    },
    "microsoft": {
     "language": "python",
     "language_group": "synapse_pyspark"
    },
    "nteract": {
     "transient": {
      "deleting": false
     }
    }
   },
   "outputs": [],
   "source": [
    "medallion_name = \"Bronze\"\n",
    "if is_debug: print(f\"medallion_name: {medallion_name}\")"
   ]
  },
  {
   "cell_type": "code",
   "execution_count": null,
   "id": "40ce5bb0-b681-4a0f-b7aa-3a0af5cfda5c",
   "metadata": {
    "jupyter": {
     "outputs_hidden": false,
     "source_hidden": false
    },
    "microsoft": {
     "language": "python",
     "language_group": "synapse_pyspark"
    },
    "nteract": {
     "transient": {
      "deleting": false
     }
    }
   },
   "outputs": [],
   "source": [
    "# Current session info\n",
    "if is_debug: display(ss.getActiveSession())"
   ]
  },
  {
   "cell_type": "markdown",
   "id": "2288e24c-9bc6-4e08-a5af-f8eeed17ad41",
   "metadata": {
    "microsoft": {
     "language": "python",
     "language_group": "synapse_pyspark"
    },
    "nteract": {
     "transient": {
      "deleting": false
     }
    }
   },
   "source": [
    "# Function"
   ]
  },
  {
   "cell_type": "markdown",
   "id": "6b3e01ad-1f89-4e80-b207-a4badf34b9f5",
   "metadata": {
    "microsoft": {
     "language": "python",
     "language_group": "synapse_pyspark"
    },
    "nteract": {
     "transient": {
      "deleting": false
     }
    }
   },
   "source": [
    "## Get \"server_name\" for \"server_alias\""
   ]
  },
  {
   "cell_type": "code",
   "execution_count": null,
   "id": "5db2d123-ac8f-402d-8e59-dd28d3fdf993",
   "metadata": {
    "collapsed": false,
    "jupyter": {
     "outputs_hidden": false,
     "source_hidden": false
    },
    "microsoft": {
     "language": "python",
     "language_group": "synapse_pyspark"
    },
    "nteract": {
     "transient": {
      "deleting": false
     }
    }
   },
   "outputs": [],
   "source": [
    "dict_server_alias_server_name = {\"sql_server\": \"sql-server.database.windows.net\"}\n",
    "server_alias                  = \"sql_server\"\n",
    "print(f\"Input value (dict_server_alias_server_name): {type(dict_server_alias_server_name)} | {dict_server_alias_server_name}\")        \n",
    "print(f\"Input value (server_alias): {type(server_alias)} | {server_alias}\")\n",
    "\n",
    "time_start = dt.datetime.now()    \n",
    "rv_try = fn_get_server_name_for_server_alias(dict_server_alias_server_name, server_alias)\n",
    "print(f\"\\nDuration: {(dt.datetime.now() - time_start)}\\n\")\n",
    "\n",
    "print(f\"Return value: {rv_try}\")\n",
    "print(f\"Return value [0]: {type(rv_try[0])} | {rv_try[0]}\")\n",
    "print(f\"Return value [1]: {type(rv_try[1])} | {rv_try[1]}\")\n",
    "print(f\"Return value [2]: {type(rv_try[2])} | {rv_try[2]}\")\n",
    "\n",
    "# Uncomment # test \"except\" to test exception\n",
    "\n",
    "pdf_log.reset_index(drop = True, inplace = True)\n",
    "display(pdf_log.sort_values(by = \"logged_datetime\", ascending = False))"
   ]
  },
  {
   "cell_type": "markdown",
   "id": "feae575d-70b0-4189-afbf-f0086e2ca8f4",
   "metadata": {
    "microsoft": {
     "language": "python",
     "language_group": "synapse_pyspark"
    },
    "nteract": {
     "transient": {
      "deleting": false
     }
    }
   },
   "source": [
    "## Execute SQL query on source server"
   ]
  },
  {
   "cell_type": "code",
   "execution_count": null,
   "id": "f35601a9-ad38-47d9-b9e2-9a9eddaf4955",
   "metadata": {
    "collapsed": false,
    "jupyter": {
     "outputs_hidden": false,
     "source_hidden": false
    },
    "microsoft": {
     "language": "python",
     "language_group": "synapse_pyspark"
    },
    "nteract": {
     "transient": {
      "deleting": false
     }
    }
   },
   "outputs": [],
   "source": [
    "dict_parameter = {\n",
    "    \"technology\": \"SQL Server\"\n",
    "    , \"frequency\": \"Daily\"\n",
    "    , \"server_name\": \"sql-server.database.windows.net\"\n",
    "    , \"database_name\": \"AdventureWorks\"\n",
    "    , \"keyvault_url\": \"https://kv-keyvault.vault.azure.net/\"\n",
    "    , \"keyvault_secret_name_user\": \"sql-server-database-usr\"\n",
    "    , \"keyvault_secret_name_password\": \"sql-server-database--pwd\"\n",
    "    , \"sql_query\": \"SELECT TOP (10) * FROM SalesLT.Address\"\n",
    "}\n",
    "print(f\"Input value (dict_parameter): {type(dict_parameter)} | {dict_parameter}\")\n",
    "\n",
    "print(f\"\\n# Execution (try) - Start #\")\n",
    "time_start = dt.datetime.now()    \n",
    "rv_try = fn_execute_sql_query(dict_parameter)\n",
    "print(f\"# Execution (try) - End (duration: {(dt.datetime.now() - time_start)}) #\\n\")\n",
    "\n",
    "print(f\"Return value: {rv_try}\")\n",
    "print(f\"Return value[0]: {type(rv_try[0])} | {rv_try[0]}\")\n",
    "print(f\"Return value[1]: {type(rv_try[1])} | {rv_try[1]}\")\n",
    "print(f\"Return value (sdf_exist) type: {type(rv_try[2])}\")\n",
    "print(f\"Return value (sdf_exist):\")\n",
    "display(rv_try[2])\n",
    "print(f\"Return value [3]: {type(rv_try[3])} | {rv_try[3]}\")\n",
    "\n",
    "print(\"\\n--------------------\\n\")\n",
    "\n",
    "dict_parameter = {\n",
    "    \"technology\": \"SQL Server\"\n",
    "    , \"frequency\": \"Daily\"\n",
    "    , \"server_name\": \"sql-server.database.windows.net\"\n",
    "    , \"database_name\": \"AdventureWorks\"\n",
    "    , \"keyvault_url\": \"https://kv-keyvault.vault.azure.net/\"\n",
    "    , \"keyvault_secret_name_user\": \"sql-server-database-usr\"\n",
    "    , \"keyvault_secret_name_password\": \"sql-server-database-pwd\"\n",
    "    , \"sql_query\": \"SELECT TOP (10) * FROM SalesLT.Address_Fake\" # Fake table\n",
    "}\n",
    "\n",
    "print(f\"\\n# Execution (except) - Start #\")\n",
    "time_start = dt.datetime.now()\n",
    "rv_except = fn_execute_sql_query(dict_parameter)\n",
    "print(f\"# Execution (except) - End (duration: {(dt.datetime.now() - time_start)}) #\\n\")\n",
    "\n",
    "print(f\"Return value: {rv_except}\")\n",
    "print(f\"Return value [0]: {type(rv_except[0])} | {rv_except[0]}\")\n",
    "print(f\"Return value [1]: {type(rv_except[1])} | {rv_except[1]}\")\n",
    "print(f\"Return value [2]: {type(rv_except[2])} | {rv_except[2]}\")\n",
    "print(f\"Return value [3]: {type(rv_except[3])} | {rv_except[3]}\")\n",
    "\n",
    "pdf_log.reset_index(drop = True, inplace = True)\n",
    "display(pdf_log.sort_values(by = \"logged_datetime\", ascending = False))"
   ]
  },
  {
   "cell_type": "markdown",
   "id": "42c647d0-39b9-4baa-a862-329cdf5bf865",
   "metadata": {
    "microsoft": {
     "language": "python",
     "language_group": "synapse_pyspark"
    },
    "nteract": {
     "transient": {
      "deleting": false
     }
    }
   },
   "source": [
    "## Add initial values in table \"lh_cfg.extract_parameter\""
   ]
  },
  {
   "cell_type": "code",
   "execution_count": null,
   "id": "96810282-31ce-4a5a-8262-05ff39872b5f",
   "metadata": {
    "collapsed": false,
    "jupyter": {
     "outputs_hidden": false,
     "source_hidden": false
    },
    "microsoft": {
     "language": "python",
     "language_group": "synapse_pyspark"
    },
    "nteract": {
     "transient": {
      "deleting": false
     }
    }
   },
   "outputs": [],
   "source": [
    "technology = \"SQL Server\" # \"Lakehouse\"\n",
    "frequency  = \"Daily\"        \n",
    "print(f\"Input value (technology): {type(technology)} | {technology}\")\n",
    "print(f\"Input value (frequency): {type(frequency)} | {frequency}\")\n",
    "\n",
    "time_start = dt.datetime.now()\n",
    "rv_try = fn_add_initial_extract_parameter(technology, frequency)\n",
    "print(f\"\\nDuration: {(dt.datetime.now() - time_start)}\\n\")\n",
    "\n",
    "print(f\"Return value: {rv_try}\")\n",
    "print(f\"Return value [0]: {type(rv_try[0])} | {rv_try[0]}\")\n",
    "print(f\"Return value [1]: {type(rv_try[1])} | {rv_try[1]}\")\n",
    "print(f\"Return value [2]: {type(rv_try[2])} | {rv_try[2]}\")\n",
    "\n",
    "# Uncomment # test \"except\" to test exception\n",
    "\n",
    "pdf_log.reset_index(drop = True, inplace = True)\n",
    "display(pdf_log.sort_values(by = \"logged_datetime\", ascending = False))"
   ]
  },
  {
   "cell_type": "markdown",
   "id": "acfbfbd3-9de5-45c5-8a31-53f10b918bfb",
   "metadata": {
    "microsoft": {
     "language": "python",
     "language_group": "synapse_pyspark"
    },
    "nteract": {
     "transient": {
      "deleting": false
     }
    }
   },
   "source": [
    "## Update value \"datetime_to\" in table \"extract_parameter\""
   ]
  },
  {
   "cell_type": "code",
   "execution_count": null,
   "id": "7db42645-4d4d-44c7-904b-2e8e97924a7e",
   "metadata": {
    "collapsed": false,
    "jupyter": {
     "outputs_hidden": false,
     "source_hidden": false
    },
    "microsoft": {
     "language": "python",
     "language_group": "synapse_pyspark"
    },
    "nteract": {
     "transient": {
      "deleting": false
     }
    }
   },
   "outputs": [],
   "source": [
    "technology = \"SQL Server\" # \"Lakehouse\"\n",
    "frequency  = \"Daily\"\n",
    "print(f\"Input value (technology): {type(technology)} | {technology}\")\n",
    "print(f\"Input value (frequency): {type(frequency)} | {frequency}\")\n",
    "\n",
    "time_start = dt.datetime.now()\n",
    "rv = fn_update_datetime_to_in_extract_parameter(technology, frequency)\n",
    "print(f\"\\nDuration: {(dt.datetime.now() - time_start)}\\n\")\n",
    "\n",
    "print(f\"Return value: {rv}\")\n",
    "print(f\"Return value [0]: {type(rv[0])} | {rv[0]}\")\n",
    "print(f\"Return value [1]: {type(rv[1])} | {rv[1]}\")\n",
    "print(f\"Return value [1]: {type(rv[2])} | {rv[2]}\")\n",
    "print(f\"Return value [3]: {type(rv[3])} | {rv[3]}\")\n",
    "\n",
    "# Uncomment # test \"except\" to test exception\n",
    "\n",
    "pdf_log.reset_index(drop = True, inplace = True)\n",
    "display(pdf_log.sort_values(by = \"logged_datetime\", ascending = False))"
   ]
  },
  {
   "cell_type": "markdown",
   "id": "6b06183e-1fc9-4854-bbd5-fc1f7901fdbb",
   "metadata": {
    "microsoft": {
     "language": "python",
     "language_group": "synapse_pyspark"
    },
    "nteract": {
     "transient": {
      "deleting": false
     }
    }
   },
   "source": [
    "## Generate SELECT"
   ]
  },
  {
   "cell_type": "code",
   "execution_count": null,
   "id": "02f19c74-23c2-49bd-bdea-7c40ec5eeafe",
   "metadata": {
    "collapsed": false,
    "jupyter": {
     "outputs_hidden": false,
     "source_hidden": false
    },
    "microsoft": {
     "language": "python",
     "language_group": "synapse_pyspark"
    },
    "nteract": {
     "transient": {
      "deleting": false
     }
    }
   },
   "outputs": [],
   "source": [
    "technology     = \"SQL Server\"\n",
    "dict_parameter = {\n",
    "    \"process_timestamp\": global_parameter.process_timestamp\n",
    "    , \"technology\": \"SQL Server\"\n",
    "    , \"frequency\": \"Daily\"\n",
    "    , \"lakehouse_name\": \"\"\n",
    "    , \"server_alias\": \"sql_server\"\n",
    "    , \"server_name\": \"sql-server.database.windows.net\"\n",
    "    , \"database_name\": \"AdventureWorks\"\n",
    "    , \"schema_name\": \"SalesLT\"\n",
    "    , \"table_name\": \"SalesOrderDetail\"\n",
    "    , \"keyvault_name\": \"https://kv-keyvault.vault.azure.net/\"\n",
    "    , \"keyvault_secret_name_user\": \"sql-server-database-usr\"\n",
    "    , \"keyvault_secret_name_password\": \"sql-server-database-pwd\"\n",
    "}\n",
    "sdf = fn_get_extract_column(dict_parameter)[2]\n",
    "print(f\"Input value (sdf): {type(sdf)} | {sdf}\")\n",
    "print(f\"Input value (technology): {type(technology)} | {technology}\")\n",
    "\n",
    "time_start = dt.datetime.now()    \n",
    "rv_try = fn_get_statament_select(sdf, technology)\n",
    "print(f\"\\nDuration: {(dt.datetime.now() - time_start)}\\n\")\n",
    "\n",
    "print(f\"Return value [0]: {type(rv_try[0])} | {rv_try[0]}\")\n",
    "print(f\"Return value [1]: {type(rv_try[1])} | {rv_try[1]}\")\n",
    "print(f\"Return value [2]: {type(rv_try[2])} | >{rv_try[2]}<\")\n",
    "\n",
    "# Uncomment # test \"except\" to test exception\n",
    "\n",
    "pdf_log.reset_index(drop = True, inplace = True)\n",
    "display(pdf_log.sort_values(by = \"logged_datetime\", ascending = False))"
   ]
  },
  {
   "cell_type": "markdown",
   "id": "e920d2ef-b777-4861-89a1-ab855e1b7664",
   "metadata": {
    "microsoft": {
     "language": "python",
     "language_group": "synapse_pyspark"
    },
    "nteract": {
     "transient": {
      "deleting": false
     }
    }
   },
   "source": [
    "## Generate FROM"
   ]
  },
  {
   "cell_type": "code",
   "execution_count": null,
   "id": "8bdd7b2a-a40d-4b53-92de-b5d6adf59a36",
   "metadata": {
    "collapsed": false,
    "jupyter": {
     "outputs_hidden": false,
     "source_hidden": false
    },
    "microsoft": {
     "language": "python",
     "language_group": "synapse_pyspark"
    },
    "nteract": {
     "transient": {
      "deleting": false
     }
    }
   },
   "outputs": [],
   "source": [
    "lakehouse_name = \"\"\n",
    "schema_name    = \"SalesLT\"\n",
    "table_name     = \"Address\"\n",
    "technology     = \"SQL Server\"\n",
    "sdf            = spark.createDataFrame(\n",
    "    [\n",
    "        (1, \"D\", \"SalesOrderID\", \"\"\"D.[SalesOrderID] AS [SalesOrderID]\", \"[SalesLT].[SalesOrderHeader] AS H\n",
    "        LEFT JOIN [SalesLT].[SalesOrderDetail] AS D\n",
    "        ON H.[SalesOrderID] = D.[SalesOrderID]\", \"H.[ModifiedDate] >= ^datetime_from^\n",
    "            AND H.[ModifiedDate] < ^datetime_to^\n",
    "            AND [OrderQty] > 1\n",
    "            AND [UnitPrice] BETWEEN 3 AND 10000\"\"\", True, \"Integer\")\n",
    "        , (2, \"D\", \"SalesOrderDetailID\", \", D.[SalesOrderDetailID] AS [SalesOrderDetailID]\", None, None, True, \"Integer\")\n",
    "        , (3, \"D\", \"OrderQty\", \", D.[OrderQty] AS [OrderQty]\", None, None, False, \"Short\")\n",
    "        , (4, \"D\", \"ProductID\", \", D.[ProductID] AS [ProductID]\", None, None, False, \"Integer\")\n",
    "        , (5, \"D\", \"UnitPrice\", \", D.[UnitPrice] AS [UnitPrice]\", None, None, False, \"Decimal\")\n",
    "        , (6, \"D\", \"UnitPriceDiscount \", \", D.[UnitPriceDiscount] AS [UnitPriceDiscount]\", None, None, False, \"Decimal\")\n",
    "        , (7, \"D\", \"LineTotal\", \", D.[LineTotal] AS [LineTotal]\", None, None, False, \"Decimal\")\n",
    "        , (8, \"D\", \"rowguid\", \", D.[rowguid] AS [rowguid]\", None, None, False, \"String\")\n",
    "        , (9, \"D\", \"ModifiedDate\", \", D.[ModifiedDate] AS [ModifiedDate]\", None, None, False, \"Timestamp\")\n",
    "    ]\n",
    "    , st.StructType([\n",
    "        st.StructField(\"sequence\", st.IntegerType())\n",
    "        , st.StructField(\"prefix_select\", st.StringType())\n",
    "        , st.StructField(\"column_name\", st.StringType())\n",
    "        , st.StructField(\"alias\", st.StringType())\n",
    "        , st.StructField(\"from\", st.StringType())\n",
    "        , st.StructField(\"where\", st.StringType())\n",
    "        , st.StructField(\"is_pk\", st.BooleanType())\n",
    "        , st.StructField(\"data_type\", st.StringType())\n",
    "    ])\n",
    ")\n",
    "print(f\"Input value (lakehouse_name): {type(lakehouse_name)} | {lakehouse_name}\")\n",
    "print(f\"Input value (schema_name): {type(schema_name)} | {schema_name}\")\n",
    "print(f\"Input value (table_name): {type(table_name)} | {table_name}\")\n",
    "print(f\"Input value (technology): {type(technology)} | {technology}\")\n",
    "print(f\"Input value (sdf) type: {type(sdf)}\")\n",
    "print(f\"Input value (sdf):\")\n",
    "display(sdf)\n",
    "\n",
    "print(f\"\\n# Execution (try) - Start #\")\n",
    "time_start = dt.datetime.now()    \n",
    "rv_try = fn_get_statament_from(sdf, lakehouse_name, schema_name, table_name, technology)\n",
    "print(f\"# Execution (try) - End (duration: {(dt.datetime.now() - time_start)}) #\\n\")\n",
    "\n",
    "print(f\"Return value: {rv_try}\")\n",
    "print(f\"Return value [0]: {type(rv_try[0])} | {rv_try[0]}\")\n",
    "print(f\"Return value [1]: {type(rv_try[1])} | {rv_try[1]}\")\n",
    "print(f\"Return value [2]: {type(rv_try[2])} | >{rv_try[2]}<\")\n",
    "\n",
    "print(\"\\n--------------------\")\n",
    "\n",
    "dict_parameter = {\n",
    "    \"process_timestamp\": global_parameter.process_timestamp\n",
    "    , \"technology\": \"SQL Server\"\n",
    "    , \"frequency\": \"Daily\"\n",
    "    , \"lakehouse_name\": \"\"\n",
    "    , \"server_name\": \"sql-server.database.windows.net\"\n",
    "    , \"database_name\": \"AdventureWorks\"\n",
    "    , \"schema_name\": \"SalesLT\"\n",
    "    , \"table_name\": \"SalesOrderDetail_Fake\"\n",
    "    , \"keyvault_name\": \"https://kv-keyvault.vault.azure.net/\"\n",
    "    , \"keyvault_secret_name_user\": \"sql-server-database-usr\"\n",
    "    , \"keyvault_secret_name_password\": \"sql-server-database-pwd\"\n",
    "}\n",
    "sdf = fn_get_extract_column(dict_parameter)[1]\n",
    "\n",
    "print(f\"\\n# Execution (except) - Start #\")\n",
    "time_start = dt.datetime.now()\n",
    "rv_except = fn_get_statament_from(sdf, lakehouse_name, schema_name, table_name, technology)\n",
    "print(f\"# Execution (except) - End (duration: {(dt.datetime.now() - time_start)}) #\\n\")\n",
    "\n",
    "print(f\"Return value: {rv_except}\")\n",
    "print(f\"Return value [0]: {type(rv_except[0])} | {rv_except[0]}\")\n",
    "print(f\"Return value [1]: {type(rv_except[1])} | {rv_except[1]}\")\n",
    "print(f\"Return value [2]: {type(rv_except[2])} | {rv_except[2]}\")\n",
    "\n",
    "pdf_log.reset_index(drop = True, inplace = True)\n",
    "display(pdf_log.sort_values(by = \"logged_datetime\", ascending = False))"
   ]
  },
  {
   "cell_type": "markdown",
   "id": "eb8fa8dc-8c0b-47ef-815c-b1c1b1ba2b05",
   "metadata": {
    "microsoft": {
     "language": "python",
     "language_group": "synapse_pyspark"
    },
    "nteract": {
     "transient": {
      "deleting": false
     }
    }
   },
   "source": [
    "## Generate WHERE"
   ]
  },
  {
   "cell_type": "code",
   "execution_count": null,
   "id": "498be1cd-9045-4a6e-89c6-d5c45f4ca1d9",
   "metadata": {
    "collapsed": false,
    "jupyter": {
     "outputs_hidden": false,
     "source_hidden": false
    },
    "microsoft": {
     "language": "python",
     "language_group": "synapse_pyspark"
    },
    "nteract": {
     "transient": {
      "deleting": false
     }
    }
   },
   "outputs": [],
   "source": [
    "dict_parameter = {\n",
    "    \"process_timestamp\": global_parameter.process_timestamp\n",
    "    , \"technology\": \"SQL Server\"\n",
    "    , \"frequency\": \"Daily\"\n",
    "    , \"lakehouse_name\": \"\"\n",
    "    , \"server_alias\": \"sql_server\"\n",
    "    , \"server_name\": \"sql-server.database.windows.net\"\n",
    "    , \"database_name\": \"AdventureWorks\"\n",
    "    , \"schema_name\": \"SalesLT\"\n",
    "    , \"table_name\": \"Address\"\n",
    "    , \"keyvault_name\": \"https://kv-keyvault.vault.azure.net/\"\n",
    "    , \"keyvault_secret_name_user\": \"sql-server-database-usr\"\n",
    "    , \"keyvault_secret_name_password\": \"sql-server-database-pwd\"\n",
    "}\n",
    "sdf            = fn_get_extract_column(dict_parameter)[2]\n",
    "\n",
    "print(f\"Input value (sdf) type: {type(sdf)}\")\n",
    "print(f\"Input value (sdf):\")\n",
    "display(sdf)\n",
    "print(f\"Input value (dict_parameter): {type(dict_parameter)} | {dict_parameter}\")\n",
    "\n",
    "print(f\"\\n# Execution (try) - Start #\")\n",
    "time_start = dt.datetime.now()\n",
    "rv_try = fn_get_statement_where(sdf, dict_parameter)\n",
    "print(f\"# Execution (try) - End (duration: {(dt.datetime.now() - time_start)}) #\\n\")\n",
    "\n",
    "print(f\"Return value: {rv_try}\")\n",
    "print(f\"Return value [0]: {type(rv_try[0])} | {rv_try[0]}\")\n",
    "print(f\"Return value [1]: {type(rv_try[1])} | {rv_try[1]}\")\n",
    "print(f\"Return value [2]: {type(rv_try[2])} | >{rv_try[2]}<\")\n",
    "\n",
    "print(\"\\n--------------------\")\n",
    "\n",
    "dict_parameter = {\n",
    "    \"technolog\": \"SQL Server\",\n",
    "    \"frequenc\": \"Daily\",\n",
    "    \"server_nam\": \"sql-server.database.windows.net\",\n",
    "    \"database_nam\": \"AdventureWorks\",\n",
    "    \"schema_nam\": \"SalesLT\",\n",
    "    \"table_nam\": \"SalesOrderDetail\"\n",
    "}\n",
    "\n",
    "print(f\"\\n# Execution (except) - Start #\")\n",
    "time_start = dt.datetime.now()\n",
    "rv_except = fn_get_statement_where(sdf, dict_parameter)\n",
    "print(f\"# Execution (except) - End (duration: {(dt.datetime.now() - time_start)}) #\\n\")\n",
    "\n",
    "print(f\"Return value: {rv_except}\")\n",
    "print(f\"Return value [0]: {type(rv_except[0])} | {rv_except[0]}\")\n",
    "print(f\"Return value [1]: {type(rv_except[1])} | {rv_except[1]}\")\n",
    "print(f\"Return value [2]: {type(rv_except[2])} | {rv_except[2]}\")\n",
    "\n",
    "pdf_log.reset_index(drop = True, inplace = True)\n",
    "display(pdf_log.sort_values(by = \"logged_datetime\", ascending = False))"
   ]
  },
  {
   "cell_type": "markdown",
   "id": "80c4df47-4314-4075-8017-1ce915469d20",
   "metadata": {
    "microsoft": {
     "language": "python",
     "language_group": "synapse_pyspark"
    },
    "nteract": {
     "transient": {
      "deleting": false
     }
    }
   },
   "source": [
    "## Append to table \"lh_log.extract\""
   ]
  },
  {
   "cell_type": "code",
   "execution_count": null,
   "id": "0d720b07-8ac5-4d78-a10e-435396eef24f",
   "metadata": {
    "collapsed": false,
    "editable": false,
    "jupyter": {
     "outputs_hidden": false,
     "source_hidden": false
    },
    "microsoft": {
     "language": "python",
     "language_group": "synapse_pyspark"
    },
    "nteract": {
     "transient": {
      "deleting": false
     }
    },
    "run_control": {
     "frozen": true
    }
   },
   "outputs": [],
   "source": [
    "time_start = dt.datetime.now()    \n",
    "rv_try = fn_append_to_lh_log_extract()\n",
    "print(f\"Duration: {(dt.datetime.now() - time_start)}\\n\")\n",
    "\n",
    "print(f\"Return value: {rv_try}\")\n",
    "print(f\"Return value [0]: {type(rv_try)} | {rv_try}\")\n",
    "\n",
    "# Uncomment # test \"except\" to test exception"
   ]
  },
  {
   "cell_type": "markdown",
   "id": "853654eb-6bc2-41c4-868f-2ada0924252f",
   "metadata": {
    "microsoft": {
     "language": "python",
     "language_group": "synapse_pyspark"
    },
    "nteract": {
     "transient": {
      "deleting": false
     }
    }
   },
   "source": [
    "## Update values 'datetime_from' and \"datetime_to\" in table \"lh_cfg.extract_parameter\""
   ]
  },
  {
   "cell_type": "code",
   "execution_count": null,
   "id": "70af2d50-51f3-4dd7-ad26-017a8dc53b3e",
   "metadata": {
    "collapsed": false,
    "editable": true,
    "jupyter": {
     "outputs_hidden": false,
     "source_hidden": false
    },
    "microsoft": {
     "language": "python",
     "language_group": "synapse_pyspark"
    },
    "nteract": {
     "transient": {
      "deleting": false
     }
    },
    "run_control": {
     "frozen": false
    }
   },
   "outputs": [],
   "source": [
    "time_start = dt.datetime.now()    \n",
    "rv_try = fn_update_datetime_from_datetime_to_in_extract_parameter()\n",
    "print(f\"Duration: {(dt.datetime.now() - time_start)}\\n\")\n",
    "\n",
    "print(f\"Return value: {rv_try}\")\n",
    "print(f\"Return value [0]: {type(rv_try[0])} | {rv_try[0]}\")\n",
    "print(f\"Return value [1]: {type(rv_try[1])} | {rv_try[1]}\")\n",
    "\n",
    "# Uncomment # test \"except\" to test exception\n",
    "\n",
    "pdf_log.reset_index(drop = True, inplace = True)\n",
    "display(pdf_log.sort_values(by = \"logged_datetime\", ascending = False))"
   ]
  },
  {
   "cell_type": "code",
   "execution_count": null,
   "id": "907a8f15-b420-4045-aa19-7cbfae92ad19",
   "metadata": {
    "jupyter": {
     "outputs_hidden": false,
     "source_hidden": false
    },
    "microsoft": {
     "language": "python",
     "language_group": "synapse_pyspark"
    },
    "nteract": {
     "transient": {
      "deleting": false
     }
    }
   },
   "outputs": [],
   "source": [
    "if is_debug:\n",
    "    print(\"\\n---------- This notenook name: nb_bronze_function_extract_lakehouse_sql_server_test - End ----------\\n\")"
   ]
  },
  {
   "cell_type": "markdown",
   "id": "6a03ff29-49f5-4554-b05e-d041db9f0b02",
   "metadata": {
    "microsoft": {
     "language": "python",
     "language_group": "synapse_pyspark"
    },
    "nteract": {
     "transient": {
      "deleting": false
     }
    }
   },
   "source": [
    "# Test"
   ]
  },
  {
   "cell_type": "markdown",
   "id": "d4c5a3e3-4b4d-4e67-86c1-1a1b8abf3d0e",
   "metadata": {
    "microsoft": {
     "language": "python",
     "language_group": "synapse_pyspark"
    },
    "nteract": {
     "transient": {
      "deleting": false
     }
    }
   },
   "source": [
    "## Extract preparation"
   ]
  },
  {
   "cell_type": "code",
   "execution_count": null,
   "id": "7aac6977-6ccc-46a5-86eb-95e96fff332c",
   "metadata": {
    "collapsed": false,
    "jupyter": {
     "outputs_hidden": false,
     "source_hidden": false
    },
    "microsoft": {
     "language": "python",
     "language_group": "synapse_pyspark"
    },
    "nteract": {
     "transient": {
      "deleting": false
     }
    }
   },
   "outputs": [],
   "source": [
    "global_parameter.days_to_keep_log = -1\n",
    "dict_server_alias_server_name = fn_extract_preparation(list_technology)[2]\n",
    "print(dict_server_alias_server_name)\n",
    "\n",
    "pdf_log.reset_index(drop = True, inplace = True)\n",
    "display(pdf_log.sort_values(by = \"logged_datetime\", ascending = False))"
   ]
  },
  {
   "cell_type": "markdown",
   "id": "c1a4b15d-8c65-4dd3-b79f-53a6c85d9f9b",
   "metadata": {
    "microsoft": {
     "language": "python",
     "language_group": "synapse_pyspark"
    },
    "nteract": {
     "transient": {
      "deleting": false
     }
    }
   },
   "source": [
    "## Technology = \"SQL Server\""
   ]
  },
  {
   "cell_type": "code",
   "execution_count": null,
   "id": "96088da0-ae68-4a6b-a8d0-fc37c3c77f8f",
   "metadata": {
    "collapsed": false,
    "editable": true,
    "jupyter": {
     "outputs_hidden": false,
     "source_hidden": false
    },
    "microsoft": {
     "language": "python",
     "language_group": "synapse_pyspark"
    },
    "nteract": {
     "transient": {
      "deleting": false
     }
    },
    "run_control": {
     "frozen": false
    }
   },
   "outputs": [],
   "source": [
    "fn_extract_lakehouse_or_sql_server(\"SQL Server\", \"Daily\", dict_server_alias_server_name)\n",
    "\n",
    "pdf_log.reset_index(drop = True, inplace = True)\n",
    "display(pdf_log.sort_values(by = \"logged_datetime\", ascending = False))"
   ]
  },
  {
   "cell_type": "markdown",
   "id": "b98b7b7d-53d8-44ef-bcc7-eeb8e2debf3d",
   "metadata": {
    "microsoft": {
     "language": "python",
     "language_group": "synapse_pyspark"
    },
    "nteract": {
     "transient": {
      "deleting": false
     }
    }
   },
   "source": [
    "## Technology = \"Lakehouse\""
   ]
  },
  {
   "cell_type": "code",
   "execution_count": null,
   "id": "36d0457b-9678-474f-8175-985cd0e851c3",
   "metadata": {
    "collapsed": false,
    "editable": true,
    "jupyter": {
     "outputs_hidden": false,
     "source_hidden": false
    },
    "microsoft": {
     "language": "python",
     "language_group": "synapse_pyspark"
    },
    "nteract": {
     "transient": {
      "deleting": false
     }
    },
    "run_control": {
     "frozen": false
    }
   },
   "outputs": [],
   "source": [
    "# Mirrored Azure SQL Database (technology = \"Lakehouse\")\n",
    "\n",
    "fn_extract_lakehouse_or_sql_server(\"Lakehouse\", \"Daily\", dict_server_alias_server_name)\n",
    "\n",
    "pdf_log.reset_index(drop = True, inplace = True)\n",
    "display(pdf_log.sort_values(by = \"logged_datetime\", ascending = False))"
   ]
  },
  {
   "cell_type": "markdown",
   "id": "350359a1-7a21-4a1f-b6bb-23d55476fdf3",
   "metadata": {
    "microsoft": {
     "language": "python",
     "language_group": "synapse_pyspark"
    },
    "nteract": {
     "transient": {
      "deleting": false
     }
    }
   },
   "source": [
    "## Final Process"
   ]
  },
  {
   "cell_type": "code",
   "execution_count": null,
   "id": "3ced94ab-a3f4-4023-b39a-4a69add8c8b8",
   "metadata": {
    "collapsed": false,
    "editable": true,
    "jupyter": {
     "outputs_hidden": false,
     "source_hidden": false
    },
    "microsoft": {
     "language": "python",
     "language_group": "synapse_pyspark"
    },
    "nteract": {
     "transient": {
      "deleting": false
     }
    },
    "run_control": {
     "frozen": false
    }
   },
   "outputs": [],
   "source": [
    "# Append to table \"lh_log.extract\"\n",
    "# PL: Move this after all the technologies and insert into lh_log.extract all the technologies\n",
    "# fn_append_to_lh_log_extract()\n",
    "\n",
    "# Update \"datetime_from\" and \"datetime_to\" in table \"lh_cfg.extract_parameter\" for the successfully extracted tables\n",
    "# Leave this here, because we filter only technologies \"SQL Server\" and \"Lakehouse\"\n",
    "fn_update_datetime_from_datetime_to_in_extract_parameter(pdf_log)\n",
    "\n",
    "pdf_log.reset_index(drop = True, inplace = True)\n",
    "display(pdf_log.sort_values(by = \"logged_datetime\", ascending = False))"
   ]
  },
  {
   "cell_type": "code",
   "execution_count": null,
   "id": "3b364625-0f0b-44c2-a315-a35ef1bba287",
   "metadata": {
    "jupyter": {
     "outputs_hidden": false,
     "source_hidden": false
    },
    "microsoft": {
     "language": "python",
     "language_group": "synapse_pyspark"
    },
    "nteract": {
     "transient": {
      "deleting": false
     }
    }
   },
   "outputs": [],
   "source": [
    "fn_lh_log_log_insert()"
   ]
  }
 ],
 "metadata": {
  "kernel_info": {
   "name": "synapse_pyspark"
  },
  "kernelspec": {
   "display_name": "Synapse PySpark",
   "language": "Python",
   "name": "synapse_pyspark"
  },
  "language_info": {
   "name": "python"
  },
  "microsoft": {
   "language": "python",
   "language_group": "synapse_pyspark",
   "ms_spell_check": {
    "ms_spell_check_language": "en"
   }
  },
  "nteract": {
   "version": "nteract-front-end@1.0.0"
  },
  "spark_compute": {
   "compute_id": "/trident/default",
   "session_options": {
    "conf": {
     "spark.synapse.nbs.session.timeout": "1200000"
    }
   }
  },
  "synapse_widget": {
   "state": {},
   "version": "0.1"
  },
  "widgets": {}
 },
 "nbformat": 4,
 "nbformat_minor": 5
}
