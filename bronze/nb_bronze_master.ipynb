{
 "cells": [
  {
   "cell_type": "code",
   "execution_count": null,
   "id": "2e7c80d0-9b24-4e7c-9e72-35e0911a177e",
   "metadata": {
    "jupyter": {
     "outputs_hidden": false,
     "source_hidden": false
    },
    "microsoft": {
     "language": "python",
     "language_group": "synapse_pyspark"
    },
    "nteract": {
     "transient": {
      "deleting": false
     }
    }
   },
   "outputs": [],
   "source": [
    "%%configure -f\n",
    "{\"defaultLakehouse\": {\"name\": \"lh_cfg\"}}"
   ]
  },
  {
   "cell_type": "markdown",
   "id": "c8960d6b-02da-42bf-8c23-0858d1d9d4e1",
   "metadata": {
    "microsoft": {
     "language": "python",
     "language_group": "synapse_pyspark"
    },
    "nteract": {
     "transient": {
      "deleting": false
     }
    }
   },
   "source": [
    "# Set variables"
   ]
  },
  {
   "cell_type": "code",
   "execution_count": null,
   "id": "b5d082cc-2bc2-4bc2-8fda-129cb617f632",
   "metadata": {
    "jupyter": {
     "outputs_hidden": false,
     "source_hidden": false
    },
    "microsoft": {
     "language": "python",
     "language_group": "synapse_pyspark"
    },
    "nteract": {
     "transient": {
      "deleting": false
     }
    }
   },
   "outputs": [],
   "source": [
    "is_debug       = False\n",
    "medallion_name = \"Bronze\"\n",
    "\n",
    "if is_debug:\n",
    "    print(f\"is_debug:       {is_debug}\")\n",
    "    print(f\"medallion_name: {medallion_name}\")"
   ]
  },
  {
   "cell_type": "markdown",
   "id": "f15ad5cb-5bf0-45e1-a84b-16496f98971f",
   "metadata": {
    "microsoft": {
     "language": "python",
     "language_group": "synapse_pyspark"
    },
    "nteract": {
     "transient": {
      "deleting": false
     }
    }
   },
   "source": [
    "# Imports"
   ]
  },
  {
   "cell_type": "code",
   "execution_count": null,
   "id": "29bd1f94-012a-4a34-a16b-a451f9c2690f",
   "metadata": {
    "jupyter": {
     "outputs_hidden": false,
     "source_hidden": false
    },
    "microsoft": {
     "language": "python",
     "language_group": "synapse_pyspark"
    },
    "nteract": {
     "transient": {
      "deleting": false
     }
    }
   },
   "outputs": [],
   "source": [
    "import delta.tables                       as dlt\n",
    "import json                               as j\n",
    "from   types       import SimpleNamespace as sn\n",
    "from   pyspark.sql import functions       as sf\n",
    "from   pyspark.sql import DataFrame       as df\n",
    "from   pyspark.sql import types           as st\n",
    "from   pyspark.sql import Row\n",
    "from   inspect     import stack           as stk\n",
    "import time                               as t\n",
    "import datetime                           as dt\n",
    "import pytz                               as pt\n",
    "import re\n",
    "import unicodedata                        as ucd\n",
    "import pandas                             as pd\n",
    "import sys\n",
    "import requests                           as req\n",
    "if is_debug:\n",
    "  from pyspark.sql import SparkSession    as ss"
   ]
  },
  {
   "cell_type": "markdown",
   "id": "ad4d3988-697d-47a4-821a-bd18c3687914",
   "metadata": {
    "microsoft": {
     "language": "python",
     "language_group": "synapse_pyspark"
    },
    "nteract": {
     "transient": {
      "deleting": false
     }
    }
   },
   "source": [
    "# Get parameters from \"pl_master\""
   ]
  },
  {
   "cell_type": "code",
   "execution_count": null,
   "id": "187f4b38-2d56-4fd0-8a84-bc73a3f8d360",
   "metadata": {
    "jupyter": {
     "outputs_hidden": false,
     "source_hidden": false
    },
    "microsoft": {
     "language": "python",
     "language_group": "synapse_pyspark"
    },
    "nteract": {
     "transient": {
      "deleting": false
     }
    },
    "tags": [
     "parameters"
    ]
   },
   "outputs": [],
   "source": [
    "global_parameter = \"global_parameter from pl_master\"\n",
    "workspace_id     = \"workspace_id from pl_master\""
   ]
  },
  {
   "cell_type": "code",
   "execution_count": null,
   "id": "08883537-dc31-46c7-b2e3-a0bacbdbbb0e",
   "metadata": {
    "jupyter": {
     "outputs_hidden": false,
     "source_hidden": false
    },
    "microsoft": {
     "language": "python",
     "language_group": "synapse_pyspark"
    },
    "nteract": {
     "transient": {
      "deleting": false
     }
    }
   },
   "outputs": [],
   "source": [
    "# Current session info\n",
    "if is_debug: display(ss.getActiveSession())"
   ]
  },
  {
   "cell_type": "code",
   "execution_count": null,
   "id": "0b1eb467-21d1-4e6f-b6ce-dbdf6af4ff84",
   "metadata": {
    "editable": true,
    "jupyter": {
     "outputs_hidden": false,
     "source_hidden": false
    },
    "microsoft": {
     "language": "python",
     "language_group": "synapse_pyspark"
    },
    "nteract": {
     "transient": {
      "deleting": false
     }
    },
    "run_control": {
     "frozen": false
    }
   },
   "outputs": [],
   "source": [
    "# Freeze this\n",
    "# Simulate parameters from \"pl_master\".\n",
    "\n",
    "workspace_id = \"abc\"\n",
    "\n",
    "global_parameter = \"\"\"\n",
    "{\n",
    "    \"days_to_keep_log\": 365\n",
    "    , \"send_success_email\": \"True\"\n",
    "    , \"send_error_email\": \"True\"\n",
    "    , \"email_on_success\": \"example@example.com\"\n",
    "    , \"email_on_error\": \"example@example.com\"\n",
    "    , \"time_zone_nb\": \"Canada/Eastern\"\n",
    "    , \"time_zone_pl\": \"Eastern Standard Time\"\n",
    "    , \"mssql_isolation_level\": \"READ_UNCOMMITTED\"\n",
    "    , \"projet_documentation_data_file_name\": \"configuration\"\n",
    "    , \"sql_server\": \"sql-server.database.windows.net\"\n",
    "    , \"key_vault_url\": \"https://kv-keyvault.vault.azure.net/\"\n",
    "    , \"kv_test_key\": \"kv-my-key\"\n",
    "    , \"bearer_token_url\": \"https://api.fabric.microsoft.com/\"\n",
    "    , \"abfs_path_lh_cfg\": \"abfss://abc@onelake.dfs.fabric.microsoft.com/xyz\"\n",
    "    , \"abfs_path_lh_log\": \"abfss://abc@onelake.dfs.fabric.microsoft.com/xyz\"\n",
    "    , \"abfs_path_lh_silver\": \"abfss://abc@onelake.dfs.fabric.microsoft.com/xyz\"\n",
    "    , \"abfs_path_lh_bronze\": \"abfss://abc@onelake.dfs.fabric.microsoft.com/xyz\"\n",
    "    , \"abfs_path_lh_AdventureWorks\": \"abfss://abc@onelake.dfs.fabric.microsoft.com/xyz\"\n",
    "\t, \"my_dataverse\": \"abfss://abc@onelake.dfs.fabric.microsoft.com/xyz\"\n",
    "    , \"abfs_path_lh_gold\":\"abfss://abc@onelake.dfs.fabric.microsoft.com/xyz\"\n",
    "\t, \"now_datetime\": \"2024-05-07 14:09:09.367\"\n",
    "    , \"process_timestamp\": \"20240507_140909367\"\n",
    "}\n",
    "\"\"\""
   ]
  },
  {
   "cell_type": "markdown",
   "id": "cc862b60-d7bd-4f90-8349-fa0f1e5a081f",
   "metadata": {
    "microsoft": {
     "language": "python",
     "language_group": "synapse_pyspark"
    },
    "nteract": {
     "transient": {
      "deleting": false
     }
    }
   },
   "source": [
    "# Set parameters from \"pl_master\" in variables"
   ]
  },
  {
   "cell_type": "code",
   "execution_count": null,
   "id": "19312b3b-02d1-49ed-bde5-2d508598697b",
   "metadata": {
    "jupyter": {
     "outputs_hidden": false,
     "source_hidden": false
    },
    "microsoft": {
     "language": "python",
     "language_group": "synapse_pyspark"
    },
    "nteract": {
     "transient": {
      "deleting": false
     }
    }
   },
   "outputs": [],
   "source": [
    "# Create local variables from the parameters, paseed by \"pl_master\" into namespace \"global_parameter\"\n",
    "\n",
    "global_parameter = j.loads(global_parameter) # Convert string to mapping\n",
    "global_parameter = sn(**global_parameter)    # Create variables from mapping\n",
    "\n",
    "if is_debug:\n",
    "    print(type(global_parameter))\n",
    "    print(type(global_parameter))\n",
    "    print(f\"global_parameter.days_to_keep_log:                    {global_parameter.days_to_keep_log}\")\n",
    "    print(f\"global_parameter.send_success_email:                  {global_parameter.send_success_email}\")\n",
    "    print(f\"global_parameter.send_error_email:                    {global_parameter.send_error_email}\")\n",
    "    print(f\"global_parameter.email_on_success:                    {global_parameter.email_on_success}\")\n",
    "    print(f\"global_parameter.email_on_error:                      {global_parameter.email_on_error}\")\n",
    "    print(f\"global_parameter.time_zone_nb:                        {global_parameter.time_zone_nb}\")\n",
    "    print(f\"global_parameter.time_zone_pl:                        {global_parameter.time_zone_pl}\")\n",
    "    print(f\"global_parameter.mssql_isolation_level:               {global_parameter.mssql_isolation_level}\")\n",
    "    print(f\"global_parameter.projet_documentation_data_file_name: {global_parameter.projet_documentation_data_file_name}\")\n",
    "    print(f\"sql_server:                                           {global_parameter.sql_server}\")\n",
    "    print(f\"key_vault_url:                                        {global_parameter.key_vault_url}\")\n",
    "    print(f\"kv_test_key:                                          {global_parameter.kv_test_key}\")\n",
    "    print(f\"bearer_token_url:                                     {global_parameter.bearer_token_url}\")\n",
    "    print(f\"global_parameter.abfs_path_lh_cfg:                    {global_parameter.abfs_path_lh_cfg}\")\n",
    "    print(f\"global_parameter.abfs_path_lh_log:                    {global_parameter.abfs_path_lh_log}\")\n",
    "    print(f\"global_parameter.abfs_path_lh_silver:                 {global_parameter.abfs_path_lh_silver}\")    \n",
    "    print(f\"global_parameter.abfs_path_lh_bronze:                 {global_parameter.abfs_path_lh_bronze}\")\n",
    "    print(f\"abfs_path_lh_AdventureWorks:                          {global_parameter.abfs_path_lh_AdventureWorks}\")    \n",
    "    print(f\"global_parameter.my_dataverse:                        {global_parameter.my_dataverse}\")\n",
    "    print(f\"abfs_path_lh_gold:                                    {global_parameter.abfs_path_lh_gold}\")\n",
    "    print(f\"global_parameter.now_datetime:                        {global_parameter.now_datetime}\")\n",
    "    print(f\"global_parameter.process_timestamp:                   {global_parameter.process_timestamp}\")"
   ]
  },
  {
   "cell_type": "markdown",
   "id": "e1d15255-4e8c-4655-92ea-2b47421e0132",
   "metadata": {
    "microsoft": {
     "language": "python",
     "language_group": "synapse_pyspark"
    },
    "nteract": {
     "transient": {
      "deleting": false
     }
    }
   },
   "source": [
    "# Function"
   ]
  },
  {
   "cell_type": "markdown",
   "id": "4d7facea-4033-4d2f-863a-70740f63de56",
   "metadata": {
    "microsoft": {
     "language": "python",
     "language_group": "synapse_pyspark"
    },
    "nteract": {
     "transient": {
      "deleting": false
     }
    }
   },
   "source": [
    "## Run notebooks \"system_cfg\" and \"system functions\""
   ]
  },
  {
   "cell_type": "code",
   "execution_count": null,
   "id": "196aae9e-060e-415a-a63d-2d8573224922",
   "metadata": {
    "jupyter": {
     "outputs_hidden": false,
     "source_hidden": false
    },
    "microsoft": {
     "language": "python",
     "language_group": "synapse_pyspark"
    },
    "nteract": {
     "transient": {
      "deleting": false
     }
    }
   },
   "outputs": [],
   "source": [
    "#%run nb_system_cfg"
   ]
  },
  {
   "cell_type": "code",
   "execution_count": null,
   "id": "96b30e66-fab4-44c4-a711-cdb489a6df07",
   "metadata": {
    "jupyter": {
     "outputs_hidden": false,
     "source_hidden": false
    },
    "microsoft": {
     "language": "python",
     "language_group": "synapse_pyspark"
    },
    "nteract": {
     "transient": {
      "deleting": false
     }
    }
   },
   "outputs": [],
   "source": [
    "%run nb_system_function"
   ]
  },
  {
   "cell_type": "code",
   "execution_count": null,
   "id": "51cd86a8-d7f7-4e8b-81bc-4fd0ad3e3dd2",
   "metadata": {
    "editable": false,
    "jupyter": {
     "outputs_hidden": false,
     "source_hidden": false
    },
    "microsoft": {
     "language": "python",
     "language_group": "synapse_pyspark"
    },
    "nteract": {
     "transient": {
      "deleting": false
     }
    },
    "run_control": {
     "frozen": true
    }
   },
   "outputs": [],
   "source": [
    "# Freeze this\n",
    "# Reset now_datetime, process_timestamp.\n",
    "\n",
    "global_parameter.now_datetime      = fn_get_now(\"datetime\")[1]\n",
    "global_parameter.process_timestamp = fn_get_now(\"string\")[1]\n",
    "\n",
    "print(f\"global_parameter.now_datetime:      {global_parameter.now_datetime}\")\n",
    "print(f\"global_parameter.process_timestamp: {global_parameter.process_timestamp}\")"
   ]
  },
  {
   "cell_type": "code",
   "execution_count": null,
   "id": "89765222-b9b0-4f6c-bf2e-abb85dbdd0a4",
   "metadata": {
    "collapsed": false,
    "editable": true,
    "jupyter": {
     "outputs_hidden": false,
     "source_hidden": false
    },
    "microsoft": {
     "language": "python",
     "language_group": "synapse_pyspark"
    },
    "nteract": {
     "transient": {
      "deleting": false
     }
    },
    "run_control": {
     "frozen": false
    }
   },
   "outputs": [],
   "source": [
    "# Freeze this\n",
    "# Prepare for initial extract\n",
    "\n",
    "print(\"clean up lh_cfg.extract_parameter\")\n",
    "display(spark.sql(f\"delete from delta.`{global_parameter.abfs_path_lh_cfg}/Tables/extract_parameter`\"))\n",
    "\n",
    "print(\"clean up lh_log.extract\")\n",
    "display(spark.sql(f\"delete from delta.`{global_parameter.abfs_path_lh_log}/Tables/extract`\"))\n",
    "\n",
    "print(\"clean up lh_log.log\")\n",
    "display(spark.sql(f\"delete from delta.`{global_parameter.abfs_path_lh_log}/Tables/log`\"))"
   ]
  },
  {
   "cell_type": "markdown",
   "id": "c49c33b0-193e-48ef-9a9f-aa5e9f092581",
   "metadata": {
    "microsoft": {
     "language": "python",
     "language_group": "synapse_pyspark"
    },
    "nteract": {
     "transient": {
      "deleting": false
     }
    }
   },
   "source": [
    "# Get the technologies and frequencies that need to be extracted now"
   ]
  },
  {
   "cell_type": "code",
   "execution_count": null,
   "id": "1d2f6121-5f41-4096-90ce-a13e55c884d5",
   "metadata": {
    "collapsed": false,
    "jupyter": {
     "outputs_hidden": false,
     "source_hidden": false
    },
    "microsoft": {
     "language": "python",
     "language_group": "synapse_pyspark"
    },
    "nteract": {
     "transient": {
      "deleting": false
     }
    }
   },
   "outputs": [],
   "source": [
    "#now_datetime = fn_get_now(\"datetime\")[1]\n",
    "#now_datetime = global_parameter.now_datetime\n",
    "\n",
    "now_datetime = \"2024-04-01 01:11:27.020\" # kill me. Simulate first day on month @ 1 AM.\n",
    "\n",
    "sql_code = f\"\"\"SELECT DISTINCT Z.`technology`, Z.`frequency`\n",
    "FROM\n",
    "  (\n",
    "    SELECT\n",
    "      *\n",
    "      , CASE WHEN  Y.`frequency` = 'Hourly'                                                                                                                                      THEN 1 END AS H\n",
    "      , CASE WHEN (Y.`frequency` = 'Daily'     AND HOUR('{now_datetime}') = 1                                                                                                  ) THEN 1 END AS D\n",
    "      , CASE WHEN (Y.`frequency` = 'Weekly'    AND HOUR('{now_datetime}') = 1 AND DATE_FORMAT('{now_datetime}', 'EEEE') = 'Monday'                                             ) THEN 1 END AS W\n",
    "      , CASE WHEN (Y.`frequency` = 'Monthly'   AND DAY('{now_datetime}' ) = 1 AND HOUR('{now_datetime}')                = 1                                                    ) THEN 1 END AS M\n",
    "      , CASE WHEN (Y.`frequency` = 'Quarterly' AND DAY('{now_datetime}' ) = 1 AND HOUR('{now_datetime}')                = 1        AND MONTH('{now_datetime}') IN (1, 4, 7, 10)) THEN 1 END AS Q\n",
    "      , CASE WHEN (Y.`frequency` = 'Yearly'    AND DAY('{now_datetime}' ) = 1 AND HOUR('{now_datetime}')                = 1        AND MONTH('{now_datetime}') = 1             ) THEN 1 END AS Y\n",
    "    FROM\n",
    "      (\n",
    "              SELECT `technology`, `frequency` FROM delta.`{global_parameter.abfs_path_lh_cfg}/Tables/extract_object_csv`        WHERE `is_extracted` = 1\n",
    "        UNION SELECT `technology`, `frequency` FROM delta.`{global_parameter.abfs_path_lh_cfg}/Tables/extract_object_excel`      WHERE `is_extracted` = 1\n",
    "        UNION SELECT `technology`, `frequency` FROM delta.`{global_parameter.abfs_path_lh_cfg}/Tables/extract_object_json`       WHERE `is_extracted` = 1\n",
    "        UNION SELECT `technology`, `frequency` FROM delta.`{global_parameter.abfs_path_lh_cfg}/Tables/extract_object_lakehouse`  WHERE `is_extracted` = 1\n",
    "        UNION SELECT `technology`, `frequency` FROM delta.`{global_parameter.abfs_path_lh_cfg}/Tables/extract_object_sql_server` WHERE `is_extracted` = 1\n",
    "      ) AS Y\n",
    "  ) AS Z\n",
    "WHERE COALESCE(Z.H, Z.D, Z.W, Z.M, Z.Q, Z.Y) = 1;\"\"\"\n",
    "sdf_technology_frequency = fn_execute_spark_sql(sql_code)[2]\n",
    "\n",
    "if is_debug:\n",
    "    print(f\"sql_code: {sql_code}\")\n",
    "    display(sdf_technology_frequency)"
   ]
  },
  {
   "cell_type": "markdown",
   "id": "f35bf2bb-6610-444a-aff3-8a749f6b7d95",
   "metadata": {
    "microsoft": {
     "language": "python",
     "language_group": "synapse_pyspark"
    },
    "nteract": {
     "transient": {
      "deleting": false
     }
    }
   },
   "source": [
    "# Set \"list_technology\" and \"list_frequency\""
   ]
  },
  {
   "cell_type": "code",
   "execution_count": null,
   "id": "b74c2fcc-c2bb-436a-8cef-c6a3c002c001",
   "metadata": {
    "jupyter": {
     "outputs_hidden": false,
     "source_hidden": false
    },
    "microsoft": {
     "language": "python",
     "language_group": "synapse_pyspark"
    },
    "nteract": {
     "transient": {
      "deleting": false
     }
    }
   },
   "outputs": [],
   "source": [
    "# Get list of frequencies to create the proper functions in nb_bronze_function\n",
    "list_technology = []\n",
    "for row in sdf_technology_frequency.select(sdf_technology_frequency[\"technology\"]).distinct().collect(): list_technology.append(row.technology)\n",
    "\n",
    "list_frequency = []\n",
    "for row in sdf_technology_frequency.select(sdf_technology_frequency[\"frequency\"]).distinct().collect(): list_frequency.append(row.frequency)\n",
    "\n",
    "# Insert \"list_technology\" and \"list_frequency\" in \"sdf_log\"\n",
    "locals_                    = {}\n",
    "locals_[\"list_technology\"] = list_technology\n",
    "locals_[\"list_frequency\"]  = list_frequency\n",
    "locals_                    = j.dumps(locals_)\n",
    "fn_local_log_insert(global_parameter.process_timestamp, medallion_name, \"nb_bronze_master\", locals_, \"Success\", \"\")\n",
    "\n",
    "if is_debug:\n",
    "    print(f\"list_technology: {type(list_technology)} | {list_technology}\")\n",
    "    print(f\"list_frequency: {type(list_frequency)} | {list_frequency}\")"
   ]
  },
  {
   "cell_type": "markdown",
   "id": "2c79901f-52de-4c73-8c3b-2354d699be9d",
   "metadata": {
    "microsoft": {
     "language": "python",
     "language_group": "synapse_pyspark"
    },
    "nteract": {
     "transient": {
      "deleting": false
     }
    }
   },
   "source": [
    "# Function"
   ]
  },
  {
   "cell_type": "markdown",
   "id": "013d9082-660c-4712-a49a-c011b38282d9",
   "metadata": {
    "nteract": {
     "transient": {
      "deleting": false
     }
    }
   },
   "source": [
    "## Run notebooks to create all the bronze functions"
   ]
  },
  {
   "cell_type": "code",
   "execution_count": null,
   "id": "8949cf13-3aea-4594-8f95-07649ae71354",
   "metadata": {
    "collapsed": false,
    "jupyter": {
     "outputs_hidden": false,
     "source_hidden": false
    },
    "microsoft": {
     "language": "python",
     "language_group": "synapse_pyspark"
    },
    "nteract": {
     "transient": {
      "deleting": false
     }
    }
   },
   "outputs": [],
   "source": [
    "%run nb_bronze_function"
   ]
  },
  {
   "cell_type": "code",
   "execution_count": null,
   "id": "ae8d8024-fdab-41eb-b986-72a92a859dad",
   "metadata": {
    "jupyter": {
     "outputs_hidden": false,
     "source_hidden": false
    },
    "microsoft": {
     "language": "python",
     "language_group": "synapse_pyspark"
    },
    "nteract": {
     "transient": {
      "deleting": false
     }
    }
   },
   "outputs": [],
   "source": [
    "%run nb_bronze_function_extract_lakehouse_sql_server"
   ]
  },
  {
   "cell_type": "code",
   "execution_count": null,
   "id": "664d90ee-b049-4a54-a4c1-666651c44640",
   "metadata": {
    "editable": true,
    "jupyter": {
     "outputs_hidden": false,
     "source_hidden": false
    },
    "microsoft": {
     "language": "python",
     "language_group": "synapse_pyspark"
    },
    "nteract": {
     "transient": {
      "deleting": false
     }
    },
    "run_control": {
     "frozen": false
    }
   },
   "outputs": [],
   "source": [
    "%run nb_bronze_function_extract_excel"
   ]
  },
  {
   "cell_type": "code",
   "execution_count": null,
   "id": "8856962f-77de-44b5-b6cc-e182a962af60",
   "metadata": {
    "editable": true,
    "jupyter": {
     "outputs_hidden": false,
     "source_hidden": false
    },
    "microsoft": {
     "language": "python",
     "language_group": "synapse_pyspark"
    },
    "nteract": {
     "transient": {
      "deleting": false
     }
    },
    "run_control": {
     "frozen": false
    }
   },
   "outputs": [],
   "source": [
    "%run nb_bronze_function_extract_csv"
   ]
  },
  {
   "cell_type": "code",
   "execution_count": null,
   "id": "c4846040-aa45-48a3-b625-0c6f7241dfb5",
   "metadata": {
    "editable": true,
    "jupyter": {
     "outputs_hidden": false,
     "source_hidden": false
    },
    "microsoft": {
     "language": "python",
     "language_group": "synapse_pyspark"
    },
    "nteract": {
     "transient": {
      "deleting": false
     }
    },
    "run_control": {
     "frozen": false
    }
   },
   "outputs": [],
   "source": [
    "%run nb_bronze_function_extract_json"
   ]
  },
  {
   "cell_type": "code",
   "execution_count": null,
   "id": "5cd0cb2e-21ed-41ac-9a3c-eee1e5a80266",
   "metadata": {
    "jupyter": {
     "outputs_hidden": false,
     "source_hidden": false
    },
    "microsoft": {
     "language": "python",
     "language_group": "synapse_pyspark"
    },
    "nteract": {
     "transient": {
      "deleting": false
     }
    }
   },
   "outputs": [],
   "source": [
    "#%run nb_bronze_function_extract_api"
   ]
  },
  {
   "cell_type": "markdown",
   "id": "b4d29f90-077d-45ce-a124-a2f28fe95ec6",
   "metadata": {
    "microsoft": {
     "language": "python",
     "language_group": "synapse_pyspark"
    },
    "nteract": {
     "transient": {
      "deleting": false
     }
    }
   },
   "source": [
    "# Operation"
   ]
  },
  {
   "cell_type": "code",
   "execution_count": null,
   "id": "23712a2d-554b-4671-a280-55175f43caa7",
   "metadata": {
    "jupyter": {
     "outputs_hidden": false,
     "source_hidden": false
    },
    "microsoft": {
     "language": "python",
     "language_group": "synapse_pyspark"
    },
    "nteract": {
     "transient": {
      "deleting": false
     }
    }
   },
   "outputs": [],
   "source": [
    "fn_bronze_extract()"
   ]
  },
  {
   "cell_type": "markdown",
   "id": "4a14e9d2-7d8a-444d-8705-74c646f5e60f",
   "metadata": {
    "microsoft": {
     "language": "python",
     "language_group": "synapse_pyspark"
    },
    "nteract": {
     "transient": {
      "deleting": false
     }
    }
   },
   "source": [
    "# Set HTML for email and exit"
   ]
  },
  {
   "cell_type": "code",
   "execution_count": null,
   "id": "05954325-ed64-4d08-bd1a-b17d80a75573",
   "metadata": {
    "jupyter": {
     "outputs_hidden": false,
     "source_hidden": false
    },
    "microsoft": {
     "language": "python",
     "language_group": "synapse_pyspark"
    },
    "nteract": {
     "transient": {
      "deleting": false
     }
    }
   },
   "outputs": [],
   "source": [
    "# 1. Query table sdf_log and create \"Success, Warning, Danger HTML table\" to be sent by email to global_parameter.email_on_error"
   ]
  },
  {
   "cell_type": "markdown",
   "id": "3569f245-e1a0-450e-909b-7725c95c0653",
   "metadata": {
    "microsoft": {
     "language": "python",
     "language_group": "synapse_pyspark"
    },
    "nteract": {
     "transient": {
      "deleting": false
     }
    }
   },
   "source": [
    "# Exit"
   ]
  },
  {
   "cell_type": "code",
   "execution_count": null,
   "id": "96e6a992-d5ed-4c31-9f50-81d05f7564b6",
   "metadata": {
    "jupyter": {
     "outputs_hidden": false,
     "source_hidden": false
    },
    "microsoft": {
     "language": "python",
     "language_group": "synapse_pyspark"
    },
    "nteract": {
     "transient": {
      "deleting": false
     }
    }
   },
   "outputs": [],
   "source": [
    "# 2. mssparkutils.notebook.exit(\"Warning, Danger HTML table\")\n",
    "mssparkutils.notebook.exit(\"Query table \\\"lh_log.extract\\\" for errors in the current unique_identifier and return HTML for error email\")"
   ]
  }
 ],
 "metadata": {
  "dependencies": {
   "lakehouse": {}
  },
  "kernel_info": {
   "name": "synapse_pyspark"
  },
  "kernelspec": {
   "display_name": "Synapse PySpark",
   "language": "Python",
   "name": "synapse_pyspark"
  },
  "language_info": {
   "name": "python"
  },
  "microsoft": {
   "language": "python",
   "language_group": "synapse_pyspark",
   "ms_spell_check": {
    "ms_spell_check_language": "en"
   }
  },
  "nteract": {
   "version": "nteract-front-end@1.0.0"
  },
  "spark_compute": {
   "compute_id": "/trident/default",
   "session_options": {
    "conf": {
     "spark.synapse.nbs.session.timeout": "1200000"
    }
   }
  },
  "synapse_widget": {
   "state": {},
   "version": "0.1"
  },
  "widgets": {}
 },
 "nbformat": 4,
 "nbformat_minor": 5
}
