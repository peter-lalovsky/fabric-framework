{
 "cells": [
  {
   "cell_type": "code",
   "execution_count": null,
   "id": "1d7320d8-8e33-48fd-892f-f162432fabac",
   "metadata": {
    "jupyter": {
     "outputs_hidden": false,
     "source_hidden": false
    },
    "microsoft": {
     "language": "python",
     "language_group": "synapse_pyspark"
    },
    "nteract": {
     "transient": {
      "deleting": false
     }
    }
   },
   "outputs": [],
   "source": [
    "import sempy.fabric          as f\n",
    "import pyspark.sql.types     as st\n",
    "import pyspark.sql.functions as sf\n",
    "import time                  as t"
   ]
  },
  {
   "cell_type": "code",
   "execution_count": null,
   "id": "b9f664a3-6387-403c-a439-dc1e0873662c",
   "metadata": {
    "jupyter": {
     "outputs_hidden": false,
     "source_hidden": false
    },
    "microsoft": {
     "language": "python",
     "language_group": "synapse_pyspark"
    },
    "nteract": {
     "transient": {
      "deleting": false
     }
    },
    "tags": []
   },
   "outputs": [],
   "source": [
    "is_debug = True"
   ]
  },
  {
   "cell_type": "markdown",
   "id": "64e7ae84-6103-45f9-bbc0-58a94e877194",
   "metadata": {
    "microsoft": {
     "language": "python",
     "language_group": "synapse_pyspark"
    },
    "nteract": {
     "transient": {
      "deleting": false
     }
    }
   },
   "source": [
    "# Lakehouses"
   ]
  },
  {
   "cell_type": "markdown",
   "id": "4c0069d4-aabe-4744-8398-bebde7143a73",
   "metadata": {
    "microsoft": {
     "language": "python",
     "language_group": "synapse_pyspark"
    },
    "nteract": {
     "transient": {
      "deleting": false
     }
    }
   },
   "source": [
    "## Create lakehouses"
   ]
  },
  {
   "cell_type": "code",
   "execution_count": null,
   "id": "f3baee0c-d043-4b14-b795-9dc00745ac5a",
   "metadata": {
    "collapsed": false,
    "jupyter": {
     "outputs_hidden": false,
     "source_hidden": false
    },
    "microsoft": {
     "language": "python",
     "language_group": "synapse_pyspark"
    },
    "nteract": {
     "transient": {
      "deleting": false
     }
    }
   },
   "outputs": [],
   "source": [
    "# Get current WorkspaceID\n",
    "workspace_id = f.get_workspace_id()\n",
    "if is_debug: print(f\"workspace_id: {workspace_id}\")\n",
    "\n",
    "# Get lakehouses in the current workspace\n",
    "sdf_existing_dataset = spark.createDataFrame(f.list_datasets())\n",
    "if is_debug:\n",
    "    print(\"sdf_existing_dataset:\")\n",
    "    display(sdf_existing_dataset)\n",
    "\n",
    "# Create dataframe with the lakehouses that need to be created\n",
    "sdf_new_dataset = spark.createDataFrame([\n",
    "    \"lh_cfg\"\n",
    "    , \"lh_log\"\n",
    "    , \"lh_bronze\"\n",
    "    , \"lh_silver\"\n",
    "    , \"lh_AdventureWorks\"\n",
    "    , \"lh_dataverse_tablename_workspace_abc\"\n",
    "    ]\n",
    "    , \"string\"\n",
    ").toDF(\"lakehouse_name\")\n",
    "if is_debug:\n",
    "    print(\"sdf_new_dataset:\")\n",
    "    display(sdf_new_dataset)\n",
    "\n",
    "# Join \"existing\" and \"new\" lakehouses and create the missing ones\n",
    "sdf_joined = sdf_new_dataset.alias(\"n\")\\\n",
    "    .join(sdf_existing_dataset.alias(\"e\"), sf.col(\"n.lakehouse_name\") == sf.col(\"e.Dataset Name\"), \"leftanti\")\\\n",
    "    .select(sf.col(\"n.lakehouse_name\")\n",
    ")\n",
    "sdf_joined_count = sdf_joined.count()\n",
    "if is_debug:\n",
    "    print(\"sdf_joined:\")\n",
    "    display(sdf_joined)\n",
    "    print(f\"sdf_joined_count: {sdf_joined_count}\")\n",
    "\n",
    "# loop joined dataframe and create the new lakehouses\n",
    "for row in sdf_joined.collect():\n",
    "    lakehouse_id = f.create_lakehouse(row.lakehouse_name)\n",
    "    print(f\"Lakehouse with id\\\"{lakehouse_id}\\\" is created successfully\")\n",
    "\n",
    "# Sleep until lakehouses are created\n",
    "if sdf_joined_count > 0: t.sleep(60)"
   ]
  },
  {
   "cell_type": "markdown",
   "id": "63e3b4cb-422b-4a41-a394-61414bf53db6",
   "metadata": {
    "microsoft": {
     "language": "python",
     "language_group": "synapse_pyspark"
    },
    "nteract": {
     "transient": {
      "deleting": false
     }
    }
   },
   "source": [
    "## Getting the ABFS paths "
   ]
  },
  {
   "cell_type": "code",
   "execution_count": null,
   "id": "b80ec4a7-ea2f-4bf6-a3ab-b0ac673c69df",
   "metadata": {
    "collapsed": false,
    "jupyter": {
     "outputs_hidden": false,
     "source_hidden": false
    },
    "microsoft": {
     "language": "python",
     "language_group": "synapse_pyspark"
    },
    "nteract": {
     "transient": {
      "deleting": false
     }
    }
   },
   "outputs": [],
   "source": [
    "# Create variables for abfs paths (abfs_path_<lakehouse_name>)\n",
    "list_lakehouse = mssparkutils.lakehouse.list(workspaceId = workspace_id)\n",
    "\n",
    "for v in list_lakehouse:\n",
    "    lakehouse_name = v.displayName\n",
    "    abfs_path      = v.properties[\"abfsPath\"]\n",
    "\n",
    "    if is_debug: print(f\"abfs_path_{lakehouse_name}: {abfs_path}\")\n",
    "    locals()[f\"abfs_path_{lakehouse_name}\"] = abfs_path"
   ]
  },
  {
   "cell_type": "markdown",
   "id": "adf129b4-7a71-49bf-9c21-da1bf3813157",
   "metadata": {
    "microsoft": {
     "language": "python",
     "language_group": "synapse_pyspark"
    },
    "nteract": {
     "transient": {
      "deleting": false
     }
    }
   },
   "source": [
    "## Create Tables"
   ]
  },
  {
   "cell_type": "markdown",
   "id": "883e2738",
   "metadata": {},
   "source": [
    "### Extract Object"
   ]
  },
  {
   "cell_type": "markdown",
   "id": "1bdea1f9",
   "metadata": {},
   "source": [
    "One table per \"frequency\", keeping all the attributes, needed for the extraction of this object"
   ]
  },
  {
   "cell_type": "markdown",
   "id": "f4011cff-8293-4c05-9966-fa3ee9adc688",
   "metadata": {
    "microsoft": {
     "language": "python",
     "language_group": "synapse_pyspark"
    },
    "nteract": {
     "transient": {
      "deleting": false
     }
    }
   },
   "source": [
    "#### lh_cfg.eo_sqlserver"
   ]
  },
  {
   "cell_type": "code",
   "execution_count": null,
   "id": "f60a68e8-9e8f-42b2-9e84-75bdb7e71cc0",
   "metadata": {
    "collapsed": false,
    "jupyter": {
     "outputs_hidden": false,
     "source_hidden": false
    },
    "microsoft": {
     "language": "python",
     "language_group": "synapse_pyspark"
    },
    "nteract": {
     "transient": {
      "deleting": false
     }
    }
   },
   "outputs": [],
   "source": [
    "sch = st.StructType([\n",
    "  st.StructField(\"technology\"                     , st.StringType(), False) # PK\n",
    "  , st.StructField(\"frequency\"                    , st.StringType(), False) # PK\n",
    "  , st.StructField(\"server_name\"                  , st.StringType(), False) # PK\n",
    "  , st.StructField(\"database_name\"                , st.StringType(), False) # PK\n",
    "  , st.StructField(\"schema_name\"                  , st.StringType(), False) # PK\n",
    "  , st.StructField(\"table_name\"                   , st.StringType(), False) # PK\n",
    "  , st.StructField(\"keyvault_url\"                 , st.StringType())\n",
    "  , st.StructField(\"keyvault_secret_name_user\"    , st.StringType())\n",
    "  , st.StructField(\"keyvault_secret_name_password\", st.StringType())\n",
    "  , st.StructField(\"extract_type\"                 , st.StringType())  \n",
    "  , st.StructField(\"sequence\"                     , st.LongType())\n",
    "  , st.StructField(\"extraction_timeframe\"         , st.StringType())\n",
    "  , st.StructField(\"from\"                         , st.StringType())\n",
    "  , st.StructField(\"where\"                        , st.StringType())\n",
    "  , st.StructField(\"is_pk\"                        , st.BooleanType())\n",
    "  , st.StructField(\"prefix_select\"                , st.StringType())\n",
    "  , st.StructField(\"column_name\"                  , st.StringType())\n",
    "  , st.StructField(\"is_extracted\"                 , st.BooleanType())\n",
    "  , st.StructField(\"data_type\"                    , st.StringType())\n",
    "])\n",
    "\n",
    "sdf = spark.createDataFrame([], sch)\n",
    "\n",
    "sdf.write\\\n",
    "  .format(\"delta\")\\\n",
    "  .mode(\"overwrite\")\\\n",
    "  .option(\"overwriteSchema\", \"True\")\\\n",
    "  .save(f\"{abfs_path_lh_cfg}/Tables/eo_sqlserver\")\n",
    "\n",
    "if is_debug:\n",
    "  sdf.printSchema()\n",
    "  display(sdf)"
   ]
  },
  {
   "cell_type": "markdown",
   "id": "faebb498-fc1a-48c4-a02f-6eac448989f7",
   "metadata": {
    "microsoft": {
     "language": "python",
     "language_group": "synapse_pyspark"
    },
    "nteract": {
     "transient": {
      "deleting": false
     }
    }
   },
   "source": [
    "#### lh_cfg.eo_lakehouse"
   ]
  },
  {
   "cell_type": "code",
   "execution_count": null,
   "id": "505929a2-f4f1-41cd-a136-fffee8657bde",
   "metadata": {
    "collapsed": false,
    "jupyter": {
     "outputs_hidden": false,
     "source_hidden": false
    },
    "microsoft": {
     "language": "python",
     "language_group": "synapse_pyspark"
    },
    "nteract": {
     "transient": {
      "deleting": false
     }
    }
   },
   "outputs": [],
   "source": [
    "sch = st.StructType([\n",
    "  st.StructField(\"technology\"            , st.StringType(), False) # PK\n",
    "  , st.StructField(\"frequency\"           , st.StringType(), False) # PK\n",
    "  , st.StructField(\"lakehouse_name\"      , st.StringType(), False) # PK\n",
    "  , st.StructField(\"table_name\"          , st.StringType(), False) # PK\n",
    "  , st.StructField(\"extract_type\"        , st.StringType())\n",
    "  , st.StructField(\"sequence\"            , st.LongType())\n",
    "  , st.StructField(\"extraction_timeframe\", st.StringType())\n",
    "  , st.StructField(\"from\"                , st.StringType())\n",
    "  , st.StructField(\"where\"               , st.StringType())\n",
    "  , st.StructField(\"is_pk\"               , st.BooleanType())\n",
    "  , st.StructField(\"prefix_select\"       , st.StringType())\n",
    "  , st.StructField(\"column_name\"         , st.StringType())\n",
    "  , st.StructField(\"is_extracted\"        , st.BooleanType())\n",
    "  , st.StructField(\"data_type\"           , st.StringType())\n",
    "])\n",
    "\n",
    "sdf = spark.createDataFrame([], sch)\n",
    "\n",
    "sdf.write\\\n",
    "  .format(\"delta\")\\\n",
    "  .mode(\"overwrite\")\\\n",
    "  .option(\"overwriteSchema\", \"True\")\\\n",
    "  .save(f\"{abfs_path_lh_cfg}/Tables/eo_lakehouse\")\n",
    "\n",
    "if is_debug:\n",
    "  sdf.printSchema()\n",
    "  display(sdf)"
   ]
  },
  {
   "cell_type": "markdown",
   "id": "568e2375-cbf4-4556-a448-65ee6ba45327",
   "metadata": {
    "microsoft": {
     "language": "python",
     "language_group": "synapse_pyspark"
    },
    "nteract": {
     "transient": {
      "deleting": false
     }
    }
   },
   "source": [
    "#### lh_cfg.eo_excel"
   ]
  },
  {
   "cell_type": "code",
   "execution_count": null,
   "id": "f6c8f03a-6819-4b2c-9e06-dd8e2cc0303c",
   "metadata": {
    "collapsed": false,
    "jupyter": {
     "outputs_hidden": false,
     "source_hidden": false
    },
    "microsoft": {
     "language": "python",
     "language_group": "synapse_pyspark"
    },
    "nteract": {
     "transient": {
      "deleting": false
     }
    }
   },
   "outputs": [],
   "source": [
    "sch = st.StructType([\n",
    "  st.StructField(\"technology\"      , st.StringType(), False) # PK\n",
    "  , st.StructField(\"frequency\"     , st.StringType(), False) # PK\n",
    "  , st.StructField(\"folder_name\"   , st.StringType(), False) # PK\n",
    "  , st.StructField(\"file_name\"     , st.StringType(), False) # PK\n",
    "  , st.StructField(\"worksheet_name\", st.StringType(), False) # PK\n",
    "  , st.StructField(\"extract_type\"  , st.StringType())\n",
    "  , st.StructField(\"first_row\"     , st.ShortType())\n",
    "  , st.StructField(\"sequence\"      , st.LongType())\n",
    "  , st.StructField(\"is_pk\"         , st.BooleanType())\n",
    "  , st.StructField(\"column_name\"   , st.StringType())\n",
    "  , st.StructField(\"is_extracted\"  , st.BooleanType())\n",
    "  , st.StructField(\"data_type\"     , st.StringType())\n",
    "])\n",
    "\n",
    "sdf = spark.createDataFrame([], sch)\n",
    "\n",
    "sdf.write\\\n",
    "  .format(\"delta\")\\\n",
    "  .mode(\"overwrite\")\\\n",
    "  .option(\"overwriteSchema\", \"True\")\\\n",
    "  .save(f\"{abfs_path_lh_cfg}/Tables/eo_excel\")\n",
    "\n",
    "if is_debug:\n",
    "  sdf.printSchema()\n",
    "  display(sdf)"
   ]
  },
  {
   "cell_type": "markdown",
   "id": "45d39fd6-dc53-4a0c-9b98-5d5ab1160563",
   "metadata": {
    "microsoft": {
     "language": "python",
     "language_group": "synapse_pyspark"
    },
    "nteract": {
     "transient": {
      "deleting": false
     }
    }
   },
   "source": [
    "#### lh_cfg.eo_csv"
   ]
  },
  {
   "cell_type": "code",
   "execution_count": null,
   "id": "ddd591c4-acd9-4b7c-bbe6-087d0144dfac",
   "metadata": {
    "collapsed": false,
    "jupyter": {
     "outputs_hidden": false,
     "source_hidden": false
    },
    "microsoft": {
     "language": "python",
     "language_group": "synapse_pyspark"
    },
    "nteract": {
     "transient": {
      "deleting": false
     }
    }
   },
   "outputs": [],
   "source": [
    "sch = st.StructType([\n",
    "  st.StructField(\"technology\"     , st.StringType(), False) # PK\n",
    "  , st.StructField(\"frequency\"    , st.StringType(), False) # PK\n",
    "  , st.StructField(\"folder_name\"  , st.StringType(), False) # PK\n",
    "  , st.StructField(\"file_name\"    , st.StringType(), False) # PK\n",
    "  , st.StructField(\"has_header\"   , st.BooleanType())\n",
    "  , st.StructField(\"delimiter\"    , st.StringType())\n",
    "  , st.StructField(\"row_separator\", st.StringType())\n",
    "  , st.StructField(\"quote\"        , st.StringType())\n",
    "  , st.StructField(\"extract_type\" , st.StringType())\n",
    "  , st.StructField(\"sequence\"     , st.LongType())\n",
    "  , st.StructField(\"is_pk\"        , st.BooleanType())\n",
    "  , st.StructField(\"column_name\"  , st.StringType())\n",
    "  , st.StructField(\"is_extracted\" , st.BooleanType())\n",
    "  , st.StructField(\"data_type\"    , st.StringType())\n",
    "])\n",
    "\n",
    "sdf = spark.createDataFrame([], sch)\n",
    "\n",
    "sdf.write\\\n",
    "  .format(\"delta\")\\\n",
    "  .mode(\"overwrite\")\\\n",
    "  .option(\"overwriteSchema\", \"True\")\\\n",
    "  .save(f\"{abfs_path_lh_cfg}/Tables/eo_csv\")\n",
    "\n",
    "if is_debug:\n",
    "  sdf.printSchema()\n",
    "  display(sdf)"
   ]
  },
  {
   "cell_type": "markdown",
   "id": "b78d3616-5791-425b-889f-e9d297d86e5b",
   "metadata": {
    "microsoft": {
     "language": "python",
     "language_group": "synapse_pyspark"
    },
    "nteract": {
     "transient": {
      "deleting": false
     }
    }
   },
   "source": [
    "#### lh_cfg.eo_json"
   ]
  },
  {
   "cell_type": "code",
   "execution_count": null,
   "id": "c7988150-93b2-4a1c-a5e6-ad1c1354df4c",
   "metadata": {
    "collapsed": false,
    "jupyter": {
     "outputs_hidden": false,
     "source_hidden": false
    },
    "microsoft": {
     "language": "python",
     "language_group": "synapse_pyspark"
    },
    "nteract": {
     "transient": {
      "deleting": false
     }
    }
   },
   "outputs": [],
   "source": [
    "sch = st.StructType([\n",
    "  st.StructField(\"technology\"    , st.StringType(), False) # PK\n",
    "  , st.StructField(\"frequency\"   , st.StringType(), False) # PK\n",
    "  , st.StructField(\"folder_name\" , st.StringType(), False) # PK\n",
    "  , st.StructField(\"file_name\"   , st.StringType(), False) # PK\n",
    "  , st.StructField(\"extract_type\", st.StringType())\n",
    "  , st.StructField(\"sequence\"    , st.LongType())\n",
    "  , st.StructField(\"is_pk\"       , st.BooleanType())\n",
    "  , st.StructField(\"column_name\" , st.StringType())\n",
    "  , st.StructField(\"is_extracted\", st.BooleanType())\n",
    "  , st.StructField(\"data_type\"   , st.StringType())\n",
    "])\n",
    "\n",
    "sdf = spark.createDataFrame([], sch)\n",
    "\n",
    "sdf.write\\\n",
    "  .format(\"delta\")\\\n",
    "  .mode(\"overwrite\")\\\n",
    "  .option(\"overwriteSchema\", \"True\")\\\n",
    "  .save(f\"{abfs_path_lh_cfg}/Tables/eo_json\")\n",
    "\n",
    "if is_debug:\n",
    "  sdf.printSchema()\n",
    "  display(sdf)"
   ]
  },
  {
   "cell_type": "markdown",
   "id": "547a9db8-860e-4917-8b4a-6df838161550",
   "metadata": {
    "microsoft": {
     "language": "python",
     "language_group": "synapse_pyspark"
    },
    "nteract": {
     "transient": {
      "deleting": false
     }
    }
   },
   "source": [
    "#### lh_cfg.eo_api"
   ]
  },
  {
   "cell_type": "code",
   "execution_count": null,
   "id": "6ed9f983-fed4-4557-bf92-8adbf464dd4d",
   "metadata": {
    "collapsed": false,
    "jupyter": {
     "outputs_hidden": false,
     "source_hidden": false
    },
    "microsoft": {
     "language": "python",
     "language_group": "synapse_pyspark"
    },
    "nteract": {
     "transient": {
      "deleting": false
     }
    }
   },
   "outputs": [],
   "source": [
    "sch = st.StructType([\n",
    "    st.StructField(\"technology\"           , st.StringType(), False) # PK\n",
    "    , st.StructField(\"frequency\"          , st.StringType(), False) # PK\n",
    "    , st.StructField(\"table_name\"         , st.StringType(), False) # PK\n",
    "    , st.StructField(\"url\"                , st.StringType(), False) # PK requests.get/post(url)\n",
    "    , st.StructField(\"method\"             , st.StringType())\n",
    "    , st.StructField(\"headers\"            , st.StringType()) # requests.get/post(headers)\n",
    "    , st.StructField(\"data\"               , st.StringType()) # requests.post(data)\n",
    "    , st.StructField(\"root_element_name\"  , st.StringType())\n",
    "    , st.StructField(\"pagination_value\"   , st.StringType())\n",
    "    , st.StructField(\"params\"             , st.StringType()) # requests.get(params)\n",
    "    , st.StructField(\"authorization_type\" , st.StringType())\n",
    "    , st.StructField(\"authorization_value\", st.StringType())\n",
    "    , st.StructField(\"request_timeout\"    , st.IntegerType())\n",
    "    , st.StructField(\"response_format\"    , st.IntegerType())\n",
    "    , st.StructField(\"is_extracted\"       , st.BooleanType())\n",
    "])\n",
    "\n",
    "sdf = spark.createDataFrame([], sch)\n",
    "\n",
    "sdf.write\\\n",
    "\t.format(\"delta\")\\\n",
    "\t.mode(\"overwrite\")\\\n",
    "\t.option(\"overwriteSchema\", \"True\")\\\n",
    "\t.save(f\"{abfs_path_lh_cfg}/Tables/eo_api\")\n",
    "\n",
    "if is_debug:\n",
    "\tsdf.printSchema()\n",
    "\tdisplay(sdf)"
   ]
  },
  {
   "cell_type": "markdown",
   "id": "71cccf6f",
   "metadata": {},
   "source": [
    "### Parameter"
   ]
  },
  {
   "cell_type": "markdown",
   "id": "9bcfbfa2",
   "metadata": {},
   "source": [
    "#### lh_cfg.global_parameter"
   ]
  },
  {
   "cell_type": "markdown",
   "id": "76d69dab",
   "metadata": {},
   "source": [
    "The global parameters are applicable to the entire process (bronze, silver, gold)"
   ]
  },
  {
   "cell_type": "code",
   "execution_count": null,
   "id": "1186b88d",
   "metadata": {},
   "outputs": [],
   "source": [
    "sch = st.StructType([\n",
    "  st.StructField(\"name\",         st.StringType(),  False) # PK\n",
    "  , st.StructField(\"value\",      st.StringType(),  False) # PK\n",
    "  , st.StructField(\"note\",       st.StringType(),  True)\n",
    "  , st.StructField(\"is_active\" , st.BooleanType(), False)\n",
    "])\n",
    "\n",
    "# Collect existing lakehouses and create dynamic \"create dataframe\" list\n",
    "list_lakehouse = mssparkutils.lakehouse.list(workspaceId = workspace_id)\n",
    "\n",
    "s = \"spark.createDataFrame([\"\n",
    "\n",
    "for v in list_lakehouse:\n",
    "    lakehouse_name = v.displayName\n",
    "    abfs_path      = v.properties[\"abfsPath\"]\n",
    "\n",
    "    if is_debug:\n",
    "        s += f\"(\\\"abfs_path_{lakehouse_name}\\\", abfs_path_{lakehouse_name}.strip(),\\\"abfs path for lakehouse {lakehouse_name}\\\"),\"\n",
    "\n",
    "s += \"], sch)\"\n",
    "\n",
    "# Create sdf_global_parameter\n",
    "sdf_global_parameter = eval(s)\n",
    "\n",
    "sdf_global_parameter.write\\\n",
    "  .format(\"delta\")\\\n",
    "  .mode(\"overwrite\")\\\n",
    "  .option(\"overwriteSchema\", \"True\")\\\n",
    "  .save(f\"{abfs_path_lh_cfg}/Tables/global_parameter\")\n",
    "\n",
    "if is_debug:\n",
    "  sdf_global_parameter.printSchema()\n",
    "  display(sdf_global_parameter)"
   ]
  },
  {
   "cell_type": "markdown",
   "id": "62fbd0dc",
   "metadata": {},
   "source": [
    "#### lh_cfg.ep_sqlserver"
   ]
  },
  {
   "cell_type": "markdown",
   "id": "36c8e4bb",
   "metadata": {},
   "source": [
    "Parameters as per teshnology, created and used dynamically during the process run"
   ]
  },
  {
   "cell_type": "code",
   "execution_count": null,
   "id": "25dd190f",
   "metadata": {},
   "outputs": [],
   "source": [
    "sch = st.StructType([\n",
    "\tst.StructField(\"technology\"      , st.StringType(), False) # PK\n",
    "\t, st.StructField(\"frequency\"\t , st.StringType(), False) # PK\n",
    "\t, st.StructField(\"server_name\"   , st.StringType(), False) # PK\n",
    "\t, st.StructField(\"database_name\" , st.StringType(), False) # PK\n",
    "\t, st.StructField(\"schema_name\"   , st.StringType(), False) # PK\n",
    "\t, st.StructField(\"table_name\"    , st.StringType(), False) # PK\n",
    "\t, st.StructField(\"name\"\t\t     , st.StringType())\n",
    "\t, st.StructField(\"value\"\t\t , st.StringType())\n",
    "])\n",
    "\n",
    "sdf = spark.createDataFrame([], sch)\n",
    "\n",
    "sdf.write\\\n",
    "\t.format(\"delta\")\\\n",
    "\t.mode(\"overwrite\")\\\n",
    "\t.option(\"overwriteSchema\", \"True\")\\\n",
    "\t.save(f\"{abfs_path_lh_cfg}/Tables/ep_sqlserver\")\n",
    "\n",
    "if is_debug:\n",
    "\tsdf.printSchema()\n",
    "\tdisplay(sdf)"
   ]
  },
  {
   "cell_type": "markdown",
   "id": "8f37a30a",
   "metadata": {},
   "source": [
    "#### lh_cfg.ep_lakehouse"
   ]
  },
  {
   "cell_type": "code",
   "execution_count": null,
   "id": "beffe6a9",
   "metadata": {},
   "outputs": [],
   "source": [
    "sch = st.StructType([\n",
    "\tst.StructField(\"technology\"      , st.StringType(), False) # PK\n",
    "\t, st.StructField(\"frequency\"\t , st.StringType(), False) # PK\n",
    "\t, st.StructField(\"lakehouse_name\", st.StringType(), False) # PK (Technology = Lakehouse)\n",
    "\t, st.StructField(\"name\"\t\t     , st.StringType())\n",
    "\t, st.StructField(\"value\"\t\t , st.StringType())\n",
    "])\n",
    "\n",
    "sdf = spark.createDataFrame([], sch)\n",
    "\n",
    "sdf.write\\\n",
    "\t.format(\"delta\")\\\n",
    "\t.mode(\"overwrite\")\\\n",
    "\t.option(\"overwriteSchema\", \"True\")\\\n",
    "\t.save(f\"{abfs_path_lh_cfg}/Tables/ep_lakehouse\")\n",
    "\n",
    "if is_debug:\n",
    "\tsdf.printSchema()\n",
    "\tdisplay(sdf)"
   ]
  },
  {
   "cell_type": "markdown",
   "id": "864ddb12",
   "metadata": {},
   "source": [
    "#### lh_cfg.ep_api"
   ]
  },
  {
   "cell_type": "code",
   "execution_count": null,
   "id": "00b0bdfa",
   "metadata": {},
   "outputs": [],
   "source": [
    "sch = st.StructType([\n",
    "\tst.StructField(\"technology\"  , st.StringType(), False) # PK\n",
    "\t, st.StructField(\"frequency\" , st.StringType(), False) # PK\n",
    "\t, st.StructField(\"table_name\", st.StringType(), False) # PK\n",
    "\t, st.StructField(\"base_url\"  , st.StringType(), False) # PK\n",
    "\t, st.StructField(\"name\"\t\t , st.StringType())\n",
    "\t, st.StructField(\"value\"\t , st.StringType())\n",
    "])\n",
    "\n",
    "sdf = spark.createDataFrame([], sch)\n",
    "\n",
    "sdf.write\\\n",
    "\t.format(\"delta\")\\\n",
    "\t.mode(\"overwrite\")\\\n",
    "\t.option(\"overwriteSchema\", \"True\")\\\n",
    "\t.save(f\"{abfs_path_lh_cfg}/Tables/ep_api\")\n",
    "\n",
    "if is_debug:\n",
    "\tsdf.printSchema()\n",
    "\tdisplay(sdf)"
   ]
  },
  {
   "cell_type": "markdown",
   "id": "a1d47bb2",
   "metadata": {},
   "source": [
    "### Power BI"
   ]
  },
  {
   "cell_type": "markdown",
   "id": "1f14386e-12bc-4c15-b67f-f457a71062fa",
   "metadata": {
    "microsoft": {
     "language": "python",
     "language_group": "synapse_pyspark"
    },
    "nteract": {
     "transient": {
      "deleting": false
     }
    }
   },
   "source": [
    "#### lh_cfg.pbi_refresh"
   ]
  },
  {
   "cell_type": "code",
   "execution_count": null,
   "id": "99fba090-b9b2-44c0-9b61-05317d0c1390",
   "metadata": {
    "collapsed": false,
    "jupyter": {
     "outputs_hidden": false,
     "source_hidden": false
    },
    "microsoft": {
     "language": "python",
     "language_group": "synapse_pyspark"
    },
    "nteract": {
     "transient": {
      "deleting": false
     }
    }
   },
   "outputs": [],
   "source": [
    "sch = st.StructType([\n",
    "    st.StructField(\"frequency\"                , st.StringType(), False) # PK\n",
    "    , st.StructField(\"environment\"            , st.StringType())\n",
    "    , st.StructField(\"workspace_id\"           , st.StringType(), False) # PK\n",
    "    , st.StructField(\"semantic_model_id\"      , st.StringType(), False) # PK\n",
    "    , st.StructField(\"semantic_model_name\"    , st.StringType())\n",
    "    , st.StructField(\"request_timeout\"        , st.IntegerType())\n",
    "    , st.StructField(\"refresh_timeout\"        , st.IntegerType())\n",
    "    , st.StructField(\"loop_wait_time_seconds\" , st.IntegerType())\n",
    "    , st.StructField(\"is_active\"              , st.BooleanType())\n",
    "])\n",
    "\n",
    "sdf = spark.createDataFrame([], sch)\n",
    "\n",
    "sdf.write\\\n",
    "\t.format(\"delta\")\\\n",
    "\t.mode(\"overwrite\")\\\n",
    "\t.option(\"overwriteSchema\", \"True\")\\\n",
    "\t.save(f\"{abfs_path_lh_cfg}/Tables/pbi_refresh\")\n",
    "\n",
    "if is_debug:\n",
    "\tsdf.printSchema()\n",
    "\tdisplay(sdf)"
   ]
  },
  {
   "cell_type": "markdown",
   "id": "77e10ce5",
   "metadata": {},
   "source": [
    "### Metadata"
   ]
  },
  {
   "cell_type": "markdown",
   "id": "208fda92-8bb4-4867-848e-5083b55bee41",
   "metadata": {
    "microsoft": {
     "language": "python",
     "language_group": "synapse_pyspark"
    },
    "nteract": {
     "transient": {
      "deleting": false
     }
    }
   },
   "source": [
    "#### lh_cfg.md_column"
   ]
  },
  {
   "cell_type": "markdown",
   "id": "451a49c8",
   "metadata": {},
   "source": [
    "The metadata columns that are added automatically to all bronze tables"
   ]
  },
  {
   "cell_type": "code",
   "execution_count": null,
   "id": "992c48aa-fac5-4880-86f4-e122c082f7e3",
   "metadata": {
    "collapsed": false,
    "jupyter": {
     "outputs_hidden": false,
     "source_hidden": false
    },
    "microsoft": {
     "language": "python",
     "language_group": "synapse_pyspark"
    },
    "nteract": {
     "transient": {
      "deleting": false
     }
    }
   },
   "outputs": [],
   "source": [
    "sch = st.StructType([\n",
    "  st.StructField(\"technology\" , st.StringType(), False) # PK\n",
    "  , st.StructField(\"frequency\", st.StringType(), False) # PK\n",
    "  , st.StructField(\"name\"     , st.StringType(), False) # PK\n",
    "  , st.StructField(\"note\"     , st.StringType())\n",
    "])\n",
    "\n",
    "sdf = spark.createDataFrame([], sch)\n",
    "\n",
    "sdf.write\\\n",
    "  .format(\"delta\")\\\n",
    "  .mode(\"overwrite\")\\\n",
    "  .option(\"overwriteSchema\", \"True\")\\\n",
    "  .save(f\"{abfs_path_lh_cfg}/Tables/md_column\")\n",
    "\n",
    "if is_debug:\n",
    "  sdf.printSchema()\n",
    "  display(sdf)"
   ]
  },
  {
   "cell_type": "markdown",
   "id": "bf384d83",
   "metadata": {},
   "source": [
    "### Log"
   ]
  },
  {
   "cell_type": "markdown",
   "id": "19f0c7a5-b9c6-4fdb-85be-8d7a278cdf7e",
   "metadata": {
    "microsoft": {
     "language": "python",
     "language_group": "synapse_pyspark"
    },
    "nteract": {
     "transient": {
      "deleting": false
     }
    }
   },
   "source": [
    "#### lh_log.log"
   ]
  },
  {
   "cell_type": "code",
   "execution_count": null,
   "id": "495febc0-6455-47a7-875f-96515fd0f9bb",
   "metadata": {
    "collapsed": false,
    "jupyter": {
     "outputs_hidden": false,
     "source_hidden": false
    },
    "microsoft": {
     "language": "python",
     "language_group": "synapse_pyspark"
    },
    "nteract": {
     "transient": {
      "deleting": false
     }
    }
   },
   "outputs": [],
   "source": [
    "sch = st.StructType([\n",
    "    st.StructField(\"process_timestamp\"  , st.StringType())\n",
    "    , st.StructField(\"medallion_name\"   , st.StringType())\n",
    "    , st.StructField(\"source_name\"      , st.StringType())\n",
    "    , st.StructField(\"locals\"           , st.StringType())\n",
    "    , st.StructField(\"alert\"            , st.StringType())\n",
    "    , st.StructField(\"alert_description\", st.StringType())\n",
    "    , st.StructField(\"logged_datetime\"  , st.TimestampType())\n",
    "])\n",
    "\n",
    "sdf = spark.createDataFrame([], sch)\n",
    "\n",
    "sdf.write\\\n",
    "    .format(\"delta\")\\\n",
    "    .mode(\"overwrite\")\\\n",
    "    .option(\"overwriteSchema\", \"True\")\\\n",
    "    .save(f\"{abfs_path_lh_log}/Tables/log\")\n",
    "\n",
    "if is_debug:\n",
    "    sdf.printSchema()\n",
    "    display(sdf)"
   ]
  },
  {
   "cell_type": "markdown",
   "id": "2c4f0cf0-1a0e-4c8c-8457-ff35de22fbf2",
   "metadata": {
    "microsoft": {
     "language": "python",
     "language_group": "synapse_pyspark"
    },
    "nteract": {
     "transient": {
      "deleting": false
     }
    }
   },
   "source": [
    "#### lh_log.extract"
   ]
  },
  {
   "cell_type": "code",
   "execution_count": null,
   "id": "03c6e739",
   "metadata": {},
   "outputs": [],
   "source": [
    "# PL: Ignore this!"
   ]
  },
  {
   "cell_type": "code",
   "execution_count": null,
   "id": "05e5976b-17b2-4092-bfde-73a601af21dc",
   "metadata": {
    "collapsed": false,
    "jupyter": {
     "outputs_hidden": false,
     "source_hidden": false
    },
    "microsoft": {
     "language": "python",
     "language_group": "synapse_pyspark"
    },
    "nteract": {
     "transient": {
      "deleting": false
     }
    }
   },
   "outputs": [],
   "source": [
    "sch = st.StructType([\n",
    "    st.StructField(\"technology\"             , st.StringType())\n",
    "    , st.StructField(\"frequency\"            , st.StringType())\n",
    "    , st.StructField(\"lakehouse_name\"       , st.StringType())\n",
    "    , st.StructField(\"server_name\"          , st.StringType())\n",
    "    , st.StructField(\"database_name\"        , st.StringType())\n",
    "    , st.StructField(\"schema_name\"          , st.StringType())\n",
    "    , st.StructField(\"table_name\"           , st.StringType())\n",
    "    , st.StructField(\"folder_name\"          , st.StringType())\n",
    "    , st.StructField(\"file_name\"            , st.StringType())\n",
    "    , st.StructField(\"worksheet_name\"       , st.StringType())\n",
    "    , st.StructField(\"extraction_date_start\", st.TimestampType())\n",
    "    , st.StructField(\"extraction_date_end\"  , st.TimestampType())\n",
    "    , st.StructField(\"process_timestamp\"    , st.StringType())\n",
    "])\n",
    "\n",
    "sdf = spark.createDataFrame([], sch)\n",
    "\n",
    "sdf.write\\\n",
    "    .format(\"delta\")\\\n",
    "    .mode(\"overwrite\")\\\n",
    "    .option(\"overwriteSchema\", \"True\")\\\n",
    "    .save(f\"{abfs_path_lh_log}/Tables/extract\")\n",
    "\n",
    "if is_debug:\n",
    "    sdf.printSchema()\n",
    "    display(sdf)"
   ]
  },
  {
   "cell_type": "markdown",
   "id": "b9f87fb3",
   "metadata": {},
   "source": [
    "### Schedule"
   ]
  },
  {
   "cell_type": "markdown",
   "id": "3d3bc5ba",
   "metadata": {},
   "source": [
    "#### lh_cfg.schedule"
   ]
  },
  {
   "cell_type": "code",
   "execution_count": null,
   "id": "3f7127cf",
   "metadata": {},
   "outputs": [],
   "source": [
    "sch = st.StructType([\n",
    "    st.StructField(\"name\"            , st.StringType())\n",
    "    , st.StructField(\"frequency\"     , st.StringType())\n",
    "    , st.StructField(\"run_hour\"      , st.StringType())\n",
    "    , st.StructField(\"run_minute\"    , st.StringType())\n",
    "    , st.StructField(\"run_am_pm\"     , st.StringType())\n",
    "    , st.StructField(\"start_datetime\", st.TimestampType())\n",
    "    , st.StructField(\"end_datetime\"  , st.TimestampType())\n",
    "    , st.StructField(\"days_of_week\"  , st.StringType())\n",
    "])\n",
    "\n",
    "sdf = spark.createDataFrame([], sch)\n",
    "\n",
    "sdf.write\\\n",
    "    .format(\"delta\")\\\n",
    "    .mode(\"overwrite\")\\\n",
    "    .option(\"overwriteSchema\", \"True\")\\\n",
    "    .save(f\"{abfs_path_lh_cfg}/Tables/schedule\")\n",
    "\n",
    "if is_debug:\n",
    "    sdf.printSchema()\n",
    "    display(sdf)"
   ]
  },
  {
   "cell_type": "markdown",
   "id": "bc168582",
   "metadata": {},
   "source": [
    "### Data Validation"
   ]
  },
  {
   "cell_type": "markdown",
   "id": "01e0e44e",
   "metadata": {},
   "source": [
    "#### lh_cfg.data_validation"
   ]
  },
  {
   "cell_type": "code",
   "execution_count": null,
   "id": "3d95293e",
   "metadata": {},
   "outputs": [],
   "source": [
    "# TODO: Create logic for Data Validation\n",
    "\n",
    "sch = st.StructType([\n",
    "    st.StructField(\"column_1\"  , st.StringType())\n",
    "    , st.StructField(\"column_2\", st.StringType())\n",
    "])\n",
    "\n",
    "sdf = spark.createDataFrame([], sch)\n",
    "\n",
    "sdf.write\\\n",
    "    .format(\"delta\")\\\n",
    "    .mode(\"overwrite\")\\\n",
    "    .option(\"overwriteSchema\", \"True\")\\\n",
    "    .save(f\"{abfs_path_lh_cfg}/Tables/data_validation\")\n",
    "\n",
    "if is_debug:\n",
    "    sdf.printSchema()\n",
    "    display(sdf)"
   ]
  }
 ],
 "metadata": {
  "dependencies": {
   "lakehouse": {}
  },
  "kernel_info": {
   "name": "synapse_pyspark"
  },
  "kernelspec": {
   "display_name": "Synapse PySpark",
   "language": "Python",
   "name": "synapse_pyspark"
  },
  "language_info": {
   "name": "python"
  },
  "microsoft": {
   "language": "python",
   "language_group": "synapse_pyspark",
   "ms_spell_check": {
    "ms_spell_check_language": "en"
   }
  },
  "notebook_environment": {},
  "nteract": {
   "version": "nteract-front-end@1.0.0"
  },
  "save_output": true,
  "spark_compute": {
   "compute_id": "/trident/default",
   "session_options": {
    "conf": {
     "spark.synapse.nbs.session.timeout": "1200000"
    },
    "enableDebugMode": false
   }
  },
  "synapse_widget": {
   "state": {
    "05262d4d-6517-47bc-8b43-58fce110525b": {
     "persist_state": {
      "view": {
       "chartOptions": {
        "aggregationType": "count",
        "binsNumber": 10,
        "categoryFieldKeys": [
         "0"
        ],
        "chartType": "bar",
        "evaluatesOverAllRecords": false,
        "isStacked": false,
        "seriesFieldKeys": [
         "0"
        ],
        "wordFrequency": "-1"
       },
       "tableOptions": {},
       "type": "details",
       "viewOptionsGroup": [
        {
         "tabItems": [
          {
           "key": "0",
           "name": "Table",
           "options": {},
           "type": "table"
          }
         ]
        }
       ]
      }
     },
     "sync_state": {
      "isSummary": false,
      "language": "scala",
      "table": {
       "rows": [
        {
         "0": "abfs_path_lh_cfg",
         "1": "abfss://abc@onelake.dfs.fabric.microsoft.com/abc",
         "2": "abfs path for lakehouse lh_cfg"
        },
        {
         "0": "abfs_path_lh_log",
         "1": "abfss://abc@onelake.dfs.fabric.microsoft.com/abc",
         "2": "abfs path for lakehouse lh_log"
        },
        {
         "0": "abfs_path_lh_silver",
         "1": "abfss://abc@onelake.dfs.fabric.microsoft.com/1abc",
         "2": "abfs path for lakehouse lh_silver"
        },
        {
         "0": "abfs_path_lh_bronze",
         "1": "abfss://abc@onelake.dfs.fabric.microsoft.com/abc",
         "2": "abfs path for lakehouse lh_bronze"
        },
        {
         "0": "abfs_path_lh_AdventureWorks",
         "1": "abfss://abc@onelake.dfs.fabric.microsoft.com/abc",
         "2": "abfs path for lakehouse lh_AdventureWorks"
        },
        {
         "0": "my_dataverse",
         "1": "abfss://abc@onelake.dfs.fabric.microsoft.com/abc",
         "2": "abfs path for lakehouse dataverse_fawebinars_cds2_workspace_fdba9deb46bd4ca9be023a26a4898f80"
        },
        {
         "0": "abfs_path_lh_gold",
         "1": "abfss://abc@onelake.dfs.fabric.microsoft.com/704f4b47-e304-4994-ad46-041c7972e171",
         "2": "abfs path for lakehouse lh_gold"
        }
       ],
       "schema": [
        {
         "key": "0",
         "name": "name",
         "type": "string"
        },
        {
         "key": "1",
         "name": "value",
         "type": "string"
        },
        {
         "key": "2",
         "name": "note",
         "type": "string"
        }
       ],
       "truncated": false
      },
      "wranglerEntryContext": {
       "candidateVariableNames": [
        "sdf_global_parameter"
       ],
       "dataframeType": "pyspark"
      }
     },
     "type": "Synapse.DataFrame"
    },
    "1133b2ad-6c6f-41a5-9a32-040ccfb9426e": {
     "persist_state": {
      "view": {
       "chartOptions": {
        "aggregationType": "count",
        "binsNumber": 10,
        "categoryFieldKeys": [
         "0"
        ],
        "chartType": "bar",
        "evaluatesOverAllRecords": false,
        "isStacked": false,
        "seriesFieldKeys": [
         "0"
        ],
        "wordFrequency": "-1"
       },
       "tableOptions": {},
       "type": "details",
       "viewOptionsGroup": [
        {
         "tabItems": [
          {
           "key": "0",
           "name": "Table",
           "options": {},
           "type": "table"
          }
         ]
        }
       ]
      }
     },
     "sync_state": {
      "isSummary": false,
      "language": "scala",
      "table": {
       "rows": [
        {
         "0": "lh_cfg",
         "index": 0,
         "key": 0
        },
        {
         "0": "lh_log",
         "index": 1,
         "key": 1
        },
        {
         "0": "lh_bronze",
         "index": 2,
         "key": 2
        },
        {
         "0": "lh_silver",
         "index": 3,
         "key": 3
        },
        {
         "0": "lh_AdventureWorks",
         "index": 4,
         "key": 4
        },
        {
         "0": "dataverse_fawebinars_cds2_workspace_fdba9deb46bd4ca9be023a26a4898f80",
         "index": 5,
         "key": 5
        }
       ],
       "schema": [
        {
         "key": "0",
         "name": "lakehouse_name",
         "type": "string"
        }
       ],
       "truncated": false
      },
      "wranglerEntryContext": {
       "candidateVariableNames": [
        "sdf_new_dataset"
       ],
       "dataframeType": "pyspark"
      }
     },
     "type": "Synapse.DataFrame"
    },
    "1c7d4e58-e98c-4f95-be66-3bc9d2f4b79a": {
     "persist_state": {
      "view": {
       "chartOptions": {
        "aggregationType": "count",
        "binsNumber": 10,
        "categoryFieldKeys": [
         "0"
        ],
        "chartType": "bar",
        "evaluatesOverAllRecords": false,
        "isStacked": false,
        "seriesFieldKeys": [
         "0"
        ],
        "wordFrequency": "-1"
       },
       "tableOptions": {},
       "type": "details",
       "viewOptionsGroup": [
        {
         "tabItems": [
          {
           "key": "0",
           "name": "Table",
           "options": {},
           "type": "table"
          }
         ]
        }
       ]
      }
     },
     "sync_state": {
      "isSummary": false,
      "language": "scala",
      "table": {
       "rows": [],
       "schema": [
        {
         "key": "0",
         "name": "technology",
         "type": "string"
        },
        {
         "key": "1",
         "name": "frequency",
         "type": "string"
        },
        {
         "key": "2",
         "name": "folder_name",
         "type": "string"
        },
        {
         "key": "3",
         "name": "file_name",
         "type": "string"
        },
        {
         "key": "4",
         "name": "has_header",
         "type": "boolean"
        },
        {
         "key": "5",
         "name": "delimiter",
         "type": "string"
        },
        {
         "key": "6",
         "name": "row_separator",
         "type": "string"
        },
        {
         "key": "7",
         "name": "quote",
         "type": "string"
        },
        {
         "key": "8",
         "name": "extract_type",
         "type": "string"
        },
        {
         "key": "9",
         "name": "sequence",
         "type": "bigint"
        },
        {
         "key": "10",
         "name": "is_pk",
         "type": "boolean"
        },
        {
         "key": "11",
         "name": "column_name",
         "type": "string"
        },
        {
         "key": "12",
         "name": "is_extracted",
         "type": "boolean"
        },
        {
         "key": "13",
         "name": "data_type",
         "type": "string"
        }
       ],
       "truncated": false
      },
      "wranglerEntryContext": {
       "candidateVariableNames": [
        "sdf"
       ],
       "dataframeType": "pyspark"
      }
     },
     "type": "Synapse.DataFrame"
    },
    "20d4b4d2-9397-470c-9857-adb51a3d526a": {
     "persist_state": {
      "view": {
       "chartOptions": {
        "aggregationType": "count",
        "binsNumber": 10,
        "categoryFieldKeys": [
         "0"
        ],
        "chartType": "bar",
        "evaluatesOverAllRecords": false,
        "isStacked": false,
        "seriesFieldKeys": [
         "0"
        ],
        "wordFrequency": "-1"
       },
       "tableOptions": {},
       "type": "details",
       "viewOptionsGroup": [
        {
         "tabItems": [
          {
           "key": "0",
           "name": "Table",
           "options": {},
           "type": "table"
          }
         ]
        }
       ]
      }
     },
     "sync_state": {
      "isSummary": false,
      "language": "scala",
      "table": {
       "rows": [],
       "schema": [
        {
         "key": "0",
         "name": "technology",
         "type": "string"
        },
        {
         "key": "1",
         "name": "frequency",
         "type": "string"
        },
        {
         "key": "2",
         "name": "lakehouse_name",
         "type": "string"
        },
        {
         "key": "3",
         "name": "server_name",
         "type": "string"
        },
        {
         "key": "4",
         "name": "database_name",
         "type": "string"
        },
        {
         "key": "5",
         "name": "schema_name",
         "type": "string"
        },
        {
         "key": "6",
         "name": "table_name",
         "type": "string"
        },
        {
         "key": "7",
         "name": "name",
         "type": "string"
        },
        {
         "key": "8",
         "name": "value",
         "type": "string"
        }
       ],
       "truncated": false
      },
      "wranglerEntryContext": {
       "candidateVariableNames": [
        "sdf"
       ],
       "dataframeType": "pyspark"
      }
     },
     "type": "Synapse.DataFrame"
    },
    "41d69a9a-2fb2-4aa5-a237-92f8e6560552": {
     "persist_state": {
      "view": {
       "chartOptions": {
        "aggregationType": "count",
        "binsNumber": 10,
        "categoryFieldKeys": [
         "0"
        ],
        "chartType": "line",
        "evaluatesOverAllRecords": false,
        "isStacked": false,
        "seriesFieldKeys": [
         "0"
        ],
        "wordFrequency": "-1"
       },
       "tableOptions": {},
       "type": "details",
       "viewOptionsGroup": [
        {
         "tabItems": [
          {
           "key": "0",
           "name": "Table",
           "options": {},
           "type": "table"
          }
         ]
        }
       ]
      }
     },
     "sync_state": {
      "isSummary": false,
      "language": "scala",
      "table": {
       "rows": [],
       "schema": [
        {
         "key": "0",
         "name": "process_timestamp",
         "type": "string"
        },
        {
         "key": "1",
         "name": "medallion_name",
         "type": "string"
        },
        {
         "key": "2",
         "name": "source_name",
         "type": "string"
        },
        {
         "key": "3",
         "name": "locals",
         "type": "string"
        },
        {
         "key": "4",
         "name": "alert",
         "type": "string"
        },
        {
         "key": "5",
         "name": "alert_description",
         "type": "string"
        },
        {
         "key": "6",
         "name": "logged_datetime",
         "type": "timestamp"
        }
       ],
       "truncated": false
      },
      "wranglerEntryContext": {
       "candidateVariableNames": [
        "sdf"
       ],
       "dataframeType": "pyspark"
      }
     },
     "type": "Synapse.DataFrame"
    },
    "4a241ded-b36f-4d54-be7f-73370ade16ab": {
     "persist_state": {
      "view": {
       "chartOptions": {
        "aggregationType": "count",
        "binsNumber": 10,
        "categoryFieldKeys": [
         "0"
        ],
        "chartType": "bar",
        "evaluatesOverAllRecords": false,
        "isStacked": false,
        "seriesFieldKeys": [
         "0"
        ],
        "wordFrequency": "-1"
       },
       "tableOptions": {},
       "type": "details",
       "viewOptionsGroup": [
        {
         "tabItems": [
          {
           "key": "0",
           "name": "Table",
           "options": {},
           "type": "table"
          }
         ]
        }
       ]
      }
     },
     "sync_state": {
      "isSummary": false,
      "language": "scala",
      "table": {
       "rows": [],
       "schema": [
        {
         "key": "0",
         "name": "technology",
         "type": "string"
        },
        {
         "key": "1",
         "name": "frequency",
         "type": "string"
        },
        {
         "key": "2",
         "name": "folder_name",
         "type": "string"
        },
        {
         "key": "3",
         "name": "file_name",
         "type": "string"
        },
        {
         "key": "4",
         "name": "extract_type",
         "type": "string"
        },
        {
         "key": "5",
         "name": "sequence",
         "type": "bigint"
        },
        {
         "key": "6",
         "name": "is_pk",
         "type": "boolean"
        },
        {
         "key": "7",
         "name": "column_name",
         "type": "string"
        },
        {
         "key": "8",
         "name": "is_extracted",
         "type": "boolean"
        },
        {
         "key": "9",
         "name": "data_type",
         "type": "string"
        }
       ],
       "truncated": false
      },
      "wranglerEntryContext": {
       "candidateVariableNames": [
        "sdf"
       ],
       "dataframeType": "pyspark"
      }
     },
     "type": "Synapse.DataFrame"
    },
    "6bb56c84-9c99-45dd-a17d-8cbdc152a02b": {
     "persist_state": {
      "view": {
       "chartOptions": {
        "aggregationType": "count",
        "binsNumber": 10,
        "categoryFieldKeys": [
         "0"
        ],
        "chartType": "bar",
        "evaluatesOverAllRecords": false,
        "isStacked": false,
        "seriesFieldKeys": [
         "0"
        ],
        "wordFrequency": "-1"
       },
       "tableOptions": {},
       "type": "details",
       "viewOptionsGroup": [
        {
         "tabItems": [
          {
           "key": "0",
           "name": "Table",
           "options": {},
           "type": "table"
          }
         ]
        }
       ]
      }
     },
     "sync_state": {
      "isSummary": false,
      "language": "scala",
      "table": {
       "rows": [],
       "schema": [
        {
         "key": "0",
         "name": "technology",
         "type": "string"
        },
        {
         "key": "1",
         "name": "frequency",
         "type": "string"
        },
        {
         "key": "2",
         "name": "lakehouse_name",
         "type": "string"
        },
        {
         "key": "3",
         "name": "server_name",
         "type": "string"
        },
        {
         "key": "4",
         "name": "database_name",
         "type": "string"
        },
        {
         "key": "5",
         "name": "schema_name",
         "type": "string"
        },
        {
         "key": "6",
         "name": "table_name",
         "type": "string"
        },
        {
         "key": "7",
         "name": "folder_name",
         "type": "string"
        },
        {
         "key": "8",
         "name": "file_name",
         "type": "string"
        },
        {
         "key": "9",
         "name": "worksheet_name",
         "type": "string"
        },
        {
         "key": "10",
         "name": "extraction_date_start",
         "type": "timestamp"
        },
        {
         "key": "11",
         "name": "extraction_date_end",
         "type": "timestamp"
        },
        {
         "key": "12",
         "name": "process_timestamp",
         "type": "string"
        }
       ],
       "truncated": false
      },
      "wranglerEntryContext": {
       "candidateVariableNames": [
        "sdf"
       ],
       "dataframeType": "pyspark"
      }
     },
     "type": "Synapse.DataFrame"
    },
    "824b84d2-7150-488b-b01e-5f284f92c6ec": {
     "persist_state": {
      "view": {
       "chartOptions": {
        "aggregationType": "count",
        "binsNumber": 10,
        "categoryFieldKeys": [
         "0"
        ],
        "chartType": "bar",
        "evaluatesOverAllRecords": false,
        "isStacked": false,
        "seriesFieldKeys": [
         "0"
        ],
        "wordFrequency": "-1"
       },
       "tableOptions": {},
       "type": "details",
       "viewOptionsGroup": [
        {
         "tabItems": [
          {
           "key": "0",
           "name": "Table",
           "options": {},
           "type": "table"
          }
         ]
        }
       ]
      }
     },
     "sync_state": {
      "isSummary": false,
      "language": "scala",
      "table": {
       "rows": [],
       "schema": [
        {
         "key": "0",
         "name": "lakehouse_name",
         "type": "string"
        }
       ],
       "truncated": false
      },
      "wranglerEntryContext": {
       "candidateVariableNames": [
        "sdf_joined"
       ],
       "dataframeType": "pyspark"
      }
     },
     "type": "Synapse.DataFrame"
    },
    "888e3702-b84f-40d2-9357-1aa26f14b6f0": {
     "persist_state": {
      "view": {
       "chartOptions": {
        "aggregationType": "count",
        "binsNumber": 10,
        "categoryFieldKeys": [
         "0"
        ],
        "chartType": "bar",
        "evaluatesOverAllRecords": false,
        "isStacked": false,
        "seriesFieldKeys": [
         "0"
        ],
        "wordFrequency": "-1"
       },
       "tableOptions": {},
       "type": "details",
       "viewOptionsGroup": [
        {
         "tabItems": [
          {
           "key": "0",
           "name": "Table",
           "options": {},
           "type": "table"
          }
         ]
        }
       ]
      }
     },
     "sync_state": {
      "isSummary": false,
      "language": "scala",
      "table": {
       "rows": [],
       "schema": [
        {
         "key": "0",
         "name": "frequency",
         "type": "string"
        },
        {
         "key": "1",
         "name": "environment",
         "type": "string"
        },
        {
         "key": "2",
         "name": "workspace_id",
         "type": "string"
        },
        {
         "key": "3",
         "name": "semantic_model_id",
         "type": "string"
        },
        {
         "key": "4",
         "name": "semantic_model_name",
         "type": "string"
        },
        {
         "key": "5",
         "name": "request_timeout",
         "type": "int"
        },
        {
         "key": "6",
         "name": "refresh_timeout",
         "type": "int"
        },
        {
         "key": "7",
         "name": "loop_wait_time_seconds",
         "type": "int"
        },
        {
         "key": "8",
         "name": "is_active",
         "type": "boolean"
        }
       ],
       "truncated": false
      },
      "wranglerEntryContext": {
       "candidateVariableNames": [
        "sdf"
       ],
       "dataframeType": "pyspark"
      }
     },
     "type": "Synapse.DataFrame"
    },
    "916c2c44-0570-4ea6-bb34-7316dcb7a9e1": {
     "persist_state": {
      "view": {
       "chartOptions": {
        "aggregationType": "count",
        "binsNumber": 10,
        "categoryFieldKeys": [
         "0"
        ],
        "chartType": "bar",
        "evaluatesOverAllRecords": false,
        "isStacked": false,
        "seriesFieldKeys": [
         "0"
        ],
        "wordFrequency": "-1"
       },
       "tableOptions": {},
       "type": "details",
       "viewOptionsGroup": [
        {
         "tabItems": [
          {
           "key": "0",
           "name": "Table",
           "options": {},
           "type": "table"
          }
         ]
        }
       ]
      }
     },
     "sync_state": {
      "isSummary": false,
      "language": "scala",
      "table": {
       "rows": [
        {
         "0": "lh_silver",
         "1": "4c019afd-8378-44de-b102-cbbb9177d52d",
         "2": "2021-02-12 23:00:58"
        },
        {
         "0": "lh_cfg",
         "1": "c554f7a0-c6fd-447e-9229-577b28ad3042",
         "2": "2021-02-12 23:00:58"
        },
        {
         "0": "lh_log",
         "1": "9f621f4b-a417-482a-b964-4508e0d6909e",
         "2": "2021-02-12 23:00:58"
        },
        {
         "0": "lh_bronze",
         "1": "59c07ee0-4a1e-4bcb-8a92-3a3696d01721",
         "2": "2021-02-12 23:00:58"
        },
        {
         "0": "AdventureWorks",
         "1": "47f9d8df-0ae3-43a4-92b3-fe8355d2cfea",
         "2": "2021-02-12 23:00:58"
        },
        {
         "0": "lh_AdventureWorks",
         "1": "230197de-920d-48f8-aa99-17ee908dad79",
         "2": "2021-02-12 23:00:58"
        },
        {
         "0": "dataverse_fawebinars_cds2_workspace_fdba9deb46bd4ca9be023a26a4898f80",
         "1": "154ba460-caf0-46d1-af35-ff4d45eff4c9",
         "2": "2021-02-12 23:00:58"
        },
        {
         "0": "wh_gold",
         "1": "ac63a42d-2b3b-4e55-9565-7acbf8b6c9e7",
         "2": "2021-02-12 23:00:58"
        },
        {
         "0": "sm_sale_wh_gold_from_views",
         "1": "f0f7c3b5-dc8c-4403-887d-8f724744fad5",
         "2": "2021-02-12 23:00:58"
        },
        {
         "0": "lh_gold",
         "1": "c2776127-e502-4b43-94c3-1e1feb6924db",
         "2": "2021-02-12 23:00:58"
        },
        {
         "0": "sm_dm_sale_lh_gold_from_tables",
         "1": "288cb38b-fcee-4d4e-a844-11dffcd40beb",
         "2": "2021-02-12 23:00:58"
        },
        {
         "0": "sm_dm_sale_lh_gold_from_views",
         "1": "de5af13f-7a86-48ed-9bc7-ed6ef21fef7b",
         "2": "2021-02-12 23:00:58"
        },
        {
         "0": "sm_sale_wh_gold_from_tables",
         "1": "32eb0e66-cd0a-4fb2-8ef5-e6e3d8e1fd82",
         "2": "2021-02-12 23:00:58"
        }
       ],
       "schema": [
        {
         "key": "0",
         "name": "Dataset Name",
         "type": "string"
        },
        {
         "key": "1",
         "name": "Dataset ID",
         "type": "string"
        },
        {
         "key": "2",
         "name": "Created Timestamp",
         "type": "timestamp"
        },
        {
         "key": "3",
         "name": "Last Update",
         "type": "timestamp"
        }
       ],
       "truncated": false
      },
      "wranglerEntryContext": {
       "candidateVariableNames": [
        "sdf_existing_dataset"
       ],
       "dataframeType": "pyspark"
      }
     },
     "type": "Synapse.DataFrame"
    },
    "9876b5a4-6c79-4997-bf33-8242bc2b7b4d": {
     "persist_state": {
      "view": {
       "chartOptions": {
        "aggregationType": "count",
        "binsNumber": 10,
        "categoryFieldKeys": [
         "0"
        ],
        "chartType": "bar",
        "evaluatesOverAllRecords": false,
        "isStacked": false,
        "seriesFieldKeys": [
         "0"
        ],
        "wordFrequency": "-1"
       },
       "tableOptions": {},
       "type": "details",
       "viewOptionsGroup": [
        {
         "tabItems": [
          {
           "key": "0",
           "name": "Table",
           "options": {},
           "type": "table"
          }
         ]
        }
       ]
      }
     },
     "sync_state": {
      "isSummary": false,
      "language": "scala",
      "table": {
       "rows": [],
       "schema": [
        {
         "key": "0",
         "name": "technology",
         "type": "string"
        },
        {
         "key": "1",
         "name": "frequency",
         "type": "string"
        },
        {
         "key": "2",
         "name": "table_name",
         "type": "string"
        },
        {
         "key": "3",
         "name": "base_url",
         "type": "string"
        },
        {
         "key": "4",
         "name": "name",
         "type": "string"
        },
        {
         "key": "5",
         "name": "value",
         "type": "string"
        }
       ],
       "truncated": false
      },
      "wranglerEntryContext": {
       "candidateVariableNames": [
        "sdf"
       ],
       "dataframeType": "pyspark"
      }
     },
     "type": "Synapse.DataFrame"
    },
    "a01c35dd-4680-4b9c-9623-f24d0bc99838": {
     "persist_state": {
      "view": {
       "chartOptions": {
        "aggregationType": "count",
        "binsNumber": 10,
        "categoryFieldKeys": [
         "0"
        ],
        "chartType": "bar",
        "evaluatesOverAllRecords": false,
        "isStacked": false,
        "seriesFieldKeys": [
         "0"
        ],
        "wordFrequency": "-1"
       },
       "tableOptions": {},
       "type": "details",
       "viewOptionsGroup": [
        {
         "tabItems": [
          {
           "key": "0",
           "name": "Table",
           "options": {},
           "type": "table"
          }
         ]
        }
       ]
      }
     },
     "sync_state": {
      "isSummary": false,
      "language": "scala",
      "table": {
       "rows": [],
       "schema": [
        {
         "key": "0",
         "name": "technology",
         "type": "string"
        },
        {
         "key": "1",
         "name": "frequency",
         "type": "string"
        },
        {
         "key": "2",
         "name": "table_name",
         "type": "string"
        },
        {
         "key": "3",
         "name": "url",
         "type": "string"
        },
        {
         "key": "4",
         "name": "method",
         "type": "string"
        },
        {
         "key": "5",
         "name": "headers",
         "type": "string"
        },
        {
         "key": "6",
         "name": "data",
         "type": "string"
        },
        {
         "key": "7",
         "name": "root_element_name",
         "type": "string"
        },
        {
         "key": "8",
         "name": "pagination_value",
         "type": "string"
        },
        {
         "key": "9",
         "name": "params",
         "type": "string"
        },
        {
         "key": "10",
         "name": "authorization_type",
         "type": "string"
        },
        {
         "key": "11",
         "name": "authorization_value",
         "type": "string"
        },
        {
         "key": "12",
         "name": "request_timeout",
         "type": "int"
        },
        {
         "key": "13",
         "name": "response_format",
         "type": "int"
        },
        {
         "key": "14",
         "name": "is_extracted",
         "type": "boolean"
        }
       ],
       "truncated": false
      },
      "wranglerEntryContext": {
       "candidateVariableNames": [
        "sdf"
       ],
       "dataframeType": "pyspark"
      }
     },
     "type": "Synapse.DataFrame"
    },
    "a799e3ab-6a7b-44e8-9b93-1dc61a3e6e53": {
     "persist_state": {
      "view": {
       "chartOptions": {
        "aggregationType": "count",
        "binsNumber": 10,
        "categoryFieldKeys": [
         "0"
        ],
        "chartType": "bar",
        "evaluatesOverAllRecords": false,
        "isStacked": false,
        "seriesFieldKeys": [
         "0"
        ],
        "wordFrequency": "-1"
       },
       "tableOptions": {},
       "type": "details",
       "viewOptionsGroup": [
        {
         "tabItems": [
          {
           "key": "0",
           "name": "Table",
           "options": {},
           "type": "table"
          }
         ]
        }
       ]
      }
     },
     "sync_state": {
      "isSummary": false,
      "language": "scala",
      "table": {
       "rows": [],
       "schema": [
        {
         "key": "0",
         "name": "technology",
         "type": "string"
        },
        {
         "key": "1",
         "name": "frequency",
         "type": "string"
        },
        {
         "key": "2",
         "name": "name",
         "type": "string"
        },
        {
         "key": "3",
         "name": "note",
         "type": "string"
        }
       ],
       "truncated": false
      },
      "wranglerEntryContext": {
       "candidateVariableNames": [
        "sdf"
       ],
       "dataframeType": "pyspark"
      }
     },
     "type": "Synapse.DataFrame"
    },
    "b845715a-e4ab-466b-9e93-1845fbd8ae55": {
     "persist_state": {
      "view": {
       "chartOptions": {
        "aggregationType": "count",
        "binsNumber": 10,
        "categoryFieldKeys": [
         "0"
        ],
        "chartType": "bar",
        "evaluatesOverAllRecords": false,
        "isStacked": false,
        "seriesFieldKeys": [
         "0"
        ],
        "wordFrequency": "-1"
       },
       "tableOptions": {},
       "type": "details",
       "viewOptionsGroup": [
        {
         "tabItems": [
          {
           "key": "0",
           "name": "Table",
           "options": {},
           "type": "table"
          }
         ]
        }
       ]
      }
     },
     "sync_state": {
      "isSummary": false,
      "language": "scala",
      "table": {
       "rows": [],
       "schema": [
        {
         "key": "0",
         "name": "technology",
         "type": "string"
        },
        {
         "key": "1",
         "name": "frequency",
         "type": "string"
        },
        {
         "key": "2",
         "name": "server_name",
         "type": "string"
        },
        {
         "key": "3",
         "name": "database_name",
         "type": "string"
        },
        {
         "key": "4",
         "name": "schema_name",
         "type": "string"
        },
        {
         "key": "5",
         "name": "table_name",
         "type": "string"
        },
        {
         "key": "6",
         "name": "keyvault_url",
         "type": "string"
        },
        {
         "key": "7",
         "name": "keyvault_secret_name_user",
         "type": "string"
        },
        {
         "key": "8",
         "name": "keyvault_secret_name_password",
         "type": "string"
        },
        {
         "key": "9",
         "name": "extract_type",
         "type": "string"
        },
        {
         "key": "10",
         "name": "sequence",
         "type": "bigint"
        },
        {
         "key": "11",
         "name": "extraction_timeframe",
         "type": "string"
        },
        {
         "key": "12",
         "name": "from",
         "type": "string"
        },
        {
         "key": "13",
         "name": "where",
         "type": "string"
        },
        {
         "key": "14",
         "name": "is_pk",
         "type": "boolean"
        },
        {
         "key": "15",
         "name": "prefix_select",
         "type": "string"
        },
        {
         "key": "16",
         "name": "column_name",
         "type": "string"
        },
        {
         "key": "17",
         "name": "is_extracted",
         "type": "boolean"
        },
        {
         "key": "18",
         "name": "data_type",
         "type": "string"
        }
       ],
       "truncated": false
      },
      "wranglerEntryContext": {
       "candidateVariableNames": [
        "sdf"
       ],
       "dataframeType": "pyspark"
      }
     },
     "type": "Synapse.DataFrame"
    },
    "e43741e1-690a-4fa6-8210-db26a38ebdf0": {
     "persist_state": {
      "view": {
       "chartOptions": {
        "aggregationType": "count",
        "binsNumber": 10,
        "categoryFieldKeys": [
         "0"
        ],
        "chartType": "bar",
        "evaluatesOverAllRecords": false,
        "isStacked": false,
        "seriesFieldKeys": [
         "0"
        ],
        "wordFrequency": "-1"
       },
       "tableOptions": {},
       "type": "details",
       "viewOptionsGroup": [
        {
         "tabItems": [
          {
           "key": "0",
           "name": "Table",
           "options": {},
           "type": "table"
          }
         ]
        }
       ]
      }
     },
     "sync_state": {
      "isSummary": false,
      "language": "scala",
      "table": {
       "rows": [],
       "schema": [
        {
         "key": "0",
         "name": "technology",
         "type": "string"
        },
        {
         "key": "1",
         "name": "frequency",
         "type": "string"
        },
        {
         "key": "2",
         "name": "folder_name",
         "type": "string"
        },
        {
         "key": "3",
         "name": "file_name",
         "type": "string"
        },
        {
         "key": "4",
         "name": "worksheet_name",
         "type": "string"
        },
        {
         "key": "5",
         "name": "extract_type",
         "type": "string"
        },
        {
         "key": "6",
         "name": "first_row",
         "type": "smallint"
        },
        {
         "key": "7",
         "name": "sequence",
         "type": "bigint"
        },
        {
         "key": "8",
         "name": "is_pk",
         "type": "boolean"
        },
        {
         "key": "9",
         "name": "column_name",
         "type": "string"
        },
        {
         "key": "10",
         "name": "is_extracted",
         "type": "boolean"
        },
        {
         "key": "11",
         "name": "data_type",
         "type": "string"
        }
       ],
       "truncated": false
      },
      "wranglerEntryContext": {
       "candidateVariableNames": [
        "sdf"
       ],
       "dataframeType": "pyspark"
      }
     },
     "type": "Synapse.DataFrame"
    },
    "f25b1ff0-abcb-45ab-8d01-6c98c3ca8093": {
     "persist_state": {
      "view": {
       "chartOptions": {
        "aggregationType": "count",
        "binsNumber": 10,
        "categoryFieldKeys": [
         "0"
        ],
        "chartType": "bar",
        "evaluatesOverAllRecords": false,
        "isStacked": false,
        "seriesFieldKeys": [
         "0"
        ],
        "wordFrequency": "-1"
       },
       "tableOptions": {},
       "type": "details",
       "viewOptionsGroup": [
        {
         "tabItems": [
          {
           "key": "0",
           "name": "Table",
           "options": {},
           "type": "table"
          }
         ]
        }
       ]
      }
     },
     "sync_state": {
      "isSummary": false,
      "language": "scala",
      "table": {
       "rows": [],
       "schema": [
        {
         "key": "0",
         "name": "technology",
         "type": "string"
        },
        {
         "key": "1",
         "name": "frequency",
         "type": "string"
        },
        {
         "key": "2",
         "name": "lakehouse_name",
         "type": "string"
        },
        {
         "key": "3",
         "name": "table_name",
         "type": "string"
        },
        {
         "key": "4",
         "name": "extract_type",
         "type": "string"
        },
        {
         "key": "5",
         "name": "sequence",
         "type": "bigint"
        },
        {
         "key": "6",
         "name": "extraction_timeframe",
         "type": "string"
        },
        {
         "key": "7",
         "name": "from",
         "type": "string"
        },
        {
         "key": "8",
         "name": "where",
         "type": "string"
        },
        {
         "key": "9",
         "name": "is_pk",
         "type": "boolean"
        },
        {
         "key": "10",
         "name": "prefix_select",
         "type": "string"
        },
        {
         "key": "11",
         "name": "column_name",
         "type": "string"
        },
        {
         "key": "12",
         "name": "is_extracted",
         "type": "boolean"
        },
        {
         "key": "13",
         "name": "data_type",
         "type": "string"
        }
       ],
       "truncated": false
      },
      "wranglerEntryContext": {
       "candidateVariableNames": [
        "sdf"
       ],
       "dataframeType": "pyspark"
      }
     },
     "type": "Synapse.DataFrame"
    }
   },
   "version": "0.1"
  },
  "widgets": {}
 },
 "nbformat": 4,
 "nbformat_minor": 5
}
