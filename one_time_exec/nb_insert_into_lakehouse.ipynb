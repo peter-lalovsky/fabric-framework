{
 "cells": [
  {
   "cell_type": "code",
   "execution_count": null,
   "id": "fc5b4e56-9729-4bfe-a9d4-c83af8614fcb",
   "metadata": {
    "jupyter": {
     "outputs_hidden": false,
     "source_hidden": false
    },
    "microsoft": {
     "language": "python",
     "language_group": "synapse_pyspark"
    },
    "nteract": {
     "transient": {
      "deleting": false
     }
    }
   },
   "outputs": [],
   "source": [
    "%%configure -f\n",
    "{\"defaultLakehouse\": {\"name\": \"lh_cfg\"}}"
   ]
  },
  {
   "cell_type": "code",
   "execution_count": null,
   "id": "0243ae79-8c95-4fc9-84b0-644e6e103f8b",
   "metadata": {
    "jupyter": {
     "outputs_hidden": false,
     "source_hidden": false
    },
    "microsoft": {
     "language": "python",
     "language_group": "synapse_pyspark"
    },
    "nteract": {
     "transient": {
      "deleting": false
     }
    }
   },
   "outputs": [],
   "source": [
    "# Upload file \"configuration.xlsx\" to \"lh_cfg/Files\"\n",
    "# Edit variable \"prj_doc_data_file_name\""
   ]
  },
  {
   "cell_type": "markdown",
   "id": "1f4dec6b-ecc4-45d8-ab14-a409d9a3594b",
   "metadata": {
    "microsoft": {
     "language": "python",
     "language_group": "synapse_pyspark"
    },
    "nteract": {
     "transient": {
      "deleting": false
     }
    }
   },
   "source": [
    "# Imports"
   ]
  },
  {
   "cell_type": "code",
   "execution_count": null,
   "id": "dd2d9273-83da-4ae8-89eb-29083b0d1e35",
   "metadata": {
    "jupyter": {
     "outputs_hidden": false,
     "source_hidden": false
    },
    "microsoft": {
     "language": "python",
     "language_group": "synapse_pyspark"
    },
    "nteract": {
     "transient": {
      "deleting": false
     }
    }
   },
   "outputs": [],
   "source": [
    "import sempy.fabric                       as f\n",
    "from   pyspark.sql       import functions as sf\n",
    "import pandas                             as pd\n",
    "from   pyspark.sql.types import *       # as st"
   ]
  },
  {
   "cell_type": "markdown",
   "id": "61fc9021-bacb-43d1-b15d-9c5ac3f97c61",
   "metadata": {
    "microsoft": {
     "language": "python",
     "language_group": "synapse_pyspark"
    },
    "nteract": {
     "transient": {
      "deleting": false
     }
    }
   },
   "source": [
    "# Settings"
   ]
  },
  {
   "cell_type": "code",
   "execution_count": null,
   "id": "d0c48fe1-9a97-4bcd-9993-373574b8e07c",
   "metadata": {
    "jupyter": {
     "outputs_hidden": false,
     "source_hidden": false
    },
    "microsoft": {
     "language": "python",
     "language_group": "synapse_pyspark"
    },
    "nteract": {
     "transient": {
      "deleting": false
     }
    }
   },
   "outputs": [],
   "source": [
    "spark.conf.set(\"spark.sql.execution.arrow.pyspark.enabled\", \"false\")"
   ]
  },
  {
   "cell_type": "code",
   "execution_count": null,
   "id": "134cded3-830e-41da-8736-4fb649a4b7b8",
   "metadata": {
    "jupyter": {
     "outputs_hidden": false,
     "source_hidden": false
    },
    "microsoft": {
     "language": "python",
     "language_group": "synapse_pyspark"
    },
    "nteract": {
     "transient": {
      "deleting": false
     }
    },
    "tags": [
     "parameters"
    ]
   },
   "outputs": [],
   "source": [
    "is_debug               = True\n",
    "prj_doc_data_file_name = \"configuration\" # Edit this manually"
   ]
  },
  {
   "cell_type": "code",
   "execution_count": null,
   "id": "95de8626-ea63-4fc4-8283-e071f9f9b438",
   "metadata": {
    "jupyter": {
     "outputs_hidden": false,
     "source_hidden": false
    },
    "microsoft": {
     "language": "python",
     "language_group": "synapse_pyspark"
    },
    "nteract": {
     "transient": {
      "deleting": false
     }
    }
   },
   "outputs": [],
   "source": [
    "# Get current WorkspaceID\n",
    "workspace_id = f.get_workspace_id()\n",
    "if is_debug: print(f\"workspace_id: {workspace_id}\")"
   ]
  },
  {
   "cell_type": "markdown",
   "id": "11f14843-d195-43a0-b496-49d32758a920",
   "metadata": {
    "microsoft": {
     "language": "python",
     "language_group": "synapse_pyspark"
    },
    "nteract": {
     "transient": {
      "deleting": false
     }
    }
   },
   "source": [
    "# Code"
   ]
  },
  {
   "cell_type": "markdown",
   "id": "b1576451-a211-46b2-a8bf-81997a6b7c1d",
   "metadata": {
    "microsoft": {
     "language": "python",
     "language_group": "synapse_pyspark"
    },
    "nteract": {
     "transient": {
      "deleting": false
     }
    }
   },
   "source": [
    "## fn_exec_spark_sql"
   ]
  },
  {
   "cell_type": "code",
   "execution_count": null,
   "id": "6858f964-4ae4-4b8c-b81a-17be1707e87b",
   "metadata": {
    "jupyter": {
     "outputs_hidden": false,
     "source_hidden": false
    },
    "microsoft": {
     "language": "python",
     "language_group": "synapse_pyspark"
    },
    "nteract": {
     "transient": {
      "deleting": false
     }
    }
   },
   "outputs": [],
   "source": [
    "def fn_exec_spark_sql(sql_code):\n",
    "  try:\n",
    "    return spark.sql(sql_code)\n",
    "  except Exception (ex):\n",
    "    return str(ex)"
   ]
  },
  {
   "cell_type": "markdown",
   "id": "e4d207a8-fe40-4c23-b637-d5c5e04f5aa4",
   "metadata": {
    "microsoft": {
     "language": "python",
     "language_group": "synapse_pyspark"
    },
    "nteract": {
     "transient": {
      "deleting": false
     }
    }
   },
   "source": [
    "## Get the ABFS Paths"
   ]
  },
  {
   "cell_type": "code",
   "execution_count": null,
   "id": "8ce872a0-2657-4a21-afd4-c0f54ea73e11",
   "metadata": {
    "jupyter": {
     "outputs_hidden": false,
     "source_hidden": false
    },
    "microsoft": {
     "language": "python",
     "language_group": "synapse_pyspark"
    },
    "nteract": {
     "transient": {
      "deleting": false
     }
    }
   },
   "outputs": [],
   "source": [
    "# Create variables for abfs paths (abfs_path_<lakehouse_name>)\n",
    "list_lakehouse = mssparkutils.lakehouse.list(workspaceId = workspace_id)\n",
    "\n",
    "for v in list_lakehouse:\n",
    "    lakehouse_name = v.displayName\n",
    "    abfs_path = v.properties[\"abfsPath\"]\n",
    "\n",
    "    if is_debug: print(f\"abfs_path_{lakehouse_name}: {abfs_path}\")\n",
    "    locals()[f\"abfs_path_{lakehouse_name}\"] = abfs_path"
   ]
  },
  {
   "cell_type": "markdown",
   "id": "c0e9bf48-b2c7-46b9-b5f8-224ac7576a69",
   "metadata": {
    "microsoft": {
     "language": "python",
     "language_group": "synapse_pyspark"
    },
    "nteract": {
     "transient": {
      "deleting": false
     }
    }
   },
   "source": [
    "##  fn_cleanup_sdf"
   ]
  },
  {
   "cell_type": "code",
   "execution_count": null,
   "id": "da0d0d97-df60-41de-8fe6-adc4264e8ab1",
   "metadata": {
    "jupyter": {
     "outputs_hidden": false,
     "source_hidden": false
    },
    "microsoft": {
     "language": "python",
     "language_group": "synapse_pyspark"
    },
    "nteract": {
     "transient": {
      "deleting": false
     }
    }
   },
   "outputs": [],
   "source": [
    "# Replace NaN and empty string with NULL\n",
    "def fn_cleanup_sdf(sdf):\n",
    "  cols = sdf.columns\n",
    "  for c in cols: sdf = sdf.withColumn(c, sf.when((sf.col(c) == \"NaN\"), None).otherwise(sf.col(c)))\n",
    "  for c in cols: sdf = sdf.withColumn(c, sf.when((sf.col(c) == \"\"   ), None).otherwise(sf.col(c)))\n",
    "\n",
    "  return sdf"
   ]
  },
  {
   "cell_type": "markdown",
   "id": "46d7a8d6-b7ba-4ef9-9cd8-96dabeb25eac",
   "metadata": {
    "microsoft": {
     "language": "python",
     "language_group": "synapse_pyspark"
    },
    "nteract": {
     "transient": {
      "deleting": false
     }
    }
   },
   "source": [
    "## Get Excel file name and sheet names"
   ]
  },
  {
   "cell_type": "code",
   "execution_count": null,
   "id": "69b3c498-81ba-4457-8510-f0f7d4418c3c",
   "metadata": {
    "jupyter": {
     "outputs_hidden": false,
     "source_hidden": false
    },
    "microsoft": {
     "language": "python",
     "language_group": "synapse_pyspark"
    },
    "nteract": {
     "transient": {
      "deleting": false
     }
    }
   },
   "outputs": [],
   "source": [
    "file_name       = f\"{abfs_path_lh_cfg}/Files/{prj_doc_data_file_name}.xlsx\"\n",
    "sheet_name_list = pd.ExcelFile(f\"{abfs_path_lh_cfg}/Files/{prj_doc_data_file_name}.xlsx\").sheet_names\n",
    "if is_debug:\n",
    "    print(f\"file_name: {file_name}\")\n",
    "    display(f\"sheet_name_list: {sheet_name_list}\")"
   ]
  },
  {
   "cell_type": "markdown",
   "id": "c05284c9-3e38-4ac5-968c-6e30dd5f686d",
   "metadata": {
    "microsoft": {
     "language": "python",
     "language_group": "synapse_pyspark"
    },
    "nteract": {
     "transient": {
      "deleting": false
     }
    }
   },
   "source": [
    "## Append to table 'lh_cfg.global_parameter'"
   ]
  },
  {
   "cell_type": "code",
   "execution_count": null,
   "id": "30f35c2a-0f3d-4b5c-bf19-6389c9372b28",
   "metadata": {
    "collapsed": false,
    "jupyter": {
     "outputs_hidden": false,
     "source_hidden": false
    },
    "microsoft": {
     "language": "python",
     "language_group": "synapse_pyspark"
    },
    "nteract": {
     "transient": {
      "deleting": false
     }
    }
   },
   "outputs": [],
   "source": [
    "sheet_name = \"Extract Global Parameters\"\n",
    "if is_debug: print(f\"sheet_name: {sheet_name}\")\n",
    "\n",
    "if sheet_name in sheet_name_list:\n",
    "  pdf = pd.read_excel(\n",
    "    io         = file_name,\n",
    "    sheet_name = sheet_name,\n",
    "    header     = 1\n",
    "  )\n",
    "\n",
    "  pdf_count = pdf[pdf.columns[1]].count()\n",
    "\n",
    "  if is_debug: print(f\"pdf_count: {pdf_count}\")\n",
    "\n",
    "  if pdf_count > 0:\n",
    "    sdf_new = spark.createDataFrame(pdf)\n",
    "\n",
    "    sdf_new = sdf_new.select(\n",
    "      sf.trim(sdf_new[\"name\"])   .alias(\"name\") .cast(StringType())\n",
    "      , sf.trim(sdf_new[\"value\"]).alias(\"value\").cast(StringType()) \n",
    "      , sf.trim(sdf_new[\"note\"]) .alias(\"note\") .cast(StringType())\n",
    "    )\n",
    "\n",
    "    sdf_new = fn_cleanup_sdf(sdf_new)\n",
    "    sdf_new = sdf_new.na.drop(subset = [\"name\"])\n",
    "\n",
    "    sdf_exst = fn_exec_spark_sql(f\"\"\"\n",
    "      SELECT\n",
    "        TRIM(`name`)  AS `name`\n",
    "        , TRIM(`value`) AS `value`\n",
    "        , TRIM(`note`)  AS `note`\n",
    "      FROM delta.`{abfs_path_lh_cfg}/Tables/global_parameter`\n",
    "    \"\"\")\n",
    "\n",
    "    sdf_new.createOrReplaceTempView(\"tvw_new\")\n",
    "    sdf_exst.createOrReplaceTempView(\"tvw_existing\")\n",
    "\n",
    "    sdf = fn_exec_spark_sql(\"\"\"\n",
    "      SELECT\n",
    "        TRIM(N.`name`) AS `name`\n",
    "        , TRIM(\n",
    "          CASE\n",
    "            WHEN N.`value` = 'Oui' THEN '1'\n",
    "            WHEN N.`value` = 'Non' THEN '0'\n",
    "            ELSE N.`value`\n",
    "          END)         AS `value`\n",
    "        , TRIM(N.`note`) AS `note`\n",
    "      FROM\n",
    "        tvw_new                AS N\n",
    "        LEFT JOIN tvw_existing AS E ON N.`name` = E.`name`\n",
    "      WHERE E.`name` IS NULL\n",
    "    \"\"\")\n",
    "\n",
    "    sdf_count = sdf.count()\n",
    "\n",
    "    if sdf_count > 0:\n",
    "      sdf.write\\\n",
    "        .format(\"delta\")\\\n",
    "        .mode(\"append\")\\\n",
    "        .save(f\"{abfs_path_lh_cfg}/Tables/global_parameter\")\n",
    "\n",
    "    if is_debug:\n",
    "      sdf_new.printSchema()\n",
    "      display(sdf_new)\n",
    "      \n",
    "      sdf_exst.printSchema()\n",
    "      display(sdf_exst)\n",
    "      \n",
    "      sdf.printSchema()\n",
    "      display(sdf)\n",
    "\n",
    "      print(f\"sdf_count: {str(sdf_count)}\")"
   ]
  },
  {
   "cell_type": "markdown",
   "id": "a164a53b-a58e-400d-9461-f93dbe8f85c1",
   "metadata": {
    "microsoft": {
     "language": "python",
     "language_group": "synapse_pyspark"
    },
    "nteract": {
     "transient": {
      "deleting": false
     }
    }
   },
   "source": [
    "## Insert into table 'lh_cfg.metadata_column'"
   ]
  },
  {
   "cell_type": "code",
   "execution_count": null,
   "id": "86bf1180-9126-4247-ab11-8fdf5ad806e8",
   "metadata": {
    "collapsed": false,
    "jupyter": {
     "outputs_hidden": false,
     "source_hidden": false
    },
    "microsoft": {
     "language": "python",
     "language_group": "synapse_pyspark"
    },
    "nteract": {
     "transient": {
      "deleting": false
     }
    }
   },
   "outputs": [],
   "source": [
    "sheet_name = \"Extract Metatada Columns\"\n",
    "if is_debug: print(f\"sheet_name: {sheet_name}\")\n",
    "\n",
    "if sheet_name in sheet_name_list:\n",
    "  pdf = pd.read_excel(\n",
    "    io         = file_name,\n",
    "    sheet_name = sheet_name,\n",
    "    header     = 1\n",
    "  )\n",
    "\n",
    "  pdf_count = pdf[pdf.columns[1]].count()\n",
    "\n",
    "  if is_debug: print(f\"pdf_count: {pdf_count}\")\n",
    "\n",
    "  if pdf_count > 0:\n",
    "    sdf = spark.createDataFrame(pdf)\n",
    "\n",
    "    sdf = sdf.select(\n",
    "      sf.trim(sdf[\"Technologie\"]).alias(\"technology\").cast(StringType())\n",
    "      , sf.trim(sdf[\"Fréquence\"]).alias(\"frequency\") .cast(StringType())\n",
    "      , sf.trim(sdf[\"name\"])     .alias(\"name\")      .cast(StringType())\n",
    "      , sf.trim(sdf[\"note\"])     .alias(\"note\")      .cast(StringType())\n",
    "    )\n",
    "\n",
    "    sdf = fn_cleanup_sdf(sdf)\n",
    "    sdf = sdf.na.drop(subset = [\"technology\"])\n",
    "\n",
    "    sdf.write\\\n",
    "      .format(\"delta\")\\\n",
    "      .mode(\"overwrite\")\\\n",
    "      .option(\"overwriteSchema\", \"True\")\\\n",
    "      .save(f\"{abfs_path_lh_cfg}/Tables/metadata_column\")\n",
    "\n",
    "    if is_debug:\n",
    "      sdf.printSchema()\n",
    "      display(sdf)"
   ]
  },
  {
   "cell_type": "markdown",
   "id": "b159d4b4-e009-4b41-9119-f82980dbb69b",
   "metadata": {
    "microsoft": {
     "language": "python",
     "language_group": "synapse_pyspark"
    },
    "nteract": {
     "transient": {
      "deleting": false
     }
    }
   },
   "source": [
    "## Insert into table \"lh_cfg.extract_object_sql_server\""
   ]
  },
  {
   "cell_type": "code",
   "execution_count": null,
   "id": "65aae6bc-76d3-47c9-a1a6-a7804546f0b5",
   "metadata": {
    "collapsed": false,
    "jupyter": {
     "outputs_hidden": false,
     "source_hidden": false
    },
    "microsoft": {
     "language": "python",
     "language_group": "synapse_pyspark"
    },
    "nteract": {
     "transient": {
      "deleting": false
     }
    }
   },
   "outputs": [],
   "source": [
    "sheet_name = \"Bronze (SQL Server)\"\n",
    "if is_debug: print(f\"sheet_name: {sheet_name}\")\n",
    "\n",
    "if sheet_name in sheet_name_list:\n",
    "  pdf = pd.read_excel(\n",
    "    io         = file_name,\n",
    "    sheet_name = sheet_name,\n",
    "    header     = 1\n",
    "  )\n",
    "\n",
    "  pdf_count = pdf[pdf.columns[1]].count()\n",
    "\n",
    "  if is_debug:\n",
    "    print(f\"pdf_count: {pdf_count}\")\n",
    "\n",
    "  if pdf_count > 0:\n",
    "    sdf = spark.createDataFrame(pdf)\n",
    "\n",
    "    sdf = sdf.select(\n",
    "      sf.lit(\"SQL Server\")                                             .alias(\"technology\")                   .cast(StringType())\n",
    "      , sf.col(\"Fréquence\")                                            .alias(\"frequency\")                    .cast(StringType())\n",
    "      , sf.col(\"Key-vault URL\")                                        .alias(\"keyvault_url\")                 .cast(StringType())\n",
    "      , sf.col(\"Key-vault Utilisateur\")                                .alias(\"keyvault_secret_name_user\")    .cast(StringType())\n",
    "      , sf.col(\"Key-vault Mot de passe\")                               .alias(\"keyvault_secret_name_password\").cast(StringType())\n",
    "      , sf.col(\"Serveur\")                                              .alias(\"server_name\")                  .cast(StringType())\n",
    "      , sf.col(\"Base de données\")                                      .alias(\"database_name\")                .cast(StringType())\n",
    "      , sf.col(\"Schéma\")                                               .alias(\"schema_name\")                  .cast(StringType())\n",
    "      , sf.col(\"Table\")                                                .alias(\"table_name\")                   .cast(StringType())\n",
    "      , sf.col(\"Type Chargement\")                                      .alias(\"extract_type\")                 .cast(StringType())\n",
    "      , sf.col(\"Séquence\")                                             .alias(\"sequence\")                     .cast(LongType())\n",
    "      , sf.col(\"ExtractionTimeframe\")                                  .alias(\"extraction_timeframe\")         .cast(StringType())\n",
    "      , sf.col(\"FROM\")                                                 .alias(\"from\")                         .cast(StringType())\n",
    "      , sf.col(\"WHERE\")                                                .alias(\"where\")                        .cast(StringType())\n",
    "      , sf.expr(\"CASE WHEN `Est PK?` = 'Oui' THEN True ELSE False END\").alias(\"is_pk\")                        .cast(BooleanType())\n",
    "      , sf.col(\"Préfixe SELECT\")                                       .alias(\"prefix_select\")                .cast(StringType())\n",
    "      , sf.col(\"Colonne\")                                              .alias(\"column_name\")                  .cast(StringType())\n",
    "      , sf.expr(\"CASE WHEN Inclure = 'Oui' THEN True ELSE False END\")  .alias(\"is_extracted\")                 .cast(BooleanType())\n",
    "      , sf.col(\"Type de données\")                                      .alias(\"data_type\")                    .cast(StringType())\n",
    "    )\n",
    "\n",
    "    sdf = fn_cleanup_sdf(sdf)\n",
    "    \n",
    "    sdf.write\\\n",
    "      .format(\"delta\")\\\n",
    "      .mode(\"overwrite\")\\\n",
    "      .option(\"overwriteSchema\", \"True\")\\\n",
    "      .save(f\"{abfs_path_lh_cfg}/Tables/extract_object_sql_server\")\n",
    "\n",
    "    if is_debug:\n",
    "      sdf.printSchema()\n",
    "      display(sdf)"
   ]
  },
  {
   "cell_type": "markdown",
   "id": "1c91299e-b0a3-4fc5-8a2b-5e4a2b070764",
   "metadata": {
    "microsoft": {
     "language": "python",
     "language_group": "synapse_pyspark"
    },
    "nteract": {
     "transient": {
      "deleting": false
     }
    }
   },
   "source": [
    "## Insert into table \"lh_cfg.extract_object_lakehouse\""
   ]
  },
  {
   "cell_type": "code",
   "execution_count": null,
   "id": "90adddd3-927a-4669-81db-f1055f6ab68c",
   "metadata": {
    "collapsed": false,
    "jupyter": {
     "outputs_hidden": false,
     "source_hidden": false
    },
    "microsoft": {
     "language": "python",
     "language_group": "synapse_pyspark"
    },
    "nteract": {
     "transient": {
      "deleting": false
     }
    }
   },
   "outputs": [],
   "source": [
    "sheet_name = \"Bronze (Lakehouse)\"\n",
    "if is_debug: print(f\"sheet_name: {sheet_name}\")\n",
    "\n",
    "if sheet_name in sheet_name_list:\n",
    "  pdf = pd.read_excel(\n",
    "    io         = file_name,\n",
    "    sheet_name = sheet_name,\n",
    "    header     = 1\n",
    "  )\n",
    "\n",
    "  pdf_count = pdf[pdf.columns[1]].count()\n",
    "\n",
    "  if is_debug:\n",
    "    print(f\"pdf_count: {pdf_count}\")\n",
    "\n",
    "  if pdf_count > 0:\n",
    "    sdf = spark.createDataFrame(pdf)\n",
    "\n",
    "    sdf = sdf.select(\n",
    "      sf.lit(\"Lakehouse\")                                              .alias(\"technology\")          .cast(StringType())\n",
    "      , sf.col(\"Fréquence\")                                            .alias(\"frequency\")           .cast(StringType())\n",
    "      , sf.col(\"Lakehouse\")                                            .alias(\"lakehouse_name\")      .cast(StringType())\n",
    "      , sf.col(\"Table\")                                                .alias(\"table_name\")          .cast(StringType())\n",
    "      , sf.col(\"Type Chargement\")                                      .alias(\"extract_type\")        .cast(StringType())\n",
    "      , sf.col(\"Séquence\")                                             .alias(\"sequence\")            .cast(LongType())\n",
    "      , sf.col(\"ExtractionTimeframe\")                                  .alias(\"extraction_timeframe\").cast(StringType())\n",
    "      , sf.col(\"FROM\")                                                 .alias(\"from\")                .cast(StringType())\n",
    "      , sf.col(\"WHERE\")                                                .alias(\"where\")               .cast(StringType())\n",
    "      , sf.expr(\"CASE WHEN `Est PK?` = 'Oui' THEN True ELSE False END\").alias(\"is_pk\")               .cast(BooleanType())\n",
    "      , sf.col(\"Préfixe SELECT\")                                       .alias(\"prefix_select\")       .cast(StringType())\n",
    "      , sf.col(\"Colonne\")                                              .alias(\"column_name\")         .cast(StringType())\n",
    "      , sf.expr(\"CASE WHEN Inclure = 'Oui' THEN True ELSE False END\")  .alias(\"is_extracted\")        .cast(BooleanType())\n",
    "      , sf.col(\"Type de données\")                                      .alias(\"data_type\")           .cast(StringType())\n",
    "    )\n",
    "\n",
    "    sdf = fn_cleanup_sdf(sdf)\n",
    "    \n",
    "    sdf.write\\\n",
    "      .format(\"delta\")\\\n",
    "      .mode(\"overwrite\")\\\n",
    "      .option(\"overwriteSchema\", \"True\")\\\n",
    "      .save(f\"{abfs_path_lh_cfg}/Tables/extract_object_lakehouse\")\n",
    "\n",
    "    if is_debug:\n",
    "      sdf.printSchema()\n",
    "      display(sdf)"
   ]
  },
  {
   "cell_type": "markdown",
   "id": "5242d24b-ce26-4b60-b980-494cea826e66",
   "metadata": {
    "microsoft": {
     "language": "python",
     "language_group": "synapse_pyspark"
    },
    "nteract": {
     "transient": {
      "deleting": false
     }
    }
   },
   "source": [
    "## Insert into table \"lh_cfg.extract_object_excel\""
   ]
  },
  {
   "cell_type": "code",
   "execution_count": null,
   "id": "4baad9aa-7452-474f-9e4b-1c57380aa606",
   "metadata": {
    "collapsed": false,
    "jupyter": {
     "outputs_hidden": false,
     "source_hidden": false
    },
    "microsoft": {
     "language": "python",
     "language_group": "synapse_pyspark"
    },
    "nteract": {
     "transient": {
      "deleting": false
     }
    }
   },
   "outputs": [],
   "source": [
    "sheet_name = \"Bronze (Excel)\"\n",
    "if is_debug: print(f\"sheet_name: {sheet_name}\")\n",
    "\n",
    "if sheet_name in sheet_name_list:\n",
    "  pdf = pd.read_excel(\n",
    "    io         = file_name,\n",
    "    sheet_name = sheet_name,\n",
    "    header     = 1\n",
    "  )\n",
    "\n",
    "  pdf_count = pdf[pdf.columns[1]].count()\n",
    "\n",
    "  if is_debug:\n",
    "    print(f\"pdf_count: {pdf_count}\")\n",
    "\n",
    "  if pdf_count > 0:\n",
    "    sdf = spark.createDataFrame(pdf)\n",
    "\n",
    "    sdf = sdf.select(\n",
    "      sf.lit(\"Excel\")                                                  .alias(\"technology\")    .cast(StringType())\n",
    "      , sf.col(\"Fréquence\")                                            .alias(\"frequency\")     .cast(StringType())\n",
    "      , sf.col(\"Répertoire\")                                           .alias(\"folder_name\")   .cast(StringType())\n",
    "      , sf.col(\"Fichier\")                                              .alias(\"file_name\")     .cast(StringType())\n",
    "      , sf.col(\"Feuille de travail\")                                   .alias(\"worksheet_name\").cast(StringType())\n",
    "      , sf.col(\"Type Chargement\")                                      .alias(\"extract_type\")  .cast(StringType())\n",
    "      , sf.col(\"Première rangée\")                                      .alias(\"first_row\")     .cast(StringType())\n",
    "      , sf.col(\"Séquence\")                                             .alias(\"sequence\")      .cast(LongType())\n",
    "      , sf.expr(\"CASE WHEN `Est PK?` = 'Oui' THEN True ELSE False END\").alias(\"is_pk\")         .cast(BooleanType())\n",
    "      , sf.col(\"Colonne\")                                              .alias(\"column_name\")   .cast(StringType())\n",
    "      , sf.expr(\"CASE WHEN Inclure = 'Oui' THEN True ELSE False END\")  .alias(\"is_extracted\")  .cast(BooleanType())\n",
    "      , sf.col(\"Type de données\")                                      .alias(\"data_type\")     .cast(StringType())\n",
    "    )\n",
    "\n",
    "    sdf = fn_cleanup_sdf(sdf)\n",
    "    \n",
    "    sdf.write\\\n",
    "      .format(\"delta\")\\\n",
    "      .mode(\"overwrite\")\\\n",
    "      .option(\"overwriteSchema\", \"True\")\\\n",
    "      .save(f\"{abfs_path_lh_cfg}/Tables/extract_object_excel\")\n",
    "\n",
    "    if is_debug:\n",
    "      sdf.printSchema()\n",
    "      display(sdf)"
   ]
  },
  {
   "cell_type": "markdown",
   "id": "8059ed2b-831d-4216-b911-ae6d15885ab4",
   "metadata": {
    "microsoft": {
     "language": "python",
     "language_group": "synapse_pyspark"
    },
    "nteract": {
     "transient": {
      "deleting": false
     }
    }
   },
   "source": [
    "## Insert into table \"lh_cfg.extract_object_csv\""
   ]
  },
  {
   "cell_type": "code",
   "execution_count": null,
   "id": "d6cf1213-1778-4079-a666-e5e2738a0503",
   "metadata": {
    "collapsed": false,
    "jupyter": {
     "outputs_hidden": false,
     "source_hidden": false
    },
    "microsoft": {
     "language": "python",
     "language_group": "synapse_pyspark"
    },
    "nteract": {
     "transient": {
      "deleting": false
     }
    }
   },
   "outputs": [],
   "source": [
    "sheet_name = \"Bronze (CSV)\"\n",
    "if is_debug: print(f\"sheet_name: {sheet_name}\")\n",
    "\n",
    "if sheet_name in sheet_name_list:\n",
    "  pdf = pd.read_excel(\n",
    "    io         = file_name,\n",
    "    sheet_name = sheet_name,\n",
    "    header     = 1\n",
    "  )\n",
    "\n",
    "  pdf_count = pdf[pdf.columns[2]].count()\n",
    "\n",
    "  if is_debug:\n",
    "    print(f\"pdf_count:  {pdf_count}\")\n",
    "\n",
    "  if pdf_count > 0:\n",
    "    sdf = spark.createDataFrame(pdf)\n",
    "\n",
    "    sdf = sdf.select(      \n",
    "      sf.lit(\"CSV\")                                                          .alias(\"technology\")   .cast(StringType())\n",
    "      , sf.col(\"Fréquence\")                                                  .alias(\"frequency\")    .cast(StringType())\n",
    "      , sf.col(\"Répertoire\")                                                 .alias(\"folder_name\")  .cast(StringType())\n",
    "      , sf.col(\"Fichier\")                                                    .alias(\"file_name\")    .cast(StringType())\n",
    "      , sf.expr(\"CASE WHEN `A un en-tête?` = 'Oui' THEN True ELSE False END\").alias(\"has_header\")   .cast(BooleanType())\n",
    "      , sf.col(\"Délimiteur\")                                                 .alias(\"delimiter\")    .cast(StringType())\n",
    "      , sf.col(\"Séparateur de lignes\")                                       .alias(\"row_separator\").cast(StringType())\n",
    "      , sf.col(\"Citation\")                                                   .alias(\"quote\")        .cast(StringType())\n",
    "      , sf.col(\"Type Chargement\")                                            .alias(\"extract_type\") .cast(StringType())\n",
    "      , sf.col(\"Séquence\")                                                   .alias(\"sequence\")     .cast(LongType())\n",
    "      , sf.expr(\"CASE WHEN `Est PK?` = 'Oui' THEN True ELSE False END\")      .alias(\"is_pk\")        .cast(BooleanType())\n",
    "      , sf.col(\"Colonne\")                                                    .alias(\"column_name\")  .cast(StringType())\n",
    "      , sf.expr(\"CASE WHEN Inclure = 'Oui' THEN True ELSE False END\")        .alias(\"is_extracted\") .cast(BooleanType())\n",
    "      , sf.col(\"Type de données\")                                            .alias(\"data_type\")    .cast(StringType())\n",
    "    )\n",
    "\n",
    "    sdf = fn_cleanup_sdf(sdf)\n",
    "    \n",
    "    sdf.write\\\n",
    "      .format(\"delta\")\\\n",
    "      .mode(\"overwrite\")\\\n",
    "      .option(\"overwriteSchema\", \"True\")\\\n",
    "      .save(f\"{abfs_path_lh_cfg}/Tables/extract_object_csv\")\n",
    "\n",
    "    if is_debug:\n",
    "      sdf.printSchema()\n",
    "      display(sdf)"
   ]
  },
  {
   "cell_type": "markdown",
   "id": "9515007e-5ceb-4919-952b-8ad78510e1e0",
   "metadata": {
    "microsoft": {
     "language": "python",
     "language_group": "synapse_pyspark"
    },
    "nteract": {
     "transient": {
      "deleting": false
     }
    }
   },
   "source": [
    "## Insert into table \"lh_cfg.extract_object_json\""
   ]
  },
  {
   "cell_type": "code",
   "execution_count": null,
   "id": "03decaf2-46ff-40e6-a724-27db1b1a764d",
   "metadata": {
    "collapsed": false,
    "jupyter": {
     "outputs_hidden": false,
     "source_hidden": false
    },
    "microsoft": {
     "language": "python",
     "language_group": "synapse_pyspark"
    },
    "nteract": {
     "transient": {
      "deleting": false
     }
    }
   },
   "outputs": [],
   "source": [
    "sheet_name = \"Bronze (JSON)\"\n",
    "if is_debug: print(f\"sheet_name: {sheet_name}\")\n",
    "\n",
    "if sheet_name in sheet_name_list:\n",
    "  pdf = pd.read_excel(\n",
    "    io         = file_name,\n",
    "    sheet_name = sheet_name,\n",
    "    header     = 1\n",
    "  )\n",
    "\n",
    "  pdf_count = pdf[pdf.columns[2]].count()\n",
    "\n",
    "  if is_debug:\n",
    "    print(f\"pdf_count: {pdf_count}\")\n",
    "\n",
    "  if pdf_count > 0:\n",
    "    sdf = spark.createDataFrame(pdf)\n",
    "\n",
    "    sdf = sdf.select(\n",
    "      sf.lit(\"JSON\")                                                   .alias(\"technology\")        .cast(StringType())\n",
    "      , sf.col(\"Fréquence\")                                            .alias(\"frequency\")         .cast(StringType())\n",
    "      , sf.col(\"Répertoire\")                                           .alias(\"folder_name\")       .cast(StringType())\n",
    "      , sf.col(\"Fichier\")                                              .alias(\"file_name\")         .cast(StringType())\n",
    "      , sf.col(\"Type Chargement\")                                      .alias(\"extract_type\")      .cast(StringType())\n",
    "      , sf.col(\"Séquence\")                                             .alias(\"sequence\")          .cast(LongType())\n",
    "      , sf.expr(\"CASE WHEN `Est PK?` = 'Oui' THEN True ELSE False END\").alias(\"is_pk\")             .cast(BooleanType())\n",
    "      , sf.col(\"Colonne\")                                              .alias(\"column_name\")       .cast(StringType())\n",
    "      , sf.col(\"Colonne parent\")                                       .alias(\"parent_column_name\").cast(StringType())\n",
    "      , sf.expr(\"CASE WHEN Inclure = 'Oui' THEN True ELSE False END\")  .alias(\"is_extracted\")      .cast(BooleanType())\n",
    "      , sf.col(\"Type de données\")                                      .alias(\"data_type\")         .cast(StringType())\n",
    "    )\n",
    "\n",
    "    sdf = fn_cleanup_sdf(sdf)\n",
    "    \n",
    "    sdf.write\\\n",
    "      .format(\"delta\")\\\n",
    "      .mode(\"overwrite\")\\\n",
    "      .option(\"overwriteSchema\", \"True\")\\\n",
    "      .save(f\"{abfs_path_lh_cfg}/Tables/extract_object_json\")\n",
    "\n",
    "    if is_debug:\n",
    "      sdf.printSchema()\n",
    "      display(sdf)"
   ]
  },
  {
   "cell_type": "markdown",
   "id": "7714ef22-0761-41bb-a45a-997844ea55bc",
   "metadata": {
    "microsoft": {
     "language": "python",
     "language_group": "synapse_pyspark"
    },
    "nteract": {
     "transient": {
      "deleting": false
     }
    }
   },
   "source": [
    "## Insert into table \"lh_cfg.extract_object_api\""
   ]
  },
  {
   "cell_type": "code",
   "execution_count": null,
   "id": "9a9203e5-510a-4994-a293-0e39490f77d1",
   "metadata": {
    "collapsed": false,
    "jupyter": {
     "outputs_hidden": false,
     "source_hidden": false
    },
    "microsoft": {
     "language": "python",
     "language_group": "synapse_pyspark"
    },
    "nteract": {
     "transient": {
      "deleting": false
     }
    }
   },
   "outputs": [],
   "source": [
    "sheet_name = \"Bronze (API)\"\n",
    "if is_debug: print(f\"sheet_name: {sheet_name}\")\n",
    "\n",
    "if sheet_name in sheet_name_list:\n",
    "  pdf = pd.read_excel(\n",
    "    io         = file_name,\n",
    "    sheet_name = sheet_name,\n",
    "    header     = 1\n",
    "  )\n",
    "\n",
    "  pdf_count = pdf[pdf.columns[2]].count()\n",
    "\n",
    "  if is_debug:\n",
    "    print(f\"pdf_count: {pdf_count}\")\n",
    "\n",
    "  if pdf_count > 0:\n",
    "    sdf = spark.createDataFrame(pdf)\n",
    "\n",
    "    sdf = sdf.select(\n",
    "        sf.lit(\"API\")                                                  .alias(\"technology\")         .cast(StringType())\n",
    "        , sf.col(\"Fréquence\")                                          .alias(\"frequency\")          .cast(StringType())\n",
    "        , sf.col(\"Table\")                                              .alias(\"table_name\")         .cast(StringType())\n",
    "        , sf.col(\"Base URL\")                                           .alias(\"base_url\")           .cast(StringType())\n",
    "        , sf.col(\"Method\")                                             .alias(\"method\")             .cast(StringType())\n",
    "        , sf.col(\"Header\")                                             .alias(\"header\")             .cast(StringType())\n",
    "        , sf.col(\"Body\")                                               .alias(\"body\")               .cast(StringType())\n",
    "        , sf.col(\"Root Element\")                                       .alias(\"root_element_name\")  .cast(StringType())\n",
    "        , sf.col(\"Pagination Value\")                                   .alias(\"paginated_value\")    .cast(StringType())\n",
    "        , sf.col(\"Parameter\")                                          .alias(\"params\")             .cast(StringType()) \n",
    "        , sf.col(\"Authorization Type\")                                 .alias(\"authorization_type\") .cast(StringType())\n",
    "        , sf.col(\"Authorization Value\")                                .alias(\"authorization_value\").cast(StringType())\n",
    "        , sf.col(\"Request Timeout\")                                    .alias(\"request_timeout\")    .cast(IntegerType())\n",
    "        , sf.col(\"Response Format\")                                    .alias(\"response_format\")    .cast(StringType())\n",
    "        , sf.expr(\"CASE WHEN Inclure = 'Oui' THEN True ELSE False END\").alias(\"is_extracted\")       .cast(BooleanType())      \n",
    "    )\n",
    "\n",
    "    sdf = fn_cleanup_sdf(sdf)\n",
    "    \n",
    "    sdf.write\\\n",
    "      .format(\"delta\")\\\n",
    "      .mode(\"overwrite\")\\\n",
    "      .option(\"overwriteSchema\", \"True\")\\\n",
    "      .save(f\"{abfs_path_lh_cfg}/Tables/extract_object_api\")\n",
    "\n",
    "    if is_debug:\n",
    "      sdf.printSchema()\n",
    "      display(sdf)"
   ]
  },
  {
   "cell_type": "markdown",
   "id": "993e3b4c-7539-44d3-af63-f569a913d4e6",
   "metadata": {
    "microsoft": {
     "language": "python",
     "language_group": "synapse_pyspark"
    },
    "nteract": {
     "transient": {
      "deleting": false
     }
    }
   },
   "source": [
    "## Insert into table \"lh_cfg.power_bi_refresh\""
   ]
  },
  {
   "cell_type": "code",
   "execution_count": null,
   "id": "16d82940-24ff-4760-aa60-9f92703db370",
   "metadata": {
    "collapsed": false,
    "jupyter": {
     "outputs_hidden": false,
     "source_hidden": false
    },
    "microsoft": {
     "language": "python",
     "language_group": "synapse_pyspark"
    },
    "nteract": {
     "transient": {
      "deleting": false
     }
    }
   },
   "outputs": [],
   "source": [
    "sheet_name = \"Power BI Refresh\"\n",
    "if is_debug: print(f\"sheet_name: {sheet_name}\")\n",
    "\n",
    "if sheet_name in sheet_name_list:\n",
    "  pdf = pd.read_excel(\n",
    "    io         = file_name,\n",
    "    sheet_name = sheet_name,\n",
    "    header     = 1\n",
    "  )\n",
    "\n",
    "  pdf_count = pdf[pdf.columns[2]].count()\n",
    "\n",
    "  if is_debug:\n",
    "    print(f\"pdf_count: {pdf_count}\")\n",
    "\n",
    "  if pdf_count > 0:\n",
    "    sdf = spark.createDataFrame(pdf)\n",
    "\n",
    "    sdf = sdf.select(\n",
    "      sf.col(\"Fréquence\")                                            .alias(\"frequency\")             .cast(StringType())\n",
    "      , sf.col(\"Environnement\")                                      .alias(\"environment\")           .cast(StringType())\n",
    "      , sf.col(\"Workspace ID\")                                       .alias(\"workspace_id\")          .cast(StringType())\n",
    "      , sf.col(\"Semantic Model ID\")                                  .alias(\"semantic_model_id\")     .cast(StringType())\n",
    "      , sf.col(\"Nom Semantic Model\")                                 .alias(\"semantic_model_name\")   .cast(StringType())\n",
    "      , sf.col(\"Request Timeout\")                                    .alias(\"request_timeout\")       .cast(IntegerType())\n",
    "      , sf.col(\"Refresh Timeout\")                                    .alias(\"refresh_timeout\")       .cast(IntegerType())\n",
    "      , sf.col(\"Attendre (secondes)\")                                .alias(\"loop_wait_time_seconds\").cast(IntegerType())        \n",
    "      , sf.expr(\"CASE WHEN Inclure = 'Oui' THEN True ELSE False END\").alias(\"is_active\")             .cast(BooleanType())      \n",
    "    )\n",
    "\n",
    "    sdf = fn_cleanup_sdf(sdf)\n",
    "    \n",
    "    sdf.write\\\n",
    "      .format(\"delta\")\\\n",
    "      .mode(\"overwrite\")\\\n",
    "      .option(\"overwriteSchema\", \"True\")\\\n",
    "      .save(f\"{abfs_path_lh_cfg}/Tables/power_bi_refresh\")\n",
    "\n",
    "    if is_debug:\n",
    "      sdf.printSchema()\n",
    "      display(sdf)"
   ]
  },
  {
   "cell_type": "markdown",
   "id": "f48690d7-1c38-4bca-8edc-a39535ccddb0",
   "metadata": {
    "microsoft": {
     "language": "python",
     "language_group": "synapse_pyspark"
    },
    "nteract": {
     "transient": {
      "deleting": false
     }
    }
   },
   "source": [
    "## "
   ]
  }
 ],
 "metadata": {
  "dependencies": {
   "lakehouse": {}
  },
  "kernel_info": {
   "name": "synapse_pyspark"
  },
  "kernelspec": {
   "display_name": "Synapse PySpark",
   "language": "Python",
   "name": "synapse_pyspark"
  },
  "language_info": {
   "name": "python"
  },
  "microsoft": {
   "language": "python",
   "language_group": "synapse_pyspark",
   "ms_spell_check": {
    "ms_spell_check_language": "en"
   }
  },
  "nteract": {
   "version": "nteract-front-end@1.0.0"
  },
  "spark_compute": {
   "compute_id": "/trident/default",
   "session_options": {
    "conf": {
     "spark.synapse.nbs.session.timeout": "1200000"
    }
   }
  },
  "synapse_widget": {
   "state": {
    "1b1a8314-fc03-4f00-afe7-a557e9bcd8f0": {
     "persist_state": {
      "view": {
       "chartOptions": {
        "aggregationType": "count",
        "binsNumber": 10,
        "categoryFieldKeys": [
         "2"
        ],
        "chartType": "bar",
        "evaluatesOverAllRecords": false,
        "isStacked": false,
        "seriesFieldKeys": [
         "2"
        ],
        "wordFrequency": "-1"
       },
       "tableOptions": {},
       "type": "details",
       "viewOptionsGroup": [
        {
         "tabItems": [
          {
           "key": "0",
           "name": "Table",
           "options": {},
           "type": "table"
          }
         ]
        }
       ]
      }
     },
     "sync_state": {
      "isSummary": false,
      "language": "scala",
      "table": {
       "rows": [
        {
         "0": "CSV",
         "1": "Daily",
         "3": "customérs",
         "4": "true",
         "5": ",",
         "6": "rn",
         "7": "\"",
         "8": "EI",
         "9": "1",
         "10": "true",
         "11": "Index",
         "12": "true",
         "13": "String"
        },
        {
         "0": "CSV",
         "1": "Daily",
         "3": "customérs",
         "4": "true",
         "5": ",",
         "6": "rn",
         "7": "\"",
         "8": "EI",
         "9": "2",
         "10": "false",
         "11": "Customer Id",
         "12": "true",
         "13": "String"
        },
        {
         "0": "CSV",
         "1": "Daily",
         "3": "customérs",
         "4": "true",
         "5": ",",
         "6": "rn",
         "7": "\"",
         "8": "EI",
         "9": "3",
         "10": "false",
         "11": "First Name",
         "12": "true",
         "13": "String"
        },
        {
         "0": "CSV",
         "1": "Daily",
         "3": "customérs",
         "4": "true",
         "5": ",",
         "6": "rn",
         "7": "\"",
         "8": "EI",
         "9": "4",
         "10": "false",
         "11": "Last Name",
         "12": "true",
         "13": "String"
        },
        {
         "0": "CSV",
         "1": "Daily",
         "3": "customérs",
         "4": "true",
         "5": ",",
         "6": "rn",
         "7": "\"",
         "8": "EI",
         "9": "5",
         "10": "false",
         "11": "Company",
         "12": "true",
         "13": "String"
        },
        {
         "0": "CSV",
         "1": "Daily",
         "3": "customérs",
         "4": "true",
         "5": ",",
         "6": "rn",
         "7": "\"",
         "8": "EI",
         "9": "6",
         "10": "false",
         "11": "City",
         "12": "true",
         "13": "String"
        },
        {
         "0": "CSV",
         "1": "Daily",
         "3": "customérs",
         "4": "true",
         "5": ",",
         "6": "rn",
         "7": "\"",
         "8": "EI",
         "9": "7",
         "10": "false",
         "11": "Country",
         "12": "true",
         "13": "String"
        },
        {
         "0": "CSV",
         "1": "Daily",
         "3": "customérs",
         "4": "true",
         "5": ",",
         "6": "rn",
         "7": "\"",
         "8": "EI",
         "9": "8",
         "10": "false",
         "11": "Phone 1",
         "12": "true",
         "13": "String"
        },
        {
         "0": "CSV",
         "1": "Daily",
         "3": "customérs",
         "4": "true",
         "5": ",",
         "6": "rn",
         "7": "\"",
         "8": "EI",
         "9": "9",
         "10": "false",
         "11": "Phone 2",
         "12": "true",
         "13": "String"
        },
        {
         "0": "CSV",
         "1": "Daily",
         "3": "customérs",
         "4": "true",
         "5": ",",
         "6": "rn",
         "7": "\"",
         "8": "EI",
         "9": "10",
         "10": "false",
         "11": "Email",
         "12": "true",
         "13": "String"
        },
        {
         "0": "CSV",
         "1": "Daily",
         "3": "customérs",
         "4": "true",
         "5": ",",
         "6": "rn",
         "7": "\"",
         "8": "EI",
         "9": "11",
         "10": "false",
         "11": "Subscription Date",
         "12": "true",
         "13": "String"
        },
        {
         "0": "CSV",
         "1": "Daily",
         "3": "customérs",
         "4": "true",
         "5": ",",
         "6": "rn",
         "7": "\"",
         "8": "EI",
         "9": "12",
         "10": "false",
         "11": "Website",
         "12": "true",
         "13": "String"
        },
        {
         "0": "CSV",
         "1": "Daily",
         "3": "clients",
         "4": "true",
         "5": ",",
         "6": "n",
         "7": "\"",
         "8": "EI",
         "9": "1",
         "10": "true",
         "11": "ID",
         "12": "true",
         "13": "Long"
        },
        {
         "0": "CSV",
         "1": "Daily",
         "3": "clients",
         "4": "true",
         "5": ",",
         "6": "n",
         "7": "\"",
         "8": "EI",
         "9": "2",
         "10": "false",
         "11": "Name",
         "12": "true",
         "13": "String"
        },
        {
         "0": "CSV",
         "1": "Daily",
         "3": "clients",
         "4": "true",
         "5": ",",
         "6": "n",
         "7": "\"",
         "8": "EI",
         "9": "3",
         "10": "false",
         "11": "Age",
         "12": "true",
         "13": "Integer"
        },
        {
         "0": "CSV",
         "1": "Daily",
         "3": "clients",
         "4": "true",
         "5": ",",
         "6": "n",
         "7": "\"",
         "8": "EI",
         "9": "4",
         "10": "false",
         "11": "Country",
         "12": "true",
         "13": "String"
        },
        {
         "0": "CSV",
         "1": "Daily",
         "3": "clients",
         "4": "true",
         "5": ",",
         "6": "n",
         "7": "\"",
         "8": "EI",
         "9": "5",
         "10": "false",
         "11": "Email",
         "12": "true",
         "13": "String"
        },
        {
         "0": "CSV",
         "1": "Daily",
         "2": "folder 35",
         "3": "people",
         "4": "true",
         "5": ",",
         "6": "rn",
         "7": "\"",
         "8": "EI",
         "9": "1",
         "10": "true",
         "11": "Index",
         "12": "true",
         "13": "String"
        },
        {
         "0": "CSV",
         "1": "Daily",
         "2": "folder 35",
         "3": "people",
         "4": "true",
         "5": ",",
         "6": "rn",
         "7": "\"",
         "8": "EI",
         "9": "2",
         "10": "false",
         "11": "User Id",
         "12": "true",
         "13": "String"
        },
        {
         "0": "CSV",
         "1": "Daily",
         "2": "folder 35",
         "3": "people",
         "4": "true",
         "5": ",",
         "6": "rn",
         "7": "\"",
         "8": "EI",
         "9": "3",
         "10": "false",
         "11": "First Name",
         "12": "true",
         "13": "String"
        },
        {
         "0": "CSV",
         "1": "Daily",
         "2": "folder 35",
         "3": "people",
         "4": "true",
         "5": ",",
         "6": "rn",
         "7": "\"",
         "8": "EI",
         "9": "4",
         "10": "false",
         "11": "Last Name",
         "12": "true",
         "13": "String"
        },
        {
         "0": "CSV",
         "1": "Daily",
         "2": "folder 35",
         "3": "people",
         "4": "true",
         "5": ",",
         "6": "rn",
         "7": "\"",
         "8": "EI",
         "9": "5",
         "10": "false",
         "11": "Sex",
         "12": "true",
         "13": "String"
        },
        {
         "0": "CSV",
         "1": "Daily",
         "2": "folder 35",
         "3": "people",
         "4": "true",
         "5": ",",
         "6": "rn",
         "7": "\"",
         "8": "EI",
         "9": "6",
         "10": "false",
         "11": "Email",
         "12": "true",
         "13": "String"
        },
        {
         "0": "CSV",
         "1": "Daily",
         "2": "folder 35",
         "3": "people",
         "4": "true",
         "5": ",",
         "6": "rn",
         "7": "\"",
         "8": "EI",
         "9": "7",
         "10": "false",
         "11": "Phone",
         "12": "true",
         "13": "String"
        },
        {
         "0": "CSV",
         "1": "Daily",
         "2": "folder 35",
         "3": "people",
         "4": "true",
         "5": ",",
         "6": "rn",
         "7": "\"",
         "8": "EI",
         "9": "8",
         "10": "false",
         "11": "Date of birth",
         "12": "true",
         "13": "String"
        },
        {
         "0": "CSV",
         "1": "Daily",
         "2": "folder 35",
         "3": "people",
         "4": "true",
         "5": ",",
         "6": "rn",
         "7": "\"",
         "8": "EI",
         "9": "9",
         "10": "false",
         "11": "Job Title",
         "12": "true",
         "13": "String"
        },
        {
         "0": "CSV",
         "1": "Daily",
         "2": "folder 16/other folder 27",
         "3": "sample 2",
         "4": "true",
         "5": ",",
         "6": "n",
         "7": "\"",
         "8": "EI",
         "9": "1",
         "10": "false",
         "11": "Name",
         "12": "true",
         "13": "String"
        },
        {
         "0": "CSV",
         "1": "Daily",
         "2": "folder 16/other folder 27",
         "3": "sample 2",
         "4": "true",
         "5": ",",
         "6": "n",
         "7": "\"",
         "8": "EI",
         "9": "2",
         "10": "false",
         "11": "Team",
         "12": "true",
         "13": "String"
        },
        {
         "0": "CSV",
         "1": "Daily",
         "2": "folder 16/other folder 27",
         "3": "sample 2",
         "4": "true",
         "5": ",",
         "6": "n",
         "7": "\"",
         "8": "EI",
         "9": "3",
         "10": "false",
         "11": "Position",
         "12": "true",
         "13": "String"
        },
        {
         "0": "CSV",
         "1": "Daily",
         "2": "folder 16/other folder 27",
         "3": "sample 2",
         "4": "true",
         "5": ",",
         "6": "n",
         "7": "\"",
         "8": "EI",
         "9": "4",
         "10": "false",
         "11": "Height(inches)",
         "12": "true",
         "13": "Integer"
        },
        {
         "0": "CSV",
         "1": "Daily",
         "2": "folder 16/other folder 27",
         "3": "sample 2",
         "4": "true",
         "5": ",",
         "6": "n",
         "7": "\"",
         "8": "EI",
         "9": "5",
         "10": "false",
         "11": "Weight(lbs)",
         "12": "true",
         "13": "Integer"
        },
        {
         "0": "CSV",
         "1": "Daily",
         "2": "folder 16/other folder 27",
         "3": "sample 2",
         "4": "true",
         "5": ",",
         "6": "n",
         "7": "\"",
         "8": "EI",
         "9": "6",
         "10": "false",
         "11": "Age",
         "12": "true",
         "13": "Double"
        }
       ],
       "schema": [
        {
         "key": "0",
         "name": "technology",
         "type": "string"
        },
        {
         "key": "1",
         "name": "frequency",
         "type": "string"
        },
        {
         "key": "2",
         "name": "folder_name",
         "type": "string"
        },
        {
         "key": "3",
         "name": "file_name",
         "type": "string"
        },
        {
         "key": "4",
         "name": "has_header",
         "type": "boolean"
        },
        {
         "key": "5",
         "name": "delimiter",
         "type": "string"
        },
        {
         "key": "6",
         "name": "row_separator",
         "type": "string"
        },
        {
         "key": "7",
         "name": "quote",
         "type": "string"
        },
        {
         "key": "8",
         "name": "extract_type",
         "type": "string"
        },
        {
         "key": "9",
         "name": "sequence",
         "type": "bigint"
        },
        {
         "key": "10",
         "name": "is_pk",
         "type": "boolean"
        },
        {
         "key": "11",
         "name": "column_name",
         "type": "string"
        },
        {
         "key": "12",
         "name": "is_extracted",
         "type": "boolean"
        },
        {
         "key": "13",
         "name": "data_type",
         "type": "string"
        }
       ],
       "truncated": false
      },
      "wranglerEntryContext": {
       "candidateVariableNames": [
        "sdf"
       ],
       "dataframeType": "pyspark"
      }
     },
     "type": "Synapse.DataFrame"
    },
    "1d22d292-87e1-44d0-a7a4-ec4e92c0643d": {
     "persist_state": {
      "view": {
       "chartOptions": {
        "aggregationType": "count",
        "binsNumber": 10,
        "categoryFieldKeys": [
         "0"
        ],
        "chartType": "bar",
        "evaluatesOverAllRecords": false,
        "isStacked": false,
        "seriesFieldKeys": [
         "2"
        ],
        "wordFrequency": "-1"
       },
       "tableOptions": {},
       "type": "details",
       "viewOptionsGroup": [
        {
         "tabItems": [
          {
           "key": "0",
           "name": "Table",
           "options": {},
           "type": "table"
          }
         ]
        }
       ]
      }
     },
     "sync_state": {
      "isSummary": false,
      "language": "scala",
      "table": {
       "rows": [
        {
         "0": "SQL Server",
         "1": "Daily",
         "2": "fa_date_extracted",
         "3": "Date and time at the moment of the extraction"
        },
        {
         "0": "SQL Server",
         "1": "Daily",
         "2": "fa_server_name",
         "3": "Source SQL Server name"
        },
        {
         "0": "SQL Server",
         "1": "Daily",
         "2": "fa_database_name",
         "3": "Source SQL Database name"
        },
        {
         "0": "SQL Server",
         "1": "Daily",
         "2": "fa_schema_name",
         "3": "Source SQL Schema name"
        },
        {
         "0": "SQL Server",
         "1": "Daily",
         "2": "fa_tablename",
         "3": "Source SQL Table name"
        },
        {
         "0": "Excel",
         "1": "Daily",
         "2": "fa_date_extracted",
         "3": "Date and time at the moment of the extraction"
        },
        {
         "0": "Excel",
         "1": "Daily",
         "2": "fa_server_name",
         "3": "Source Excel Server name"
        },
        {
         "0": "Excel",
         "1": "Daily",
         "2": "fa_database_name",
         "3": "Source Excel Folder name"
        },
        {
         "0": "Excel",
         "1": "Daily",
         "2": "fa_schema_name",
         "3": "Source Excel File name"
        },
        {
         "0": "Excel",
         "1": "Daily",
         "2": "fa_table_name",
         "3": "Source Excel Worksheet name"
        }
       ],
       "schema": [
        {
         "key": "0",
         "name": "technology",
         "type": "string"
        },
        {
         "key": "1",
         "name": "frequency",
         "type": "string"
        },
        {
         "key": "2",
         "name": "name",
         "type": "string"
        },
        {
         "key": "3",
         "name": "note",
         "type": "string"
        }
       ],
       "truncated": false
      },
      "wranglerEntryContext": {
       "candidateVariableNames": [
        "sdf"
       ],
       "dataframeType": "pyspark"
      }
     },
     "type": "Synapse.DataFrame"
    },
    "1e7a04b1-d92c-4d69-9096-1031c77eac29": {
     "persist_state": {
      "view": {
       "chartOptions": {
        "aggregationType": "count",
        "binsNumber": 10,
        "categoryFieldKeys": [
         "0"
        ],
        "chartType": "bar",
        "evaluatesOverAllRecords": false,
        "isStacked": false,
        "seriesFieldKeys": [
         "0"
        ],
        "wordFrequency": "-1"
       },
       "tableOptions": {},
       "type": "details",
       "viewOptionsGroup": [
        {
         "tabItems": [
          {
           "key": "0",
           "name": "Table",
           "options": {},
           "type": "table"
          }
         ]
        }
       ]
      }
     },
     "sync_state": {
      "isSummary": false,
      "language": "scala",
      "table": {
       "rows": [],
       "schema": [
        {
         "key": "0",
         "name": "name",
         "type": "string"
        },
        {
         "key": "1",
         "name": "value",
         "type": "string"
        },
        {
         "key": "2",
         "name": "note",
         "type": "string"
        }
       ],
       "truncated": false
      },
      "wranglerEntryContext": {
       "candidateVariableNames": [
        "sdf"
       ],
       "dataframeType": "pyspark"
      }
     },
     "type": "Synapse.DataFrame"
    },
    "283b55bd-4bb5-4d27-a533-3be7a994383a": {
     "persist_state": {
      "view": {
       "chartOptions": {
        "aggregationType": "count",
        "binsNumber": 10,
        "categoryFieldKeys": [
         "0"
        ],
        "chartType": "bar",
        "evaluatesOverAllRecords": false,
        "isStacked": false,
        "seriesFieldKeys": [
         "0"
        ],
        "wordFrequency": "-1"
       },
       "tableOptions": {},
       "type": "details",
       "viewOptionsGroup": [
        {
         "tabItems": [
          {
           "key": "0",
           "name": "Table",
           "options": {},
           "type": "table"
          }
         ]
        }
       ]
      }
     },
     "sync_state": {
      "isSummary": false,
      "language": "scala",
      "table": {
       "rows": [
        {
         "0": "send_success_email",
         "1": "Oui",
         "2": "Send success email?"
        },
        {
         "0": "send_error_email",
         "1": "Oui",
         "2": "Send error email?"
        },
        {
         "0": "email_on_success",
         "1": "peter.lalovsky@zpl-concept.com",
         "2": "Emails, separated by semicolon (;) that will receive the success messages."
        },
        {
         "0": "email_on_error",
         "1": "peter.lalovsky@zpl-concept.com",
         "2": "Emails, separated by semicolon (;) that will receive the error messages."
        },
        {
         "0": "days_to_keep_log",
         "1": "365",
         "2": "Number of days to keep the data in the log tables"
        },
        {
         "0": "time_zone_pl",
         "1": "Eastern Standard Time",
         "2": "Time zone of the BI solution. Used in Pipeline"
        },
        {
         "0": "time_zone_nb",
         "1": "Canada/Eastern",
         "2": "Time zone of the BI solution. Used in Notebook"
        },
        {
         "0": "mssql_isolation_level",
         "1": "READ_UNCOMMITTED",
         "2": "Source server: mssql isolation level"
        },
        {
         "0": "projet_documentation_data_file_name",
         "1": "Documentation projet (Framework)",
         "2": "The name of the current file. The extension should always be .xlsx"
        },
        {
         "0": "sql_server",
         "1": "sql-server.database.windows.net",
         "2": "Alias for SQL Server 1. Mandatory for each SQL Server in sheet \"Bronze\""
        },
        {
         "0": "key_vault_url",
         "1": "https://kv-keyvault.vault.azure.net/",
         "2": "URL of the Azure Key-Vault"
        },
        {
         "0": "kv_test_key",
         "1": "kv-my-key",
         "2": "Name of Key_Vault Secret for UMQ OneClick Key"
        },
        {
         "0": "bearer_token_url",
         "1": "https://api.fabric.microsoft.com/",
         "2": "URL to get API bearer token"
        }
       ],
       "schema": [
        {
         "key": "0",
         "name": "name",
         "type": "string"
        },
        {
         "key": "1",
         "name": "value",
         "type": "string"
        },
        {
         "key": "2",
         "name": "note",
         "type": "string"
        }
       ],
       "truncated": false
      },
      "wranglerEntryContext": {
       "candidateVariableNames": [
        "sdf_new"
       ],
       "dataframeType": "pyspark"
      }
     },
     "type": "Synapse.DataFrame"
    },
    "64a9215c-4d11-4847-8d98-d6600dce15d7": {
     "persist_state": {
      "view": {
       "chartOptions": {
        "aggregationType": "count",
        "binsNumber": 10,
        "categoryFieldKeys": [
         "0"
        ],
        "chartType": "bar",
        "evaluatesOverAllRecords": false,
        "isStacked": false,
        "seriesFieldKeys": [
         "0"
        ],
        "wordFrequency": "-1"
       },
       "tableOptions": {},
       "type": "details",
       "viewOptionsGroup": [
        {
         "tabItems": [
          {
           "key": "0",
           "name": "Table",
           "options": {},
           "type": "table"
          }
         ]
        }
       ]
      }
     },
     "sync_state": {
      "isSummary": false,
      "language": "scala",
      "table": {
       "rows": [
        {
         "0": "abfs_path_lh_cfg",
         "1": "abfss://6a9d410f-c3c8-485a-bda1-6f87c0d2cd21@onelake.dfs.fabric.microsoft.com/c0fb8c3e-073a-4a7d-81ba-68157b830b4d",
         "2": "abfs path for lakehouse lh_cfg"
        },
        {
         "0": "abfs_path_lh_log",
         "1": "abfss://6a9d410f-c3c8-485a-bda1-6f87c0d2cd21@onelake.dfs.fabric.microsoft.com/cd170feb-0ae8-49fb-99c1-ff9a91a7cc6a",
         "2": "abfs path for lakehouse lh_log"
        },
        {
         "0": "abfs_path_lh_silver",
         "1": "abfss://6a9d410f-c3c8-485a-bda1-6f87c0d2cd21@onelake.dfs.fabric.microsoft.com/1152d4ea-e179-4ee5-96e7-d1bb6df8e70c",
         "2": "abfs path for lakehouse lh_silver"
        },
        {
         "0": "abfs_path_lh_bronze",
         "1": "abfss://6a9d410f-c3c8-485a-bda1-6f87c0d2cd21@onelake.dfs.fabric.microsoft.com/822e1c96-2d32-4aeb-8277-bc03dca03177",
         "2": "abfs path for lakehouse lh_bronze"
        },
        {
         "0": "abfs_path_lh_AdventureWorks",
         "1": "abfss://6a9d410f-c3c8-485a-bda1-6f87c0d2cd21@onelake.dfs.fabric.microsoft.com/ca78ed95-8b58-408c-b93a-91087cd10956",
         "2": "abfs path for lakehouse lh_AdventureWorks"
        },
        {
         "0": "my_dataverse",
         "1": "abfss://6a9d410f-c3c8-485a-bda1-6f87c0d2cd21@onelake.dfs.fabric.microsoft.com/ea777e67-b937-4e2f-896b-dbdd2c008121",
         "2": "abfs path for lakehouse lh_dataverse_tablename_workspace_abc"
        },
        {
         "0": "abfs_path_lh_gold",
         "1": "abfss://6a9d410f-c3c8-485a-bda1-6f87c0d2cd21@onelake.dfs.fabric.microsoft.com/704f4b47-e304-4994-ad46-041c7972e171",
         "2": "abfs path for lakehouse lh_gold"
        },
        {
         "0": "send_success_email",
         "1": "1",
         "2": "Send success email?"
        },
        {
         "0": "send_error_email",
         "1": "1",
         "2": "Send error email?"
        },
        {
         "0": "email_on_success",
         "1": "peter.lalovsky@zpl-concept.com",
         "2": "Emails, separated by semicolon (;) that will receive the success messages."
        },
        {
         "0": "email_on_error",
         "1": "peter.lalovsky@zpl-concept.com",
         "2": "Emails, separated by semicolon (;) that will receive the error messages."
        },
        {
         "0": "days_to_keep_log",
         "1": "365",
         "2": "Number of days to keep the data in the log tables"
        },
        {
         "0": "time_zone_pl",
         "1": "Eastern Standard Time",
         "2": "Time zone of the BI solution. Used in Pipeline"
        },
        {
         "0": "time_zone_nb",
         "1": "Canada/Eastern",
         "2": "Time zone of the BI solution. Used in Notebook"
        },
        {
         "0": "mssql_isolation_level",
         "1": "READ_UNCOMMITTED",
         "2": "Source server: mssql isolation level"
        },
        {
         "0": "projet_documentation_data_file_name",
         "1": "Documentation projet (Framework)",
         "2": "The name of the current file. The extension should always be .xlsx"
        },
        {
         "0": "sql_server",
         "1": "sql-server.database.windows.net",
         "2": "Alias for SQL Server 1. Mandatory for each SQL Server in sheet \"Bronze\""
        },
        {
         "0": "key_vault_url",
         "1": "https://kv-keyvault.vault.azure.net/",
         "2": "URL of the Azure Key-Vault"
        },
        {
         "0": "kv_test_key",
         "1": "kv-my-key",
         "2": "Name of Key_Vault Secret for UMQ OneClick Key"
        },
        {
         "0": "bearer_token_url",
         "1": "https://api.fabric.microsoft.com/",
         "2": "URL to get API bearer token"
        }
       ],
       "schema": [
        {
         "key": "0",
         "name": "name",
         "type": "string"
        },
        {
         "key": "1",
         "name": "value",
         "type": "string"
        },
        {
         "key": "2",
         "name": "note",
         "type": "string"
        }
       ],
       "truncated": false
      },
      "wranglerEntryContext": {
       "candidateVariableNames": [
        "sdf_exst"
       ],
       "dataframeType": "pyspark"
      }
     },
     "type": "Synapse.DataFrame"
    },
    "a5f95252-fb09-4304-bb87-e3cb83a3ee88": {
     "persist_state": {
      "view": {
       "chartOptions": {
        "aggregationType": "count",
        "binsNumber": 10,
        "categoryFieldKeys": [
         "2"
        ],
        "chartType": "bar",
        "evaluatesOverAllRecords": false,
        "isStacked": false,
        "seriesFieldKeys": [
         "3"
        ],
        "wordFrequency": "-1"
       },
       "tableOptions": {},
       "type": "details",
       "viewOptionsGroup": [
        {
         "tabItems": [
          {
           "key": "0",
           "name": "Table",
           "options": {},
           "type": "table"
          }
         ]
        }
       ]
      }
     },
     "sync_state": {
      "isSummary": false,
      "language": "scala",
      "table": {
       "rows": [
        {
         "0": "JSON",
         "1": "Daily",
         "3": "Municipalitiés_1",
         "4": "EI",
         "5": "1",
         "6": "false",
         "7": "results",
         "8": "root",
         "9": "true",
         "10": "Array"
        },
        {
         "0": "JSON",
         "1": "Daily",
         "3": "Municipalitiés_1",
         "4": "EI",
         "5": "2",
         "6": "true",
         "7": "_COMPANY_ID_",
         "8": "results",
         "9": "true",
         "10": "Long"
        },
        {
         "0": "JSON",
         "1": "Daily",
         "3": "Municipalitiés_1",
         "4": "EI",
         "5": "3",
         "6": "false",
         "7": "_COMPANY_PRODUCT_ID_",
         "8": "results",
         "9": "true",
         "10": "Long"
        },
        {
         "0": "JSON",
         "1": "Daily",
         "3": "Municipalitiés_1",
         "4": "EI",
         "5": "4",
         "6": "false",
         "7": "_COMPANY_DATE_MODIFIED_",
         "8": "results",
         "9": "true",
         "10": "String"
        },
        {
         "0": "JSON",
         "1": "Daily",
         "3": "Municipalitiés_1",
         "4": "EI",
         "5": "5",
         "6": "false",
         "7": "Principal Address",
         "8": "results",
         "9": "true",
         "10": "Struct"
        },
        {
         "0": "JSON",
         "1": "Daily",
         "3": "Municipalitiés_1",
         "4": "EI",
         "5": "6",
         "6": "false",
         "7": "ADDRESS",
         "8": "Principal Address",
         "9": "true",
         "10": "String"
        },
        {
         "0": "JSON",
         "1": "Daily",
         "3": "Municipalitiés_1",
         "4": "EI",
         "5": "7",
         "6": "false",
         "7": "MAP",
         "8": "Principal Address",
         "9": "true",
         "10": "String"
        },
        {
         "0": "JSON",
         "1": "Daily",
         "3": "Municipalitiés_1",
         "4": "EI",
         "5": "8",
         "6": "false",
         "7": "STREET 1",
         "8": "Principal Address",
         "9": "true",
         "10": "String"
        },
        {
         "0": "JSON",
         "1": "Daily",
         "3": "Municipalitiés_1",
         "4": "EI",
         "5": "9",
         "6": "false",
         "7": "STREET 2",
         "8": "Principal Address",
         "9": "true",
         "10": "String"
        },
        {
         "0": "JSON",
         "1": "Daily",
         "3": "Municipalitiés_1",
         "4": "EI",
         "5": "10",
         "6": "false",
         "7": "CITY",
         "8": "Principal Address",
         "9": "true",
         "10": "String"
        },
        {
         "0": "JSON",
         "1": "Daily",
         "3": "Municipalitiés_1",
         "4": "EI",
         "5": "11",
         "6": "false",
         "7": "PROVINCE",
         "8": "Principal Address",
         "9": "true",
         "10": "String"
        },
        {
         "0": "JSON",
         "1": "Daily",
         "3": "Municipalitiés_1",
         "4": "EI",
         "5": "12",
         "6": "false",
         "7": "POSTAL",
         "8": "Principal Address",
         "9": "true",
         "10": "String"
        },
        {
         "0": "JSON",
         "1": "Daily",
         "3": "Municipalitiés_1",
         "4": "EI",
         "5": "13",
         "6": "false",
         "7": "Céucus AFF",
         "8": "results",
         "9": "true",
         "10": "Array"
        },
        {
         "0": "JSON",
         "1": "Daily",
         "3": "Municipalitiés_1",
         "4": "EI",
         "5": "14",
         "6": "false",
         "7": "VALUE",
         "8": "Céucus AFF",
         "9": "true",
         "10": "String"
        },
        {
         "0": "JSON",
         "1": "Daily",
         "3": "Municipalitiés_1",
         "4": "EI",
         "5": "15",
         "6": "false",
         "7": "LABEL",
         "8": "Céucus AFF",
         "9": "true",
         "10": "String"
        },
        {
         "0": "JSON",
         "1": "Daily",
         "3": "Municipalitiés_1",
         "4": "EI",
         "5": "16",
         "6": "false",
         "7": "Insurance services",
         "8": "results",
         "9": "true",
         "10": "Array"
        },
        {
         "0": "JSON",
         "1": "Daily",
         "3": "Municipalitiés_1",
         "4": "EI",
         "5": "17",
         "6": "false",
         "7": "VALUE",
         "8": "Insurance services",
         "9": "true",
         "10": "String"
        },
        {
         "0": "JSON",
         "1": "Daily",
         "3": "Municipalitiés_1",
         "4": "EI",
         "5": "18",
         "6": "false",
         "7": "LABEL",
         "8": "Insurance services",
         "9": "true",
         "10": "String"
        },
        {
         "0": "JSON",
         "1": "Daily",
         "3": "Municipalitiés_1",
         "4": "EI",
         "5": "19",
         "6": "false",
         "7": "PL Test",
         "8": "Insurance services",
         "9": "true",
         "10": "Array"
        },
        {
         "0": "JSON",
         "1": "Daily",
         "3": "Municipalitiés_1",
         "4": "EI",
         "5": "20",
         "6": "false",
         "7": "key",
         "8": "PL Test",
         "9": "true",
         "10": "String"
        },
        {
         "0": "JSON",
         "1": "Daily",
         "3": "Municipalitiés_1",
         "4": "EI",
         "5": "21",
         "6": "false",
         "7": "phone",
         "8": "PL Test",
         "9": "true",
         "10": "Struct"
        },
        {
         "0": "JSON",
         "1": "Daily",
         "3": "Municipalitiés_1",
         "4": "EI",
         "5": "22",
         "6": "false",
         "7": "disponibilité",
         "8": "phone",
         "9": "true",
         "10": "Boolean"
        },
        {
         "0": "JSON",
         "1": "Daily",
         "3": "Municipalitiés_1",
         "4": "EI",
         "5": "23",
         "6": "false",
         "7": "number",
         "8": "phone",
         "9": "true",
         "10": "String"
        },
        {
         "0": "JSON",
         "1": "Daily",
         "3": "Municipalitiés_1",
         "4": "EI",
         "5": "24",
         "6": "false",
         "7": "type",
         "8": "phone",
         "9": "true",
         "10": "String"
        },
        {
         "0": "JSON",
         "1": "Daily",
         "3": "Municipalitiés_1",
         "4": "EI",
         "5": "25",
         "6": "false",
         "7": "value",
         "8": "PL Test",
         "9": "true",
         "10": "Short"
        },
        {
         "0": "JSON",
         "1": "Daily",
         "3": "Municipalities 2",
         "4": "EI",
         "5": "1",
         "6": "true",
         "7": "_COMPANY_ID_",
         "9": "true",
         "10": "Long"
        },
        {
         "0": "JSON",
         "1": "Daily",
         "3": "Municipalities 2",
         "4": "EI",
         "5": "2",
         "6": "false",
         "7": "_COMPANY_PRODUCT_ID_",
         "9": "true",
         "10": "Long"
        },
        {
         "0": "JSON",
         "1": "Daily",
         "3": "Municipalities 2",
         "4": "EI",
         "5": "3",
         "6": "false",
         "7": "_COMPANY_DATE_MODIFIED_",
         "9": "true",
         "10": "String"
        },
        {
         "0": "JSON",
         "1": "Daily",
         "3": "Municipalities 2",
         "4": "EI",
         "5": "4",
         "6": "false",
         "7": "Principal Address",
         "9": "true",
         "10": "Struct"
        },
        {
         "0": "JSON",
         "1": "Daily",
         "3": "Municipalities 2",
         "4": "EI",
         "5": "5",
         "6": "false",
         "7": "ADDRESS",
         "8": "Principal Address",
         "9": "true",
         "10": "String"
        },
        {
         "0": "JSON",
         "1": "Daily",
         "3": "Municipalities 2",
         "4": "EI",
         "5": "6",
         "6": "false",
         "7": "MAP",
         "8": "Principal Address",
         "9": "true",
         "10": "String"
        },
        {
         "0": "JSON",
         "1": "Daily",
         "3": "Municipalities 2",
         "4": "EI",
         "5": "7",
         "6": "false",
         "7": "STREET 1",
         "8": "Principal Address",
         "9": "true",
         "10": "String"
        },
        {
         "0": "JSON",
         "1": "Daily",
         "3": "Municipalities 2",
         "4": "EI",
         "5": "8",
         "6": "false",
         "7": "STREET 2",
         "8": "Principal Address",
         "9": "true",
         "10": "String"
        },
        {
         "0": "JSON",
         "1": "Daily",
         "3": "Municipalities 2",
         "4": "EI",
         "5": "9",
         "6": "false",
         "7": "CITY",
         "8": "Principal Address",
         "9": "true",
         "10": "String"
        },
        {
         "0": "JSON",
         "1": "Daily",
         "3": "Municipalities 2",
         "4": "EI",
         "5": "10",
         "6": "false",
         "7": "PROVINCE",
         "8": "Principal Address",
         "9": "true",
         "10": "String"
        },
        {
         "0": "JSON",
         "1": "Daily",
         "3": "Municipalities 2",
         "4": "EI",
         "5": "11",
         "6": "false",
         "7": "POSTAL",
         "8": "Principal Address",
         "9": "true",
         "10": "String"
        },
        {
         "0": "JSON",
         "1": "Daily",
         "3": "Municipalities 2",
         "4": "EI",
         "5": "12",
         "6": "false",
         "7": "Céucus AFF",
         "9": "true",
         "10": "Array"
        },
        {
         "0": "JSON",
         "1": "Daily",
         "3": "Municipalities 2",
         "4": "EI",
         "5": "13",
         "6": "false",
         "7": "VALUE",
         "8": "Céucus AFF",
         "9": "true",
         "10": "String"
        },
        {
         "0": "JSON",
         "1": "Daily",
         "3": "Municipalities 2",
         "4": "EI",
         "5": "14",
         "6": "false",
         "7": "LABEL",
         "8": "Céucus AFF",
         "9": "true",
         "10": "String"
        },
        {
         "0": "JSON",
         "1": "Daily",
         "3": "Municipalities 2",
         "4": "EI",
         "5": "15",
         "6": "false",
         "7": "Insurance services",
         "9": "true",
         "10": "Array"
        },
        {
         "0": "JSON",
         "1": "Daily",
         "3": "Municipalities 2",
         "4": "EI",
         "5": "16",
         "6": "false",
         "7": "VALUE",
         "8": "Insurance services",
         "9": "true",
         "10": "String"
        },
        {
         "0": "JSON",
         "1": "Daily",
         "3": "Municipalities 2",
         "4": "EI",
         "5": "17",
         "6": "false",
         "7": "LABEL",
         "8": "Insurance services",
         "9": "true",
         "10": "String"
        },
        {
         "0": "JSON",
         "1": "Daily",
         "3": "Municipalities 2",
         "4": "EI",
         "5": "18",
         "6": "false",
         "7": "PL Test",
         "8": "Insurance services",
         "9": "true",
         "10": "Array"
        },
        {
         "0": "JSON",
         "1": "Daily",
         "3": "Municipalities 2",
         "4": "EI",
         "5": "19",
         "6": "false",
         "7": "key",
         "8": "PL Test",
         "9": "true",
         "10": "String"
        },
        {
         "0": "JSON",
         "1": "Daily",
         "3": "Municipalities 2",
         "4": "EI",
         "5": "20",
         "6": "false",
         "7": "phone",
         "8": "PL Test",
         "9": "true",
         "10": "Struct"
        },
        {
         "0": "JSON",
         "1": "Daily",
         "3": "Municipalities 2",
         "4": "EI",
         "5": "21",
         "6": "false",
         "7": "disponibilité",
         "8": "phone",
         "9": "true",
         "10": "Boolean"
        },
        {
         "0": "JSON",
         "1": "Daily",
         "3": "Municipalities 2",
         "4": "EI",
         "5": "22",
         "6": "false",
         "7": "number",
         "8": "phone",
         "9": "true",
         "10": "String"
        },
        {
         "0": "JSON",
         "1": "Daily",
         "3": "Municipalities 2",
         "4": "EI",
         "5": "23",
         "6": "false",
         "7": "type",
         "8": "phone",
         "9": "true",
         "10": "String"
        },
        {
         "0": "JSON",
         "1": "Daily",
         "3": "Municipalities 2",
         "4": "EI",
         "5": "24",
         "6": "false",
         "7": "value",
         "8": "PL Test",
         "9": "true",
         "10": "Short"
        },
        {
         "0": "JSON",
         "1": "Daily",
         "3": "pl_test_1_1",
         "4": "EI",
         "5": "1",
         "6": "false",
         "7": "results",
         "8": "root",
         "9": "true",
         "10": "Array"
        },
        {
         "0": "JSON",
         "1": "Daily",
         "3": "pl_test_1_1",
         "4": "EI",
         "5": "2",
         "6": "true",
         "7": "person_id",
         "8": "results",
         "9": "true",
         "10": "Long"
        },
        {
         "0": "JSON",
         "1": "Daily",
         "3": "pl_test_1_1",
         "4": "EI",
         "5": "3",
         "6": "false",
         "7": "first_name",
         "8": "results",
         "9": "true",
         "10": "String"
        },
        {
         "0": "JSON",
         "1": "Daily",
         "3": "pl_test_1_1",
         "4": "EI",
         "5": "4",
         "6": "false",
         "7": "last_name",
         "8": "results",
         "9": "true",
         "10": "String"
        },
        {
         "0": "JSON",
         "1": "Daily",
         "3": "pl_test_1_1",
         "4": "EI",
         "5": "5",
         "6": "false",
         "7": "gender",
         "8": "results",
         "9": "true",
         "10": "String"
        },
        {
         "0": "JSON",
         "1": "Daily",
         "3": "pl_test_1_1",
         "4": "EI",
         "5": "6",
         "6": "false",
         "7": "SIN",
         "8": "results",
         "9": "true",
         "10": "Struct"
        },
        {
         "0": "JSON",
         "1": "Daily",
         "3": "pl_test_1_1",
         "4": "EI",
         "5": "7",
         "6": "false",
         "7": "number",
         "8": "SIN",
         "9": "true",
         "10": "String"
        },
        {
         "0": "JSON",
         "1": "Daily",
         "3": "pl_test_1_1",
         "4": "EI",
         "5": "8",
         "6": "false",
         "7": "issued_on",
         "8": "SIN",
         "9": "true",
         "10": "Timestamp"
        },
        {
         "0": "JSON",
         "1": "Daily",
         "3": "pl_test_1_1",
         "4": "EI",
         "5": "9",
         "6": "false",
         "7": "expires_on",
         "8": "SIN",
         "9": "true",
         "10": "Timestamp"
        },
        {
         "0": "JSON",
         "1": "Daily",
         "3": "pl_test_1_1",
         "4": "EI",
         "5": "10",
         "6": "false",
         "7": "previous_sins",
         "8": "SIN",
         "9": "true",
         "10": "Array"
        },
        {
         "0": "JSON",
         "1": "Daily",
         "3": "pl_test_1_1",
         "4": "EI",
         "5": "11",
         "6": "false",
         "7": "number",
         "8": "previous_sins",
         "9": "true",
         "10": "String"
        },
        {
         "0": "JSON",
         "1": "Daily",
         "3": "pl_test_1_1",
         "4": "EI",
         "5": "12",
         "6": "false",
         "7": "issued_on",
         "8": "previous_sins",
         "9": "true",
         "10": "Timestamp"
        },
        {
         "0": "JSON",
         "1": "Daily",
         "3": "pl_test_1_1",
         "4": "EI",
         "5": "13",
         "6": "false",
         "7": "expires_on",
         "8": "previous_sins",
         "9": "true",
         "10": "Timestamp"
        },
        {
         "0": "JSON",
         "1": "Daily",
         "3": "pl_test_1_1",
         "4": "EI",
         "5": "14",
         "6": "false",
         "7": "cars",
         "8": "results",
         "9": "true",
         "10": "Array"
        },
        {
         "0": "JSON",
         "1": "Daily",
         "3": "pl_test_1_1",
         "4": "EI",
         "5": "15",
         "6": "false",
         "7": "make",
         "8": "cars",
         "9": "true",
         "10": "String"
        },
        {
         "0": "JSON",
         "1": "Daily",
         "3": "pl_test_1_1",
         "4": "EI",
         "5": "16",
         "6": "false",
         "7": "model",
         "8": "cars",
         "9": "true",
         "10": "String"
        },
        {
         "0": "JSON",
         "1": "Daily",
         "3": "pl_test_1_1",
         "4": "EI",
         "5": "17",
         "6": "false",
         "7": "year",
         "8": "cars",
         "9": "true",
         "10": "Short"
        },
        {
         "0": "JSON",
         "1": "Daily",
         "3": "pl_test_1_1",
         "4": "EI",
         "5": "18",
         "6": "false",
         "7": "number_of_doors",
         "8": "cars",
         "9": "true",
         "10": "Short"
        },
        {
         "0": "JSON",
         "1": "Daily",
         "3": "pl_test_1_1",
         "4": "EI",
         "5": "19",
         "6": "false",
         "7": "oil_changes",
         "8": "cars",
         "9": "true",
         "10": "Array"
        },
        {
         "0": "JSON",
         "1": "Daily",
         "3": "pl_test_1_1",
         "4": "EI",
         "5": "20",
         "6": "false",
         "7": "date",
         "8": "oil_changes",
         "9": "true",
         "10": "Timestamp"
        },
        {
         "0": "JSON",
         "1": "Daily",
         "3": "pl_test_1_1",
         "4": "EI",
         "5": "21",
         "6": "false",
         "7": "garage_name",
         "8": "oil_changes",
         "9": "true",
         "10": "String"
        },
        {
         "0": "JSON",
         "1": "Daily",
         "3": "pl_test_1_1",
         "4": "EI",
         "5": "22",
         "6": "false",
         "7": "mileage",
         "8": "oil_changes",
         "9": "true",
         "10": "Integer"
        },
        {
         "0": "JSON",
         "1": "Daily",
         "3": "pl_test_1_1",
         "4": "EI",
         "5": "23",
         "6": "false",
         "7": "oil_name",
         "8": "oil_changes",
         "9": "true",
         "10": "String"
        },
        {
         "0": "JSON",
         "1": "Daily",
         "3": "pl_test_1_1",
         "4": "EI",
         "5": "24",
         "6": "false",
         "7": "available_oils",
         "8": "oil_changes",
         "9": "true",
         "10": "Array"
        },
        {
         "0": "JSON",
         "1": "Daily",
         "2": "folder 2",
         "3": "pl_test_1_2",
         "4": "EI",
         "5": "1",
         "6": "true",
         "7": "person_id",
         "9": "true",
         "10": "Long"
        },
        {
         "0": "JSON",
         "1": "Daily",
         "2": "folder 2",
         "3": "pl_test_1_2",
         "4": "EI",
         "5": "2",
         "6": "false",
         "7": "first_name",
         "9": "true",
         "10": "String"
        },
        {
         "0": "JSON",
         "1": "Daily",
         "2": "folder 2",
         "3": "pl_test_1_2",
         "4": "EI",
         "5": "3",
         "6": "false",
         "7": "last_name",
         "9": "true",
         "10": "String"
        },
        {
         "0": "JSON",
         "1": "Daily",
         "2": "folder 2",
         "3": "pl_test_1_2",
         "4": "EI",
         "5": "4",
         "6": "false",
         "7": "gender",
         "9": "true",
         "10": "String"
        },
        {
         "0": "JSON",
         "1": "Daily",
         "2": "folder 2",
         "3": "pl_test_1_2",
         "4": "EI",
         "5": "5",
         "6": "false",
         "7": "SIN",
         "9": "true",
         "10": "Struct"
        },
        {
         "0": "JSON",
         "1": "Daily",
         "2": "folder 2",
         "3": "pl_test_1_2",
         "4": "EI",
         "5": "6",
         "6": "false",
         "7": "number",
         "8": "SIN",
         "9": "true",
         "10": "String"
        },
        {
         "0": "JSON",
         "1": "Daily",
         "2": "folder 2",
         "3": "pl_test_1_2",
         "4": "EI",
         "5": "7",
         "6": "false",
         "7": "issued_on",
         "8": "SIN",
         "9": "true",
         "10": "Timestamp"
        },
        {
         "0": "JSON",
         "1": "Daily",
         "2": "folder 2",
         "3": "pl_test_1_2",
         "4": "EI",
         "5": "8",
         "6": "false",
         "7": "expires_on",
         "8": "SIN",
         "9": "true",
         "10": "Timestamp"
        },
        {
         "0": "JSON",
         "1": "Daily",
         "2": "folder 2",
         "3": "pl_test_1_2",
         "4": "EI",
         "5": "9",
         "6": "false",
         "7": "previous_sins",
         "8": "SIN",
         "9": "true",
         "10": "Array"
        },
        {
         "0": "JSON",
         "1": "Daily",
         "2": "folder 2",
         "3": "pl_test_1_2",
         "4": "EI",
         "5": "10",
         "6": "false",
         "7": "number",
         "8": "previous_sins",
         "9": "true",
         "10": "String"
        },
        {
         "0": "JSON",
         "1": "Daily",
         "2": "folder 2",
         "3": "pl_test_1_2",
         "4": "EI",
         "5": "11",
         "6": "false",
         "7": "issued_on",
         "8": "previous_sins",
         "9": "true",
         "10": "Timestamp"
        },
        {
         "0": "JSON",
         "1": "Daily",
         "2": "folder 2",
         "3": "pl_test_1_2",
         "4": "EI",
         "5": "12",
         "6": "false",
         "7": "expires_on",
         "8": "previous_sins",
         "9": "true",
         "10": "Timestamp"
        },
        {
         "0": "JSON",
         "1": "Daily",
         "2": "folder 2",
         "3": "pl_test_1_2",
         "4": "EI",
         "5": "13",
         "6": "false",
         "7": "cars",
         "9": "true",
         "10": "Array"
        },
        {
         "0": "JSON",
         "1": "Daily",
         "2": "folder 2",
         "3": "pl_test_1_2",
         "4": "EI",
         "5": "14",
         "6": "false",
         "7": "make",
         "8": "cars",
         "9": "true",
         "10": "String"
        },
        {
         "0": "JSON",
         "1": "Daily",
         "2": "folder 2",
         "3": "pl_test_1_2",
         "4": "EI",
         "5": "15",
         "6": "false",
         "7": "model",
         "8": "cars",
         "9": "true",
         "10": "String"
        },
        {
         "0": "JSON",
         "1": "Daily",
         "2": "folder 2",
         "3": "pl_test_1_2",
         "4": "EI",
         "5": "16",
         "6": "false",
         "7": "year",
         "8": "cars",
         "9": "true",
         "10": "Short"
        },
        {
         "0": "JSON",
         "1": "Daily",
         "2": "folder 2",
         "3": "pl_test_1_2",
         "4": "EI",
         "5": "17",
         "6": "false",
         "7": "number_of_doors",
         "8": "cars",
         "9": "true",
         "10": "Short"
        },
        {
         "0": "JSON",
         "1": "Daily",
         "2": "folder 2",
         "3": "pl_test_1_2",
         "4": "EI",
         "5": "18",
         "6": "false",
         "7": "oil_changes",
         "8": "cars",
         "9": "true",
         "10": "Array"
        },
        {
         "0": "JSON",
         "1": "Daily",
         "2": "folder 2",
         "3": "pl_test_1_2",
         "4": "EI",
         "5": "19",
         "6": "false",
         "7": "date",
         "8": "oil_changes",
         "9": "true",
         "10": "Timestamp"
        },
        {
         "0": "JSON",
         "1": "Daily",
         "2": "folder 2",
         "3": "pl_test_1_2",
         "4": "EI",
         "5": "20",
         "6": "false",
         "7": "garage_name",
         "8": "oil_changes",
         "9": "true",
         "10": "String"
        },
        {
         "0": "JSON",
         "1": "Daily",
         "2": "folder 2",
         "3": "pl_test_1_2",
         "4": "EI",
         "5": "21",
         "6": "false",
         "7": "mileage",
         "8": "oil_changes",
         "9": "true",
         "10": "Integer"
        },
        {
         "0": "JSON",
         "1": "Daily",
         "2": "folder 2",
         "3": "pl_test_1_2",
         "4": "EI",
         "5": "22",
         "6": "false",
         "7": "oil_name",
         "8": "oil_changes",
         "9": "true",
         "10": "String"
        },
        {
         "0": "JSON",
         "1": "Daily",
         "2": "folder 2",
         "3": "pl_test_1_2",
         "4": "EI",
         "5": "23",
         "6": "false",
         "7": "available_oils",
         "8": "oil_changes",
         "9": "true",
         "10": "Array"
        }
       ],
       "schema": [
        {
         "key": "0",
         "name": "technology",
         "type": "string"
        },
        {
         "key": "1",
         "name": "frequency",
         "type": "string"
        },
        {
         "key": "2",
         "name": "folder_name",
         "type": "string"
        },
        {
         "key": "3",
         "name": "file_name",
         "type": "string"
        },
        {
         "key": "4",
         "name": "extract_type",
         "type": "string"
        },
        {
         "key": "5",
         "name": "sequence",
         "type": "bigint"
        },
        {
         "key": "6",
         "name": "is_pk",
         "type": "boolean"
        },
        {
         "key": "7",
         "name": "column_name",
         "type": "string"
        },
        {
         "key": "8",
         "name": "parent_column_name",
         "type": "string"
        },
        {
         "key": "9",
         "name": "is_extracted",
         "type": "boolean"
        },
        {
         "key": "10",
         "name": "data_type",
         "type": "string"
        }
       ],
       "truncated": false
      },
      "wranglerEntryContext": {
       "candidateVariableNames": [
        "sdf"
       ],
       "dataframeType": "pyspark"
      }
     },
     "type": "Synapse.DataFrame"
    },
    "a6a23b2b-ab1c-4f2c-b727-797abb4436dd": {
     "persist_state": {
      "view": {
       "chartOptions": {
        "aggregationType": "count",
        "binsNumber": 10,
        "categoryFieldKeys": [
         "2"
        ],
        "chartType": "bar",
        "evaluatesOverAllRecords": false,
        "isStacked": false,
        "seriesFieldKeys": [
         "8"
        ],
        "wordFrequency": "-1"
       },
       "tableOptions": {},
       "type": "details",
       "viewOptionsGroup": [
        {
         "tabItems": [
          {
           "key": "0",
           "name": "Table",
           "options": {},
           "type": "table"
          }
         ]
        }
       ]
      }
     },
     "sync_state": {
      "isSummary": false,
      "language": "scala",
      "table": {
       "rows": [
        {
         "0": "Lakehouse",
         "1": "Daily",
         "2": "lh_AdventureWorks",
         "3": "SalesLT_Product",
         "4": "EI",
         "5": "1",
         "6": "Now",
         "8": "[ModifiedDate] >= ^datetime_from^\nAND [ModifiedDate] < ^datetime_to^",
         "9": "true",
         "11": "ProductID",
         "12": "true",
         "13": "Integer"
        },
        {
         "0": "Lakehouse",
         "1": "Daily",
         "2": "lh_AdventureWorks",
         "3": "SalesLT_Product",
         "4": "EI",
         "5": "2",
         "6": "Now",
         "9": "false",
         "11": "Name",
         "12": "false",
         "13": "String"
        },
        {
         "0": "Lakehouse",
         "1": "Daily",
         "2": "lh_AdventureWorks",
         "3": "SalesLT_Product",
         "4": "EI",
         "5": "3",
         "6": "Now",
         "9": "false",
         "11": "ProductNumber",
         "12": "true",
         "13": "String"
        },
        {
         "0": "Lakehouse",
         "1": "Daily",
         "2": "lh_AdventureWorks",
         "3": "SalesLT_Product",
         "4": "EI",
         "5": "4",
         "6": "Now",
         "9": "false",
         "11": "Color",
         "12": "true",
         "13": "String"
        },
        {
         "0": "Lakehouse",
         "1": "Daily",
         "2": "lh_AdventureWorks",
         "3": "SalesLT_Product",
         "4": "EI",
         "5": "5",
         "6": "Now",
         "9": "false",
         "11": "StandardCost",
         "12": "true",
         "13": "Decimal"
        },
        {
         "0": "Lakehouse",
         "1": "Daily",
         "2": "lh_AdventureWorks",
         "3": "SalesLT_Product",
         "4": "EI",
         "5": "6",
         "6": "Now",
         "9": "false",
         "11": "ListPrice",
         "12": "true",
         "13": "Decimal"
        },
        {
         "0": "Lakehouse",
         "1": "Daily",
         "2": "lh_AdventureWorks",
         "3": "SalesLT_Product",
         "4": "EI",
         "5": "7",
         "6": "Now",
         "9": "false",
         "11": "Size",
         "12": "true",
         "13": "String"
        },
        {
         "0": "Lakehouse",
         "1": "Daily",
         "2": "lh_AdventureWorks",
         "3": "SalesLT_Product",
         "4": "EI",
         "5": "8",
         "6": "Now",
         "9": "false",
         "11": "Weight",
         "12": "true",
         "13": "Decimal"
        },
        {
         "0": "Lakehouse",
         "1": "Daily",
         "2": "lh_AdventureWorks",
         "3": "SalesLT_Product",
         "4": "EI",
         "5": "9",
         "6": "Now",
         "9": "false",
         "11": "ProductCategoryID",
         "12": "true",
         "13": "Integer"
        },
        {
         "0": "Lakehouse",
         "1": "Daily",
         "2": "lh_AdventureWorks",
         "3": "SalesLT_Product",
         "4": "EI",
         "5": "10",
         "6": "Now",
         "9": "false",
         "11": "ProductModelID",
         "12": "true",
         "13": "Integer"
        },
        {
         "0": "Lakehouse",
         "1": "Daily",
         "2": "lh_AdventureWorks",
         "3": "SalesLT_Product",
         "4": "EI",
         "5": "11",
         "6": "Now",
         "9": "false",
         "11": "SellStartDate",
         "12": "true",
         "13": "Timestamp"
        },
        {
         "0": "Lakehouse",
         "1": "Daily",
         "2": "lh_AdventureWorks",
         "3": "SalesLT_Product",
         "4": "EI",
         "5": "12",
         "6": "Now",
         "9": "false",
         "11": "SellEndDate",
         "12": "true",
         "13": "Timestamp"
        },
        {
         "0": "Lakehouse",
         "1": "Daily",
         "2": "lh_AdventureWorks",
         "3": "SalesLT_Product",
         "4": "EI",
         "5": "13",
         "6": "Now",
         "9": "false",
         "11": "DiscontinuedDate",
         "12": "true",
         "13": "Timestamp"
        },
        {
         "0": "Lakehouse",
         "1": "Daily",
         "2": "lh_AdventureWorks",
         "3": "SalesLT_Product",
         "4": "EI",
         "5": "14",
         "6": "Now",
         "9": "false",
         "11": "ThumbNailPhoto",
         "12": "true",
         "13": "Binary"
        },
        {
         "0": "Lakehouse",
         "1": "Daily",
         "2": "lh_AdventureWorks",
         "3": "SalesLT_Product",
         "4": "EI",
         "5": "15",
         "6": "Now",
         "9": "false",
         "11": "ThumbnailPhotoFileName",
         "12": "true",
         "13": "String"
        },
        {
         "0": "Lakehouse",
         "1": "Daily",
         "2": "lh_AdventureWorks",
         "3": "SalesLT_Product",
         "4": "EI",
         "5": "16",
         "6": "Now",
         "9": "false",
         "11": "rowguid",
         "12": "true",
         "13": "String"
        },
        {
         "0": "Lakehouse",
         "1": "Daily",
         "2": "lh_AdventureWorks",
         "3": "SalesLT_Product",
         "4": "EI",
         "5": "17",
         "6": "Now",
         "9": "false",
         "11": "ModifiedDate",
         "12": "true",
         "13": "Timestamp"
        },
        {
         "0": "Lakehouse",
         "1": "Daily",
         "2": "lh_dataverse_tablename_workspace_abc",
         "3": "contoso_machineprocurementprocess",
         "4": "EI",
         "5": "1",
         "6": "Now",
         "8": "[modifiedon] >= ^datetime_from^\nAND [modifiedon] < ^datetime_to^",
         "9": "true",
         "11": "Id",
         "12": "true",
         "13": "String"
        },
        {
         "0": "Lakehouse",
         "1": "Daily",
         "2": "lh_dataverse_tablename_workspace_abc",
         "3": "contoso_machineprocurementprocess",
         "4": "EI",
         "5": "2",
         "6": "Now",
         "9": "false",
         "11": "SinkCreatedOn",
         "12": "true",
         "13": "Timestamp"
        },
        {
         "0": "Lakehouse",
         "1": "Daily",
         "2": "lh_dataverse_tablename_workspace_abc",
         "3": "contoso_machineprocurementprocess",
         "4": "EI",
         "5": "3",
         "6": "Now",
         "9": "false",
         "11": "SinkModifiedOn",
         "12": "true",
         "13": "Timestamp"
        },
        {
         "0": "Lakehouse",
         "1": "Daily",
         "2": "lh_dataverse_tablename_workspace_abc",
         "3": "contoso_machineprocurementprocess",
         "4": "EI",
         "5": "4",
         "6": "Now",
         "9": "false",
         "11": "statecode",
         "12": "true",
         "13": "Long"
        },
        {
         "0": "Lakehouse",
         "1": "Daily",
         "2": "lh_dataverse_tablename_workspace_abc",
         "3": "contoso_machineprocurementprocess",
         "4": "EI",
         "5": "5",
         "6": "Now",
         "9": "false",
         "11": "statuscode",
         "12": "true",
         "13": "Long"
        },
        {
         "0": "Lakehouse",
         "1": "Daily",
         "2": "lh_dataverse_tablename_workspace_abc",
         "3": "contoso_machineprocurementprocess",
         "4": "EI",
         "5": "6",
         "6": "Now",
         "9": "false",
         "11": "activestageid",
         "12": "true",
         "13": "String"
        },
        {
         "0": "Lakehouse",
         "1": "Daily",
         "2": "lh_dataverse_tablename_workspace_abc",
         "3": "contoso_machineprocurementprocess",
         "4": "EI",
         "5": "7",
         "6": "Now",
         "9": "false",
         "11": "activestageid_entitytype",
         "12": "true",
         "13": "String"
        },
        {
         "0": "Lakehouse",
         "1": "Daily",
         "2": "lh_dataverse_tablename_workspace_abc",
         "3": "contoso_machineprocurementprocess",
         "4": "EI",
         "5": "8",
         "6": "Now",
         "9": "false",
         "11": "bpf_contoso_machineorderid",
         "12": "true",
         "13": "String"
        },
        {
         "0": "Lakehouse",
         "1": "Daily",
         "2": "lh_dataverse_tablename_workspace_abc",
         "3": "contoso_machineprocurementprocess",
         "4": "EI",
         "5": "9",
         "6": "Now",
         "9": "false",
         "11": "bpf_contoso_machineorderid_entitytype",
         "12": "true",
         "13": "String"
        },
        {
         "0": "Lakehouse",
         "1": "Daily",
         "2": "lh_dataverse_tablename_workspace_abc",
         "3": "contoso_machineprocurementprocess",
         "4": "EI",
         "5": "10",
         "6": "Now",
         "9": "false",
         "11": "createdby",
         "12": "true",
         "13": "String"
        },
        {
         "0": "Lakehouse",
         "1": "Daily",
         "2": "lh_dataverse_tablename_workspace_abc",
         "3": "contoso_machineprocurementprocess",
         "4": "EI",
         "5": "11",
         "6": "Now",
         "9": "false",
         "11": "createdby_entitytype",
         "12": "true",
         "13": "String"
        },
        {
         "0": "Lakehouse",
         "1": "Daily",
         "2": "lh_dataverse_tablename_workspace_abc",
         "3": "contoso_machineprocurementprocess",
         "4": "EI",
         "5": "12",
         "6": "Now",
         "9": "false",
         "11": "createdonbehalfby",
         "12": "true",
         "13": "String"
        },
        {
         "0": "Lakehouse",
         "1": "Daily",
         "2": "lh_dataverse_tablename_workspace_abc",
         "3": "contoso_machineprocurementprocess",
         "4": "EI",
         "5": "13",
         "6": "Now",
         "9": "false",
         "11": "createdonbehalfby_entitytype",
         "12": "true",
         "13": "String"
        },
        {
         "0": "Lakehouse",
         "1": "Daily",
         "2": "lh_dataverse_tablename_workspace_abc",
         "3": "contoso_machineprocurementprocess",
         "4": "EI",
         "5": "14",
         "6": "Now",
         "9": "false",
         "11": "modifiedby",
         "12": "true",
         "13": "String"
        },
        {
         "0": "Lakehouse",
         "1": "Daily",
         "2": "lh_dataverse_tablename_workspace_abc",
         "3": "contoso_machineprocurementprocess",
         "4": "EI",
         "5": "15",
         "6": "Now",
         "9": "false",
         "11": "modifiedby_entitytype",
         "12": "true",
         "13": "String"
        },
        {
         "0": "Lakehouse",
         "1": "Daily",
         "2": "lh_dataverse_tablename_workspace_abc",
         "3": "contoso_machineprocurementprocess",
         "4": "EI",
         "5": "16",
         "6": "Now",
         "9": "false",
         "11": "modifiedonbehalfby",
         "12": "true",
         "13": "String"
        },
        {
         "0": "Lakehouse",
         "1": "Daily",
         "2": "lh_dataverse_tablename_workspace_abc",
         "3": "contoso_machineprocurementprocess",
         "4": "EI",
         "5": "17",
         "6": "Now",
         "9": "false",
         "11": "modifiedonbehalfby_entitytype",
         "12": "true",
         "13": "String"
        },
        {
         "0": "Lakehouse",
         "1": "Daily",
         "2": "lh_dataverse_tablename_workspace_abc",
         "3": "contoso_machineprocurementprocess",
         "4": "EI",
         "5": "18",
         "6": "Now",
         "9": "false",
         "11": "organizationid",
         "12": "true",
         "13": "String"
        },
        {
         "0": "Lakehouse",
         "1": "Daily",
         "2": "lh_dataverse_tablename_workspace_abc",
         "3": "contoso_machineprocurementprocess",
         "4": "EI",
         "5": "19",
         "6": "Now",
         "9": "false",
         "11": "organizationid_entitytype",
         "12": "true",
         "13": "String"
        },
        {
         "0": "Lakehouse",
         "1": "Daily",
         "2": "lh_dataverse_tablename_workspace_abc",
         "3": "contoso_machineprocurementprocess",
         "4": "EI",
         "5": "20",
         "6": "Now",
         "9": "false",
         "11": "processid",
         "12": "true",
         "13": "String"
        },
        {
         "0": "Lakehouse",
         "1": "Daily",
         "2": "lh_dataverse_tablename_workspace_abc",
         "3": "contoso_machineprocurementprocess",
         "4": "EI",
         "5": "21",
         "6": "Now",
         "9": "false",
         "11": "processid_entitytype",
         "12": "true",
         "13": "String"
        },
        {
         "0": "Lakehouse",
         "1": "Daily",
         "2": "lh_dataverse_tablename_workspace_abc",
         "3": "contoso_machineprocurementprocess",
         "4": "EI",
         "5": "22",
         "6": "Now",
         "9": "false",
         "11": "activestageidname",
         "12": "true",
         "13": "String"
        },
        {
         "0": "Lakehouse",
         "1": "Daily",
         "2": "lh_dataverse_tablename_workspace_abc",
         "3": "contoso_machineprocurementprocess",
         "4": "EI",
         "5": "23",
         "6": "Now",
         "9": "false",
         "11": "activestagestartedon",
         "12": "true",
         "13": "Timestamp"
        },
        {
         "0": "Lakehouse",
         "1": "Daily",
         "2": "lh_dataverse_tablename_workspace_abc",
         "3": "contoso_machineprocurementprocess",
         "4": "EI",
         "5": "24",
         "6": "Now",
         "9": "false",
         "11": "bpf_contoso_machineorderidname",
         "12": "true",
         "13": "String"
        },
        {
         "0": "Lakehouse",
         "1": "Daily",
         "2": "lh_dataverse_tablename_workspace_abc",
         "3": "contoso_machineprocurementprocess",
         "4": "EI",
         "5": "25",
         "6": "Now",
         "9": "false",
         "11": "bpf_duration",
         "12": "true",
         "13": "Long"
        },
        {
         "0": "Lakehouse",
         "1": "Daily",
         "2": "lh_dataverse_tablename_workspace_abc",
         "3": "contoso_machineprocurementprocess",
         "4": "EI",
         "5": "26",
         "6": "Now",
         "9": "false",
         "11": "bpf_name",
         "12": "true",
         "13": "String"
        },
        {
         "0": "Lakehouse",
         "1": "Daily",
         "2": "lh_dataverse_tablename_workspace_abc",
         "3": "contoso_machineprocurementprocess",
         "4": "EI",
         "5": "27",
         "6": "Now",
         "9": "false",
         "11": "businessprocessflowinstanceid",
         "12": "true",
         "13": "String"
        },
        {
         "0": "Lakehouse",
         "1": "Daily",
         "2": "lh_dataverse_tablename_workspace_abc",
         "3": "contoso_machineprocurementprocess",
         "4": "EI",
         "5": "28",
         "6": "Now",
         "9": "false",
         "11": "completedon",
         "12": "true",
         "13": "Timestamp"
        },
        {
         "0": "Lakehouse",
         "1": "Daily",
         "2": "lh_dataverse_tablename_workspace_abc",
         "3": "contoso_machineprocurementprocess",
         "4": "EI",
         "5": "29",
         "6": "Now",
         "9": "false",
         "11": "createdbyname",
         "12": "true",
         "13": "String"
        },
        {
         "0": "Lakehouse",
         "1": "Daily",
         "2": "lh_dataverse_tablename_workspace_abc",
         "3": "contoso_machineprocurementprocess",
         "4": "EI",
         "5": "30",
         "6": "Now",
         "9": "false",
         "11": "createdbyyominame",
         "12": "true",
         "13": "String"
        },
        {
         "0": "Lakehouse",
         "1": "Daily",
         "2": "lh_dataverse_tablename_workspace_abc",
         "3": "contoso_machineprocurementprocess",
         "4": "EI",
         "5": "31",
         "6": "Now",
         "9": "false",
         "11": "createdon",
         "12": "true",
         "13": "Timestamp"
        },
        {
         "0": "Lakehouse",
         "1": "Daily",
         "2": "lh_dataverse_tablename_workspace_abc",
         "3": "contoso_machineprocurementprocess",
         "4": "EI",
         "5": "32",
         "6": "Now",
         "9": "false",
         "11": "createdonbehalfbyname",
         "12": "true",
         "13": "String"
        },
        {
         "0": "Lakehouse",
         "1": "Daily",
         "2": "lh_dataverse_tablename_workspace_abc",
         "3": "contoso_machineprocurementprocess",
         "4": "EI",
         "5": "33",
         "6": "Now",
         "9": "false",
         "11": "createdonbehalfbyyominame",
         "12": "true",
         "13": "String"
        },
        {
         "0": "Lakehouse",
         "1": "Daily",
         "2": "lh_dataverse_tablename_workspace_abc",
         "3": "contoso_machineprocurementprocess",
         "4": "EI",
         "5": "34",
         "6": "Now",
         "9": "false",
         "11": "importsequencenumber",
         "12": "true",
         "13": "Long"
        },
        {
         "0": "Lakehouse",
         "1": "Daily",
         "2": "lh_dataverse_tablename_workspace_abc",
         "3": "contoso_machineprocurementprocess",
         "4": "EI",
         "5": "35",
         "6": "Now",
         "9": "false",
         "11": "modifiedbyname",
         "12": "true",
         "13": "String"
        },
        {
         "0": "Lakehouse",
         "1": "Daily",
         "2": "lh_dataverse_tablename_workspace_abc",
         "3": "contoso_machineprocurementprocess",
         "4": "EI",
         "5": "36",
         "6": "Now",
         "9": "false",
         "11": "modifiedbyyominame",
         "12": "true",
         "13": "String"
        },
        {
         "0": "Lakehouse",
         "1": "Daily",
         "2": "lh_dataverse_tablename_workspace_abc",
         "3": "contoso_machineprocurementprocess",
         "4": "EI",
         "5": "37",
         "6": "Now",
         "9": "false",
         "11": "modifiedon",
         "12": "true",
         "13": "Timestamp"
        },
        {
         "0": "Lakehouse",
         "1": "Daily",
         "2": "lh_dataverse_tablename_workspace_abc",
         "3": "contoso_machineprocurementprocess",
         "4": "EI",
         "5": "38",
         "6": "Now",
         "9": "false",
         "11": "modifiedonbehalfbyname",
         "12": "true",
         "13": "String"
        },
        {
         "0": "Lakehouse",
         "1": "Daily",
         "2": "lh_dataverse_tablename_workspace_abc",
         "3": "contoso_machineprocurementprocess",
         "4": "EI",
         "5": "39",
         "6": "Now",
         "9": "false",
         "11": "modifiedonbehalfbyyominame",
         "12": "true",
         "13": "String"
        },
        {
         "0": "Lakehouse",
         "1": "Daily",
         "2": "lh_dataverse_tablename_workspace_abc",
         "3": "contoso_machineprocurementprocess",
         "4": "EI",
         "5": "40",
         "6": "Now",
         "9": "false",
         "11": "organizationidname",
         "12": "true",
         "13": "String"
        },
        {
         "0": "Lakehouse",
         "1": "Daily",
         "2": "lh_dataverse_tablename_workspace_abc",
         "3": "contoso_machineprocurementprocess",
         "4": "EI",
         "5": "41",
         "6": "Now",
         "9": "false",
         "11": "overriddencreatedon",
         "12": "true",
         "13": "Timestamp"
        },
        {
         "0": "Lakehouse",
         "1": "Daily",
         "2": "lh_dataverse_tablename_workspace_abc",
         "3": "contoso_machineprocurementprocess",
         "4": "EI",
         "5": "42",
         "6": "Now",
         "9": "false",
         "11": "processidname",
         "12": "true",
         "13": "String"
        },
        {
         "0": "Lakehouse",
         "1": "Daily",
         "2": "lh_dataverse_tablename_workspace_abc",
         "3": "contoso_machineprocurementprocess",
         "4": "EI",
         "5": "43",
         "6": "Now",
         "9": "false",
         "11": "timezoneruleversionnumber",
         "12": "true",
         "13": "Long"
        },
        {
         "0": "Lakehouse",
         "1": "Daily",
         "2": "lh_dataverse_tablename_workspace_abc",
         "3": "contoso_machineprocurementprocess",
         "4": "EI",
         "5": "44",
         "6": "Now",
         "9": "false",
         "11": "traversedpath",
         "12": "true",
         "13": "String"
        },
        {
         "0": "Lakehouse",
         "1": "Daily",
         "2": "lh_dataverse_tablename_workspace_abc",
         "3": "contoso_machineprocurementprocess",
         "4": "EI",
         "5": "45",
         "6": "Now",
         "9": "false",
         "11": "utcconversiontimezonecode",
         "12": "true",
         "13": "Long"
        },
        {
         "0": "Lakehouse",
         "1": "Daily",
         "2": "lh_dataverse_tablename_workspace_abc",
         "3": "contoso_machineprocurementprocess",
         "4": "EI",
         "5": "46",
         "6": "Now",
         "9": "false",
         "11": "versionnumber",
         "12": "true",
         "13": "Long"
        },
        {
         "0": "Lakehouse",
         "1": "Daily",
         "2": "lh_dataverse_tablename_workspace_abc",
         "3": "contoso_machineprocurementprocess",
         "4": "EI",
         "5": "47",
         "6": "Now",
         "9": "false",
         "11": "IsDelete",
         "12": "true",
         "13": "Boolean"
        },
        {
         "0": "Lakehouse",
         "1": "Daily",
         "2": "lh_dataverse_tablename_workspace_abc",
         "3": "contoso_machineprocurementprocess",
         "4": "EI",
         "5": "48",
         "6": "Now",
         "9": "false",
         "11": "PartitionId",
         "12": "true",
         "13": "String"
        }
       ],
       "schema": [
        {
         "key": "0",
         "name": "technology",
         "type": "string"
        },
        {
         "key": "1",
         "name": "frequency",
         "type": "string"
        },
        {
         "key": "2",
         "name": "lakehouse_name",
         "type": "string"
        },
        {
         "key": "3",
         "name": "table_name",
         "type": "string"
        },
        {
         "key": "4",
         "name": "extract_type",
         "type": "string"
        },
        {
         "key": "5",
         "name": "sequence",
         "type": "bigint"
        },
        {
         "key": "6",
         "name": "extraction_timeframe",
         "type": "string"
        },
        {
         "key": "7",
         "name": "from",
         "type": "string"
        },
        {
         "key": "8",
         "name": "where",
         "type": "string"
        },
        {
         "key": "9",
         "name": "is_pk",
         "type": "boolean"
        },
        {
         "key": "10",
         "name": "prefix_select",
         "type": "string"
        },
        {
         "key": "11",
         "name": "column_name",
         "type": "string"
        },
        {
         "key": "12",
         "name": "is_extracted",
         "type": "boolean"
        },
        {
         "key": "13",
         "name": "data_type",
         "type": "string"
        }
       ],
       "truncated": false
      },
      "wranglerEntryContext": {
       "candidateVariableNames": [
        "sdf"
       ],
       "dataframeType": "pyspark"
      }
     },
     "type": "Synapse.DataFrame"
    },
    "c305c800-944d-4c28-83b6-f55c5b2cfee4": {
     "persist_state": {
      "view": {
       "chartOptions": {
        "aggregationType": "count",
        "binsNumber": 10,
        "categoryFieldKeys": [
         "8"
        ],
        "chartType": "bar",
        "evaluatesOverAllRecords": false,
        "isStacked": false,
        "seriesFieldKeys": [
         "8"
        ],
        "wordFrequency": "-1"
       },
       "tableOptions": {},
       "type": "details",
       "viewOptionsGroup": [
        {
         "tabItems": [
          {
           "key": "0",
           "name": "Table",
           "options": {},
           "type": "table"
          }
         ]
        }
       ]
      }
     },
     "sync_state": {
      "isSummary": false,
      "language": "scala",
      "table": {
       "rows": [
        {
         "0": "SQL Server",
         "1": "Daily",
         "2": "https://kv-keyvault.vault.azure.net/",
         "3": "sql-server-database-usr",
         "4": "sql-server-database-pwd",
         "5": "sql_server",
         "6": "AdventureWorks",
         "7": "SalesLT",
         "8": "Address",
         "9": "EI",
         "10": "1",
         "11": "Now",
         "13": "[ModifiedDate] >= ^datetime_from^\nAND [ModifiedDate] < ^datetime_to^",
         "14": "true",
         "16": "AddressID",
         "17": "true",
         "18": "Integer"
        },
        {
         "0": "SQL Server",
         "1": "Daily",
         "2": "https://kv-keyvault.vault.azure.net/",
         "3": "sql-server-database-usr",
         "4": "sql-server-database-pwd",
         "5": "sql_server",
         "6": "AdventureWorks",
         "7": "SalesLT",
         "8": "Address",
         "9": "EI",
         "10": "2",
         "11": "Now",
         "14": "false",
         "16": "AddressLine1",
         "17": "true",
         "18": "String"
        },
        {
         "0": "SQL Server",
         "1": "Daily",
         "2": "https://kv-keyvault.vault.azure.net/",
         "3": "sql-server-database-usr",
         "4": "sql-server-database-pwd",
         "5": "sql_server",
         "6": "AdventureWorks",
         "7": "SalesLT",
         "8": "Address",
         "9": "EI",
         "10": "3",
         "11": "Now",
         "14": "false",
         "16": "AddressLine2",
         "17": "true",
         "18": "String"
        },
        {
         "0": "SQL Server",
         "1": "Daily",
         "2": "https://kv-keyvault.vault.azure.net/",
         "3": "sql-server-database-usr",
         "4": "sql-server-database-pwd",
         "5": "sql_server",
         "6": "AdventureWorks",
         "7": "SalesLT",
         "8": "Address",
         "9": "EI",
         "10": "4",
         "11": "Now",
         "14": "false",
         "16": "City",
         "17": "true",
         "18": "String"
        },
        {
         "0": "SQL Server",
         "1": "Daily",
         "2": "https://kv-keyvault.vault.azure.net/",
         "3": "sql-server-database-usr",
         "4": "sql-server-database-pwd",
         "5": "sql_server",
         "6": "AdventureWorks",
         "7": "SalesLT",
         "8": "Address",
         "9": "EI",
         "10": "5",
         "11": "Now",
         "14": "false",
         "16": "StateProvince",
         "17": "true",
         "18": "String"
        },
        {
         "0": "SQL Server",
         "1": "Daily",
         "2": "https://kv-keyvault.vault.azure.net/",
         "3": "sql-server-database-usr",
         "4": "sql-server-database-pwd",
         "5": "sql_server",
         "6": "AdventureWorks",
         "7": "SalesLT",
         "8": "Address",
         "9": "EI",
         "10": "6",
         "11": "Now",
         "14": "false",
         "16": "CountryRegion",
         "17": "true",
         "18": "String"
        },
        {
         "0": "SQL Server",
         "1": "Daily",
         "2": "https://kv-keyvault.vault.azure.net/",
         "3": "sql-server-database-usr",
         "4": "sql-server-database-pwd",
         "5": "sql_server",
         "6": "AdventureWorks",
         "7": "SalesLT",
         "8": "Address",
         "9": "EI",
         "10": "7",
         "11": "Now",
         "14": "false",
         "16": "PostalCode",
         "17": "true",
         "18": "String"
        },
        {
         "0": "SQL Server",
         "1": "Daily",
         "2": "https://kv-keyvault.vault.azure.net/",
         "3": "sql-server-database-usr",
         "4": "sql-server-database-pwd",
         "5": "sql_server",
         "6": "AdventureWorks",
         "7": "SalesLT",
         "8": "Address",
         "9": "EI",
         "10": "8",
         "11": "Now",
         "14": "false",
         "16": "rowguid",
         "17": "true",
         "18": "String"
        },
        {
         "0": "SQL Server",
         "1": "Daily",
         "2": "https://kv-keyvault.vault.azure.net/",
         "3": "sql-server-database-usr",
         "4": "sql-server-database-pwd",
         "5": "sql_server",
         "6": "AdventureWorks",
         "7": "SalesLT",
         "8": "Address",
         "9": "EI",
         "10": "9",
         "11": "Now",
         "14": "false",
         "16": "ModifiedDate",
         "17": "true",
         "18": "Timestamp"
        },
        {
         "0": "SQL Server",
         "1": "Daily",
         "2": "https://kv-keyvault.vault.azure.net/",
         "3": "sql-server-database-usr",
         "4": "sql-server-database-pwd",
         "5": "sql_server",
         "6": "AdventureWorks",
         "7": "SalesLT",
         "8": "Customer",
         "9": "EI",
         "10": "1",
         "11": "Now",
         "14": "true",
         "16": "CustomerID",
         "17": "true",
         "18": "Integer"
        },
        {
         "0": "SQL Server",
         "1": "Daily",
         "2": "https://kv-keyvault.vault.azure.net/",
         "3": "sql-server-database-usr",
         "4": "sql-server-database-pwd",
         "5": "sql_server",
         "6": "AdventureWorks",
         "7": "SalesLT",
         "8": "Customer",
         "9": "EI",
         "10": "2",
         "11": "Now",
         "14": "false",
         "16": "NameStyle",
         "17": "true",
         "18": "Boolean"
        },
        {
         "0": "SQL Server",
         "1": "Daily",
         "2": "https://kv-keyvault.vault.azure.net/",
         "3": "sql-server-database-usr",
         "4": "sql-server-database-pwd",
         "5": "sql_server",
         "6": "AdventureWorks",
         "7": "SalesLT",
         "8": "Customer",
         "9": "EI",
         "10": "3",
         "11": "Now",
         "14": "false",
         "16": "Title",
         "17": "true",
         "18": "String"
        },
        {
         "0": "SQL Server",
         "1": "Daily",
         "2": "https://kv-keyvault.vault.azure.net/",
         "3": "sql-server-database-usr",
         "4": "sql-server-database-pwd",
         "5": "sql_server",
         "6": "AdventureWorks",
         "7": "SalesLT",
         "8": "Customer",
         "9": "EI",
         "10": "4",
         "11": "Now",
         "14": "false",
         "16": "FirstName",
         "17": "true",
         "18": "String"
        },
        {
         "0": "SQL Server",
         "1": "Daily",
         "2": "https://kv-keyvault.vault.azure.net/",
         "3": "sql-server-database-usr",
         "4": "sql-server-database-pwd",
         "5": "sql_server",
         "6": "AdventureWorks",
         "7": "SalesLT",
         "8": "Customer",
         "9": "EI",
         "10": "5",
         "11": "Now",
         "14": "false",
         "16": "MiddleName",
         "17": "true",
         "18": "String"
        },
        {
         "0": "SQL Server",
         "1": "Daily",
         "2": "https://kv-keyvault.vault.azure.net/",
         "3": "sql-server-database-usr",
         "4": "sql-server-database-pwd",
         "5": "sql_server",
         "6": "AdventureWorks",
         "7": "SalesLT",
         "8": "Customer",
         "9": "EI",
         "10": "6",
         "11": "Now",
         "14": "false",
         "16": "LastName",
         "17": "true",
         "18": "String"
        },
        {
         "0": "SQL Server",
         "1": "Daily",
         "2": "https://kv-keyvault.vault.azure.net/",
         "3": "sql-server-database-usr",
         "4": "sql-server-database-pwd",
         "5": "sql_server",
         "6": "AdventureWorks",
         "7": "SalesLT",
         "8": "Customer",
         "9": "EI",
         "10": "7",
         "11": "Now",
         "14": "false",
         "16": "Suffix",
         "17": "true",
         "18": "String"
        },
        {
         "0": "SQL Server",
         "1": "Daily",
         "2": "https://kv-keyvault.vault.azure.net/",
         "3": "sql-server-database-usr",
         "4": "sql-server-database-pwd",
         "5": "sql_server",
         "6": "AdventureWorks",
         "7": "SalesLT",
         "8": "Customer",
         "9": "EI",
         "10": "8",
         "11": "Now",
         "14": "false",
         "16": "CompanyName",
         "17": "true",
         "18": "String"
        },
        {
         "0": "SQL Server",
         "1": "Daily",
         "2": "https://kv-keyvault.vault.azure.net/",
         "3": "sql-server-database-usr",
         "4": "sql-server-database-pwd",
         "5": "sql_server",
         "6": "AdventureWorks",
         "7": "SalesLT",
         "8": "Customer",
         "9": "EI",
         "10": "9",
         "11": "Now",
         "14": "false",
         "16": "SalesPerson",
         "17": "true",
         "18": "String"
        },
        {
         "0": "SQL Server",
         "1": "Daily",
         "2": "https://kv-keyvault.vault.azure.net/",
         "3": "sql-server-database-usr",
         "4": "sql-server-database-pwd",
         "5": "sql_server",
         "6": "AdventureWorks",
         "7": "SalesLT",
         "8": "Customer",
         "9": "EI",
         "10": "10",
         "11": "Now",
         "14": "false",
         "16": "EmailAddress",
         "17": "true",
         "18": "String"
        },
        {
         "0": "SQL Server",
         "1": "Daily",
         "2": "https://kv-keyvault.vault.azure.net/",
         "3": "sql-server-database-usr",
         "4": "sql-server-database-pwd",
         "5": "sql_server",
         "6": "AdventureWorks",
         "7": "SalesLT",
         "8": "Customer",
         "9": "EI",
         "10": "11",
         "11": "Now",
         "14": "false",
         "16": "Phone",
         "17": "true",
         "18": "String"
        },
        {
         "0": "SQL Server",
         "1": "Daily",
         "2": "https://kv-keyvault.vault.azure.net/",
         "3": "sql-server-database-usr",
         "4": "sql-server-database-pwd",
         "5": "sql_server",
         "6": "AdventureWorks",
         "7": "SalesLT",
         "8": "Customer",
         "9": "EI",
         "10": "12",
         "11": "Now",
         "14": "false",
         "16": "PasswordHash",
         "17": "true",
         "18": "String"
        },
        {
         "0": "SQL Server",
         "1": "Daily",
         "2": "https://kv-keyvault.vault.azure.net/",
         "3": "sql-server-database-usr",
         "4": "sql-server-database-pwd",
         "5": "sql_server",
         "6": "AdventureWorks",
         "7": "SalesLT",
         "8": "Customer",
         "9": "EI",
         "10": "13",
         "11": "Now",
         "14": "false",
         "16": "PasswordSalt",
         "17": "true",
         "18": "String"
        },
        {
         "0": "SQL Server",
         "1": "Daily",
         "2": "https://kv-keyvault.vault.azure.net/",
         "3": "sql-server-database-usr",
         "4": "sql-server-database-pwd",
         "5": "sql_server",
         "6": "AdventureWorks",
         "7": "SalesLT",
         "8": "Customer",
         "9": "EI",
         "10": "14",
         "11": "Now",
         "14": "false",
         "16": "rowguid",
         "17": "true",
         "18": "String"
        },
        {
         "0": "SQL Server",
         "1": "Daily",
         "2": "https://kv-keyvault.vault.azure.net/",
         "3": "sql-server-database-usr",
         "4": "sql-server-database-pwd",
         "5": "sql_server",
         "6": "AdventureWorks",
         "7": "SalesLT",
         "8": "Customer",
         "9": "EI",
         "10": "15",
         "11": "Now",
         "14": "false",
         "16": "ModifiedDate",
         "17": "true",
         "18": "Timestamp"
        },
        {
         "0": "SQL Server",
         "1": "Daily",
         "2": "https://kv-keyvault.vault.azure.net/",
         "3": "sql-server-database-usr",
         "4": "sql-server-database-pwd",
         "5": "sql_server",
         "6": "AdventureWorks",
         "7": "SalesLT",
         "8": "CustomerAddress",
         "9": "EI",
         "10": "1",
         "11": "Now",
         "13": "[ModifiedDate] >= ^datetime_from^\nAND [ModifiedDate] < ^datetime_to^",
         "14": "true",
         "16": "CustomerID",
         "17": "true",
         "18": "Integer"
        },
        {
         "0": "SQL Server",
         "1": "Daily",
         "2": "https://kv-keyvault.vault.azure.net/",
         "3": "sql-server-database-usr",
         "4": "sql-server-database-pwd",
         "5": "sql_server",
         "6": "AdventureWorks",
         "7": "SalesLT",
         "8": "CustomerAddress",
         "9": "EI",
         "10": "2",
         "11": "Now",
         "14": "true",
         "16": "AddressID",
         "17": "true",
         "18": "Integer"
        },
        {
         "0": "SQL Server",
         "1": "Daily",
         "2": "https://kv-keyvault.vault.azure.net/",
         "3": "sql-server-database-usr",
         "4": "sql-server-database-pwd",
         "5": "sql_server",
         "6": "AdventureWorks",
         "7": "SalesLT",
         "8": "CustomerAddress",
         "9": "EI",
         "10": "3",
         "11": "Now",
         "14": "false",
         "16": "AddressType",
         "17": "true",
         "18": "String"
        },
        {
         "0": "SQL Server",
         "1": "Daily",
         "2": "https://kv-keyvault.vault.azure.net/",
         "3": "sql-server-database-usr",
         "4": "sql-server-database-pwd",
         "5": "sql_server",
         "6": "AdventureWorks",
         "7": "SalesLT",
         "8": "CustomerAddress",
         "9": "EI",
         "10": "4",
         "11": "Now",
         "14": "false",
         "16": "rowguid",
         "17": "true",
         "18": "String"
        },
        {
         "0": "SQL Server",
         "1": "Daily",
         "2": "https://kv-keyvault.vault.azure.net/",
         "3": "sql-server-database-usr",
         "4": "sql-server-database-pwd",
         "5": "sql_server",
         "6": "AdventureWorks",
         "7": "SalesLT",
         "8": "CustomerAddress",
         "9": "EI",
         "10": "5",
         "11": "Now",
         "14": "false",
         "16": "ModifiedDate",
         "17": "true",
         "18": "Timestamp"
        },
        {
         "0": "SQL Server",
         "1": "Daily",
         "2": "https://kv-keyvault.vault.azure.net/",
         "3": "sql-server-database-usr",
         "4": "sql-server-database-pwd",
         "5": "sql_server",
         "6": "AdventureWorks",
         "7": "SalesLT",
         "8": "ProductCategory",
         "9": "EI",
         "10": "1",
         "11": "Now",
         "13": "[ModifiedDate] >= ^datetime_from^\nAND [ModifiedDate] < ^datetime_to^",
         "14": "true",
         "16": "ProductCategoryID",
         "17": "true",
         "18": "Integer"
        },
        {
         "0": "SQL Server",
         "1": "Daily",
         "2": "https://kv-keyvault.vault.azure.net/",
         "3": "sql-server-database-usr",
         "4": "sql-server-database-pwd",
         "5": "sql_server",
         "6": "AdventureWorks",
         "7": "SalesLT",
         "8": "ProductCategory",
         "9": "EI",
         "10": "2",
         "11": "Now",
         "14": "false",
         "16": "ParentProductCategoryID",
         "17": "true",
         "18": "Integer"
        },
        {
         "0": "SQL Server",
         "1": "Daily",
         "2": "https://kv-keyvault.vault.azure.net/",
         "3": "sql-server-database-usr",
         "4": "sql-server-database-pwd",
         "5": "sql_server",
         "6": "AdventureWorks",
         "7": "SalesLT",
         "8": "ProductCategory",
         "9": "EI",
         "10": "3",
         "11": "Now",
         "14": "false",
         "16": "Name",
         "17": "true",
         "18": "String"
        },
        {
         "0": "SQL Server",
         "1": "Daily",
         "2": "https://kv-keyvault.vault.azure.net/",
         "3": "sql-server-database-usr",
         "4": "sql-server-database-pwd",
         "5": "sql_server",
         "6": "AdventureWorks",
         "7": "SalesLT",
         "8": "ProductCategory",
         "9": "EI",
         "10": "4",
         "11": "Now",
         "14": "false",
         "16": "rowguid",
         "17": "true",
         "18": "String"
        },
        {
         "0": "SQL Server",
         "1": "Daily",
         "2": "https://kv-keyvault.vault.azure.net/",
         "3": "sql-server-database-usr",
         "4": "sql-server-database-pwd",
         "5": "sql_server",
         "6": "AdventureWorks",
         "7": "SalesLT",
         "8": "ProductCategory",
         "9": "EI",
         "10": "5",
         "11": "Now",
         "14": "false",
         "16": "ModifiedDate",
         "17": "true",
         "18": "Timestamp"
        },
        {
         "0": "SQL Server",
         "1": "Daily",
         "2": "https://kv-keyvault.vault.azure.net/",
         "3": "sql-server-database-usr",
         "4": "sql-server-database-pwd",
         "5": "sql_server",
         "6": "AdventureWorks",
         "7": "SalesLT",
         "8": "ProductDescription",
         "9": "EI",
         "10": "1",
         "11": "Now",
         "13": "[ModifiedDate] >= ^datetime_from^\nAND [ModifiedDate] < ^datetime_to^",
         "14": "true",
         "16": "ProductDescriptionID",
         "17": "true",
         "18": "Integer"
        },
        {
         "0": "SQL Server",
         "1": "Daily",
         "2": "https://kv-keyvault.vault.azure.net/",
         "3": "sql-server-database-usr",
         "4": "sql-server-database-pwd",
         "5": "sql_server",
         "6": "AdventureWorks",
         "7": "SalesLT",
         "8": "ProductDescription",
         "9": "EI",
         "10": "2",
         "11": "Now",
         "14": "false",
         "16": "Description",
         "17": "true",
         "18": "String"
        },
        {
         "0": "SQL Server",
         "1": "Daily",
         "2": "https://kv-keyvault.vault.azure.net/",
         "3": "sql-server-database-usr",
         "4": "sql-server-database-pwd",
         "5": "sql_server",
         "6": "AdventureWorks",
         "7": "SalesLT",
         "8": "ProductDescription",
         "9": "EI",
         "10": "3",
         "11": "Now",
         "14": "false",
         "16": "rowguid",
         "17": "true",
         "18": "String"
        },
        {
         "0": "SQL Server",
         "1": "Daily",
         "2": "https://kv-keyvault.vault.azure.net/",
         "3": "sql-server-database-usr",
         "4": "sql-server-database-pwd",
         "5": "sql_server",
         "6": "AdventureWorks",
         "7": "SalesLT",
         "8": "ProductDescription",
         "9": "EI",
         "10": "4",
         "11": "Now",
         "14": "false",
         "16": "ModifiedDate",
         "17": "true",
         "18": "Timestamp"
        },
        {
         "0": "SQL Server",
         "1": "Daily",
         "2": "https://kv-keyvault.vault.azure.net/",
         "3": "sql-server-database-usr",
         "4": "sql-server-database-pwd",
         "5": "sql_server",
         "6": "AdventureWorks",
         "7": "SalesLT",
         "8": "ProductModel",
         "9": "EI",
         "10": "1",
         "11": "Now",
         "13": "[ModifiedDate] >= ^datetime_from^\nAND [ModifiedDate] < ^datetime_to^",
         "14": "true",
         "16": "ProductModelID",
         "17": "true",
         "18": "Integer"
        },
        {
         "0": "SQL Server",
         "1": "Daily",
         "2": "https://kv-keyvault.vault.azure.net/",
         "3": "sql-server-database-usr",
         "4": "sql-server-database-pwd",
         "5": "sql_server",
         "6": "AdventureWorks",
         "7": "SalesLT",
         "8": "ProductModel",
         "9": "EI",
         "10": "2",
         "11": "Now",
         "14": "false",
         "16": "Name",
         "17": "true",
         "18": "String"
        },
        {
         "0": "SQL Server",
         "1": "Daily",
         "2": "https://kv-keyvault.vault.azure.net/",
         "3": "sql-server-database-usr",
         "4": "sql-server-database-pwd",
         "5": "sql_server",
         "6": "AdventureWorks",
         "7": "SalesLT",
         "8": "ProductModel",
         "9": "EI",
         "10": "3",
         "11": "Now",
         "14": "false",
         "16": "CatalogDescription",
         "17": "true",
         "18": "String"
        },
        {
         "0": "SQL Server",
         "1": "Daily",
         "2": "https://kv-keyvault.vault.azure.net/",
         "3": "sql-server-database-usr",
         "4": "sql-server-database-pwd",
         "5": "sql_server",
         "6": "AdventureWorks",
         "7": "SalesLT",
         "8": "ProductModel",
         "9": "EI",
         "10": "4",
         "11": "Now",
         "14": "false",
         "16": "rowguid",
         "17": "true",
         "18": "String"
        },
        {
         "0": "SQL Server",
         "1": "Daily",
         "2": "https://kv-keyvault.vault.azure.net/",
         "3": "sql-server-database-usr",
         "4": "sql-server-database-pwd",
         "5": "sql_server",
         "6": "AdventureWorks",
         "7": "SalesLT",
         "8": "ProductModel",
         "9": "EI",
         "10": "5",
         "11": "Now",
         "14": "false",
         "16": "ModifiedDate",
         "17": "true",
         "18": "Timestamp"
        },
        {
         "0": "SQL Server",
         "1": "Daily",
         "2": "https://kv-keyvault.vault.azure.net/",
         "3": "sql-server-database-usr",
         "4": "sql-server-database-pwd",
         "5": "sql_server",
         "6": "AdventureWorks",
         "7": "SalesLT",
         "8": "ProductModelProductDescription",
         "9": "EI",
         "10": "1",
         "11": "Now",
         "13": "[ModifiedDate] >= ^datetime_from^\nAND [ModifiedDate] < ^datetime_to^",
         "14": "true",
         "16": "ProductModelID",
         "17": "true",
         "18": "Integer"
        },
        {
         "0": "SQL Server",
         "1": "Daily",
         "2": "https://kv-keyvault.vault.azure.net/",
         "3": "sql-server-database-usr",
         "4": "sql-server-database-pwd",
         "5": "sql_server",
         "6": "AdventureWorks",
         "7": "SalesLT",
         "8": "ProductModelProductDescription",
         "9": "EI",
         "10": "2",
         "11": "Now",
         "14": "true",
         "16": "ProductDescriptionID",
         "17": "true",
         "18": "Integer"
        },
        {
         "0": "SQL Server",
         "1": "Daily",
         "2": "https://kv-keyvault.vault.azure.net/",
         "3": "sql-server-database-usr",
         "4": "sql-server-database-pwd",
         "5": "sql_server",
         "6": "AdventureWorks",
         "7": "SalesLT",
         "8": "ProductModelProductDescription",
         "9": "EI",
         "10": "3",
         "11": "Now",
         "14": "true",
         "16": "Culture",
         "17": "true",
         "18": "String"
        },
        {
         "0": "SQL Server",
         "1": "Daily",
         "2": "https://kv-keyvault.vault.azure.net/",
         "3": "sql-server-database-usr",
         "4": "sql-server-database-pwd",
         "5": "sql_server",
         "6": "AdventureWorks",
         "7": "SalesLT",
         "8": "ProductModelProductDescription",
         "9": "EI",
         "10": "4",
         "11": "Now",
         "14": "false",
         "16": "rowguid",
         "17": "true",
         "18": "String"
        },
        {
         "0": "SQL Server",
         "1": "Daily",
         "2": "https://kv-keyvault.vault.azure.net/",
         "3": "sql-server-database-usr",
         "4": "sql-server-database-pwd",
         "5": "sql_server",
         "6": "AdventureWorks",
         "7": "SalesLT",
         "8": "ProductModelProductDescription",
         "9": "EI",
         "10": "5",
         "11": "Now",
         "14": "false",
         "16": "ModifiedDate",
         "17": "true",
         "18": "Timestamp"
        },
        {
         "0": "SQL Server",
         "1": "Daily",
         "2": "https://kv-keyvault.vault.azure.net/",
         "3": "sql-server-database-usr",
         "4": "sql-server-database-pwd",
         "5": "sql_server",
         "6": "AdventureWorks",
         "7": "SalesLT",
         "8": "SalesOrderDetail",
         "9": "EP",
         "10": "1",
         "11": "Now",
         "12": "[SalesLT].[SalesOrderHeader] AS H\nLEFT JOIN [SalesLT].[SalesOrderDetail] AS D\n\tON H.[SalesOrderID] = D.[SalesOrderID]",
         "13": "H.[ModifiedDate] >= ^datetime_from^\nAND H.[ModifiedDate] < ^datetime_to^\nAND D.[OrderQty] > 1\nAND D.[UnitPrice] BETWEEN 3 AND 10000",
         "14": "true",
         "15": "D",
         "16": "SalesOrderID",
         "17": "true",
         "18": "Integer"
        },
        {
         "0": "SQL Server",
         "1": "Daily",
         "2": "https://kv-keyvault.vault.azure.net/",
         "3": "sql-server-database-usr",
         "4": "sql-server-database-pwd",
         "5": "sql_server",
         "6": "AdventureWorks",
         "7": "SalesLT",
         "8": "SalesOrderDetail",
         "9": "EP",
         "10": "2",
         "11": "Now",
         "14": "true",
         "15": "D",
         "16": "SalesOrderDetailID",
         "17": "true",
         "18": "Integer"
        },
        {
         "0": "SQL Server",
         "1": "Daily",
         "2": "https://kv-keyvault.vault.azure.net/",
         "3": "sql-server-database-usr",
         "4": "sql-server-database-pwd",
         "5": "sql_server",
         "6": "AdventureWorks",
         "7": "SalesLT",
         "8": "SalesOrderDetail",
         "9": "EP",
         "10": "3",
         "11": "Now",
         "14": "false",
         "15": "D",
         "16": "OrderQty",
         "17": "true",
         "18": "Short"
        },
        {
         "0": "SQL Server",
         "1": "Daily",
         "2": "https://kv-keyvault.vault.azure.net/",
         "3": "sql-server-database-usr",
         "4": "sql-server-database-pwd",
         "5": "sql_server",
         "6": "AdventureWorks",
         "7": "SalesLT",
         "8": "SalesOrderDetail",
         "9": "EP",
         "10": "4",
         "11": "Now",
         "14": "false",
         "15": "D",
         "16": "ProductID",
         "17": "true",
         "18": "Integer"
        },
        {
         "0": "SQL Server",
         "1": "Daily",
         "2": "https://kv-keyvault.vault.azure.net/",
         "3": "sql-server-database-usr",
         "4": "sql-server-database-pwd",
         "5": "sql_server",
         "6": "AdventureWorks",
         "7": "SalesLT",
         "8": "SalesOrderDetail",
         "9": "EP",
         "10": "5",
         "11": "Now",
         "14": "false",
         "15": "D",
         "16": "UnitPrice",
         "17": "true",
         "18": "Decimal"
        },
        {
         "0": "SQL Server",
         "1": "Daily",
         "2": "https://kv-keyvault.vault.azure.net/",
         "3": "sql-server-database-usr",
         "4": "sql-server-database-pwd",
         "5": "sql_server",
         "6": "AdventureWorks",
         "7": "SalesLT",
         "8": "SalesOrderDetail",
         "9": "EP",
         "10": "6",
         "11": "Now",
         "14": "false",
         "15": "D",
         "16": "UnitPriceDiscount",
         "17": "true",
         "18": "Decimal"
        },
        {
         "0": "SQL Server",
         "1": "Daily",
         "2": "https://kv-keyvault.vault.azure.net/",
         "3": "sql-server-database-usr",
         "4": "sql-server-database-pwd",
         "5": "sql_server",
         "6": "AdventureWorks",
         "7": "SalesLT",
         "8": "SalesOrderDetail",
         "9": "EP",
         "10": "7",
         "11": "Now",
         "14": "false",
         "15": "D",
         "16": "LineTotal",
         "17": "true",
         "18": "Decimal"
        },
        {
         "0": "SQL Server",
         "1": "Daily",
         "2": "https://kv-keyvault.vault.azure.net/",
         "3": "sql-server-database-usr",
         "4": "sql-server-database-pwd",
         "5": "sql_server",
         "6": "AdventureWorks",
         "7": "SalesLT",
         "8": "SalesOrderDetail",
         "9": "EP",
         "10": "8",
         "11": "Now",
         "14": "false",
         "15": "D",
         "16": "rowguid",
         "17": "true",
         "18": "String"
        },
        {
         "0": "SQL Server",
         "1": "Daily",
         "2": "https://kv-keyvault.vault.azure.net/",
         "3": "sql-server-database-usr",
         "4": "sql-server-database-pwd",
         "5": "sql_server",
         "6": "AdventureWorks",
         "7": "SalesLT",
         "8": "SalesOrderDetail",
         "9": "EP",
         "10": "9",
         "11": "Now",
         "14": "false",
         "15": "D",
         "16": "ModifiedDate",
         "17": "true",
         "18": "Timestamp"
        },
        {
         "0": "SQL Server",
         "1": "Daily",
         "2": "https://kv-keyvault.vault.azure.net/",
         "3": "sql-server-database-usr",
         "4": "sql-server-database-pwd",
         "5": "sql_server",
         "6": "AdventureWorks",
         "7": "SalesLT",
         "8": "SalesOrderHeader",
         "9": "EI",
         "10": "1",
         "11": "Now",
         "13": "[ModifiedDate] >= ^datetime_from^\nAND [ModifiedDate] < ^datetime_to^",
         "14": "true",
         "16": "SalesOrderID",
         "17": "true",
         "18": "Integer"
        },
        {
         "0": "SQL Server",
         "1": "Daily",
         "2": "https://kv-keyvault.vault.azure.net/",
         "3": "sql-server-database-usr",
         "4": "sql-server-database-pwd",
         "5": "sql_server",
         "6": "AdventureWorks",
         "7": "SalesLT",
         "8": "SalesOrderHeader",
         "9": "EI",
         "10": "2",
         "11": "Now",
         "14": "false",
         "16": "RevisionNumber",
         "17": "true",
         "18": "Byte"
        },
        {
         "0": "SQL Server",
         "1": "Daily",
         "2": "https://kv-keyvault.vault.azure.net/",
         "3": "sql-server-database-usr",
         "4": "sql-server-database-pwd",
         "5": "sql_server",
         "6": "AdventureWorks",
         "7": "SalesLT",
         "8": "SalesOrderHeader",
         "9": "EI",
         "10": "3",
         "11": "Now",
         "14": "false",
         "16": "OrderDate",
         "17": "true",
         "18": "Timestamp"
        },
        {
         "0": "SQL Server",
         "1": "Daily",
         "2": "https://kv-keyvault.vault.azure.net/",
         "3": "sql-server-database-usr",
         "4": "sql-server-database-pwd",
         "5": "sql_server",
         "6": "AdventureWorks",
         "7": "SalesLT",
         "8": "SalesOrderHeader",
         "9": "EI",
         "10": "4",
         "11": "Now",
         "14": "false",
         "16": "DueDate",
         "17": "true",
         "18": "Timestamp"
        },
        {
         "0": "SQL Server",
         "1": "Daily",
         "2": "https://kv-keyvault.vault.azure.net/",
         "3": "sql-server-database-usr",
         "4": "sql-server-database-pwd",
         "5": "sql_server",
         "6": "AdventureWorks",
         "7": "SalesLT",
         "8": "SalesOrderHeader",
         "9": "EI",
         "10": "5",
         "11": "Now",
         "14": "false",
         "16": "ShipDate",
         "17": "true",
         "18": "Timestamp"
        },
        {
         "0": "SQL Server",
         "1": "Daily",
         "2": "https://kv-keyvault.vault.azure.net/",
         "3": "sql-server-database-usr",
         "4": "sql-server-database-pwd",
         "5": "sql_server",
         "6": "AdventureWorks",
         "7": "SalesLT",
         "8": "SalesOrderHeader",
         "9": "EI",
         "10": "6",
         "11": "Now",
         "14": "false",
         "16": "Status",
         "17": "true",
         "18": "Byte"
        },
        {
         "0": "SQL Server",
         "1": "Daily",
         "2": "https://kv-keyvault.vault.azure.net/",
         "3": "sql-server-database-usr",
         "4": "sql-server-database-pwd",
         "5": "sql_server",
         "6": "AdventureWorks",
         "7": "SalesLT",
         "8": "SalesOrderHeader",
         "9": "EI",
         "10": "7",
         "11": "Now",
         "14": "false",
         "16": "OnlineOrderFlag",
         "17": "true",
         "18": "Boolean"
        },
        {
         "0": "SQL Server",
         "1": "Daily",
         "2": "https://kv-keyvault.vault.azure.net/",
         "3": "sql-server-database-usr",
         "4": "sql-server-database-pwd",
         "5": "sql_server",
         "6": "AdventureWorks",
         "7": "SalesLT",
         "8": "SalesOrderHeader",
         "9": "EI",
         "10": "8",
         "11": "Now",
         "14": "false",
         "16": "SalesOrderNumber",
         "17": "true",
         "18": "String"
        },
        {
         "0": "SQL Server",
         "1": "Daily",
         "2": "https://kv-keyvault.vault.azure.net/",
         "3": "sql-server-database-usr",
         "4": "sql-server-database-pwd",
         "5": "sql_server",
         "6": "AdventureWorks",
         "7": "SalesLT",
         "8": "SalesOrderHeader",
         "9": "EI",
         "10": "9",
         "11": "Now",
         "14": "false",
         "16": "PurchaseOrderNumber",
         "17": "true",
         "18": "String"
        },
        {
         "0": "SQL Server",
         "1": "Daily",
         "2": "https://kv-keyvault.vault.azure.net/",
         "3": "sql-server-database-usr",
         "4": "sql-server-database-pwd",
         "5": "sql_server",
         "6": "AdventureWorks",
         "7": "SalesLT",
         "8": "SalesOrderHeader",
         "9": "EI",
         "10": "10",
         "11": "Now",
         "14": "false",
         "16": "AccountNumber",
         "17": "true",
         "18": "String"
        },
        {
         "0": "SQL Server",
         "1": "Daily",
         "2": "https://kv-keyvault.vault.azure.net/",
         "3": "sql-server-database-usr",
         "4": "sql-server-database-pwd",
         "5": "sql_server",
         "6": "AdventureWorks",
         "7": "SalesLT",
         "8": "SalesOrderHeader",
         "9": "EI",
         "10": "11",
         "11": "Now",
         "14": "false",
         "16": "CustomerID",
         "17": "true",
         "18": "Integer"
        },
        {
         "0": "SQL Server",
         "1": "Daily",
         "2": "https://kv-keyvault.vault.azure.net/",
         "3": "sql-server-database-usr",
         "4": "sql-server-database-pwd",
         "5": "sql_server",
         "6": "AdventureWorks",
         "7": "SalesLT",
         "8": "SalesOrderHeader",
         "9": "EI",
         "10": "12",
         "11": "Now",
         "14": "false",
         "16": "ShipToAddressID",
         "17": "true",
         "18": "Integer"
        },
        {
         "0": "SQL Server",
         "1": "Daily",
         "2": "https://kv-keyvault.vault.azure.net/",
         "3": "sql-server-database-usr",
         "4": "sql-server-database-pwd",
         "5": "sql_server",
         "6": "AdventureWorks",
         "7": "SalesLT",
         "8": "SalesOrderHeader",
         "9": "EI",
         "10": "13",
         "11": "Now",
         "14": "false",
         "16": "BillToAddressID",
         "17": "true",
         "18": "Integer"
        },
        {
         "0": "SQL Server",
         "1": "Daily",
         "2": "https://kv-keyvault.vault.azure.net/",
         "3": "sql-server-database-usr",
         "4": "sql-server-database-pwd",
         "5": "sql_server",
         "6": "AdventureWorks",
         "7": "SalesLT",
         "8": "SalesOrderHeader",
         "9": "EI",
         "10": "14",
         "11": "Now",
         "14": "false",
         "16": "ShipMethod",
         "17": "true",
         "18": "String"
        },
        {
         "0": "SQL Server",
         "1": "Daily",
         "2": "https://kv-keyvault.vault.azure.net/",
         "3": "sql-server-database-usr",
         "4": "sql-server-database-pwd",
         "5": "sql_server",
         "6": "AdventureWorks",
         "7": "SalesLT",
         "8": "SalesOrderHeader",
         "9": "EI",
         "10": "15",
         "11": "Now",
         "14": "false",
         "16": "CreditCardApprovalCode",
         "17": "true",
         "18": "String"
        },
        {
         "0": "SQL Server",
         "1": "Daily",
         "2": "https://kv-keyvault.vault.azure.net/",
         "3": "sql-server-database-usr",
         "4": "sql-server-database-pwd",
         "5": "sql_server",
         "6": "AdventureWorks",
         "7": "SalesLT",
         "8": "SalesOrderHeader",
         "9": "EI",
         "10": "16",
         "11": "Now",
         "14": "false",
         "16": "SubTotal",
         "17": "true",
         "18": "Decimal"
        },
        {
         "0": "SQL Server",
         "1": "Daily",
         "2": "https://kv-keyvault.vault.azure.net/",
         "3": "sql-server-database-usr",
         "4": "sql-server-database-pwd",
         "5": "sql_server",
         "6": "AdventureWorks",
         "7": "SalesLT",
         "8": "SalesOrderHeader",
         "9": "EI",
         "10": "17",
         "11": "Now",
         "14": "false",
         "16": "TaxAmt",
         "17": "true",
         "18": "Decimal"
        },
        {
         "0": "SQL Server",
         "1": "Daily",
         "2": "https://kv-keyvault.vault.azure.net/",
         "3": "sql-server-database-usr",
         "4": "sql-server-database-pwd",
         "5": "sql_server",
         "6": "AdventureWorks",
         "7": "SalesLT",
         "8": "SalesOrderHeader",
         "9": "EI",
         "10": "18",
         "11": "Now",
         "14": "false",
         "16": "Freight",
         "17": "true",
         "18": "Decimal"
        },
        {
         "0": "SQL Server",
         "1": "Daily",
         "2": "https://kv-keyvault.vault.azure.net/",
         "3": "sql-server-database-usr",
         "4": "sql-server-database-pwd",
         "5": "sql_server",
         "6": "AdventureWorks",
         "7": "SalesLT",
         "8": "SalesOrderHeader",
         "9": "EI",
         "10": "19",
         "11": "Now",
         "14": "false",
         "16": "TotalDue",
         "17": "true",
         "18": "Decimal"
        },
        {
         "0": "SQL Server",
         "1": "Daily",
         "2": "https://kv-keyvault.vault.azure.net/",
         "3": "sql-server-database-usr",
         "4": "sql-server-database-pwd",
         "5": "sql_server",
         "6": "AdventureWorks",
         "7": "SalesLT",
         "8": "SalesOrderHeader",
         "9": "EI",
         "10": "20",
         "11": "Now",
         "14": "false",
         "16": "Comment",
         "17": "true",
         "18": "String"
        },
        {
         "0": "SQL Server",
         "1": "Daily",
         "2": "https://kv-keyvault.vault.azure.net/",
         "3": "sql-server-database-usr",
         "4": "sql-server-database-pwd",
         "5": "sql_server",
         "6": "AdventureWorks",
         "7": "SalesLT",
         "8": "SalesOrderHeader",
         "9": "EI",
         "10": "21",
         "11": "Now",
         "14": "false",
         "16": "rowguid",
         "17": "true",
         "18": "String"
        },
        {
         "0": "SQL Server",
         "1": "Daily",
         "2": "https://kv-keyvault.vault.azure.net/",
         "3": "sql-server-database-usr",
         "4": "sql-server-database-pwd",
         "5": "sql_server",
         "6": "AdventureWorks",
         "7": "SalesLT",
         "8": "SalesOrderHeader",
         "9": "EI",
         "10": "22",
         "11": "Now",
         "14": "false",
         "16": "ModifiedDate",
         "17": "true",
         "18": "Timestamp"
        }
       ],
       "schema": [
        {
         "key": "0",
         "name": "technology",
         "type": "string"
        },
        {
         "key": "1",
         "name": "frequency",
         "type": "string"
        },
        {
         "key": "2",
         "name": "keyvault_url",
         "type": "string"
        },
        {
         "key": "3",
         "name": "keyvault_secret_name_user",
         "type": "string"
        },
        {
         "key": "4",
         "name": "keyvault_secret_name_password",
         "type": "string"
        },
        {
         "key": "5",
         "name": "server_name",
         "type": "string"
        },
        {
         "key": "6",
         "name": "database_name",
         "type": "string"
        },
        {
         "key": "7",
         "name": "schema_name",
         "type": "string"
        },
        {
         "key": "8",
         "name": "table_name",
         "type": "string"
        },
        {
         "key": "9",
         "name": "extract_type",
         "type": "string"
        },
        {
         "key": "10",
         "name": "sequence",
         "type": "bigint"
        },
        {
         "key": "11",
         "name": "extraction_timeframe",
         "type": "string"
        },
        {
         "key": "12",
         "name": "from",
         "type": "string"
        },
        {
         "key": "13",
         "name": "where",
         "type": "string"
        },
        {
         "key": "14",
         "name": "is_pk",
         "type": "boolean"
        },
        {
         "key": "15",
         "name": "prefix_select",
         "type": "string"
        },
        {
         "key": "16",
         "name": "column_name",
         "type": "string"
        },
        {
         "key": "17",
         "name": "is_extracted",
         "type": "boolean"
        },
        {
         "key": "18",
         "name": "data_type",
         "type": "string"
        }
       ],
       "truncated": false
      },
      "wranglerEntryContext": {
       "candidateVariableNames": [
        "sdf"
       ],
       "dataframeType": "pyspark"
      }
     },
     "type": "Synapse.DataFrame"
    },
    "db5cc182-37ef-441a-8b35-639285c46f60": {
     "persist_state": {
      "view": {
       "chartOptions": {
        "aggregationType": "count",
        "binsNumber": 10,
        "categoryFieldKeys": [
         "1"
        ],
        "chartType": "bar",
        "evaluatesOverAllRecords": false,
        "isStacked": false,
        "seriesFieldKeys": [
         "1"
        ],
        "wordFrequency": "-1"
       },
       "tableOptions": {},
       "type": "details",
       "viewOptionsGroup": [
        {
         "tabItems": [
          {
           "key": "0",
           "name": "Table",
           "options": {},
           "type": "table"
          }
         ]
        }
       ]
      }
     },
     "sync_state": {
      "isSummary": false,
      "language": "scala",
      "table": {
       "rows": [
        {
         "0": "Daily",
         "1": "DEV",
         "2": "6a9d410f-c3c8-485a-bda1-6f87c0d2cd21",
         "3": "288cb38b-fcee-4d4e-a844-11dffcd40beb",
         "4": "sm_dm_sale_lh_gold_from_tables",
         "5": "0",
         "6": "0",
         "7": "0",
         "8": "true"
        },
        {
         "0": "Daily",
         "1": "TEST",
         "2": "6a9d410f-c3c8-485a-bda1-6f87c0d2cd21",
         "3": "32eb0e66-cd0a-4fb2-8ef5-e6e3d8e1fd82",
         "4": "sm_sales_wh_gold_from_tables",
         "5": "0",
         "6": "0",
         "7": "0",
         "8": "false"
        },
        {
         "0": "Daily",
         "1": "PROD",
         "2": "6a9d410f-c3c8-485a-bda1-6f87c0d2cd21",
         "3": "de5af13f-7a86-48ed-9bc7-ed6ef21fef7b",
         "4": "sm_dm_sale_lh_gold_from_views",
         "5": "0",
         "6": "0",
         "7": "0",
         "8": "false"
        }
       ],
       "schema": [
        {
         "key": "0",
         "name": "frequency",
         "type": "string"
        },
        {
         "key": "1",
         "name": "environment",
         "type": "string"
        },
        {
         "key": "2",
         "name": "workspace_id",
         "type": "string"
        },
        {
         "key": "3",
         "name": "semantic_model_id",
         "type": "string"
        },
        {
         "key": "4",
         "name": "semantic_model_name",
         "type": "string"
        },
        {
         "key": "5",
         "name": "request_timeout",
         "type": "int"
        },
        {
         "key": "6",
         "name": "refresh_timeout",
         "type": "int"
        },
        {
         "key": "7",
         "name": "loop_wait_time_seconds",
         "type": "int"
        },
        {
         "key": "8",
         "name": "is_active",
         "type": "boolean"
        }
       ],
       "truncated": false
      },
      "wranglerEntryContext": {
       "candidateVariableNames": [
        "sdf"
       ],
       "dataframeType": "pyspark"
      }
     },
     "type": "Synapse.DataFrame"
    },
    "f063b69c-0acb-4262-a60b-c006058c9954": {
     "persist_state": {
      "view": {
       "chartOptions": {
        "aggregationType": "count",
        "binsNumber": 10,
        "categoryFieldKeys": [
         "2"
        ],
        "chartType": "bar",
        "evaluatesOverAllRecords": false,
        "isStacked": false,
        "seriesFieldKeys": [
         "2"
        ],
        "wordFrequency": "-1"
       },
       "tableOptions": {},
       "type": "details",
       "viewOptionsGroup": [
        {
         "tabItems": [
          {
           "key": "0",
           "name": "Table",
           "options": {},
           "type": "table"
          }
         ]
        }
       ]
      }
     },
     "sync_state": {
      "isSummary": false,
      "language": "scala",
      "table": {
       "rows": [
        {
         "0": "Excel",
         "1": "Daily",
         "2": "Réference Data",
         "3": "Text",
         "4": "Orders",
         "5": "EI",
         "6": "0",
         "7": "1",
         "8": "false",
         "9": "Numéro SEAO",
         "10": "true",
         "11": "String"
        },
        {
         "0": "Excel",
         "1": "Daily",
         "2": "Réference Data",
         "3": "Text",
         "4": "Orders",
         "5": "EI",
         "6": "0",
         "7": "2",
         "8": "false",
         "9": "Numéro organisme",
         "10": "true",
         "11": "String"
        },
        {
         "0": "Excel",
         "1": "Daily",
         "2": "Réference Data",
         "3": "Text",
         "4": "Orders",
         "5": "EI",
         "6": "0",
         "7": "3",
         "8": "false",
         "9": "Organisme",
         "10": "true",
         "11": "String"
        },
        {
         "0": "Excel",
         "1": "Daily",
         "2": "Réference Data",
         "3": "Text",
         "4": "Orders",
         "5": "EI",
         "6": "0",
         "7": "4",
         "8": "false",
         "9": "Utilisateur",
         "10": "true",
         "11": "String"
        },
        {
         "0": "Excel",
         "1": "Daily",
         "2": "Réference Data",
         "3": "Text",
         "4": "Orders",
         "5": "EI",
         "6": "0",
         "7": "5",
         "8": "false",
         "9": "Contact",
         "10": "true",
         "11": "String"
        },
        {
         "0": "Excel",
         "1": "Daily",
         "2": "Réference Data",
         "3": "Text",
         "4": "Orders",
         "5": "EI",
         "6": "0",
         "7": "6",
         "8": "false",
         "9": "Titre",
         "10": "true",
         "11": "String"
        },
        {
         "0": "Excel",
         "1": "Daily",
         "2": "Réference Data",
         "3": "Text",
         "4": "Orders",
         "5": "EI",
         "6": "0",
         "7": "7",
         "8": "false",
         "9": "Type d'avis",
         "10": "true",
         "11": "String"
        },
        {
         "0": "Excel",
         "1": "Daily",
         "2": "Réference Data",
         "3": "Text",
         "4": "Orders",
         "5": "EI",
         "6": "0",
         "7": "8",
         "8": "false",
         "9": "Achat mandaté ou regroupement",
         "10": "true",
         "11": "String"
        },
        {
         "0": "Excel",
         "1": "Daily",
         "2": "Réference Data",
         "3": "Text",
         "4": "Orders",
         "5": "EI",
         "6": "0",
         "7": "9",
         "8": "false",
         "9": "Nature du contrat",
         "10": "true",
         "11": "String"
        },
        {
         "0": "Excel",
         "1": "Daily",
         "2": "Réference Data",
         "3": "Text",
         "4": "Orders",
         "5": "EI",
         "6": "0",
         "7": "10",
         "8": "false",
         "9": "Statut de l'avis",
         "10": "true",
         "11": "String"
        },
        {
         "0": "Excel",
         "1": "Daily",
         "2": "Réference Data",
         "3": "Text",
         "4": "Orders",
         "5": "EI",
         "6": "0",
         "7": "11",
         "8": "false",
         "9": "Date de publication de l'avis",
         "10": "true",
         "11": "String"
        },
        {
         "0": "Excel",
         "1": "Daily",
         "2": "Réference Data",
         "3": "Text",
         "4": "Orders",
         "5": "EI",
         "6": "0",
         "7": "12",
         "8": "false",
         "9": "Date de clôture de l'avis",
         "10": "true",
         "11": "String"
        },
        {
         "0": "Excel",
         "1": "Daily",
         "2": "Réference Data",
         "3": "Text",
         "4": "Orders",
         "5": "EI",
         "6": "0",
         "7": "13",
         "8": "false",
         "9": "Date de publication des résultats d'ouverture",
         "10": "true",
         "11": "String"
        },
        {
         "0": "Excel",
         "1": "Daily",
         "2": "Réference Data",
         "3": "Text",
         "4": "Orders",
         "5": "EI",
         "6": "0",
         "7": "14",
         "8": "false",
         "9": "Date de publication de la conclusion de contrat",
         "10": "true",
         "11": "String"
        },
        {
         "0": "Excel",
         "1": "Daily",
         "2": "Réference Data",
         "3": "Text",
         "4": "Orders",
         "5": "EI",
         "6": "0",
         "7": "15",
         "8": "false",
         "9": "Statut de la conclusion du contrat",
         "10": "true",
         "11": "String"
        },
        {
         "0": "Excel",
         "1": "Daily",
         "2": "Réference Data",
         "3": "Text",
         "4": "Orders",
         "5": "EI",
         "6": "0",
         "7": "16",
         "8": "false",
         "9": "Prix estimé",
         "10": "true",
         "11": "String"
        },
        {
         "0": "Excel",
         "1": "Daily",
         "2": "Réference Data",
         "3": "Text",
         "4": "Orders",
         "5": "EI",
         "6": "0",
         "7": "17",
         "8": "false",
         "9": "Prix du contrat",
         "10": "true",
         "11": "String"
        },
        {
         "0": "Excel",
         "1": "Daily",
         "2": "Réference Data",
         "3": "Text",
         "4": "Orders",
         "5": "EI",
         "6": "0",
         "7": "18",
         "8": "false",
         "9": "Nom du lot",
         "10": "true",
         "11": "String"
        },
        {
         "0": "Excel",
         "1": "Daily",
         "2": "Réference Data",
         "3": "Text",
         "4": "Orders",
         "5": "EI",
         "6": "0",
         "7": "19",
         "8": "false",
         "9": "Date de conclusion du contrat",
         "10": "true",
         "11": "String"
        },
        {
         "0": "Excel",
         "1": "Daily",
         "2": "Réference Data",
         "3": "Text",
         "4": "Orders",
         "5": "EI",
         "6": "0",
         "7": "20",
         "8": "false",
         "9": "Date de fin prévue",
         "10": "true",
         "11": "String"
        },
        {
         "0": "Excel",
         "1": "Daily",
         "2": "Réference Data",
         "3": "Text",
         "4": "Orders",
         "5": "EI",
         "6": "0",
         "7": "21",
         "8": "false",
         "9": "Soumissionnaires ou co-contractants",
         "10": "true",
         "11": "String"
        },
        {
         "0": "Excel",
         "1": "Daily",
         "2": "Réference Data",
         "3": "Text",
         "4": "Orders",
         "5": "EI",
         "6": "0",
         "7": "22",
         "8": "false",
         "9": "Conformité",
         "10": "true",
         "11": "String"
        },
        {
         "0": "Excel",
         "1": "Daily",
         "2": "Réference Data",
         "3": "Text",
         "4": "Orders",
         "5": "EI",
         "6": "0",
         "7": "23",
         "8": "false",
         "9": "Montant soumis",
         "10": "true",
         "11": "String"
        },
        {
         "0": "Excel",
         "1": "Daily",
         "2": "Réference Data",
         "3": "Text",
         "4": "Orders",
         "5": "EI",
         "6": "0",
         "7": "24",
         "8": "false",
         "9": "Retenu",
         "10": "true",
         "11": "String"
        },
        {
         "0": "Excel",
         "1": "Daily",
         "2": "Réference Data",
         "3": "Text",
         "4": "Orders",
         "5": "EI",
         "6": "0",
         "7": "25",
         "8": "true",
         "9": "Options",
         "10": "true",
         "11": "String"
        },
        {
         "0": "Excel",
         "1": "Daily",
         "2": "Réference Data",
         "3": "Text",
         "4": "Orders",
         "5": "EI",
         "6": "0",
         "7": "26",
         "8": "false",
         "9": "Montant total de la dépense prévue incluant les options",
         "10": "true",
         "11": "String"
        },
        {
         "0": "Excel",
         "1": "Daily",
         "2": "Réference Data",
         "3": "Text",
         "4": "Orders",
         "5": "EI",
         "6": "0",
         "7": "27",
         "8": "false",
         "9": "Montant total de la dépense effectivement faite  ",
         "10": "true",
         "11": "String"
        },
        {
         "0": "Excel",
         "1": "Daily",
         "2": "Réference Data",
         "3": "Text",
         "4": "Orders",
         "5": "EI",
         "6": "0",
         "7": "28",
         "8": "false",
         "9": "Date de fin de contrat",
         "10": "true",
         "11": "String"
        },
        {
         "0": "Excel",
         "1": "Daily",
         "2": "Réference Data",
         "3": "Text",
         "4": "Orders",
         "5": "EI",
         "6": "0",
         "7": "29",
         "8": "false",
         "9": "Date de publication de la fin de contrat",
         "10": "true",
         "11": "String"
        },
        {
         "0": "Excel",
         "1": "Daily",
         "2": "Réference Data",
         "3": "Text",
         "4": "Orders",
         "5": "EI",
         "6": "0",
         "7": "30",
         "8": "false",
         "9": "Numéro de contrat",
         "10": "true",
         "11": "String"
        },
        {
         "0": "Excel",
         "1": "Daily",
         "2": "Réference Data",
         "3": "Text",
         "4": "Contrats de gré à gré",
         "5": "EI",
         "6": "0",
         "7": "1",
         "8": "false",
         "9": "Référence",
         "10": "true",
         "11": "String"
        },
        {
         "0": "Excel",
         "1": "Daily",
         "2": "Réference Data",
         "3": "Text",
         "4": "Contrats de gré à gré",
         "5": "EI",
         "6": "0",
         "7": "2",
         "8": "true",
         "9": "Numéro du contrat",
         "10": "true",
         "11": "String"
        },
        {
         "0": "Excel",
         "1": "Daily",
         "2": "Réference Data",
         "3": "Text",
         "4": "Contrats de gré à gré",
         "5": "EI",
         "6": "0",
         "7": "3",
         "8": "true",
         "9": "Organisme",
         "10": "true",
         "11": "String"
        },
        {
         "0": "Excel",
         "1": "Daily",
         "2": "Réference Data",
         "3": "Text",
         "4": "Contrats de gré à gré",
         "5": "EI",
         "6": "0",
         "7": "4",
         "8": "true",
         "9": "Utilisateur",
         "10": "true",
         "11": "String"
        },
        {
         "0": "Excel",
         "1": "Daily",
         "2": "Réference Data",
         "3": "Text",
         "4": "Contrats de gré à gré",
         "5": "EI",
         "6": "0",
         "7": "5",
         "8": "false",
         "9": "Contact",
         "10": "true",
         "11": "String"
        },
        {
         "0": "Excel",
         "1": "Daily",
         "2": "Réference Data",
         "3": "Text",
         "4": "Contrats de gré à gré",
         "5": "EI",
         "6": "0",
         "7": "6",
         "8": "false",
         "9": "Titre",
         "10": "true",
         "11": "String"
        },
        {
         "0": "Excel",
         "1": "Daily",
         "2": "Réference Data",
         "3": "Text",
         "4": "Contrats de gré à gré",
         "5": "EI",
         "6": "0",
         "7": "7",
         "8": "false",
         "9": "Type d'avis",
         "10": "true",
         "11": "String"
        },
        {
         "0": "Excel",
         "1": "Daily",
         "2": "Réference Data",
         "3": "Text",
         "4": "Contrats de gré à gré",
         "5": "EI",
         "6": "0",
         "7": "8",
         "8": "false",
         "9": "Nature du contrat",
         "10": "true",
         "11": "String"
        },
        {
         "0": "Excel",
         "1": "Daily",
         "2": "Réference Data",
         "3": "Text",
         "4": "Contrats de gré à gré",
         "5": "EI",
         "6": "0",
         "7": "9",
         "8": "false",
         "9": "Statut de l'avis",
         "10": "true",
         "11": "String"
        },
        {
         "0": "Excel",
         "1": "Daily",
         "2": "Réference Data",
         "3": "Text",
         "4": "Contrats de gré à gré",
         "5": "EI",
         "6": "0",
         "7": "10",
         "8": "false",
         "9": "Date de publication de l'avis",
         "10": "true",
         "11": "String"
        },
        {
         "0": "Excel",
         "1": "Daily",
         "2": "Réference Data",
         "3": "Text",
         "4": "Contrats de gré à gré",
         "5": "EI",
         "6": "0",
         "7": "11",
         "8": "false",
         "9": "Prix estimé",
         "10": "true",
         "11": "String"
        },
        {
         "0": "Excel",
         "1": "Daily",
         "2": "Réference Data",
         "3": "Text",
         "4": "Contrats de gré à gré",
         "5": "EI",
         "6": "0",
         "7": "12",
         "8": "false",
         "9": "Prix du contrat",
         "10": "true",
         "11": "String"
        },
        {
         "0": "Excel",
         "1": "Daily",
         "2": "Réference Data",
         "3": "Text",
         "4": "Contrats de gré à gré",
         "5": "EI",
         "6": "0",
         "7": "13",
         "8": "false",
         "9": "Date de conclusion de contrat",
         "10": "true",
         "11": "String"
        },
        {
         "0": "Excel",
         "1": "Daily",
         "2": "Réference Data",
         "3": "Text",
         "4": "Contrats de gré à gré",
         "5": "EI",
         "6": "0",
         "7": "14",
         "8": "false",
         "9": "Date de fin prévue",
         "10": "true",
         "11": "String"
        },
        {
         "0": "Excel",
         "1": "Daily",
         "2": "Réference Data",
         "3": "Text",
         "4": "Contrats de gré à gré",
         "5": "EI",
         "6": "0",
         "7": "15",
         "8": "false",
         "9": "Soumissionnaires ou co-contractants",
         "10": "true",
         "11": "String"
        },
        {
         "0": "Excel",
         "1": "Daily",
         "2": "Réference Data",
         "3": "Text",
         "4": "Contrats de gré à gré",
         "5": "EI",
         "6": "0",
         "7": "16",
         "8": "false",
         "9": "Retenu",
         "10": "true",
         "11": "String"
        },
        {
         "0": "Excel",
         "1": "Daily",
         "2": "Réference Data",
         "3": "Text",
         "4": "Contrats de gré à gré",
         "5": "EI",
         "6": "0",
         "7": "17",
         "8": "false",
         "9": "Options",
         "10": "true",
         "11": "String"
        },
        {
         "0": "Excel",
         "1": "Daily",
         "2": "Réference Data",
         "3": "Text",
         "4": "Contrats de gré à gré",
         "5": "EI",
         "6": "0",
         "7": "18",
         "8": "false",
         "9": "Montant total de la dépense prévue incluant les options",
         "10": "true",
         "11": "String"
        },
        {
         "0": "Excel",
         "1": "Daily",
         "2": "Réference Data",
         "3": "Text",
         "4": "Contrats de gré à gré",
         "5": "EI",
         "6": "0",
         "7": "19",
         "8": "false",
         "9": "Montant total de la dépense effectivement faite  ",
         "10": "true",
         "11": "String"
        },
        {
         "0": "Excel",
         "1": "Daily",
         "2": "Réference Data",
         "3": "Text",
         "4": "Contrats de gré à gré",
         "5": "EI",
         "6": "0",
         "7": "20",
         "8": "false",
         "9": "Date de fin de contrat",
         "10": "true",
         "11": "String"
        },
        {
         "0": "Excel",
         "1": "Daily",
         "2": "Réference Data",
         "3": "Text",
         "4": "Contrats de gré à gré",
         "5": "EI",
         "6": "0",
         "7": "21",
         "8": "false",
         "9": "Date de publication de la fin de contrat",
         "10": "true",
         "11": "String"
        },
        {
         "0": "Excel",
         "1": "Daily",
         "2": "Réference Data",
         "3": "Text",
         "4": "Contrats de gré à gré",
         "5": "EI",
         "6": "0",
         "7": "22",
         "8": "false",
         "9": "Numéro de contrat",
         "10": "true",
         "11": "String"
        },
        {
         "0": "Excel",
         "1": "Daily",
         "2": "Réference Data",
         "3": "Text",
         "4": "Contrats sur invitation",
         "5": "EI",
         "6": "0",
         "7": "1",
         "8": "false",
         "9": "Référence",
         "10": "true",
         "11": "String"
        },
        {
         "0": "Excel",
         "1": "Daily",
         "2": "Réference Data",
         "3": "Text",
         "4": "Contrats sur invitation",
         "5": "EI",
         "6": "0",
         "7": "2",
         "8": "true",
         "9": "Numéro du contrat",
         "10": "true",
         "11": "String"
        },
        {
         "0": "Excel",
         "1": "Daily",
         "2": "Réference Data",
         "3": "Text",
         "4": "Contrats sur invitation",
         "5": "EI",
         "6": "0",
         "7": "3",
         "8": "false",
         "9": "Organisme",
         "10": "true",
         "11": "String"
        },
        {
         "0": "Excel",
         "1": "Daily",
         "2": "Réference Data",
         "3": "Text",
         "4": "Contrats sur invitation",
         "5": "EI",
         "6": "0",
         "7": "4",
         "8": "false",
         "9": "Utilisateur",
         "10": "true",
         "11": "String"
        },
        {
         "0": "Excel",
         "1": "Daily",
         "2": "Réference Data",
         "3": "Text",
         "4": "Contrats sur invitation",
         "5": "EI",
         "6": "0",
         "7": "5",
         "8": "false",
         "9": "Contact",
         "10": "true",
         "11": "String"
        },
        {
         "0": "Excel",
         "1": "Daily",
         "2": "Réference Data",
         "3": "Text",
         "4": "Contrats sur invitation",
         "5": "EI",
         "6": "0",
         "7": "6",
         "8": "false",
         "9": "Titre",
         "10": "true",
         "11": "String"
        },
        {
         "0": "Excel",
         "1": "Daily",
         "2": "Réference Data",
         "3": "Text",
         "4": "Contrats sur invitation",
         "5": "EI",
         "6": "0",
         "7": "7",
         "8": "false",
         "9": "Type d'avis",
         "10": "true",
         "11": "String"
        },
        {
         "0": "Excel",
         "1": "Daily",
         "2": "Réference Data",
         "3": "Text",
         "4": "Contrats sur invitation",
         "5": "EI",
         "6": "0",
         "7": "8",
         "8": "false",
         "9": "Nature du contrat",
         "10": "true",
         "11": "String"
        },
        {
         "0": "Excel",
         "1": "Daily",
         "2": "Réference Data",
         "3": "Text",
         "4": "Contrats sur invitation",
         "5": "EI",
         "6": "0",
         "7": "9",
         "8": "false",
         "9": "Statut de l'avis",
         "10": "true",
         "11": "String"
        },
        {
         "0": "Excel",
         "1": "Daily",
         "2": "Réference Data",
         "3": "Text",
         "4": "Contrats sur invitation",
         "5": "EI",
         "6": "0",
         "7": "10",
         "8": "false",
         "9": "Date de publication de l'avis",
         "10": "true",
         "11": "String"
        },
        {
         "0": "Excel",
         "1": "Daily",
         "2": "Réference Data",
         "3": "Text",
         "4": "Contrats sur invitation",
         "5": "EI",
         "6": "0",
         "7": "11",
         "8": "false",
         "9": "Prix estimé",
         "10": "true",
         "11": "String"
        },
        {
         "0": "Excel",
         "1": "Daily",
         "2": "Réference Data",
         "3": "Text",
         "4": "Contrats sur invitation",
         "5": "EI",
         "6": "0",
         "7": "12",
         "8": "false",
         "9": "Prix du contrat",
         "10": "true",
         "11": "String"
        },
        {
         "0": "Excel",
         "1": "Daily",
         "2": "Réference Data",
         "3": "Text",
         "4": "Contrats sur invitation",
         "5": "EI",
         "6": "0",
         "7": "13",
         "8": "false",
         "9": "Nom du lot",
         "10": "true",
         "11": "String"
        },
        {
         "0": "Excel",
         "1": "Daily",
         "2": "Réference Data",
         "3": "Text",
         "4": "Contrats sur invitation",
         "5": "EI",
         "6": "0",
         "7": "14",
         "8": "false",
         "9": "Date de conclusion du contrat",
         "10": "true",
         "11": "String"
        },
        {
         "0": "Excel",
         "1": "Daily",
         "2": "Réference Data",
         "3": "Text",
         "4": "Contrats sur invitation",
         "5": "EI",
         "6": "0",
         "7": "15",
         "8": "false",
         "9": "Date de fin prévue",
         "10": "true",
         "11": "String"
        },
        {
         "0": "Excel",
         "1": "Daily",
         "2": "Réference Data",
         "3": "Text",
         "4": "Contrats sur invitation",
         "5": "EI",
         "6": "0",
         "7": "16",
         "8": "false",
         "9": "Soumissionnaires ou co-contractants",
         "10": "true",
         "11": "String"
        },
        {
         "0": "Excel",
         "1": "Daily",
         "2": "Réference Data",
         "3": "Text",
         "4": "Contrats sur invitation",
         "5": "EI",
         "6": "0",
         "7": "17",
         "8": "false",
         "9": "Conformité",
         "10": "true",
         "11": "String"
        },
        {
         "0": "Excel",
         "1": "Daily",
         "2": "Réference Data",
         "3": "Text",
         "4": "Contrats sur invitation",
         "5": "EI",
         "6": "0",
         "7": "18",
         "8": "false",
         "9": "Prix soumis",
         "10": "true",
         "11": "String"
        },
        {
         "0": "Excel",
         "1": "Daily",
         "2": "Réference Data",
         "3": "Text",
         "4": "Contrats sur invitation",
         "5": "EI",
         "6": "0",
         "7": "19",
         "8": "false",
         "9": "Retenu",
         "10": "true",
         "11": "String"
        },
        {
         "0": "Excel",
         "1": "Daily",
         "2": "Réference Data",
         "3": "Text",
         "4": "Contrats sur invitation",
         "5": "EI",
         "6": "0",
         "7": "20",
         "8": "false",
         "9": "Options",
         "10": "true",
         "11": "String"
        },
        {
         "0": "Excel",
         "1": "Daily",
         "2": "Réference Data",
         "3": "Text",
         "4": "Contrats sur invitation",
         "5": "EI",
         "6": "0",
         "7": "21",
         "8": "false",
         "9": "Montant total de la dépense prévue incluant les options",
         "10": "true",
         "11": "String"
        },
        {
         "0": "Excel",
         "1": "Daily",
         "2": "Réference Data",
         "3": "Text",
         "4": "Contrats sur invitation",
         "5": "EI",
         "6": "0",
         "7": "22",
         "8": "false",
         "9": "Montant total de la dépense effectivement faite  ",
         "10": "true",
         "11": "String"
        },
        {
         "0": "Excel",
         "1": "Daily",
         "2": "Réference Data",
         "3": "Text",
         "4": "Contrats sur invitation",
         "5": "EI",
         "6": "0",
         "7": "23",
         "8": "false",
         "9": "Date de fin de contrat",
         "10": "true",
         "11": "String"
        },
        {
         "0": "Excel",
         "1": "Daily",
         "2": "Réference Data",
         "3": "Text",
         "4": "Contrats sur invitation",
         "5": "EI",
         "6": "0",
         "7": "24",
         "8": "false",
         "9": "Date de publication de la fin de contrat",
         "10": "true",
         "11": "String"
        },
        {
         "0": "Excel",
         "1": "Daily",
         "2": "Réference Data",
         "3": "Text",
         "4": "Contrats sur invitation",
         "5": "EI",
         "6": "0",
         "7": "25",
         "8": "false",
         "9": "Numéro de contrat",
         "10": "true",
         "11": "String"
        },
        {
         "0": "Excel",
         "1": "Daily",
         "3": "Rapport_sur les coûts de dist. des addendas",
         "4": "Rapport",
         "5": "EI",
         "6": "0",
         "7": "1",
         "8": "false",
         "9": "Avis",
         "10": "true",
         "11": "String"
        },
        {
         "0": "Excel",
         "1": "Daily",
         "3": "Rapport_sur les coûts de dist. des addendas",
         "4": "Rapport",
         "5": "EI",
         "6": "0",
         "7": "2",
         "8": "true",
         "9": "Addenda",
         "10": "true",
         "11": "String"
        },
        {
         "0": "Excel",
         "1": "Daily",
         "3": "Rapport_sur les coûts de dist. des addendas",
         "4": "Rapport",
         "5": "EI",
         "6": "0",
         "7": "3",
         "8": "false",
         "9": "Auteur",
         "10": "true",
         "11": "String"
        },
        {
         "0": "Excel",
         "1": "Daily",
         "3": "Rapport_sur les coûts de dist. des addendas",
         "4": "Rapport",
         "5": "EI",
         "6": "0",
         "7": "4",
         "8": "false",
         "9": "Bon de commande",
         "10": "true",
         "11": "String"
        },
        {
         "0": "Excel",
         "1": "Daily",
         "3": "Rapport_sur les coûts de dist. des addendas",
         "4": "Rapport",
         "5": "EI",
         "6": "0",
         "7": "5",
         "8": "false",
         "9": "Date de transaction",
         "10": "true",
         "11": "String"
        },
        {
         "0": "Excel",
         "1": "Daily",
         "3": "Rapport_sur les coûts de dist. des addendas",
         "4": "Rapport",
         "5": "EI",
         "6": "0",
         "7": "6",
         "8": "false",
         "9": "Numéro de transaction",
         "10": "true",
         "11": "String"
        },
        {
         "0": "Excel",
         "1": "Daily",
         "3": "Rapport_sur les coûts de dist. des addendas",
         "4": "Rapport",
         "5": "EI",
         "6": "0",
         "7": "7",
         "8": "false",
         "9": "Numéro de commande",
         "10": "true",
         "11": "String"
        },
        {
         "0": "Excel",
         "1": "Daily",
         "3": "Rapport_sur les coûts de dist. des addendas",
         "4": "Rapport",
         "5": "EI",
         "6": "0",
         "7": "8",
         "8": "false",
         "9": "Mode d'envoi",
         "10": "true",
         "11": "String"
        },
        {
         "0": "Excel",
         "1": "Daily",
         "3": "Rapport_sur les coûts de dist. des addendas",
         "4": "Rapport",
         "5": "EI",
         "6": "0",
         "7": "9",
         "8": "false",
         "9": "Organisation",
         "10": "true",
         "11": "String"
        },
        {
         "0": "Excel",
         "1": "Daily",
         "3": "Rapport_sur les coûts de dist. des addendas",
         "4": "Rapport",
         "5": "EI",
         "6": "0",
         "7": "10",
         "8": "false",
         "9": "Nom",
         "10": "true",
         "11": "String"
        },
        {
         "0": "Excel",
         "1": "Daily",
         "3": "Rapport_sur les coûts de dist. des addendas",
         "4": "Rapport",
         "5": "EI",
         "6": "0",
         "7": "11",
         "8": "false",
         "9": "Coût",
         "10": "true",
         "11": "String"
        },
        {
         "0": "Excel",
         "1": "Daily",
         "2": "Other/Thing",
         "3": "SEAO - Contrat $ 25 000 et plus",
         "4": "Feuil1",
         "5": "EI",
         "6": "6",
         "7": "1",
         "8": "false",
         "9": "Nature du contrat",
         "10": "true",
         "11": "String"
        },
        {
         "0": "Excel",
         "1": "Daily",
         "2": "Other/Thing",
         "3": "SEAO - Contrat $ 25 000 et plus",
         "4": "Feuil1",
         "5": "EI",
         "6": "6",
         "7": "2",
         "8": "true",
         "9": "Avis source (mandataire)",
         "10": "true",
         "11": "String"
        },
        {
         "0": "Excel",
         "1": "Daily",
         "2": "Other/Thing",
         "3": "SEAO - Contrat $ 25 000 et plus",
         "4": "Feuil1",
         "5": "EI",
         "6": "6",
         "7": "3",
         "8": "true",
         "9": "Numéro SEAO",
         "10": "true",
         "11": "String"
        },
        {
         "0": "Excel",
         "1": "Daily",
         "2": "Other/Thing",
         "3": "SEAO - Contrat $ 25 000 et plus",
         "4": "Feuil1",
         "5": "EI",
         "6": "6",
         "7": "4",
         "8": "true",
         "9": "Numéro organisme",
         "10": "true",
         "11": "String"
        },
        {
         "0": "Excel",
         "1": "Daily",
         "2": "Other/Thing",
         "3": "SEAO - Contrat $ 25 000 et plus",
         "4": "Feuil1",
         "5": "EI",
         "6": "6",
         "7": "5",
         "8": "false",
         "9": "Titre",
         "10": "true",
         "11": "String"
        },
        {
         "0": "Excel",
         "1": "Daily",
         "2": "Other/Thing",
         "3": "SEAO - Contrat $ 25 000 et plus",
         "4": "Feuil1",
         "5": "EI",
         "6": "6",
         "7": "6",
         "8": "false",
         "9": "Organisme",
         "10": "true",
         "11": "String"
        },
        {
         "0": "Excel",
         "1": "Daily",
         "2": "Other/Thing",
         "3": "SEAO - Contrat $ 25 000 et plus",
         "4": "Feuil1",
         "5": "EI",
         "6": "6",
         "7": "7",
         "8": "false",
         "9": "Utilisateur",
         "10": "true",
         "11": "String"
        },
        {
         "0": "Excel",
         "1": "Daily",
         "2": "Other/Thing",
         "3": "SEAO - Contrat $ 25 000 et plus",
         "4": "Feuil1",
         "5": "EI",
         "6": "6",
         "7": "8",
         "8": "false",
         "9": "Contact",
         "10": "true",
         "11": "String"
        },
        {
         "0": "Excel",
         "1": "Daily",
         "2": "Other/Thing",
         "3": "SEAO - Contrat $ 25 000 et plus",
         "4": "Feuil1",
         "5": "EI",
         "6": "6",
         "7": "9",
         "8": "false",
         "9": "Achat mandaté ou regroupement",
         "10": "true",
         "11": "String"
        },
        {
         "0": "Excel",
         "1": "Daily",
         "2": "Other/Thing",
         "3": "SEAO - Contrat $ 25 000 et plus",
         "4": "Feuil1",
         "5": "EI",
         "6": "6",
         "7": "10",
         "8": "false",
         "9": "Date de publication de l'avis",
         "10": "true",
         "11": "String"
        },
        {
         "0": "Excel",
         "1": "Daily",
         "2": "Other/Thing",
         "3": "SEAO - Contrat $ 25 000 et plus",
         "4": "Feuil1",
         "5": "EI",
         "6": "6",
         "7": "11",
         "8": "false",
         "9": "Date de clôture de l'avis",
         "10": "true",
         "11": "String"
        },
        {
         "0": "Excel",
         "1": "Daily",
         "2": "Other/Thing",
         "3": "SEAO - Contrat $ 25 000 et plus",
         "4": "Feuil1",
         "5": "EI",
         "6": "6",
         "7": "12",
         "8": "false",
         "9": "Date de publication des résultats d'ouverture",
         "10": "true",
         "11": "String"
        },
        {
         "0": "Excel",
         "1": "Daily",
         "2": "Other/Thing",
         "3": "SEAO - Contrat $ 25 000 et plus",
         "4": "Feuil1",
         "5": "EI",
         "6": "6",
         "7": "13",
         "8": "false",
         "9": "Date de conclusion du contrat",
         "10": "true",
         "11": "String"
        },
        {
         "0": "Excel",
         "1": "Daily",
         "2": "Other/Thing",
         "3": "SEAO - Contrat $ 25 000 et plus",
         "4": "Feuil1",
         "5": "EI",
         "6": "6",
         "7": "14",
         "8": "false",
         "9": "Date de publication de la conclusion de contrat",
         "10": "true",
         "11": "String"
        },
        {
         "0": "Excel",
         "1": "Daily",
         "2": "Other/Thing",
         "3": "SEAO - Contrat $ 25 000 et plus",
         "4": "Feuil1",
         "5": "EI",
         "6": "6",
         "7": "15",
         "8": "false",
         "9": "Contrat publié par",
         "10": "true",
         "11": "String"
        },
        {
         "0": "Excel",
         "1": "Daily",
         "2": "Other/Thing",
         "3": "SEAO - Contrat $ 25 000 et plus",
         "4": "Feuil1",
         "5": "EI",
         "6": "6",
         "7": "16",
         "8": "false",
         "9": "Date de fin prévue",
         "10": "true",
         "11": "String"
        },
        {
         "0": "Excel",
         "1": "Daily",
         "2": "Other/Thing",
         "3": "SEAO - Contrat $ 25 000 et plus",
         "4": "Feuil1",
         "5": "EI",
         "6": "6",
         "7": "17",
         "8": "false",
         "9": "Contractant",
         "10": "true",
         "11": "String"
        },
        {
         "0": "Excel",
         "1": "Daily",
         "2": "Other/Thing",
         "3": "SEAO - Contrat $ 25 000 et plus",
         "4": "Feuil1",
         "5": "EI",
         "6": "6",
         "7": "18",
         "8": "false",
         "9": "Options",
         "10": "true",
         "11": "String"
        },
        {
         "0": "Excel",
         "1": "Daily",
         "2": "Other/Thing",
         "3": "SEAO - Contrat $ 25 000 et plus",
         "4": "Feuil1",
         "5": "EI",
         "6": "6",
         "7": "19",
         "8": "false",
         "9": " Montant du contrat ",
         "10": "true",
         "11": "String"
        },
        {
         "0": "Excel",
         "1": "Daily",
         "2": "Other/Thing",
         "3": "SEAO - Contrat $ 25 000 et plus",
         "4": "Feuil1",
         "5": "EI",
         "6": "6",
         "7": "20",
         "8": "false",
         "9": " Montant total de la dépense prévue incluant les options ",
         "10": "true",
         "11": "String"
        },
        {
         "0": "Excel",
         "1": "Daily",
         "2": "Other/Thing",
         "3": "SEAO - Contrat $ 25 000 et plus",
         "4": "Feuil1",
         "5": "EI",
         "6": "6",
         "7": "21",
         "8": "false",
         "9": "Numéro de contrat",
         "10": "true",
         "11": "String"
        },
        {
         "0": "Excel",
         "1": "Daily",
         "2": "Other/Thing",
         "3": "SEAO - Contrat $ 25 000 et plus",
         "4": "Feuil1",
         "5": "EI",
         "6": "6",
         "7": "22",
         "8": "false",
         "9": "Type du contrat (TI)",
         "10": "true",
         "11": "String"
        },
        {
         "0": "Excel",
         "1": "Daily",
         "2": "Other/Thing",
         "3": "SEAO - Contrat $ 25 000 et plus",
         "4": "Feuil1",
         "5": "EI",
         "6": "6",
         "7": "23",
         "8": "false",
         "9": "Disposition de la loi ou du règlement",
         "10": "true",
         "11": "String"
        },
        {
         "0": "Excel",
         "1": "Daily",
         "2": "Other/Thing",
         "3": "SEAO - Contrat $ 25 000 et plus",
         "4": "Feuil1",
         "5": "EI",
         "6": "6",
         "7": "24",
         "8": "false",
         "9": "Type du contractant",
         "10": "true",
         "11": "String"
        }
       ],
       "schema": [
        {
         "key": "0",
         "name": "technology",
         "type": "string"
        },
        {
         "key": "1",
         "name": "frequency",
         "type": "string"
        },
        {
         "key": "2",
         "name": "folder_name",
         "type": "string"
        },
        {
         "key": "3",
         "name": "file_name",
         "type": "string"
        },
        {
         "key": "4",
         "name": "worksheet_name",
         "type": "string"
        },
        {
         "key": "5",
         "name": "extract_type",
         "type": "string"
        },
        {
         "key": "6",
         "name": "first_row",
         "type": "string"
        },
        {
         "key": "7",
         "name": "sequence",
         "type": "bigint"
        },
        {
         "key": "8",
         "name": "is_pk",
         "type": "boolean"
        },
        {
         "key": "9",
         "name": "column_name",
         "type": "string"
        },
        {
         "key": "10",
         "name": "is_extracted",
         "type": "boolean"
        },
        {
         "key": "11",
         "name": "data_type",
         "type": "string"
        }
       ],
       "truncated": false
      },
      "wranglerEntryContext": {
       "candidateVariableNames": [
        "sdf"
       ],
       "dataframeType": "pyspark"
      }
     },
     "type": "Synapse.DataFrame"
    },
    "fac1a2b2-db91-4ade-84ea-0dab7b29e174": {
     "persist_state": {
      "view": {
       "chartOptions": {
        "aggregationType": "sum",
        "binsNumber": 10,
        "categoryFieldKeys": [
         "2"
        ],
        "chartType": "bar",
        "evaluatesOverAllRecords": false,
        "isStacked": false,
        "seriesFieldKeys": [
         "12"
        ],
        "wordFrequency": "-1"
       },
       "tableOptions": {},
       "type": "details",
       "viewOptionsGroup": [
        {
         "tabItems": [
          {
           "key": "0",
           "name": "Table",
           "options": {},
           "type": "table"
          }
         ]
        }
       ]
      }
     },
     "sync_state": {
      "isSummary": false,
      "language": "scala",
      "table": {
       "rows": [
        {
         "0": "API",
         "1": "Daily",
         "2": "Transaction",
         "3": "https://umq.en1clic.ca/api/transaction/find",
         "4": "POST",
         "5": "{\"User-Agent\": \"zPL Concept\"}",
         "6": "{\"_TRANSACTION_DATE_\": [\"^datetime_from^\", \"^datetime_to^\"], \"fields\": [\"_TRANSACTION_ID_\", \"_TRANSACTION_NUMBER_\", \"_MEMBER_NUM_\", \"_COMPANY_ID_\", \"_PAYOR_\", \"_TRANSACTION_TYPE_\", \"_PAYMENT_METHOD_\", \"_PAYMENT_TYPE_\", \"_TRANSACTION_TOTAL_\", \"_TRANSACTION_DATE_\", \"_TRANSACTION_GL_CODE_\", \"_TRANSACTION_GL_DESCRIPTION_\", \"_TRANSACTION_RECEIPT_\", \"_TRANSACTION_DETAILS_\"]}",
         "7": "results",
         "9": "{\"key\": \"*kv_test_key*\"}",
         "12": "60",
         "13": "JSON",
         "14": "true"
        },
        {
         "0": "API",
         "1": "Daily",
         "2": "Session",
         "3": "https://umq.en1clic.ca/api/transaction/find",
         "4": "POST",
         "5": "{\"User-Agent\": \"zPL Concept\"}",
         "6": "{\"_ENTITY_INSTANCE_DATE_MODIFIED_\":[\"^datetime_from^\", \"^datetime_to^\"], \"_ENTITY_INSTANCE_STRUCTURE_ID_\":2, \"fields\":[\"*\"]}",
         "7": "results",
         "9": "{\"key\": \"*kv_test_key*\"}",
         "12": "60",
         "13": "JSON",
         "14": "true"
        },
        {
         "0": "API",
         "1": "Daily",
         "2": "Invoice",
         "3": "https://umq.en1clic.ca/api/transaction/find",
         "4": "POST",
         "5": "{\"User-Agent\": \"zPL Concept\"}",
         "6": "{\"_INVOICE_DATE_MODIFIED_\": [\"^datetime_from^\", \"^datetime_to^\"], \"fields\": [\"_INVOICE_TYPE_\", \"_INVOICE_NAME_\", \"_INVOICE_HEADER_\", \"_INVOICE_STATUS_\", \"_INVOICE_DATE_CREATED_\", \"_INVOICE_DUE_DATE_\", \"_INVOICE_CREATED_BY_\", \"_INVOICE_MODIFIED_BY_\", \"_INVOICE_TOTAL_\", \"_INVOICE_TOTAL_PAID_\", \"_INVOICE_TOTAL_UNPAID_\", \"_INVOICE_DETAILS_\", \"CLIENT: First Name\", \"CLIENT: Last Name\", \"INVOICE: First Name\", \"INVOICE: Last Name\", \"_INVOICE_ID_\", \"_INVOICE_DATE_MODIFIED_\",\"_MEMBER_NUM_\", \"_INVOICE_INVOICE_DATE_\", \"_INVOICE_DATE_\"]}",
         "7": "results",
         "9": "{\"key\": \"*kv_test_key*\"}",
         "12": "60",
         "13": "JSON",
         "14": "true"
        }
       ],
       "schema": [
        {
         "key": "0",
         "name": "technology",
         "type": "string"
        },
        {
         "key": "1",
         "name": "frequency",
         "type": "string"
        },
        {
         "key": "2",
         "name": "table_name",
         "type": "string"
        },
        {
         "key": "3",
         "name": "base_url",
         "type": "string"
        },
        {
         "key": "4",
         "name": "method",
         "type": "string"
        },
        {
         "key": "5",
         "name": "header",
         "type": "string"
        },
        {
         "key": "6",
         "name": "body",
         "type": "string"
        },
        {
         "key": "7",
         "name": "root_element_name",
         "type": "string"
        },
        {
         "key": "8",
         "name": "paginated_value",
         "type": "string"
        },
        {
         "key": "9",
         "name": "params",
         "type": "string"
        },
        {
         "key": "10",
         "name": "authorization_type",
         "type": "string"
        },
        {
         "key": "11",
         "name": "authorization_value",
         "type": "string"
        },
        {
         "key": "12",
         "name": "request_timeout",
         "type": "int"
        },
        {
         "key": "13",
         "name": "response_format",
         "type": "string"
        },
        {
         "key": "14",
         "name": "is_extracted",
         "type": "boolean"
        }
       ],
       "truncated": false
      },
      "wranglerEntryContext": {
       "candidateVariableNames": [
        "sdf"
       ],
       "dataframeType": "pyspark"
      }
     },
     "type": "Synapse.DataFrame"
    }
   },
   "version": "0.1"
  },
  "widgets": {}
 },
 "nbformat": 4,
 "nbformat_minor": 5
}
