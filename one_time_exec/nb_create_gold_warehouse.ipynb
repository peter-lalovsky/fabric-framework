{
 "cells": [
  {
   "cell_type": "code",
   "execution_count": null,
   "id": "c2f27ced-66b4-484b-8c0e-b854296d780a",
   "metadata": {
    "jupyter": {
     "outputs_hidden": false,
     "source_hidden": false
    },
    "microsoft": {
     "language": "python",
     "language_group": "synapse_pyspark"
    },
    "nteract": {
     "transient": {
      "deleting": false
     }
    }
   },
   "outputs": [],
   "source": [
    "import requests\n",
    "import json"
   ]
  },
  {
   "cell_type": "code",
   "execution_count": null,
   "id": "19a02578-e275-431d-9aad-f3e67cabe1a4",
   "metadata": {
    "jupyter": {
     "outputs_hidden": false,
     "source_hidden": false
    },
    "microsoft": {
     "language": "python",
     "language_group": "synapse_pyspark"
    },
    "nteract": {
     "transient": {
      "deleting": false
     }
    }
   },
   "outputs": [],
   "source": [
    "# Warehouses to be created (edit this as needed)\n",
    "wh_new = [\"wh_gold\"]"
   ]
  },
  {
   "cell_type": "code",
   "execution_count": null,
   "id": "8cc17ab5-4844-43da-bb0e-8c08eeaa31be",
   "metadata": {
    "jupyter": {
     "outputs_hidden": false,
     "source_hidden": false
    },
    "microsoft": {
     "language": "python",
     "language_group": "synapse_pyspark"
    },
    "nteract": {
     "transient": {
      "deleting": false
     }
    }
   },
   "outputs": [],
   "source": [
    "is_debug = True"
   ]
  },
  {
   "cell_type": "code",
   "execution_count": null,
   "id": "74fa0ce7-47bd-437e-9a87-d9611e07373a",
   "metadata": {
    "jupyter": {
     "outputs_hidden": false,
     "source_hidden": false
    },
    "microsoft": {
     "language": "python",
     "language_group": "synapse_pyspark"
    },
    "nteract": {
     "transient": {
      "deleting": false
     }
    }
   },
   "outputs": [],
   "source": [
    "# Get current WorkspaceID\n",
    "ws_id = spark.conf.get(\"trident.workspace.id\")\n",
    "\n",
    "if is_debug:\n",
    "  print(\"Workspace ID: \" + ws_id)\n",
    "\n",
    "# Get Bearer Tokenmm url and header\n",
    "token_string = mssparkutils.credentials.getToken(\"https://api.fabric.microsoft.com/\")\n",
    "url = f\"https://api.fabric.microsoft.com/v1/workspaces/{ws_id}/warehouses\"\n",
    "header = {'Content-Type':'application/json','Authorization': f'Bearer {token_string}'}"
   ]
  },
  {
   "cell_type": "code",
   "execution_count": null,
   "id": "99233245-b13c-44e8-b947-acea0c833f7c",
   "metadata": {
    "jupyter": {
     "outputs_hidden": false,
     "source_hidden": false
    },
    "microsoft": {
     "language": "python",
     "language_group": "synapse_pyspark"
    },
    "nteract": {
     "transient": {
      "deleting": false
     }
    }
   },
   "outputs": [],
   "source": [
    "def fn_get_warehouse(url, header):\n",
    "    rsp = requests.get(\n",
    "        url = url\n",
    "        , headers = header\n",
    "    )\n",
    "\n",
    "    if rsp.status_code == 200:\n",
    "        rv = json.loads(rsp.text)['value']\n",
    "    else:\n",
    "        rv = f\"Error: {rsp.status_code} - {rsp.text}\"\n",
    "\n",
    "    return rv"
   ]
  },
  {
   "cell_type": "code",
   "execution_count": null,
   "id": "e09612ff-7a48-42fa-bff6-bb856d1f7208",
   "metadata": {
    "jupyter": {
     "outputs_hidden": false,
     "source_hidden": false
    },
    "microsoft": {
     "language": "python",
     "language_group": "synapse_pyspark"
    },
    "nteract": {
     "transient": {
      "deleting": false
     }
    }
   },
   "outputs": [],
   "source": [
    "def fn_create_warehouse(url, payload, header):\n",
    "    resp = requests.post(\n",
    "        url = url\n",
    "        , json = payload\n",
    "        , headers = header\n",
    "    )\n",
    "\n",
    "    resp.raise_for_status()\n",
    "    print (resp)\n",
    "\n",
    "    if resp.status_code in (201,202):\n",
    "        print(\"Post request successful.\")\n",
    "    else:\n",
    "        print(f\"Error: {resp.status_code} - {resp.text}\")\n",
    "        \n",
    "    return"
   ]
  },
  {
   "cell_type": "code",
   "execution_count": null,
   "id": "e6b5551c-ecba-42fb-ad28-02e258548fa9",
   "metadata": {
    "jupyter": {
     "outputs_hidden": false,
     "source_hidden": false
    },
    "microsoft": {
     "language": "python",
     "language_group": "synapse_pyspark"
    },
    "nteract": {
     "transient": {
      "deleting": false
     }
    }
   },
   "outputs": [],
   "source": [
    "rsp = fn_get_warehouse(url, header)\n",
    "\n",
    "if is_debug:\n",
    "  print(f\"rsp: {rsp}\")\n",
    "\n",
    "wh_existing = []\n",
    "for row in rsp:\n",
    "  wh_existing.append(row[\"displayName\"])\n",
    "  if is_debug:\n",
    "    r = row[\"displayName\"]\n",
    "    print(f\"displayName: {r}\")\n",
    "\n",
    "for row in wh_new:\n",
    "    if row not in wh_existing:\n",
    "        descr = f\"Warehouse {row}\"\n",
    "        payload = {\"displayName\": row, \"description\": descr}\n",
    "        fn_create_warehouse(url, payload, header)\n",
    "        if is_debug:\n",
    "            print(f\"payload: {payload}\")"
   ]
  }
 ],
 "metadata": {
  "kernel_info": {
   "name": "synapse_pyspark"
  },
  "kernelspec": {
   "display_name": "Synapse PySpark",
   "language": "Python",
   "name": "synapse_pyspark"
  },
  "language_info": {
   "name": "python"
  },
  "microsoft": {
   "language": "python",
   "language_group": "synapse_pyspark",
   "ms_spell_check": {
    "ms_spell_check_language": "en"
   }
  },
  "nteract": {
   "version": "nteract-front-end@1.0.0"
  },
  "spark_compute": {
   "compute_id": "/trident/default"
  },
  "widgets": {}
 },
 "nbformat": 4,
 "nbformat_minor": 5
}
