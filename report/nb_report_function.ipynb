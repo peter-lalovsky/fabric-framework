{
 "cells": [
  {
   "cell_type": "markdown",
   "id": "6dbf5ed0-50d0-41ff-ac54-1a013cec52f8",
   "metadata": {
    "microsoft": {
     "language": "python",
     "language_group": "synapse_pyspark"
    },
    "nteract": {
     "transient": {
      "deleting": false
     }
    }
   },
   "source": [
    "# System"
   ]
  },
  {
   "cell_type": "code",
   "execution_count": null,
   "id": "adc4ac63-af87-48f9-b1d3-74fbfae0ae17",
   "metadata": {
    "jupyter": {
     "outputs_hidden": false,
     "source_hidden": false
    },
    "microsoft": {
     "language": "python",
     "language_group": "synapse_pyspark"
    },
    "nteract": {
     "transient": {
      "deleting": false
     }
    }
   },
   "outputs": [],
   "source": [
    "if is_debug: print(\"\\n---------- This notenook name: nb_report_function - Start ----------\\n\")"
   ]
  },
  {
   "cell_type": "code",
   "execution_count": null,
   "id": "1455e02e-76e1-4a12-bb47-76ba31029fe7",
   "metadata": {
    "jupyter": {
     "outputs_hidden": false,
     "source_hidden": false
    },
    "microsoft": {
     "language": "python",
     "language_group": "synapse_pyspark"
    },
    "nteract": {
     "transient": {
      "deleting": false
     }
    }
   },
   "outputs": [],
   "source": [
    "medallion_name   = \"Report\"\n",
    "if is_debug: print(f\"medallion_name: {medallion_name}\")"
   ]
  },
  {
   "cell_type": "code",
   "execution_count": null,
   "id": "eaa16411-7358-436a-8da2-b96cd28b0d70",
   "metadata": {
    "jupyter": {
     "outputs_hidden": false,
     "source_hidden": false
    },
    "microsoft": {
     "language": "python",
     "language_group": "synapse_pyspark"
    },
    "nteract": {
     "transient": {
      "deleting": false
     }
    }
   },
   "outputs": [],
   "source": [
    "# Current session info\n",
    "if is_debug: display(ss.getActiveSession())"
   ]
  },
  {
   "cell_type": "markdown",
   "id": "73bf5382-d415-4d83-94cb-298f3f8f266e",
   "metadata": {
    "microsoft": {
     "language": "python",
     "language_group": "synapse_pyspark"
    },
    "nteract": {
     "transient": {
      "deleting": false
     }
    }
   },
   "source": [
    "## Print debug info"
   ]
  },
  {
   "cell_type": "code",
   "execution_count": null,
   "id": "1e7564a4-ab68-4a85-9eca-aa7ba490aa48",
   "metadata": {
    "jupyter": {
     "outputs_hidden": false,
     "source_hidden": false
    },
    "microsoft": {
     "language": "python",
     "language_group": "synapse_pyspark"
    },
    "nteract": {
     "transient": {
      "deleting": false
     }
    }
   },
   "outputs": [],
   "source": [
    "if is_debug:\n",
    "    def fn_print_debug_info(\n",
    "        status,\n",
    "        fn_name,\n",
    "        par\n",
    "    ):\n",
    "        print(f\"\\n----- {status} ----- {fn_name}() (UTC: {dt.datetime.now()}) - Start -----\")\n",
    "        for k, v in par.items(): print(f\"{k}: {str(v)}\")\n",
    "        print(f\"----- {status} ----- {fn_name} - End -----\\n\")\n",
    "\n",
    "        return (True)"
   ]
  },
  {
   "cell_type": "markdown",
   "id": "b5a43dd3-4fde-4c38-bdc1-b0fd0de2aa99",
   "metadata": {
    "microsoft": {
     "language": "python",
     "language_group": "synapse_pyspark"
    },
    "nteract": {
     "transient": {
      "deleting": false
     }
    }
   },
   "source": [
    "# Email"
   ]
  },
  {
   "cell_type": "markdown",
   "id": "655568ea-9cc6-4924-b3e6-e69ba54422e3",
   "metadata": {
    "microsoft": {
     "language": "python",
     "language_group": "synapse_pyspark"
    },
    "nteract": {
     "transient": {
      "deleting": false
     }
    }
   },
   "source": [
    "## Create report"
   ]
  },
  {
   "cell_type": "code",
   "execution_count": null,
   "id": "9485195b-35aa-4766-8bf1-a853d77dbbca",
   "metadata": {
    "jupyter": {
     "outputs_hidden": false,
     "source_hidden": false
    },
    "microsoft": {
     "language": "python",
     "language_group": "synapse_pyspark"
    },
    "nteract": {
     "transient": {
      "deleting": false
     }
    }
   },
   "outputs": [],
   "source": [
    "def fn_create_email_report(report_type):\n",
    "    # report_type:\n",
    "    #   • \"Success\" --> alert IN (\"Success\", \"Warning\")\n",
    "    #   • \"Error\"   --> alert = \"Danger\"\n",
    "    fn_name        = stk()[0][3]\n",
    "    caller_fn_name = stk()[1].function.replace(\"<module>\", \"\")\n",
    "    if is_debug: par = {}\n",
    "\n",
    "    try:\n",
    "        html  = None\n",
    "        table = None\n",
    "\n",
    "        if report_type == \"Error\":\n",
    "            sql_code = f\"\"\"SELECT\n",
    "    IFNULL(`process_timestamp`  , \\\"\\\") AS `process_timestamp`\n",
    "    , IFNULL(`medallion_name`   , \\\"\\\") AS `medallion_name`\n",
    "    , IFNULL(`source_name`      , \\\"\\\") AS `source_name`\n",
    "    , IFNULL(`locals`           , \\\"\\\") AS `locals`\n",
    "    , IFNULL(`alert`            , \\\"\\\") AS `alert`\n",
    "    , IFNULL(`alert_description`, \\\"\\\") AS `alert_description`\n",
    "    , IFNULL(`logged_datetime`  , \\\"\\\") AS `logged_datetime`\n",
    "FROM delta.`{global_parameter.abfs_path_lh_log}/Tables/log`\n",
    "WHERE\n",
    "    `alert`                 = \\\"Danger\\\"\n",
    "    AND `process_timestamp` = \\\"{global_parameter.process_timestamp}\\\"\n",
    "ORDER BY `logged_datetime`;\"\"\"\n",
    "        \n",
    "        elif report_type == \"Success\":\n",
    "            sql_code = f\"\"\"SELECT *\n",
    "FROM\n",
    "  (\n",
    "    SELECT\n",
    "        IFNULL(`process_timestamp`  , \\\"\\\") AS `process_timestamp`\n",
    "        , IFNULL(`medallion_name`   , \\\"\\\") AS `medallion_name`\n",
    "        , IFNULL(`source_name`      , \\\"\\\") AS `source_name`\n",
    "        , IFNULL(`locals`           , \\\"\\\") AS `locals`\n",
    "        , IFNULL(`alert`            , \\\"\\\") AS `alert`\n",
    "        , IFNULL(`alert_description`, \\\"\\\") AS `alert_description`\n",
    "        , IFNULL(`logged_datetime`  , \\\"\\\") AS `logged_datetime`\n",
    "    FROM delta.`{global_parameter.abfs_path_lh_log}/Tables/log`\n",
    "    WHERE\n",
    "      `alert`                 = \\\"Warning\\\"\n",
    "      AND `process_timestamp` = \\\"{global_parameter.process_timestamp}\\\"\n",
    "\n",
    "    UNION SELECT\n",
    "        IFNULL(`process_timestamp`  , \\\"\\\") AS `process_timestamp`\n",
    "        , IFNULL(`medallion_name`   , \\\"\\\") AS `medallion_name`\n",
    "        , IFNULL(`source_name`      , \\\"\\\") AS `source_name`\n",
    "        , IFNULL(`locals`           , \\\"\\\") AS `locals`\n",
    "        , IFNULL(`alert`            , \\\"\\\") AS `alert`\n",
    "        , IFNULL(`alert_description`, \\\"\\\") AS `alert_description`\n",
    "        , IFNULL(`logged_datetime`  , \\\"\\\") AS `logged_datetime`\n",
    "    FROM delta.`{global_parameter.abfs_path_lh_log}/Tables/log`\n",
    "    WHERE\n",
    "      `alert`                 = \\\"Success\\\"\n",
    "      AND `source_name`       LIKE \\\"fn_extract%\\\"\n",
    "      AND `source_name`       != \\\"fn_extract_preparation\\\"\n",
    "      AND `process_timestamp` = \\\"{global_parameter.process_timestamp}\\\"\n",
    "  ) AS A\n",
    "ORDER BY\n",
    "  CASE\n",
    "    WHEN A.`alert` = \\\"Warning\\\" THEN 1\n",
    "    WHEN A.`alert` = \\\"Success\\\" THEN 2\n",
    "  END\n",
    "  , `logged_datetime`;\"\"\"\n",
    "\n",
    "        rv = fn_execute_spark_sql(sql_code)\n",
    "        sdf         = rv[2]\n",
    "        sdf_count   = rv[3]\n",
    "\n",
    "        if sdf_count > 0:\n",
    "            sdf = sdf.withColumn(\"dict_parameter\", sf.get_json_object(sf.col(\"locals\"),\"$.dict_parameter\"))\n",
    "            sdf = sdf.select(\n",
    "                sf.col(\"process_timestamp\").alias(\"Timestamp\")\n",
    "                , sf.col(\"medallion_name\").alias(\"Medallion\")\n",
    "                , sf.col(\"source_name\").alias(\"Source\")\n",
    "                , sf.col(\"alert\").alias(\"Alert\")\n",
    "                , sf.col(\"alert_description\").alias(\"Description\")\n",
    "                , sf.date_format(sf.col(\"logged_datetime\"), \"yyyy-MM-dd HH:mm:ss.SSS\").alias(\"Logged\")\n",
    "                , sf.get_json_object(sf.col(\"dict_parameter\"), \"$.technology\").alias(\"Technology\")\n",
    "                #, sf.get_json_object(sf.col(\"dict_parameter\"), \"$.technology_clean\").alias(\"Technology\")\n",
    "                , sf.get_json_object(sf.col(\"dict_parameter\"), \"$.frequency\").alias(\"Frequency\")\n",
    "                , sf.get_json_object(sf.col(\"dict_parameter\"), \"$.lakehouse_name_clean\").alias(\"Lakehouse\")\n",
    "                , sf.get_json_object(sf.col(\"dict_parameter\"), \"$.server_name\").alias(\"Server\")\n",
    "                , sf.get_json_object(sf.col(\"dict_parameter\"), \"$.database_name\").alias(\"Database\")\n",
    "                , sf.get_json_object(sf.col(\"dict_parameter\"), \"$.schema_name\").alias(\"Schema\")\n",
    "                , sf.get_json_object(sf.col(\"dict_parameter\"), \"$.table_name\").alias(\"Table\")\n",
    "                , sf.get_json_object(sf.col(\"dict_parameter\"), \"$.folder_name_clean\").alias(\"Folder\")\n",
    "                , sf.get_json_object(sf.col(\"dict_parameter\"), \"$.file_name_clean\").alias(\"File\")\n",
    "                , sf.get_json_object(sf.col(\"dict_parameter\"), \"$.worksheet_name\").alias(\"Worksheet\")\n",
    "            )\n",
    "\n",
    "            # Create HTML table - Start\n",
    "            html = \"\"\"<!doctype html>\n",
    "<html lang=\"en-US\">\n",
    "    <head>\n",
    "        <title>ETL Report - \"\"\" + global_parameter.now_datetime + \"\"\"</title>\n",
    "        <meta charset=\\\"UTF-8\\\" />\n",
    "        <meta name=\\\"viewport\\\" content=\\\"width=device-width, initial-scale=1\\\" />\n",
    "        <meta name=\\\"theme-color\\\" content=\\\"#dedede\\\" />\n",
    "        <meta name=\\\"description\\\" content=\\\"Report, automatically created as a result of ETL\\\" />\n",
    "        <meta name=\\\"generator\\\" content=\\\"Microsoft Fabric\\\" />\n",
    "        <meta name=\\\"author\\\" content=\\\"zpl-concept.com\\\" />\n",
    "        <style>\n",
    "            body {\n",
    "\t\t\t\tbackground-color: #dedede;\n",
    "\t\t\t}\n",
    "            .report_table {\n",
    "\t\t\t\tborder-collapse: collapse;\n",
    "\t\t\t\tbackground-color: #ffffff;\n",
    "\t\t\t}\n",
    "            .report_table th {\n",
    "\t\t\t\tborder: 1px solid #333333;\n",
    "\t\t\t\tpadding: 5px;\n",
    "\t\t\t\ttext-align: center;\n",
    "\t\t\t\tbackground-color: #7d221d;\n",
    "\t\t\t\tcolor: #ffffff;\n",
    "\t\t\t\tfont-family: Verdana, Arial, Tahoma, Helvetica;\n",
    "\t\t\t\tfont-size: 12px;\n",
    "\t\t\t}\n",
    "            .report_table td {\n",
    "\t\t\t\tword-wrap: break-word;\n",
    "\t\t\t\tborder: 1px solid #333333;\n",
    "\t\t\t\tpadding: 5px;\n",
    "\t\t\t\tfont-family: Verdana, Arial, Tahoma, Helvetica;\n",
    "\t\t\t\tfont-size: 12px;\n",
    "                vertical-align: top;\n",
    "\t\t\t}\n",
    "        </style>\n",
    "    </head>\n",
    "    <body>\n",
    "\"\"\"\n",
    "\n",
    "            table = \"\"\"\n",
    "        <table class=\\\"report_table\\\">\n",
    "        <tr>\n",
    "            <th>Timestamp</th>\n",
    "            <th>Medallion</th>\n",
    "            <th>Source</th>\n",
    "            <th>Alert</th>\n",
    "            <th>Description</th>\n",
    "            <th>Logged at</th>\n",
    "            <th>Technology</th>\n",
    "            <th>Frequency</th>\n",
    "            <th>Lakehouse</th>\n",
    "            <th>Server</th>\n",
    "            <th>Database</th>\n",
    "            <th>Schema</th>\n",
    "            <th>Table</th>\n",
    "            <th>Folder</th>\n",
    "            <th>File</th>\n",
    "            <th>Worksheet</th>\n",
    "        </tr>\n",
    "\"\"\"\n",
    "\n",
    "            for row in sdf.collect():\n",
    "                if   row.Alert == \"Danger\":  tr = \"     <tr style=\\\"background-color: #f8d7da; color: #721c24;\\\">\"\n",
    "                elif row.Alert == \"Warning\": tr = \"     <tr style=\\\"background-color: #fff3cd; color: #856404;\\\">\"\n",
    "                elif row.Alert == \"Success\": tr = \"     <tr style=\\\"background-color: #d4edda; color: #155724;\\\">\"\n",
    "                else:                        tr = \"     <tr>\"\n",
    "\n",
    "                table += tr + \"\\\n",
    "            <td>\" + str(row.Timestamp) + \"</td>\\\n",
    "            <td>\" + str(row.Medallion) + \"</td>\\\n",
    "            <td>\" + str(row.Source) + \"</td>\\\n",
    "            <td>\" + str(row.Alert) + \"</td>\\\n",
    "            <td>\" + str(row.Description) + \"</td>\\\n",
    "            <td>\" + str(row.Logged) + \"</td>\\\n",
    "            <td>\" + str(row.Technology) + \"</td>\\\n",
    "            <td>\" + str(row.Frequency) + \"</td>\\\n",
    "            <td>\" + str(row.Lakehouse) + \"</td>\\\n",
    "            <td>\" + str(row.Server) + \"</td>\\\n",
    "            <td>\" + str(row.Database) + \"</td>\\\n",
    "            <td>\" + str(row.Schema) + \"</td>\\\n",
    "            <td>\" + str(row.Table) + \"</td>\\\n",
    "            <td>\" + str(row.Folder) + \"</td>\\\n",
    "            <td>\" + str(row.File) + \"</td>\\\n",
    "            <td>\" + str(row.Worksheet) + \"</td>\\\n",
    "        </tr>\"\n",
    "\n",
    "            table = table.replace(\"<td>None</td>\", \"<td></td>\")\n",
    "\n",
    "            html += table + \"\"\"     </table>\n",
    "    </body>\n",
    "</html>\"\"\"\n",
    "            # Create HTML table - End\n",
    "        \n",
    "        # fn_print_debug_info_123(\"Success\", fn_name, par) # test \"except\"\n",
    "\n",
    "        alert             = \"Success\"\n",
    "        if sdf_count > 0: alert_description = f\"Report created successfully. Rows: {sdf_count}\"\n",
    "        else: alert_description = \"Report is empty\"\n",
    "\n",
    "        return (alert, alert_description, html, sdf_count)\n",
    "    except Exception as ex:\n",
    "        alert             = \"Danger\"\n",
    "        alert_description = str(ex)\n",
    "\n",
    "        return (alert, alert_description, None, None)\n",
    "    finally:\n",
    "        if is_debug:\n",
    "            par[\"locals\"] = locals()\n",
    "            fn_print_debug_info(alert, fn_name, par)\n",
    "            del par\n",
    "\n",
    "        del table\n",
    "        fn_local_log_insert(global_parameter.process_timestamp, medallion_name, fn_name, fn_locals_to_json(locals())[2], alert, alert_description)"
   ]
  },
  {
   "cell_type": "markdown",
   "id": "727b8a5a-f835-4760-a4f6-8466ef441225",
   "metadata": {
    "nteract": {
     "transient": {
      "deleting": false
     }
    }
   },
   "source": [
    "# Operation"
   ]
  },
  {
   "cell_type": "markdown",
   "id": "6e09fa5a-2cc1-4f8d-a824-2a98e2785b68",
   "metadata": {
    "microsoft": {
     "language": "python",
     "language_group": "synapse_pyspark"
    },
    "nteract": {
     "transient": {
      "deleting": false
     }
    }
   },
   "source": [
    "## Get email report"
   ]
  },
  {
   "cell_type": "code",
   "execution_count": null,
   "id": "670c643e-51ed-4c8b-93fb-5e7aa92bae20",
   "metadata": {
    "jupyter": {
     "outputs_hidden": false,
     "source_hidden": false
    },
    "microsoft": {
     "language": "python",
     "language_group": "synapse_pyspark"
    },
    "nteract": {
     "transient": {
      "deleting": false
     }
    }
   },
   "outputs": [],
   "source": [
    "def fn_get_email_report():\n",
    "    fn_name        = stk()[0][3]\n",
    "    caller_fn_name = stk()[1].function.replace(\"<module>\", \"\")\n",
    "    if is_debug: par = {}\n",
    "\n",
    "    try:\n",
    "        if bool(global_parameter.send_error_email) == True:\n",
    "            rv_danger           = fn_create_email_report(\"Error\")\n",
    "            rv_danger_html      = rv_danger[2]\n",
    "            rv_danger_row_count = rv_danger[3]\n",
    "\n",
    "        if bool(global_parameter.send_success_email) == True:\n",
    "            rv_success           = fn_create_email_report(\"Success\")\n",
    "            rv_success_html      = rv_success[2]\n",
    "            rv_success_row_count = rv_success[3]\n",
    "\n",
    "        output = {}\n",
    "        \n",
    "        if bool(global_parameter.send_error_email) == True:\n",
    "            output[\"rv_danger_row_count\"]  = rv_danger_row_count\n",
    "            output[\"rv_danger_html\"]       = rv_danger_html\n",
    "        else:\n",
    "            output[\"rv_danger_row_count\"]  = 0\n",
    "            output[\"rv_danger_html\"]       = \"\"\n",
    "        \n",
    "        if bool(global_parameter.send_success_email) == True:\n",
    "            output[\"rv_success_row_count\"] = rv_success_row_count\n",
    "            output[\"rv_success_html\"]      = rv_success_html\n",
    "        else:\n",
    "            output[\"rv_success_row_count\"] = 0\n",
    "            output[\"rv_success_html\"]      = \"\"\n",
    "        \n",
    "        output = j.dumps(output)\n",
    "\n",
    "        alert = \"Success\"\n",
    "        alert_description = \"Report created successfully\"\n",
    "\n",
    "        return(alert, alert_description, output)\n",
    "    except Exception as ex:\n",
    "        alert             = \"Danger\"\n",
    "        alert_description = str(ex)\n",
    "\n",
    "        return (alert, alert_description, None)\n",
    "    finally:\n",
    "        if is_debug:\n",
    "            par[\"locals\"] = locals()\n",
    "            fn_print_debug_info(alert, fn_name, par)\n",
    "        \n",
    "        if \"sdf\"          in locals(): sdf          = str(sdf)\n",
    "        if \"col_name\"     in locals(): col_name     = str(col_name)\n",
    "        if \"replace_with\" in locals(): replace_with = str(replace_with)\n",
    "        if \"pdf\"          in locals(): pdf          = str(pdf)\n",
    "        if is_debug       == True:     par          = str(par)        \n",
    "        fn_local_log_insert(global_parameter.process_timestamp, medallion_name, fn_name, str(locals()), alert, alert_description)"
   ]
  },
  {
   "cell_type": "code",
   "execution_count": null,
   "id": "5ac16f48-fc75-42d6-95f2-ce7b9faf4147",
   "metadata": {
    "jupyter": {
     "outputs_hidden": false,
     "source_hidden": false
    },
    "microsoft": {
     "language": "python",
     "language_group": "synapse_pyspark"
    },
    "nteract": {
     "transient": {
      "deleting": false
     }
    }
   },
   "outputs": [],
   "source": [
    "if is_debug: print(\"\\n---------- This notenook name: nb_report_function - End ----------\\n\")"
   ]
  }
 ],
 "metadata": {
  "dependencies": {},
  "kernel_info": {
   "name": "synapse_pyspark"
  },
  "kernelspec": {
   "display_name": "synapse_pyspark",
   "name": "synapse_pyspark"
  },
  "language_info": {
   "name": "python"
  },
  "microsoft": {
   "language": "python",
   "language_group": "synapse_pyspark",
   "ms_spell_check": {
    "ms_spell_check_language": "en"
   }
  },
  "nteract": {
   "version": "nteract-front-end@1.0.0"
  },
  "spark_compute": {
   "compute_id": "/trident/default"
  },
  "widgets": {}
 },
 "nbformat": 4,
 "nbformat_minor": 5
}
