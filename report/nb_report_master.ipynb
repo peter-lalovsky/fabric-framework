{
 "cells": [
  {
   "cell_type": "code",
   "execution_count": null,
   "id": "bc448f19-402d-47db-9cef-780337d267a4",
   "metadata": {
    "jupyter": {
     "outputs_hidden": false,
     "source_hidden": false
    },
    "microsoft": {
     "language": "python",
     "language_group": "synapse_pyspark"
    },
    "nteract": {
     "transient": {
      "deleting": false
     }
    }
   },
   "outputs": [],
   "source": [
    "%%configure -f\n",
    "{\"defaultLakehouse\": {\"name\": \"lh_cfg\"}}"
   ]
  },
  {
   "cell_type": "markdown",
   "id": "5e45af1c-defd-49b1-8aba-e1427e8dcde5",
   "metadata": {
    "microsoft": {
     "language": "python",
     "language_group": "synapse_pyspark"
    },
    "nteract": {
     "transient": {
      "deleting": false
     }
    }
   },
   "source": [
    "# Set variables"
   ]
  },
  {
   "cell_type": "code",
   "execution_count": null,
   "id": "e6cce888-97d6-4026-bf5c-31ba8ede7a05",
   "metadata": {
    "jupyter": {
     "outputs_hidden": false,
     "source_hidden": false
    },
    "microsoft": {
     "language": "python",
     "language_group": "synapse_pyspark"
    },
    "nteract": {
     "transient": {
      "deleting": false
     }
    }
   },
   "outputs": [],
   "source": [
    "is_debug       = False\n",
    "medallion_name = \"Report\"\n",
    "\n",
    "if is_debug:\n",
    "    print(f\"is_debug:       {is_debug}\")\n",
    "    print(f\"medallion_name: {medallion_name}\")"
   ]
  },
  {
   "cell_type": "markdown",
   "id": "b3f007a3-1e1a-451b-8486-079cfaa6471c",
   "metadata": {
    "nteract": {
     "transient": {
      "deleting": false
     }
    }
   },
   "source": [
    "# Imports"
   ]
  },
  {
   "cell_type": "code",
   "execution_count": null,
   "id": "10c3ec9c-9d91-492d-8868-485af080f98f",
   "metadata": {
    "jupyter": {
     "outputs_hidden": false,
     "source_hidden": false
    },
    "microsoft": {
     "language": "python",
     "language_group": "synapse_pyspark"
    },
    "nteract": {
     "transient": {
      "deleting": false
     }
    }
   },
   "outputs": [],
   "source": [
    "import delta.tables                       as dlt\n",
    "import json                               as j\n",
    "from   types       import SimpleNamespace as sn\n",
    "from   pyspark.sql import functions       as sf\n",
    "from   pyspark.sql import DataFrame       as df\n",
    "from   pyspark.sql import types           as st\n",
    "from   inspect     import stack           as stk\n",
    "import time                               as t\n",
    "import datetime                           as dt\n",
    "import pytz                               as pt\n",
    "import re\n",
    "import unicodedata                        as ucd\n",
    "import pandas                             as pd\n",
    "import sys\n",
    "import requests                           as req\n",
    "if is_debug:\n",
    "  from pyspark.sql import SparkSession    as ss"
   ]
  },
  {
   "cell_type": "markdown",
   "id": "b1eb2e15-8e34-4b08-a0c1-5b99d6cbd29c",
   "metadata": {
    "microsoft": {
     "language": "python",
     "language_group": "synapse_pyspark"
    },
    "nteract": {
     "transient": {
      "deleting": false
     }
    }
   },
   "source": [
    "# Get parameters from \"pl_master\""
   ]
  },
  {
   "cell_type": "code",
   "execution_count": null,
   "id": "dd0e49f5-9874-4983-ae4f-611f3ed86c61",
   "metadata": {
    "jupyter": {
     "outputs_hidden": false,
     "source_hidden": false
    },
    "microsoft": {
     "language": "python",
     "language_group": "synapse_pyspark"
    },
    "nteract": {
     "transient": {
      "deleting": false
     }
    },
    "tags": [
     "parameters"
    ]
   },
   "outputs": [],
   "source": [
    "global_parameter = \"global_parameter from pl_master\"\n",
    "workspace_id     = \"workspace_id from pl_master\""
   ]
  },
  {
   "cell_type": "code",
   "execution_count": null,
   "id": "08ad1ce5-032a-4c88-b2dd-31158060c0a6",
   "metadata": {
    "jupyter": {
     "outputs_hidden": false,
     "source_hidden": false
    },
    "microsoft": {
     "language": "python",
     "language_group": "synapse_pyspark"
    },
    "nteract": {
     "transient": {
      "deleting": false
     }
    }
   },
   "outputs": [],
   "source": [
    "# Current session info\n",
    "if is_debug: display(ss.getActiveSession())"
   ]
  },
  {
   "cell_type": "code",
   "execution_count": null,
   "id": "f30d780f-6e86-4dad-843e-308dbbd68b9c",
   "metadata": {
    "editable": false,
    "jupyter": {
     "outputs_hidden": false,
     "source_hidden": false
    },
    "microsoft": {
     "language": "python",
     "language_group": "synapse_pyspark"
    },
    "nteract": {
     "transient": {
      "deleting": false
     }
    },
    "run_control": {
     "frozen": true
    }
   },
   "outputs": [],
   "source": [
    "# Freeze this\n",
    "# Simulate parameters from \"pl_master\".\n",
    "\n",
    "workspace_id = \"abc\"\n",
    "\n",
    "global_parameter = \"\"\"\n",
    "{\n",
    "    \"days_to_keep_log\": 365,\n",
    "    \"send_success_email\": \"True\",\n",
    "    \"send_error_email\": \"True\",\n",
    "    \"email_on_success\": \"example@example.com\",\n",
    "    \"email_on_error\": \"example@example.com\",\n",
    "    \"time_zone_nb\": \"Canada/Eastern\",\n",
    "    \"time_zone_pl\": \"Eastern Standard Time\",\n",
    "    \"mssql_isolation_level\": \"READ_UNCOMMITTED\",\n",
    "    \"projet_documentation_data_file_name\": \"configuration\",\n",
    "    \"sql_server\": \"sql-server.database.windows.net\",\n",
    "    \"abfs_path_lh_log\": \"abfss://abc@onelake.dfs.fabric.microsoft.com/abc\",\n",
    "    \"abfs_path_lh_bronze\": \"abfss://abc@onelake.dfs.fabric.microsoft.com/abc\",\n",
    "    \"abfs_path_lh_silver\": \"abfss://abc@onelake.dfs.fabric.microsoft.com/1abc\",\n",
    "    \"abfs_path_lh_cfg\": \"abfss://abc@onelake.dfs.fabric.microsoft.com/abc\",\n",
    "    \"abfs_path_lh_AdventureWorks\": \"abfss://abc@onelake.dfs.fabric.microsoft.com/abc\",\n",
    "\t\"my_dataverse\": \"abfss://abc@onelake.dfs.fabric.microsoft.com/abc\",\n",
    "\t\"now_datetime\": \"2024-09-10 08:37:36.637\",\n",
    "    \"process_timestamp\": \"20240910_083736637\"\n",
    "}\n",
    "\"\"\""
   ]
  },
  {
   "cell_type": "markdown",
   "id": "7e0b7413-a1ea-406c-aeb9-41dc46db8835",
   "metadata": {
    "microsoft": {
     "language": "python",
     "language_group": "synapse_pyspark"
    },
    "nteract": {
     "transient": {
      "deleting": false
     }
    }
   },
   "source": [
    "# Set parameters from \"pl_master\" in variables"
   ]
  },
  {
   "cell_type": "code",
   "execution_count": null,
   "id": "3726b2fc-c4c1-46b0-90ea-36bc21a668ca",
   "metadata": {
    "jupyter": {
     "outputs_hidden": false,
     "source_hidden": false
    },
    "microsoft": {
     "language": "python",
     "language_group": "synapse_pyspark"
    },
    "nteract": {
     "transient": {
      "deleting": false
     }
    }
   },
   "outputs": [],
   "source": [
    "# Create local variables from the parameters, paseed by \"pl_master\" into namespace \"global_parameter\"\n",
    "\n",
    "global_parameter = j.loads(global_parameter) # Convert string to mapping\n",
    "global_parameter = sn(**global_parameter)    # Create variables from mapping\n",
    "\n",
    "if is_debug:\n",
    "    print(type(global_parameter))\n",
    "    print(f\"global_parameter.days_to_keep_log:                    {global_parameter.days_to_keep_log}\")\n",
    "    print(f\"global_parameter.send_success_email:                  {global_parameter.send_success_email}\")\n",
    "    print(f\"global_parameter.send_error_email:                    {global_parameter.send_error_email}\")\n",
    "    print(f\"global_parameter.email_on_success:                    {global_parameter.email_on_success}\")\n",
    "    print(f\"global_parameter.email_on_error:                      {global_parameter.email_on_error}\")\n",
    "    print(f\"global_parameter.time_zone_nb:                        {global_parameter.time_zone_nb}\")\n",
    "    print(f\"global_parameter.time_zone_pl:                        {global_parameter.time_zone_pl}\")\n",
    "    print(f\"global_parameter.mssql_isolation_level:               {global_parameter.mssql_isolation_level}\")\n",
    "    print(f\"global_parameter.projet_documentation_data_file_name: {global_parameter.projet_documentation_data_file_name}\")\n",
    "    print(f\"global_parameter.abfs_path_lh_log:                    {global_parameter.abfs_path_lh_log}\")\n",
    "    print(f\"global_parameter.abfs_path_lh_bronze:                 {global_parameter.abfs_path_lh_bronze}\")\n",
    "    print(f\"global_parameter.abfs_path_lh_silver:                 {global_parameter.abfs_path_lh_silver}\")\n",
    "    print(f\"global_parameter.abfs_path_lh_cfg:                    {global_parameter.abfs_path_lh_cfg}\")\n",
    "    print(f\"global_parameter.my_dataverse:                        {global_parameter.my_dataverse}\")\n",
    "    print(f\"global_parameter.now_datetime:                        {global_parameter.now_datetime}\")\n",
    "    print(f\"global_parameter.process_timestamp:                   {global_parameter.process_timestamp}\")"
   ]
  },
  {
   "cell_type": "markdown",
   "id": "365ea24a-78fb-4518-848b-b74c7f314483",
   "metadata": {
    "microsoft": {
     "language": "python",
     "language_group": "synapse_pyspark"
    },
    "nteract": {
     "transient": {
      "deleting": false
     }
    }
   },
   "source": [
    "# Function"
   ]
  },
  {
   "cell_type": "code",
   "execution_count": null,
   "id": "a1759d4a-9730-4e45-8460-c3922452f613",
   "metadata": {
    "jupyter": {
     "outputs_hidden": false,
     "source_hidden": false
    },
    "microsoft": {
     "language": "python",
     "language_group": "synapse_pyspark"
    },
    "nteract": {
     "transient": {
      "deleting": false
     }
    }
   },
   "outputs": [],
   "source": [
    "#%run nb_system_cfg"
   ]
  },
  {
   "cell_type": "code",
   "execution_count": null,
   "id": "f7552dc6-64c9-4681-9704-032a912e3ba3",
   "metadata": {
    "jupyter": {
     "outputs_hidden": false,
     "source_hidden": false
    },
    "microsoft": {
     "language": "python",
     "language_group": "synapse_pyspark"
    },
    "nteract": {
     "transient": {
      "deleting": false
     }
    }
   },
   "outputs": [],
   "source": [
    "%run nb_system_function"
   ]
  },
  {
   "cell_type": "code",
   "execution_count": null,
   "id": "fb00daf0-48ab-40c6-bbd9-5a83cbbdafc0",
   "metadata": {
    "editable": false,
    "jupyter": {
     "outputs_hidden": false,
     "source_hidden": false
    },
    "microsoft": {
     "language": "python",
     "language_group": "synapse_pyspark"
    },
    "nteract": {
     "transient": {
      "deleting": false
     }
    },
    "run_control": {
     "frozen": true
    }
   },
   "outputs": [],
   "source": [
    "# Freeze this\n",
    "# Reset now_datetime, process_timestamp.\n",
    "\n",
    "global_parameter.now_datetime      = fn_get_now(\"datetime\")[1]\n",
    "global_parameter.process_timestamp = fn_get_now(\"string\")[1]\n",
    "\n",
    "print(f\"global_parameter.now_datetime:      {global_parameter.now_datetime}\")\n",
    "print(f\"global_parameter.process_timestamp: {global_parameter.process_timestamp}\")"
   ]
  },
  {
   "cell_type": "code",
   "execution_count": null,
   "id": "3d9bf6bd-0d5c-488d-9557-b2227a048867",
   "metadata": {
    "editable": false,
    "jupyter": {
     "outputs_hidden": false,
     "source_hidden": false
    },
    "microsoft": {
     "language": "python",
     "language_group": "synapse_pyspark"
    },
    "nteract": {
     "transient": {
      "deleting": false
     }
    },
    "run_control": {
     "frozen": true
    }
   },
   "outputs": [],
   "source": [
    "# Freeze this\n",
    "# Prepare for initial extract\n",
    "\n",
    "print(\"clean up lh_cfg.extract_parameter\")\n",
    "display(spark.sql(f\"delete from delta.`{global_parameter.abfs_path_lh_cfg}/Tables/extract_parameter`\"))\n",
    "\n",
    "print(\"clean up lh_log.extract\")\n",
    "display(spark.sql(f\"delete from delta.`{global_parameter.abfs_path_lh_log}/Tables/extract`\"))\n",
    "\n",
    "print(\"clean up lh_log.log\")\n",
    "display(spark.sql(f\"delete from delta.`{global_parameter.abfs_path_lh_log}/Tables/log`\"))"
   ]
  },
  {
   "cell_type": "code",
   "execution_count": null,
   "id": "276f0601-35d3-4e7f-99f5-0f0d95726881",
   "metadata": {
    "jupyter": {
     "outputs_hidden": false,
     "source_hidden": false
    },
    "microsoft": {
     "language": "python",
     "language_group": "synapse_pyspark"
    },
    "nteract": {
     "transient": {
      "deleting": false
     }
    }
   },
   "outputs": [],
   "source": [
    "%run nb_report_function"
   ]
  },
  {
   "cell_type": "markdown",
   "id": "114aa0cb-b54a-4db6-8098-8569554c7224",
   "metadata": {
    "microsoft": {
     "language": "python",
     "language_group": "synapse_pyspark"
    },
    "nteract": {
     "transient": {
      "deleting": false
     }
    }
   },
   "source": [
    "# Email"
   ]
  },
  {
   "cell_type": "code",
   "execution_count": null,
   "id": "60d2b121-7258-460c-848f-331abe51421c",
   "metadata": {
    "jupyter": {
     "outputs_hidden": false,
     "source_hidden": false
    },
    "microsoft": {
     "language": "python",
     "language_group": "synapse_pyspark"
    },
    "nteract": {
     "transient": {
      "deleting": false
     }
    }
   },
   "outputs": [],
   "source": [
    "exit_value = fn_get_email_report()[2]\n",
    "if is_debug: print(f\"exit_value: {exit_value}\")"
   ]
  },
  {
   "cell_type": "markdown",
   "id": "6fcb43b7-dd96-46e0-9191-804fda400a78",
   "metadata": {
    "microsoft": {
     "language": "python",
     "language_group": "synapse_pyspark"
    },
    "nteract": {
     "transient": {
      "deleting": false
     }
    }
   },
   "source": [
    "# Exit"
   ]
  },
  {
   "cell_type": "code",
   "execution_count": null,
   "id": "cf38e3c0-9903-4c4f-a4e3-00268a1f1143",
   "metadata": {
    "jupyter": {
     "outputs_hidden": false,
     "source_hidden": false
    },
    "microsoft": {
     "language": "python",
     "language_group": "synapse_pyspark"
    },
    "nteract": {
     "transient": {
      "deleting": false
     }
    }
   },
   "outputs": [],
   "source": [
    "notebookutils.notebook.exit(exit_value)"
   ]
  }
 ],
 "metadata": {
  "dependencies": {},
  "kernel_info": {
   "name": "synapse_pyspark"
  },
  "kernelspec": {
   "display_name": "Synapse PySpark",
   "language": "Python",
   "name": "synapse_pyspark"
  },
  "language_info": {
   "name": "python"
  },
  "microsoft": {
   "language": "python",
   "language_group": "synapse_pyspark",
   "ms_spell_check": {
    "ms_spell_check_language": "en"
   }
  },
  "nteract": {
   "version": "nteract-front-end@1.0.0"
  },
  "spark_compute": {
   "compute_id": "/trident/default",
   "session_options": {
    "conf": {
     "spark.synapse.nbs.session.timeout": "1200000"
    }
   }
  },
  "widgets": {}
 },
 "nbformat": 4,
 "nbformat_minor": 5
}
