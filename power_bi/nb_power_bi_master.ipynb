{
 "cells": [
  {
   "cell_type": "code",
   "execution_count": 1,
   "id": "9393b86e-7c31-4947-b8b3-90bfe1aefd24",
   "metadata": {
    "microsoft": {
     "language": "python",
     "language_group": "synapse_pyspark"
    }
   },
   "outputs": [],
   "source": [
    "%%configure -f\n",
    "{\"defaultLakehouse\": {\"name\": \"lh_cfg\"}}"
   ]
  },
  {
   "cell_type": "markdown",
   "id": "36740b53-ebf9-4d89-a0de-3a4f4cffc0b7",
   "metadata": {
    "microsoft": {
     "language": "python",
     "language_group": "synapse_pyspark"
    },
    "nteract": {
     "transient": {
      "deleting": false
     }
    }
   },
   "source": [
    "# Set variables"
   ]
  },
  {
   "cell_type": "code",
   "execution_count": 2,
   "id": "df0fe3db-3d0b-4b33-a879-5d09a745cda7",
   "metadata": {
    "jupyter": {
     "outputs_hidden": false,
     "source_hidden": false
    },
    "microsoft": {
     "language": "python",
     "language_group": "synapse_pyspark"
    },
    "nteract": {
     "transient": {
      "deleting": false
     }
    }
   },
   "outputs": [],
   "source": [
    "is_debug       = False\n",
    "medallion_name = \"Power BI\"\n",
    "\n",
    "if is_debug:\n",
    "    print(f\"is_debug:       {is_debug}\")\n",
    "    print(f\"medallion_name: {medallion_name}\")"
   ]
  },
  {
   "cell_type": "markdown",
   "id": "c1c639bf-1619-4702-a4f2-4db027472d92",
   "metadata": {
    "nteract": {
     "transient": {
      "deleting": false
     }
    }
   },
   "source": [
    "# Imports"
   ]
  },
  {
   "cell_type": "code",
   "execution_count": 3,
   "id": "3f2a3fed-3380-4843-b874-df579db1777d",
   "metadata": {
    "jupyter": {
     "outputs_hidden": false,
     "source_hidden": false
    },
    "microsoft": {
     "language": "python",
     "language_group": "synapse_pyspark"
    },
    "nteract": {
     "transient": {
      "deleting": false
     }
    }
   },
   "outputs": [],
   "source": [
    "import delta.tables                       as dlt\n",
    "import json                               as j\n",
    "from   types       import SimpleNamespace as sn\n",
    "from   pyspark.sql import functions       as sf\n",
    "from   pyspark.sql import DataFrame       as df\n",
    "from   pyspark.sql import types           as st\n",
    "from   pyspark.sql import Row\n",
    "from   inspect     import stack           as stk\n",
    "import time                               as t\n",
    "import datetime                           as dt\n",
    "import pytz                               as pt\n",
    "import re\n",
    "import unicodedata                        as ucd\n",
    "import pandas                             as pd\n",
    "import sys\n",
    "import requests                           as req\n",
    "if is_debug:\n",
    "  from pyspark.sql import SparkSession    as ss"
   ]
  },
  {
   "cell_type": "markdown",
   "id": "06b6014b-86b2-4ace-86e0-f3842a63e878",
   "metadata": {
    "microsoft": {
     "language": "python",
     "language_group": "synapse_pyspark"
    },
    "nteract": {
     "transient": {
      "deleting": false
     }
    }
   },
   "source": [
    "# Get parameters from \"pl_master\""
   ]
  },
  {
   "cell_type": "code",
   "execution_count": 4,
   "id": "b75251e3-c2ac-4590-8ddd-564271bf319d",
   "metadata": {
    "jupyter": {
     "outputs_hidden": false,
     "source_hidden": false
    },
    "microsoft": {
     "language": "python",
     "language_group": "synapse_pyspark"
    },
    "nteract": {
     "transient": {
      "deleting": false
     }
    },
    "tags": [
     "parameters"
    ]
   },
   "outputs": [],
   "source": [
    "global_parameter = \"global_parameter from pl_master\"\n",
    "workspace_id     = \"workspace_id from pl_master\""
   ]
  },
  {
   "cell_type": "code",
   "execution_count": 5,
   "id": "133a083d-87b6-4343-ab8c-1cf02da97dcc",
   "metadata": {
    "jupyter": {
     "outputs_hidden": false,
     "source_hidden": false
    },
    "microsoft": {
     "language": "python",
     "language_group": "synapse_pyspark"
    },
    "nteract": {
     "transient": {
      "deleting": false
     }
    }
   },
   "outputs": [],
   "source": [
    "# Current session info\n",
    "if is_debug: display(ss.getActiveSession())"
   ]
  },
  {
   "cell_type": "code",
   "execution_count": 6,
   "id": "4fe3e27e-a1b4-4fb0-9687-9be93b99ab12",
   "metadata": {
    "jupyter": {
     "outputs_hidden": false,
     "source_hidden": false
    },
    "microsoft": {
     "language": "python",
     "language_group": "synapse_pyspark"
    },
    "nteract": {
     "transient": {
      "deleting": false
     }
    }
   },
   "outputs": [],
   "source": [
    "# Freeze this\n",
    "# Simulate parameters from \"pl_master\".\n",
    "\n",
    "workspace_id = \"abc\"\n",
    "\n",
    "global_parameter = \"\"\"\n",
    "{\n",
    "    \"days_to_keep_log\": 365\n",
    "    , \"send_success_email\": \"True\"\n",
    "    , \"send_error_email\": \"True\"\n",
    "    , \"email_on_success\": \"example@example.com\"\n",
    "    , \"email_on_error\": \"example@example.com\"\n",
    "    , \"time_zone_nb\": \"Canada/Eastern\"\n",
    "    , \"time_zone_pl\": \"Eastern Standard Time\"\n",
    "    , \"mssql_isolation_level\": \"READ_UNCOMMITTED\"\n",
    "    , \"projet_documentation_data_file_name\": \"configuration\"\n",
    "    , \"sql_server\": \"sql-server.database.windows.net\"\n",
    "    , \"key_vault_url\": \"https://kv-keyvault.vault.azure.net/\"\n",
    "    , \"kv_test_key\": \"kv-my-key\"\n",
    "    , \"bearer_token_url\": \"https://api.fabric.microsoft.com/\"\n",
    "    , \"abfs_path_lh_cfg\": \"abfss://abc@onelake.dfs.fabric.microsoft.com/abc\"\n",
    "    , \"abfs_path_lh_log\": \"abfss://abc@onelake.dfs.fabric.microsoft.com/abc\"\n",
    "    , \"abfs_path_lh_silver\": \"abfss://abc@onelake.dfs.fabric.microsoft.com/1abc\"\n",
    "    , \"abfs_path_lh_bronze\": \"abfss://abc@onelake.dfs.fabric.microsoft.com/abc\"\n",
    "    , \"abfs_path_lh_AdventureWorks\": \"abfss://abc@onelake.dfs.fabric.microsoft.com/abc\"\n",
    "\t, \"my_dataverse\": \"abfss://abc@onelake.dfs.fabric.microsoft.com/abc\"\n",
    "    , \"abfs_path_lh_gold\":\"abfss://abc@onelake.dfs.fabric.microsoft.com/abc\"\n",
    "\t, \"now_datetime\": \"2024-05-07 14:09:09.367\"\n",
    "    , \"process_timestamp\": \"20240507_140909367\"\n",
    "}\n",
    "\"\"\""
   ]
  },
  {
   "cell_type": "markdown",
   "id": "cda0d28e-5138-4574-bac1-99f8b71dd528",
   "metadata": {
    "microsoft": {
     "language": "python",
     "language_group": "synapse_pyspark"
    },
    "nteract": {
     "transient": {
      "deleting": false
     }
    }
   },
   "source": [
    "# Set parameters from \"pl_master\" in variables"
   ]
  },
  {
   "cell_type": "code",
   "execution_count": 7,
   "id": "44b52665-2f36-4ef8-a889-3bf5d5b09f11",
   "metadata": {
    "editable": true,
    "jupyter": {
     "outputs_hidden": false,
     "source_hidden": false
    },
    "microsoft": {
     "language": "python",
     "language_group": "synapse_pyspark"
    },
    "nteract": {
     "transient": {
      "deleting": false
     }
    },
    "run_control": {
     "frozen": false
    }
   },
   "outputs": [],
   "source": [
    "# Create local variables from the parameters, paseed by \"pl_master\" into namespace \"global_parameter\"\n",
    "\n",
    "global_parameter = j.loads(global_parameter) # Convert string to mapping\n",
    "global_parameter = sn(**global_parameter)    # Create variables from mapping\n",
    "\n",
    "if is_debug:\n",
    "    print(type(global_parameter))\n",
    "    print(f\"global_parameter.days_to_keep_log:                    {global_parameter.days_to_keep_log}\")\n",
    "    print(f\"global_parameter.send_success_email:                  {global_parameter.send_success_email}\")\n",
    "    print(f\"global_parameter.send_error_email:                    {global_parameter.send_error_email}\")\n",
    "    print(f\"global_parameter.email_on_success:                    {global_parameter.email_on_success}\")\n",
    "    print(f\"global_parameter.email_on_error:                      {global_parameter.email_on_error}\")\n",
    "    print(f\"global_parameter.time_zone_nb:                        {global_parameter.time_zone_nb}\")\n",
    "    print(f\"global_parameter.time_zone_pl:                        {global_parameter.time_zone_pl}\")\n",
    "    print(f\"global_parameter.mssql_isolation_level:               {global_parameter.mssql_isolation_level}\")\n",
    "    print(f\"global_parameter.projet_documentation_data_file_name: {global_parameter.projet_documentation_data_file_name}\")\n",
    "    print(f\"sql_server:                                           {global_parameter.sql_server}\")\n",
    "    print(f\"key_vault_url:                                        {global_parameter.key_vault_url}\")\n",
    "    print(f\"kv_test_key:                                          {global_parameter.kv_test_key}\")\n",
    "    print(f\"bearer_token_url:                                     {global_parameter.bearer_token_url}\")\n",
    "    print(f\"global_parameter.abfs_path_lh_cfg:                    {global_parameter.abfs_path_lh_cfg}\")\n",
    "    print(f\"global_parameter.abfs_path_lh_log:                    {global_parameter.abfs_path_lh_log}\")\n",
    "    print(f\"global_parameter.abfs_path_lh_silver:                 {global_parameter.abfs_path_lh_silver}\")    \n",
    "    print(f\"global_parameter.abfs_path_lh_bronze:                 {global_parameter.abfs_path_lh_bronze}\")\n",
    "    print(f\"abfs_path_lh_AdventureWorks:                          {global_parameter.abfs_path_lh_AdventureWorks}\")    \n",
    "    print(f\"global_parameter.my_dataverse:                        {global_parameter.my_dataverse}\")\n",
    "    print(f\"abfs_path_lh_gold:                                    {global_parameter.abfs_path_lh_gold}\")\n",
    "    print(f\"global_parameter.now_datetime:                        {global_parameter.now_datetime}\")\n",
    "    print(f\"global_parameter.process_timestamp:                   {global_parameter.process_timestamp}\")"
   ]
  },
  {
   "cell_type": "code",
   "execution_count": null,
   "id": "e34be761-c215-4d9e-8d33-f87253176bfb",
   "metadata": {
    "jupyter": {
     "outputs_hidden": false,
     "source_hidden": false
    },
    "microsoft": {
     "language": "python",
     "language_group": "synapse_pyspark"
    },
    "nteract": {
     "transient": {
      "deleting": false
     }
    }
   },
   "outputs": [],
   "source": [
    "# inject environment in global parameter\n",
    "\n",
    "workspace_name = notebookutils.runtime.context.get(\"currentWorkspaceName\")\n",
    "if is_debug: print(f\"workspace_name: {workspace_name}\")\n",
    "\n",
    "# Presumption:\n",
    "workspace_name = \"zPL Concept - Fabric Framework (DEV)\"  # DEV\n",
    "#workspace_name = \"zPL Concept - Fabric Framework (TEST)\" # TEST\n",
    "#workspace_name = \"zPL Concept - Fabric Framework\"        # PROD\n",
    "\n",
    "# Set variable \"environment\"\n",
    "env = workspace_name[-6:]\n",
    "if env.find(\"(\") == -1: global_parameter.environment = \"PROD\"\n",
    "else:                   global_parameter.environment = env[(env.index(\"(\") + 1):env.index(\")\")]\n",
    "\n",
    "if is_debug:\n",
    "    print(\"global_parameter:\")\n",
    "    display(global_parameter)"
   ]
  },
  {
   "cell_type": "markdown",
   "id": "54254267-bdaa-4444-a716-f0e55d73bb03",
   "metadata": {
    "microsoft": {
     "language": "python",
     "language_group": "synapse_pyspark"
    },
    "nteract": {
     "transient": {
      "deleting": false
     }
    }
   },
   "source": [
    "# Function"
   ]
  },
  {
   "cell_type": "markdown",
   "id": "48c1443f-2aa0-4c6b-b950-6920ecd064cd",
   "metadata": {
    "microsoft": {
     "language": "python",
     "language_group": "synapse_pyspark"
    },
    "nteract": {
     "transient": {
      "deleting": false
     }
    }
   },
   "source": [
    "## Run notebooks \"system_cfg\" and \"system functions\""
   ]
  },
  {
   "cell_type": "code",
   "execution_count": 9,
   "id": "f357d604-b772-44c0-89fe-eff06b8451f6",
   "metadata": {
    "jupyter": {
     "outputs_hidden": false,
     "source_hidden": false
    },
    "microsoft": {
     "language": "python",
     "language_group": "synapse_pyspark"
    },
    "nteract": {
     "transient": {
      "deleting": false
     }
    }
   },
   "outputs": [],
   "source": [
    "#%run nb_system_cfg"
   ]
  },
  {
   "cell_type": "code",
   "execution_count": 10,
   "id": "d3c70405-366d-413c-853b-719d7b3f67f9",
   "metadata": {
    "jupyter": {
     "outputs_hidden": false,
     "source_hidden": false
    },
    "microsoft": {
     "language": "python",
     "language_group": "synapse_pyspark"
    },
    "nteract": {
     "transient": {
      "deleting": false
     }
    }
   },
   "outputs": [],
   "source": [
    "%run nb_system_function"
   ]
  },
  {
   "cell_type": "code",
   "execution_count": null,
   "id": "2ee67492-fc93-4be1-ade7-bbf84ab1db1b",
   "metadata": {
    "jupyter": {
     "outputs_hidden": false,
     "source_hidden": false
    },
    "microsoft": {
     "language": "python",
     "language_group": "synapse_pyspark"
    },
    "nteract": {
     "transient": {
      "deleting": false
     }
    }
   },
   "outputs": [],
   "source": [
    "%run nb_power_bi_function"
   ]
  },
  {
   "cell_type": "code",
   "execution_count": null,
   "id": "25188956-0b04-4eef-81eb-7f7cb58361ae",
   "metadata": {
    "jupyter": {
     "outputs_hidden": false,
     "source_hidden": false
    },
    "microsoft": {
     "language": "python",
     "language_group": "synapse_pyspark"
    },
    "nteract": {
     "transient": {
      "deleting": false
     }
    }
   },
   "outputs": [],
   "source": [
    "# Freeze this\n",
    "# Reset now_datetime, process_timestamp\n",
    "\n",
    "global_parameter.now_datetime      = fn_get_now(\"datetime\")[1]\n",
    "global_parameter.process_timestamp = fn_get_now(\"string\")[1]\n",
    "\n",
    "if is_debug:\n",
    "    print(f\"global_parameter.now_datetime:      {global_parameter.now_datetime}\")\n",
    "    print(f\"global_parameter.process_timestamp: {global_parameter.process_timestamp}\")"
   ]
  },
  {
   "cell_type": "markdown",
   "id": "738b67f3-4f37-4ac2-8797-30740a41d4d1",
   "metadata": {
    "microsoft": {
     "language": "python",
     "language_group": "synapse_pyspark"
    },
    "nteract": {
     "transient": {
      "deleting": false
     }
    }
   },
   "source": [
    "# Operation"
   ]
  },
  {
   "cell_type": "markdown",
   "id": "b0ada2b7-bd26-4ece-b98f-48e00f892178",
   "metadata": {
    "microsoft": {
     "language": "python",
     "language_group": "synapse_pyspark"
    },
    "nteract": {
     "transient": {
      "deleting": false
     }
    }
   },
   "source": [
    "## Get the frequencies that need to be refreshed now"
   ]
  },
  {
   "cell_type": "code",
   "execution_count": null,
   "id": "4d2df0c2-914c-47a2-a90a-9a08112198f9",
   "metadata": {
    "jupyter": {
     "outputs_hidden": false,
     "source_hidden": false
    },
    "microsoft": {
     "language": "python",
     "language_group": "synapse_pyspark"
    },
    "nteract": {
     "transient": {
      "deleting": false
     }
    }
   },
   "outputs": [],
   "source": [
    "#now_datetime = fn_get_now(\"datetime\")[1]\n",
    "#now_datetime = global_parameter.now_datetime\n",
    "now_datetime = \"2024-04-01 01:11:27.020\" # kill me. Simulate first day on month @ 1 AM.\n",
    "\n",
    "sql_code = f\"\"\"SELECT DISTINCT Z.`frequency`\n",
    "FROM\n",
    "  (\n",
    "    SELECT\n",
    "      *\n",
    "      , CASE WHEN  Y.`frequency` = 'Hourly'                                                                                                                                      THEN 1 END AS H\n",
    "      , CASE WHEN (Y.`frequency` = 'Daily'     AND HOUR('{now_datetime}') = 1                                                                                                  ) THEN 1 END AS D\n",
    "      , CASE WHEN (Y.`frequency` = 'Weekly'    AND HOUR('{now_datetime}') = 1 AND DATE_FORMAT('{now_datetime}', 'EEEE') = 'Monday'                                             ) THEN 1 END AS W\n",
    "      , CASE WHEN (Y.`frequency` = 'Monthly'   AND DAY('{now_datetime}' ) = 1 AND HOUR('{now_datetime}')                = 1                                                    ) THEN 1 END AS M\n",
    "      , CASE WHEN (Y.`frequency` = 'Quarterly' AND DAY('{now_datetime}' ) = 1 AND HOUR('{now_datetime}')                = 1        AND MONTH('{now_datetime}') IN (1, 4, 7, 10)) THEN 1 END AS Q\n",
    "      , CASE WHEN (Y.`frequency` = 'Yearly'    AND DAY('{now_datetime}' ) = 1 AND HOUR('{now_datetime}')                = 1        AND MONTH('{now_datetime}') = 1             ) THEN 1 END AS Y\n",
    "    FROM\n",
    "      (\n",
    "              SELECT `frequency` FROM delta.`{global_parameter.abfs_path_lh_cfg}/Tables/extract_object_csv`        WHERE `is_extracted` = 1\n",
    "        UNION SELECT `frequency` FROM delta.`{global_parameter.abfs_path_lh_cfg}/Tables/extract_object_excel`      WHERE `is_extracted` = 1\n",
    "        UNION SELECT `frequency` FROM delta.`{global_parameter.abfs_path_lh_cfg}/Tables/extract_object_json`       WHERE `is_extracted` = 1\n",
    "        UNION SELECT `frequency` FROM delta.`{global_parameter.abfs_path_lh_cfg}/Tables/extract_object_lakehouse`  WHERE `is_extracted` = 1\n",
    "        UNION SELECT `frequency` FROM delta.`{global_parameter.abfs_path_lh_cfg}/Tables/extract_object_sql_server` WHERE `is_extracted` = 1\n",
    "        UNION SELECT `frequency` FROM delta.`{global_parameter.abfs_path_lh_cfg}/Tables/extract_object_api`        WHERE `is_extracted` = 1\n",
    "      ) AS Y\n",
    "  ) AS Z\n",
    "WHERE COALESCE(Z.H, Z.D, Z.W, Z.M, Z.Q, Z.Y) = 1;\"\"\"\n",
    "sdf_frequency = fn_execute_spark_sql(sql_code)[2]\n",
    "\n",
    "if is_debug:\n",
    "    print(f\"sql_code: {sql_code}\")\n",
    "    display(sdf_frequency)"
   ]
  },
  {
   "cell_type": "markdown",
   "id": "2fd10c71-7064-4e5b-82bf-8c9aadef407f",
   "metadata": {
    "nteract": {
     "transient": {
      "deleting": false
     }
    }
   },
   "source": [
    "## Set \"list_frequency\""
   ]
  },
  {
   "cell_type": "code",
   "execution_count": null,
   "id": "387bdb6a-122b-4992-950e-433d1f56deff",
   "metadata": {
    "jupyter": {
     "outputs_hidden": false,
     "source_hidden": false
    },
    "microsoft": {
     "language": "python",
     "language_group": "synapse_pyspark"
    },
    "nteract": {
     "transient": {
      "deleting": false
     }
    }
   },
   "outputs": [],
   "source": [
    "list_frequency = []\n",
    "for row in sdf_frequency.select(sdf_frequency[\"frequency\"]).distinct().collect(): list_frequency.append(row.frequency)\n",
    "\n",
    "# Insert \"list_technology\" and \"list_frequency\" in \"sdf_log\"\n",
    "locals_                    = {}\n",
    "locals_[\"list_frequency\"]  = list_frequency\n",
    "locals_                    = j.dumps(locals_)\n",
    "fn_local_log_insert(global_parameter.process_timestamp, medallion_name, \"nb_power_bi_master\", locals_, \"Success\", \"\")\n",
    "\n",
    "if is_debug: print(f\"list_frequency: {type(list_frequency)} | {list_frequency}\")"
   ]
  },
  {
   "cell_type": "code",
   "execution_count": null,
   "id": "b1eaf3ef-1cae-41cb-950e-42388dce6c27",
   "metadata": {
    "collapsed": false,
    "jupyter": {
     "outputs_hidden": false,
     "source_hidden": false
    },
    "microsoft": {
     "language": "python",
     "language_group": "synapse_pyspark"
    },
    "nteract": {
     "transient": {
      "deleting": false
     }
    }
   },
   "outputs": [],
   "source": [
    "# Power BI Refresh\n",
    "\n",
    "fn_exec_async_pbi_refresh(list_frequency)"
   ]
  },
  {
   "cell_type": "code",
   "execution_count": null,
   "id": "9de86a8d-fa6c-4192-8eaa-41ff7e1833e7",
   "metadata": {
    "collapsed": false,
    "jupyter": {
     "outputs_hidden": false,
     "source_hidden": false
    },
    "microsoft": {
     "language": "python",
     "language_group": "synapse_pyspark"
    },
    "nteract": {
     "transient": {
      "deleting": false
     }
    }
   },
   "outputs": [],
   "source": [
    "# Display local log\n",
    "\n",
    "pdf_log.reset_index(drop = True, inplace = True)\n",
    "display(pdf_log.sort_values(by = \"logged_datetime\", ascending = False))"
   ]
  }
 ],
 "metadata": {
  "dependencies": {},
  "kernel_info": {
   "name": "synapse_pyspark"
  },
  "kernelspec": {
   "display_name": "Synapse PySpark",
   "language": "Python",
   "name": "synapse_pyspark"
  },
  "language_info": {
   "name": "python"
  },
  "microsoft": {
   "language": "python",
   "language_group": "synapse_pyspark",
   "ms_spell_check": {
    "ms_spell_check_language": "en"
   }
  },
  "nteract": {
   "version": "nteract-front-end@1.0.0"
  },
  "spark_compute": {
   "compute_id": "/trident/default",
   "session_options": {
    "conf": {
     "spark.synapse.nbs.session.timeout": "1200000"
    }
   }
  },
  "synapse_widget": {
   "state": {
    "b9ab13c2-1c90-4411-a036-d007c99a0fe0": {
     "persist_state": {
      "view": {
       "chartOptions": {
        "aggregationType": "count",
        "binsNumber": 10,
        "categoryFieldKeys": [
         "2"
        ],
        "chartType": "bar",
        "evaluatesOverAllRecords": false,
        "isStacked": false,
        "seriesFieldKeys": [
         "2"
        ],
        "wordFrequency": "-1"
       },
       "tableOptions": {},
       "type": "details",
       "viewOptionsGroup": [
        {
         "tabItems": [
          {
           "key": "0",
           "name": "Table",
           "options": {},
           "type": "table"
          }
         ]
        }
       ]
      }
     },
     "sync_state": {
      "isSummary": false,
      "language": "python",
      "table": {
       "rows": [
        {
         "0": "20241127_142507651",
         "1": "System",
         "2": "fn_pbi_refresh",
         "3": "{\"time_start\": \"2024-11-27 19:26:08.808970\", \"req_id\": \"d6d8c0ca-bff2-4562-8ba1-e2bf4ef73a06\", \"alert\": \"Success\", \"alert_description\": \"Completed\", \"status\": \"Completed\", \"time_end\": \"2024-11-27 19:26:09.265115\", \"duration_sec\": 0.456145, \"duration_min\": 0.0, \"refresh_timeout\": 720, \"loop_wait_time_seconds\": 15, \"semantic_model_name\": \"sm_dm_sale_lh_gold_from_tables\", \"url_refresh\": \"https://api.powerbi.com/v1.0/myorg/groups/6a9d410f-c3c8-485a-bda1-6f87c0d2cd21/datasets/288cb38b-fcee-4d4e-a844-11dffcd40beb/refreshes\", \"url_get_status\": \"https://api.powerbi.com/v1.0/myorg/groups/6a9d410f-c3c8-485a-bda1-6f87c0d2cd21/datasets/288cb38b-fcee-4d4e-a844-11dffcd40beb/refreshes?$top=1\", \"url_delete\": \"https://api.powerbi.com/v1.0/myorg/groups/6a9d410f-c3c8-485a-bda1-6f87c0d2cd21/datasets/288cb38b-fcee-4d4e-a844-11dffcd40beb/refreshes/^req_id^\", \"request_timeout\": 60, \"headers\": {\"Authorization\": \"Bearer [REDACTED]\", \"User-Agent\": \"zPL Concept\", \"Content-Type\": \"application/json\"}}",
         "4": "Success",
         "5": "Completed",
         "6": "2024-11-27T14:26:24.548"
        },
        {
         "0": "20241127_142507651",
         "1": "System",
         "2": "fn_pbi_refresh",
         "3": "{\"sdf\": \"DataFrame[request_timeout: int, refresh_timeout: int, loop_wait_time_seconds: int, semantic_model_name: string, url_refresh: string, url_get_status: string, url_delete: string, headers: map<string,string>, return_value: string]\", \"fn_name\": \"fn_pbi_refresh\", \"caller_fn_name\": \"fn_exec_async_pbi_refresh\", \"sdf_count\": 1, \"alert\": \"Success\", \"alert_description\": \"Rows (count): 1\"}",
         "4": "Success",
         "5": "Rows (count): 1",
         "6": "2024-11-27T14:26:08.295"
        },
        {
         "0": "20241127_142507651",
         "1": "System",
         "2": "fn_pbi_set_sdf_async",
         "3": "{\"sdf\": \"DataFrame[request_timeout: int, refresh_timeout: int, loop_wait_time_seconds: int, semantic_model_name: string, url_refresh: string, url_get_status: string, url_delete: string, headers: map<string,string>]\", \"fn_name\": \"fn_pbi_set_sdf_async\", \"caller_fn_name\": \"fn_exec_async_pbi_refresh\", \"list_parameter\": \"[<Row(60, 720, 15, 'sm_dm_sale_lh_gold_from_tables', 'https://api.powerbi.com/v1.0/myorg/groups/6a9d410f-c3c8-485a-bda1-6f87c0d2cd21/datasets/288cb38b-fcee-4d4e-a844-11dffcd40beb/refreshes', 'https://api.powerbi.com/v1.0/myorg/groups/6a9d410f-c3c8-485a-bda1-6f87c0d2cd21/datasets/288cb38b-fcee-4d4e-a844-11dffcd40beb/refreshes?$top=1', 'https://api.powerbi.com/v1.0/myorg/groups/6a9d410f-c3c8-485a-bda1-6f87c0d2cd21/datasets/288cb38b-fcee-4d4e-a844-11dffcd40beb/refreshes/^req_id^', {'Content-Type': 'application/json', 'User-Agent': 'zPL Concept', 'Authorization': 'Bearer [REDACTED]'})>]\", \"bearer_token\": \"[REDACTED]\", \"row\": \"Row(frequency='Journali\\u00e8re', environment='DEV', workspace_id='6a9d410f-c3c8-485a-bda1-6f87c0d2cd21', semantic_model_id='288cb38b-fcee-4d4e-a844-11dffcd40beb', semantic_model_name='sm_dm_sale_lh_gold_from_tables', request_timeout=0, refresh_timeout=0, loop_wait_time_seconds=0)\", \"request_timeout\": 60, \"refresh_timeout\": 720, \"loop_wait_time_seconds\": 15, \"power_bi_refresh_base_url\": \"https://api.powerbi.com/v1.0/myorg\", \"url_refresh\": \"https://api.powerbi.com/v1.0/myorg/groups/6a9d410f-c3c8-485a-bda1-6f87c0d2cd21/datasets/288cb38b-fcee-4d4e-a844-11dffcd40beb/refreshes\", \"url_get_status\": \"https://api.powerbi.com/v1.0/myorg/groups/6a9d410f-c3c8-485a-bda1-6f87c0d2cd21/datasets/288cb38b-fcee-4d4e-a844-11dffcd40beb/refreshes?$top=1\", \"url_delete\": \"https://api.powerbi.com/v1.0/myorg/groups/6a9d410f-c3c8-485a-bda1-6f87c0d2cd21/datasets/288cb38b-fcee-4d4e-a844-11dffcd40beb/refreshes/^req_id^\", \"headers\": {\"Content-Type\": \"application/json\", \"User-Agent\": \"zPL Concept\", \"Authorization\": \"Bearer [REDACTED]\"}, \"sch\": \"StructType([StructField('request_timeout', IntegerType(), True), StructField('refresh_timeout', IntegerType(), True), StructField('loop_wait_time_seconds', IntegerType(), True), StructField('semantic_model_name', StringType(), True), StructField('url_refresh', StringType(), True), StructField('url_get_status', StringType(), True), StructField('url_delete', StringType(), True), StructField('headers', MapType(StringType(), StringType(), True), True)])\", \"sdf_count\": 1, \"alert\": \"Success\", \"alert_description\": \"Rows (count): 1\"}",
         "4": "Success",
         "5": "Rows (count): 1",
         "6": "2024-11-27T14:26:07.715"
        },
        {
         "0": "20241127_142507651",
         "1": "System",
         "2": "fn_pbi_get_semantic_models_to_refresh",
         "3": "{\"list_frequency\": \"['Journali\\u00e8re']\", \"fn_name\": \"fn_pbi_get_semantic_models_to_refresh\", \"caller_fn_name\": \"fn_exec_async_pbi_refresh\", \"sql_query\": \"SELECT DISTINCT\\n            `frequency`\\n            , `environment`\\n            , IFNULL(`workspace_id`     , \\\"\\\") AS `workspace_id`\\n            , IFNULL(`semantic_model_id`, \\\"\\\") AS `semantic_model_id`\\n            , `semantic_model_name`\\n            , `request_timeout`\\n            , `refresh_timeout`\\n            , `loop_wait_time_seconds`\\n        FROM delta.`abfss://6a9d410f-c3c8-485a-bda1-6f87c0d2cd21@onelake.dfs.fabric.microsoft.com/c0fb8c3e-073a-4a7d-81ba-68157b830b4d/Tables/power_bi_refresh`\\n        WHERE\\n            `frequency`       IN ('Journali\\u00e8re')\\n            AND `environment` = \\\"DEV\\\"\\n            AND `is_active`   = 1\\n        ORDER BY\\n            `frequency`\\n            , IFNULL(`workspace_id`, '')\\n            , IFNULL(`semantic_model_id`, '');\", \"sdf\": \"DataFrame[frequency: string, environment: string, workspace_id: string, semantic_model_id: string, semantic_model_name: string, request_timeout: int, refresh_timeout: int, loop_wait_time_seconds: int]\", \"sdf_count\": 1, \"alert\": \"Success\", \"alert_description\": \"Rows (count): 1\"}",
         "4": "Success",
         "5": "Rows (count): 1",
         "6": "2024-11-27T14:26:07.020"
        },
        {
         "0": "20241127_142507651",
         "1": "System",
         "2": "fn_execute_spark_sql",
         "3": "{\"sql_code\": \"SELECT DISTINCT\\n            `frequency`\\n            , `environment`\\n            , IFNULL(`workspace_id`     , \\\"\\\") AS `workspace_id`\\n            , IFNULL(`semantic_model_id`, \\\"\\\") AS `semantic_model_id`\\n            , `semantic_model_name`\\n            , `request_timeout`\\n            , `refresh_timeout`\\n            , `loop_wait_time_seconds`\\n        FROM delta.`abfss://6a9d410f-c3c8-485a-bda1-6f87c0d2cd21@onelake.dfs.fabric.microsoft.com/c0fb8c3e-073a-4a7d-81ba-68157b830b4d/Tables/power_bi_refresh`\\n        WHERE\\n            `frequency`       IN ('Journali\\u00e8re')\\n            AND `environment` = \\\"DEV\\\"\\n            AND `is_active`   = 1\\n        ORDER BY\\n            `frequency`\\n            , IFNULL(`workspace_id`, '')\\n            , IFNULL(`semantic_model_id`, '');\", \"fn_name\": \"fn_execute_spark_sql\", \"caller_fn_name\": \"fn_pbi_get_semantic_models_to_refresh\", \"sdf\": \"DataFrame[frequency: string, environment: string, workspace_id: string, semantic_model_id: string, semantic_model_name: string, request_timeout: int, refresh_timeout: int, loop_wait_time_seconds: int]\", \"sdf_count\": 1, \"alert\": \"Success\", \"alert_description\": \"Rows (count): 1\"}",
         "4": "Success",
         "5": "Rows (count): 1",
         "6": "2024-11-27T14:26:06.674"
        },
        {
         "0": "20241127_142507651",
         "1": "System",
         "2": "fn_pbi_refresh",
         "3": "{\"alert\": \"Danger\", \"alert_description\": \"local variable 'now' referenced before assignment\"}",
         "4": "Danger",
         "5": "local variable 'now' referenced before assignment",
         "6": "2024-11-27T14:25:47.737"
        },
        {
         "0": "20241127_142507651",
         "1": "System",
         "2": "fn_pbi_refresh",
         "3": "{\"sdf\": \"DataFrame[request_timeout: int, refresh_timeout: int, loop_wait_time_seconds: int, semantic_model_name: string, url_refresh: string, url_get_status: string, url_delete: string, headers: map<string,string>, return_value: string]\", \"fn_name\": \"fn_pbi_refresh\", \"caller_fn_name\": \"fn_exec_async_pbi_refresh\", \"sdf_count\": 1, \"alert\": \"Success\", \"alert_description\": \"Rows (count): 1\"}",
         "4": "Success",
         "5": "Rows (count): 1",
         "6": "2024-11-27T14:25:45.932"
        },
        {
         "0": "20241127_142507651",
         "1": "System",
         "2": "fn_pbi_set_sdf_async",
         "3": "{\"sdf\": \"DataFrame[request_timeout: int, refresh_timeout: int, loop_wait_time_seconds: int, semantic_model_name: string, url_refresh: string, url_get_status: string, url_delete: string, headers: map<string,string>]\", \"fn_name\": \"fn_pbi_set_sdf_async\", \"caller_fn_name\": \"fn_exec_async_pbi_refresh\", \"list_parameter\": \"[<Row(60, 720, 15, 'sm_dm_sale_lh_gold_from_tables', 'https://api.powerbi.com/v1.0/myorg/groups/6a9d410f-c3c8-485a-bda1-6f87c0d2cd21/datasets/288cb38b-fcee-4d4e-a844-11dffcd40beb/refreshes', 'https://api.powerbi.com/v1.0/myorg/groups/6a9d410f-c3c8-485a-bda1-6f87c0d2cd21/datasets/288cb38b-fcee-4d4e-a844-11dffcd40beb/refreshes?$top=1', 'https://api.powerbi.com/v1.0/myorg/groups/6a9d410f-c3c8-485a-bda1-6f87c0d2cd21/datasets/288cb38b-fcee-4d4e-a844-11dffcd40beb/refreshes/^req_id^', {'Content-Type': 'application/json', 'User-Agent': 'zPL Concept', 'Authorization': 'Bearer [REDACTED]'})>]\", \"bearer_token\": \"[REDACTED]\", \"row\": \"Row(frequency='Journali\\u00e8re', environment='DEV', workspace_id='6a9d410f-c3c8-485a-bda1-6f87c0d2cd21', semantic_model_id='288cb38b-fcee-4d4e-a844-11dffcd40beb', semantic_model_name='sm_dm_sale_lh_gold_from_tables', request_timeout=0, refresh_timeout=0, loop_wait_time_seconds=0)\", \"request_timeout\": 60, \"refresh_timeout\": 720, \"loop_wait_time_seconds\": 15, \"power_bi_refresh_base_url\": \"https://api.powerbi.com/v1.0/myorg\", \"url_refresh\": \"https://api.powerbi.com/v1.0/myorg/groups/6a9d410f-c3c8-485a-bda1-6f87c0d2cd21/datasets/288cb38b-fcee-4d4e-a844-11dffcd40beb/refreshes\", \"url_get_status\": \"https://api.powerbi.com/v1.0/myorg/groups/6a9d410f-c3c8-485a-bda1-6f87c0d2cd21/datasets/288cb38b-fcee-4d4e-a844-11dffcd40beb/refreshes?$top=1\", \"url_delete\": \"https://api.powerbi.com/v1.0/myorg/groups/6a9d410f-c3c8-485a-bda1-6f87c0d2cd21/datasets/288cb38b-fcee-4d4e-a844-11dffcd40beb/refreshes/^req_id^\", \"headers\": {\"Content-Type\": \"application/json\", \"User-Agent\": \"zPL Concept\", \"Authorization\": \"Bearer [REDACTED]\"}, \"sch\": \"StructType([StructField('request_timeout', IntegerType(), True), StructField('refresh_timeout', IntegerType(), True), StructField('loop_wait_time_seconds', IntegerType(), True), StructField('semantic_model_name', StringType(), True), StructField('url_refresh', StringType(), True), StructField('url_get_status', StringType(), True), StructField('url_delete', StringType(), True), StructField('headers', MapType(StringType(), StringType(), True), True)])\", \"sdf_count\": 1, \"alert\": \"Success\", \"alert_description\": \"Rows (count): 1\"}",
         "4": "Success",
         "5": "Rows (count): 1",
         "6": "2024-11-27T14:25:45.443"
        },
        {
         "0": "20241127_142507651",
         "1": "System",
         "2": "fn_pbi_get_semantic_models_to_refresh",
         "3": "{\"list_frequency\": \"['Journali\\u00e8re']\", \"fn_name\": \"fn_pbi_get_semantic_models_to_refresh\", \"caller_fn_name\": \"fn_exec_async_pbi_refresh\", \"sql_query\": \"SELECT DISTINCT\\n            `frequency`\\n            , `environment`\\n            , IFNULL(`workspace_id`     , \\\"\\\") AS `workspace_id`\\n            , IFNULL(`semantic_model_id`, \\\"\\\") AS `semantic_model_id`\\n            , `semantic_model_name`\\n            , `request_timeout`\\n            , `refresh_timeout`\\n            , `loop_wait_time_seconds`\\n        FROM delta.`abfss://6a9d410f-c3c8-485a-bda1-6f87c0d2cd21@onelake.dfs.fabric.microsoft.com/c0fb8c3e-073a-4a7d-81ba-68157b830b4d/Tables/power_bi_refresh`\\n        WHERE\\n            `frequency`       IN ('Journali\\u00e8re')\\n            AND `environment` = \\\"DEV\\\"\\n            AND `is_active`   = 1\\n        ORDER BY\\n            `frequency`\\n            , IFNULL(`workspace_id`, '')\\n            , IFNULL(`semantic_model_id`, '');\", \"sdf\": \"DataFrame[frequency: string, environment: string, workspace_id: string, semantic_model_id: string, semantic_model_name: string, request_timeout: int, refresh_timeout: int, loop_wait_time_seconds: int]\", \"sdf_count\": 1, \"alert\": \"Success\", \"alert_description\": \"Rows (count): 1\"}",
         "4": "Success",
         "5": "Rows (count): 1",
         "6": "2024-11-27T14:25:43.476"
        },
        {
         "0": "20241127_142507651",
         "1": "System",
         "2": "fn_execute_spark_sql",
         "3": "{\"sql_code\": \"SELECT DISTINCT\\n            `frequency`\\n            , `environment`\\n            , IFNULL(`workspace_id`     , \\\"\\\") AS `workspace_id`\\n            , IFNULL(`semantic_model_id`, \\\"\\\") AS `semantic_model_id`\\n            , `semantic_model_name`\\n            , `request_timeout`\\n            , `refresh_timeout`\\n            , `loop_wait_time_seconds`\\n        FROM delta.`abfss://6a9d410f-c3c8-485a-bda1-6f87c0d2cd21@onelake.dfs.fabric.microsoft.com/c0fb8c3e-073a-4a7d-81ba-68157b830b4d/Tables/power_bi_refresh`\\n        WHERE\\n            `frequency`       IN ('Journali\\u00e8re')\\n            AND `environment` = \\\"DEV\\\"\\n            AND `is_active`   = 1\\n        ORDER BY\\n            `frequency`\\n            , IFNULL(`workspace_id`, '')\\n            , IFNULL(`semantic_model_id`, '');\", \"fn_name\": \"fn_execute_spark_sql\", \"caller_fn_name\": \"fn_pbi_get_semantic_models_to_refresh\", \"sdf\": \"DataFrame[frequency: string, environment: string, workspace_id: string, semantic_model_id: string, semantic_model_name: string, request_timeout: int, refresh_timeout: int, loop_wait_time_seconds: int]\", \"sdf_count\": 1, \"alert\": \"Success\", \"alert_description\": \"Rows (count): 1\"}",
         "4": "Success",
         "5": "Rows (count): 1",
         "6": "2024-11-27T14:25:42.982"
        },
        {
         "0": "20241127_142507651",
         "1": "System",
         "2": "nb_power_bi_master",
         "3": "{\"list_frequency\": [\"Journali\\u00e8re\"]}",
         "4": "Success",
         "5": "",
         "6": "2024-11-27T14:25:38.479"
        },
        {
         "0": "20241127_142507651",
         "1": "System",
         "2": "fn_execute_spark_sql",
         "3": "{\"sql_code\": \"SELECT DISTINCT Z.`frequency`\\nFROM\\n  (\\n    SELECT\\n      *\\n      , CASE WHEN  Y.`frequency` = 'Hourly'                                                                                                                                         THEN 1 END AS H\\n      , CASE WHEN (Y.`frequency` = 'Journali\\u00e8re'   AND HOUR('2024-04-01 01:11:27.020') = 1                                                                                                  ) THEN 1 END AS D\\n      , CASE WHEN (Y.`frequency` = 'Weekly'  AND HOUR('2024-04-01 01:11:27.020') = 1 AND DATE_FORMAT('2024-04-01 01:11:27.020', 'EEEE') = 'Monday'                                             ) THEN 1 END AS W\\n      , CASE WHEN (Y.`frequency` = 'Monthly'     AND DAY('2024-04-01 01:11:27.020' ) = 1 AND HOUR('2024-04-01 01:11:27.020')                = 1                                                    ) THEN 1 END AS M\\n      , CASE WHEN (Y.`frequency` = 'Quarterly' AND DAY('2024-04-01 01:11:27.020' ) = 1 AND HOUR('2024-04-01 01:11:27.020')                = 1        AND MONTH('2024-04-01 01:11:27.020') IN (1, 4, 7, 10)) THEN 1 END AS Q\\n      , CASE WHEN (Y.`frequency` = 'Yearly'      AND DAY('2024-04-01 01:11:27.020' ) = 1 AND HOUR('2024-04-01 01:11:27.020')                = 1        AND MONTH('2024-04-01 01:11:27.020') = 1             ) THEN 1 END AS Y\\n    FROM\\n      (\\n              SELECT `frequency` FROM delta.`abfss://6a9d410f-c3c8-485a-bda1-6f87c0d2cd21@onelake.dfs.fabric.microsoft.com/c0fb8c3e-073a-4a7d-81ba-68157b830b4d/Tables/extract_object_csv`        WHERE `is_extracted` = 1\\n        UNION SELECT `frequency` FROM delta.`abfss://6a9d410f-c3c8-485a-bda1-6f87c0d2cd21@onelake.dfs.fabric.microsoft.com/c0fb8c3e-073a-4a7d-81ba-68157b830b4d/Tables/extract_object_excel`      WHERE `is_extracted` = 1\\n        UNION SELECT `frequency` FROM delta.`abfss://6a9d410f-c3c8-485a-bda1-6f87c0d2cd21@onelake.dfs.fabric.microsoft.com/c0fb8c3e-073a-4a7d-81ba-68157b830b4d/Tables/extract_object_json`       WHERE `is_extracted` = 1\\n        UNION SELECT `frequency` FROM delta.`abfss://6a9d410f-c3c8-485a-bda1-6f87c0d2cd21@onelake.dfs.fabric.microsoft.com/c0fb8c3e-073a-4a7d-81ba-68157b830b4d/Tables/extract_object_lakehouse`  WHERE `is_extracted` = 1\\n        UNION SELECT `frequency` FROM delta.`abfss://6a9d410f-c3c8-485a-bda1-6f87c0d2cd21@onelake.dfs.fabric.microsoft.com/c0fb8c3e-073a-4a7d-81ba-68157b830b4d/Tables/extract_object_sql_server` WHERE `is_extracted` = 1\\n        UNION SELECT `frequency` FROM delta.`abfss://6a9d410f-c3c8-485a-bda1-6f87c0d2cd21@onelake.dfs.fabric.microsoft.com/c0fb8c3e-073a-4a7d-81ba-68157b830b4d/Tables/extract_object_api`        WHERE `is_extracted` = 1\\n      ) AS Y\\n  ) AS Z\\nWHERE COALESCE(Z.H, Z.D, Z.W, Z.M, Z.Q, Z.Y) = 1;\", \"fn_name\": \"fn_execute_spark_sql\", \"caller_fn_name\": \"\", \"sdf\": \"DataFrame[frequency: string]\", \"sdf_count\": 1, \"alert\": \"Success\", \"alert_description\": \"Rows (count): 1\"}",
         "4": "Success",
         "5": "Rows (count): 1",
         "6": "2024-11-27T14:25:36.163"
        }
       ],
       "schema": [
        {
         "key": "0",
         "name": "process_timestamp",
         "type": "string"
        },
        {
         "key": "1",
         "name": "medallion_name",
         "type": "string"
        },
        {
         "key": "2",
         "name": "source_name",
         "type": "string"
        },
        {
         "key": "3",
         "name": "locals",
         "type": "string"
        },
        {
         "key": "4",
         "name": "alert",
         "type": "string"
        },
        {
         "key": "5",
         "name": "alert_description",
         "type": "string"
        },
        {
         "key": "6",
         "name": "logged_datetime",
         "type": "timestamp"
        }
       ],
       "truncated": false
      },
      "wranglerEntryContext": {
       "dataframeType": "pandas"
      }
     },
     "type": "Synapse.DataFrame"
    }
   },
   "version": "0.1"
  }
 },
 "nbformat": 4,
 "nbformat_minor": 5
}
