{
 "cells": [
  {
   "cell_type": "code",
   "execution_count": null,
   "id": "e7ca8888-169f-4421-b25e-4c1502aecb25",
   "metadata": {
    "jupyter": {
     "outputs_hidden": false,
     "source_hidden": false
    },
    "microsoft": {
     "language": "python",
     "language_group": "synapse_pyspark"
    },
    "nteract": {
     "transient": {
      "deleting": false
     }
    }
   },
   "outputs": [],
   "source": [
    "%%configure -f\n",
    "{\n",
    "    \"defaultLakehouse\": {\n",
    "        \"name\": \"Config\"\n",
    "    }\n",
    "}"
   ]
  },
  {
   "cell_type": "code",
   "execution_count": null,
   "id": "31b2a723-6e7f-44ce-a791-284d91c819cc",
   "metadata": {
    "jupyter": {
     "outputs_hidden": false,
     "source_hidden": false
    },
    "microsoft": {
     "language": "python",
     "language_group": "synapse_pyspark"
    },
    "nteract": {
     "transient": {
      "deleting": false
     }
    }
   },
   "outputs": [],
   "source": [
    "%run ./nb_config_env"
   ]
  },
  {
   "cell_type": "code",
   "execution_count": null,
   "id": "c2f27ced-66b4-484b-8c0e-b854296d780a",
   "metadata": {
    "jupyter": {
     "outputs_hidden": false,
     "source_hidden": false
    },
    "microsoft": {
     "language": "python",
     "language_group": "synapse_pyspark"
    },
    "nteract": {
     "transient": {
      "deleting": false
     }
    }
   },
   "outputs": [],
   "source": [
    "import requests\n",
    "import json\n",
    "# import time\n",
    "from time import sleep \n",
    "from pyspark.sql.functions import *"
   ]
  },
  {
   "cell_type": "code",
   "execution_count": null,
   "id": "99233245-b13c-44e8-b947-acea0c833f7c",
   "metadata": {
    "jupyter": {
     "outputs_hidden": false,
     "source_hidden": false
    },
    "microsoft": {
     "language": "python",
     "language_group": "synapse_pyspark"
    },
    "nteract": {
     "transient": {
      "deleting": false
     }
    }
   },
   "outputs": [],
   "source": [
    "def fn_get_refresh(url, payload, header):\n",
    "    resp = requests.get(\n",
    "        url = url,\n",
    "        json = payload,\n",
    "        headers = header\n",
    "    )\n",
    "\n",
    "    data = json.loads(resp.text)\n",
    "    st = data['value'][0]['status']\n",
    "\n",
    "    #print(resp.text)\n",
    "    #print(resp.content) \n",
    "    #print(resp.json())  # Convert response JSON to Python object\n",
    "\n",
    "    if resp.status_code == 200:\n",
    "        rv = json.loads(resp.text)['value']\n",
    "    else:\n",
    "        rv = f\"Error: {resp.status_code} - {resp.text}\"\n",
    "\n",
    "    return st"
   ]
  },
  {
   "cell_type": "code",
   "execution_count": null,
   "id": "e09612ff-7a48-42fa-bff6-bb856d1f7208",
   "metadata": {
    "jupyter": {
     "outputs_hidden": false,
     "source_hidden": false
    },
    "microsoft": {
     "language": "python",
     "language_group": "synapse_pyspark"
    },
    "nteract": {
     "transient": {
      "deleting": false
     }
    }
   },
   "outputs": [],
   "source": [
    "def fn_post_refresh(url, payload, header):\n",
    "    resp = requests.post(\n",
    "        url = url,\n",
    "        json = payload,\n",
    "        headers = header\n",
    "    )\n",
    "\n",
    "    resp.raise_for_status()\n",
    "    print (resp)\n",
    "\n",
    "    if resp.status_code in (201,202):\n",
    "        print(\"Post request successful.\")\n",
    "    else:\n",
    "        print(f\"Error: {resp.status_code} - {resp.text}\")\n",
    "        \n",
    "    return"
   ]
  },
  {
   "cell_type": "code",
   "execution_count": null,
   "id": "711ac981-43a4-44d4-ba0d-4fec8f0f0e09",
   "metadata": {
    "collapsed": false,
    "jupyter": {
     "outputs_hidden": false,
     "source_hidden": false
    },
    "microsoft": {
     "language": "python",
     "language_group": "synapse_pyspark"
    },
    "nteract": {
     "transient": {
      "deleting": false
     }
    }
   },
   "outputs": [],
   "source": [
    "source_file = \"synapse_params.json\"\n",
    "source_path = path_lh_config + '/Files/Config/'\n",
    "source_url = source_path + source_file\n",
    "df = spark.read.json(source_url)\n",
    "\n",
    "wsid = df.select(\"PBIAppWorkspaceCD\").head()[0]\n",
    "dsid = df.select(\"PBIDatasetCD\").head()[0]"
   ]
  },
  {
   "cell_type": "code",
   "execution_count": null,
   "id": "74fa0ce7-47bd-437e-9a87-d9611e07373a",
   "metadata": {
    "jupyter": {
     "outputs_hidden": false,
     "source_hidden": false
    },
    "microsoft": {
     "language": "python",
     "language_group": "synapse_pyspark"
    },
    "nteract": {
     "transient": {
      "deleting": false
     }
    }
   },
   "outputs": [],
   "source": [
    "# Get Bearer Token, url and header\n",
    "token_string = mssparkutils.credentials.getToken(\"https://api.fabric.microsoft.com/\")\n",
    "\n",
    "urlpost = 'https://api.powerbi.com/v1.0/myorg/groups/' + wsid + '/datasets/' + dsid + '/refreshes'\n",
    "urlget  = 'https://api.powerbi.com/v1.0/myorg/groups/' + wsid + '/datasets/' + dsid + '/refreshes?$top=1'\n",
    "\n",
    "payloadpost = {\"Hello\": \"World\"}\n",
    "payloadget = {\"Hello\": \"World\"}\n",
    "header = {'Content-Type':'application/json','Authorization': f'Bearer {token_string}'}\n",
    "RefreshStatus = 'Unknown'\n",
    "LoopWaitTimeSec = 10\n",
    "LoopCount = 1"
   ]
  },
  {
   "cell_type": "code",
   "execution_count": null,
   "id": "6d32338d-1168-4e34-8e54-12df20eb4007",
   "metadata": {
    "editable": true,
    "jupyter": {
     "outputs_hidden": false,
     "source_hidden": false
    },
    "microsoft": {
     "language": "python",
     "language_group": "synapse_pyspark"
    },
    "nteract": {
     "transient": {
      "deleting": false
     }
    },
    "run_control": {
     "frozen": false
    }
   },
   "outputs": [],
   "source": [
    "fn_post_refresh(urlpost, payloadpost, header)"
   ]
  },
  {
   "cell_type": "code",
   "execution_count": null,
   "id": "536a361e-02cc-43c7-9e73-ff5893e444dd",
   "metadata": {
    "jupyter": {
     "outputs_hidden": false,
     "source_hidden": false
    },
    "microsoft": {
     "language": "python",
     "language_group": "synapse_pyspark"
    },
    "nteract": {
     "transient": {
      "deleting": false
     }
    }
   },
   "outputs": [],
   "source": [
    "RefreshStatus = fn_get_refresh(urlget, payloadget, header)\n",
    "# print(RefreshStatus)\n",
    "while LoopCount <= 20:\n",
    "    print(LoopCount)\n",
    "    LoopCount += 1\n",
    "    sleep(LoopWaitTimeSec)\n",
    "    RefreshStatus = fn_get_refresh(urlget, payloadget, header)\n",
    "    print(RefreshStatus)\n",
    "    if RefreshStatus != 'Unknown':\n",
    "        break"
   ]
  },
  {
   "cell_type": "code",
   "execution_count": null,
   "id": "40fa419f-d5a6-4f7a-be31-eaf236c0bf0a",
   "metadata": {
    "jupyter": {
     "outputs_hidden": false,
     "source_hidden": false
    },
    "microsoft": {
     "language": "python",
     "language_group": "synapse_pyspark"
    },
    "nteract": {
     "transient": {
      "deleting": false
     }
    }
   },
   "outputs": [],
   "source": [
    "if RefreshStatus != 'Completed':\n",
    "    print('Refresh process is completed with status:' + RefreshStatus)\n",
    "    1/0"
   ]
  }
 ],
 "metadata": {
  "kernel_info": {
   "name": "synapse_pyspark"
  },
  "kernelspec": {
   "display_name": "Synapse PySpark",
   "language": "Python",
   "name": "synapse_pyspark"
  },
  "language_info": {
   "name": "python"
  },
  "microsoft": {
   "language": "python",
   "language_group": "synapse_pyspark",
   "ms_spell_check": {
    "ms_spell_check_language": "en"
   }
  },
  "nteract": {
   "version": "nteract-front-end@1.0.0"
  },
  "spark_compute": {
   "compute_id": "/trident/default",
   "session_options": {
    "conf": {
     "spark.synapse.nbs.session.timeout": "1200000"
    }
   }
  },
  "synapse_widget": {
   "state": {},
   "version": "0.1"
  },
  "widgets": {}
 },
 "nbformat": 4,
 "nbformat_minor": 5
}
